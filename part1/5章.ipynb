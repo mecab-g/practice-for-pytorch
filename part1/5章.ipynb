{
 "cells": [
  {
   "cell_type": "markdown",
   "id": "f9778228-0187-4158-9c09-56f42438e879",
   "metadata": {},
   "source": [
    "## モデル構築"
   ]
  },
  {
   "cell_type": "code",
   "execution_count": 1,
   "id": "2d7a0434-d149-4ad9-bf4a-b41f4d4edbaf",
   "metadata": {},
   "outputs": [],
   "source": [
    "#データの収集\n",
    "\n",
    "%matplotlib inline\n",
    "import numpy as np\n",
    "import torch\n",
    "\n",
    "import matplotlib.pyplot as plt"
   ]
  },
  {
   "cell_type": "code",
   "execution_count": 2,
   "id": "acfd7014-31cf-4b68-beda-93283dbce705",
   "metadata": {},
   "outputs": [],
   "source": [
    "#t_cは摂氏\n",
    "#t_uは単位が知りたい値\n",
    "t_c = [0.5,  14.0, 15.0, 28.0, 11.0,  8.0,  3.0, -4.0,  6.0, 13.0, 21.0]\n",
    "t_u = [35.7, 55.9, 58.2, 81.9, 56.3, 48.9, 33.9, 21.8, 48.4, 60.4, 68.4]\n",
    "t_c = torch.tensor(t_c)\n",
    "t_u = torch.tensor(t_u)"
   ]
  },
  {
   "cell_type": "code",
   "execution_count": 3,
   "id": "0da51c26-80c8-448d-9cce-abe1552d3c3d",
   "metadata": {},
   "outputs": [
    {
     "data": {
      "text/plain": [
       "<matplotlib.collections.PathCollection at 0x7f6eb74224f0>"
      ]
     },
     "execution_count": 3,
     "metadata": {},
     "output_type": "execute_result"
    },
    {
     "data": {
      "image/png": "[encoded data removed]",
      "text/plain": [
       "<Figure size 432x288 with 1 Axes>"
      ]
     },
     "metadata": {
      "needs_background": "light"
     },
     "output_type": "display_data"
    }
   ],
   "source": [
    "plt.scatter(t_c, t_u)"
   ]
  },
  {
   "cell_type": "code",
   "execution_count": 4,
   "id": "1ac0a958-e483-4824-bc90-6a8f6825de61",
   "metadata": {},
   "outputs": [],
   "source": [
    "#データを収集したら、可視化、線形モデルをためす。\n",
    "#線形モデル　t_c = w * t_u + b\n",
    "#予測値と測定値の誤差が小さくなるようにモデルのパラメータ（ｗ：重みとｂ：バイアス）を推定する\n",
    "#誤差の測定方法に損失関数を用いる\n",
    "#この損失関数が最小になるようなw,bを見つけることを目標とする"
   ]
  },
  {
   "cell_type": "markdown",
   "id": "2436d561-406b-4364-a939-6ae842d31d78",
   "metadata": {},
   "source": [
    "## パラメータの推定と損失関数"
   ]
  },
  {
   "cell_type": "code",
   "execution_count": 5,
   "id": "0ceec7d2-05e5-4ee5-8db8-5448ef174b5a",
   "metadata": {},
   "outputs": [],
   "source": [
    "#モデル作成\n",
    "def model (t_u, w, b):\n",
    "    return w* t_u + b"
   ]
  },
  {
   "cell_type": "code",
   "execution_count": 6,
   "id": "896e0b03-2b33-4438-bd6b-00d6338c9d2b",
   "metadata": {},
   "outputs": [],
   "source": [
    "def loss_fn(t_p, t_c):\n",
    "    squared_diffs = (t_p - t_c)**2\n",
    "    return squared_diffs.mean()"
   ]
  },
  {
   "cell_type": "code",
   "execution_count": 7,
   "id": "f4f4da0a-7c66-4472-b693-71bfc1d0e8c3",
   "metadata": {},
   "outputs": [],
   "source": [
    "#パラメータの初期化\n",
    "w = torch.ones(())\n",
    "b = torch.zeros(())"
   ]
  },
  {
   "cell_type": "code",
   "execution_count": 8,
   "id": "77934ae6-367e-4d68-8efe-964cfbfa28c8",
   "metadata": {},
   "outputs": [
    {
     "data": {
      "text/plain": [
       "tensor(1.)"
      ]
     },
     "execution_count": 8,
     "metadata": {},
     "output_type": "execute_result"
    }
   ],
   "source": [
    "w"
   ]
  },
  {
   "cell_type": "code",
   "execution_count": 9,
   "id": "b52e40bb-c368-41ae-a8e1-d124132d7f59",
   "metadata": {},
   "outputs": [
    {
     "data": {
      "text/plain": [
       "tensor([35.7000, 55.9000, 58.2000, 81.9000, 56.3000, 48.9000, 33.9000, 21.8000,\n",
       "        48.4000, 60.4000, 68.4000])"
      ]
     },
     "execution_count": 9,
     "metadata": {},
     "output_type": "execute_result"
    }
   ],
   "source": [
    "t_p = model(t_u ,w ,b)\n",
    "t_p"
   ]
  },
  {
   "cell_type": "code",
   "execution_count": 10,
   "id": "416ee3b3-6f85-4403-9f5d-6516f151f3d1",
   "metadata": {},
   "outputs": [
    {
     "data": {
      "text/plain": [
       "tensor(1763.8848)"
      ]
     },
     "execution_count": 10,
     "metadata": {},
     "output_type": "execute_result"
    }
   ],
   "source": [
    "#この段階で損失\n",
    "loss = loss_fn(t_p, t_c)\n",
    "loss"
   ]
  },
  {
   "cell_type": "markdown",
   "id": "51e58bb7-4aa0-4d95-baf2-dfd0dc05dfe1",
   "metadata": {},
   "source": [
    "# ブロードキャスティング"
   ]
  },
  {
   "cell_type": "code",
   "execution_count": 11,
   "id": "1522e87a-14fc-4924-bb3d-e8fb152ff15f",
   "metadata": {},
   "outputs": [
    {
     "name": "stdout",
     "output_type": "stream",
     "text": [
      "shape: x:torch.Size([]) y:torch.Size([3, 1])\n",
      "z:torch.Size([1, 3]), a:torch.Size([2, 1, 1])\n",
      "x * y: torch.Size([3, 1])\n",
      "y * z: torch.Size([3, 3])\n",
      "x * z * a: torch.Size([2, 3, 3])\n"
     ]
    }
   ],
   "source": [
    "#あるテンソルの１つが、他のテンソルよりも大きい次元の場合に他のテンソル全体にあるテンソルの次元に沿った\n",
    "#計算がされる\n",
    "import torch\n",
    "x = torch.ones(())\n",
    "y = torch.ones(3,1)\n",
    "z = torch.ones(1,3)\n",
    "a = torch.ones(2,1,1)\n",
    "print(f\"shape: x:{x.shape} y:{y.shape}\")\n",
    "print(f\"z:{z.shape}, a:{a.shape}\")\n",
    "print(\"x * y:\", (x*y).shape)\n",
    "print(\"y * z:\", (y*z).shape)\n",
    "print(\"x * z * a:\", (y*z*a).shape)"
   ]
  },
  {
   "cell_type": "code",
   "execution_count": 12,
   "id": "f8ccb73b-9893-4467-8442-a92edd4e9bdf",
   "metadata": {},
   "outputs": [
    {
     "data": {
      "text/plain": [
       "(tensor([[1., 1., 1.]]),\n",
       " tensor([[[1.]],\n",
       " \n",
       "         [[1.]]]))"
      ]
     },
     "execution_count": 12,
     "metadata": {},
     "output_type": "execute_result"
    }
   ],
   "source": [
    "z,a"
   ]
  },
  {
   "cell_type": "code",
   "execution_count": 13,
   "id": "bd727cd8-4610-46b4-a062-f5486068633e",
   "metadata": {},
   "outputs": [],
   "source": [
    "#損失を小さくするためには"
   ]
  },
  {
   "cell_type": "markdown",
   "id": "1479cafc-809d-41fe-b77f-1617701e9915",
   "metadata": {},
   "source": [
    "# 勾配降下法"
   ]
  },
  {
   "cell_type": "code",
   "execution_count": 14,
   "id": "fe694f73-428a-48ea-8409-bcd1e8bb9afa",
   "metadata": {},
   "outputs": [],
   "source": [
    "#各パラメータに対する損失の変化率を計算し、損失が減少する方向に\n",
    "#各パラメータを補正する"
   ]
  },
  {
   "cell_type": "code",
   "execution_count": 15,
   "id": "f32ac6d2-5db2-4136-963c-bc950297239f",
   "metadata": {},
   "outputs": [],
   "source": [
    "delta = 0.1\n",
    "\n",
    "#wの変化が損失につながる\n",
    "loss_rate_of_change_w = \\\n",
    "(loss_fn(model(t_u, w + delta, b),t_c)-\n",
    " loss_fn(model(t_u, w - delta, b), t_c)) /(2.0 * delta)"
   ]
  },
  {
   "cell_type": "code",
   "execution_count": 16,
   "id": "15d9c957-fb7d-46b0-98a0-bf4105f02bfe",
   "metadata": {},
   "outputs": [
    {
     "data": {
      "text/plain": [
       "tensor(4517.2974)"
      ]
     },
     "execution_count": 16,
     "metadata": {},
     "output_type": "execute_result"
    }
   ],
   "source": [
    "loss_rate_of_change_w \n",
    "#この損失の変化量が負の場合は損失を最小化するためにwを増加させる必要がある\n",
    "#変化量が正の場合はwを減少させる必要がある\n",
    "\n",
    "#どのくらい変化させた方がいいか\n",
    "#損失の変化量に比例した変更をwに適用したらよいのではないか\n",
    "#変化量を調整する係数を学習率と呼ぶ"
   ]
  },
  {
   "cell_type": "code",
   "execution_count": 17,
   "id": "ab0831e3-01f1-43e8-95f2-5282c0de4f31",
   "metadata": {},
   "outputs": [],
   "source": [
    "learning_rate = 1e-2\n",
    "w = w - learning_rate * loss_rate_of_change_w\n",
    "\n",
    "loss_rate_of_change_b = \\\n",
    "(loss_fn(model(t_u, w, b + delta),t_c)-\n",
    " loss_fn(model(t_u, w, b - delta),t_c))/(2.0 * delta)"
   ]
  },
  {
   "cell_type": "code",
   "execution_count": 18,
   "id": "be44ac14-c98c-4127-8180-3ba7e663438a",
   "metadata": {},
   "outputs": [
    {
     "data": {
      "text/plain": [
       "tensor(46.)"
      ]
     },
     "execution_count": 18,
     "metadata": {},
     "output_type": "execute_result"
    }
   ],
   "source": [
    "b = b - learning_rate * loss_rate_of_change_b\n",
    "b"
   ]
  },
  {
   "cell_type": "raw",
   "id": "ccf508ee-c126-44d1-ac54-839d9e7e7b65",
   "metadata": {},
   "source": [
    "パラメータが複数あるモデルでは各パラメータの損失の個々の導関数を計算する\n",
    "この計算結果を導関数のベクトル、すなわち勾配と呼ぶ"
   ]
  },
  {
   "cell_type": "raw",
   "id": "9a73e48a-e0c7-419b-82d0-ef3d2035e572",
   "metadata": {},
   "source": [
    "導関数の計算\n",
    "損失の導関数を計算するために、連鎖律をつかう\n",
    "(入力）モデルの出力に関する導関数を、パラメータに関するモデルの導関数と掛け算してもとめる"
   ]
  },
  {
   "cell_type": "code",
   "execution_count": 21,
   "id": "814ae84e-ccf8-4c97-b2ec-0b5b3f759bf1",
   "metadata": {},
   "outputs": [],
   "source": [
    "#損失関数を再び定義\n",
    "def loss_fn(t_p, t_c):\n",
    "    squred_differs= (t_p -t_c)**2\n",
    "    return squred_differs.mean()"
   ]
  },
  {
   "cell_type": "code",
   "execution_count": 22,
   "id": "48026639-d60d-4934-8b3b-ad633c41924a",
   "metadata": {},
   "outputs": [
    {
     "data": {
      "text/plain": [
       "tensor(1763.8848)"
      ]
     },
     "execution_count": 22,
     "metadata": {},
     "output_type": "execute_result"
    }
   ],
   "source": [
    "loss_fn(t_p, t_c)"
   ]
  },
  {
   "cell_type": "code",
   "execution_count": 23,
   "id": "7dbd305f-1e09-4ef8-b481-806c8e7bb76b",
   "metadata": {},
   "outputs": [],
   "source": [
    "#モデルは線形 dx*2 /dx = 2x\n",
    "#損失の導関数は\n",
    "def dloss_fn(t_p, t_c):\n",
    "    dsq_diffs = 2*(t_p - t_c) / t_p.size(0)#除算は平均化のため\n",
    "    return dsq_diffs"
   ]
  },
  {
   "cell_type": "code",
   "execution_count": 24,
   "id": "f12257be-3269-4e5a-b5b9-9dd6cae78732",
   "metadata": {},
   "outputs": [
    {
     "data": {
      "text/plain": [
       "(tensor([6.4000, 7.6182, 7.8545, 9.8000, 8.2364, 7.4364, 5.6182, 4.6909, 7.7091,\n",
       "         8.6182, 8.6182]),\n",
       " torch.Size([11]))"
      ]
     },
     "execution_count": 24,
     "metadata": {},
     "output_type": "execute_result"
    }
   ],
   "source": [
    "dloss_fn(t_p, t_c), t_p.shape"
   ]
  },
  {
   "cell_type": "code",
   "execution_count": 25,
   "id": "e6b18c40-9b62-4431-8281-46e03fb351dd",
   "metadata": {},
   "outputs": [],
   "source": [
    "#model　は　w*t_u + b \n",
    "\n",
    "#このmodelの導関数は\n",
    "def dmodel_dw(t_u, w, b):\n",
    "    return t_u\n",
    "\n",
    "def dmodel_db(t_u, w, b):\n",
    "    return 1.0"
   ]
  },
  {
   "cell_type": "code",
   "execution_count": 26,
   "id": "4bffc01a-8a15-4e51-9f1e-5a1ff2f50415",
   "metadata": {},
   "outputs": [],
   "source": [
    "#勾配の関数\n",
    "#損失に勾配（導関数のベクトル）を掛ける\n",
    "def  grad_fn(t_u, t_c, t_p, w, b):\n",
    "    dloss_dtp = dloss_fn(t_p, t_c)#損失\n",
    "    dloss_dw  = dloss_dtp * dmodel_dw(t_u, w, b)\n",
    "    dloss_db  = dloss_dtp * dmodel_db(t_u, w, b)\n",
    "    return torch.stack([dloss_dw.sum(), dloss_db.sum()])\n",
    "    \n",
    "#この出力を(学習率をかけてから）各パラメータに加えることで最適化"
   ]
  },
  {
   "cell_type": "code",
   "execution_count": 37,
   "id": "f02e3bc9-42f8-448f-863f-373b4fc35b7b",
   "metadata": {},
   "outputs": [],
   "source": [
    "#反復して繰り返す必要がある\n",
    "def training_loop(n_epochs, learning_rate, params, t_u, t_c):\n",
    "    for epoch in range(1, n_epochs +1):\n",
    "        w, b = params\n",
    "        #順伝播\n",
    "        t_p = model(t_u, w, b)\n",
    "        loss = loss_fn(t_p, t_c)\n",
    "        #逆伝播\n",
    "        grad = grad_fn(t_u, t_c, t_p, w, b)\n",
    "        \n",
    "      \n",
    "        \n",
    "        #パラメータの更新\n",
    "        params = params - learning_rate * grad\n",
    "        \n",
    "        print('Epoch %d, Loss %f' % ( epoch, float(loss)))\n",
    "        print(f\"grad:{grad}\")\n",
    "        print(f\"params:{params}\")\n",
    "        \n",
    "    return params"
   ]
  },
  {
   "cell_type": "code",
   "execution_count": 38,
   "id": "b82355f0-3893-4f43-a379-1d9a281c2254",
   "metadata": {},
   "outputs": [
    {
     "name": "stdout",
     "output_type": "stream",
     "text": [
      "Epoch 1, Loss 1763.884766\n",
      "grad:tensor([4517.2964,   82.6000])\n",
      "params:tensor([-44.1730,  -0.8260])\n",
      "Epoch 2, Loss 5802484.500000\n",
      "grad:tensor([-261257.4062,   -4598.9702])\n",
      "params:tensor([2568.4011,   45.1637])\n",
      "Epoch 3, Loss 19408029696.000000\n",
      "grad:tensor([15109614.0000,   266155.6875])\n",
      "params:tensor([-148527.7344,   -2616.3931])\n",
      "Epoch 4, Loss 64915905708032.000000\n",
      "grad:tensor([-8.7385e+08, -1.5393e+07])\n",
      "params:tensor([8589999.0000,  151310.8906])\n",
      "Epoch 5, Loss 217130525461053440.000000\n",
      "grad:tensor([5.0539e+10, 8.9023e+08])\n",
      "params:tensor([-4.9680e+08, -8.7510e+06])\n",
      "Epoch 6, Loss 726257583152928129024.000000\n",
      "grad:tensor([-2.9229e+12, -5.1486e+10])\n",
      "params:tensor([2.8732e+10, 5.0610e+08])\n",
      "Epoch 7, Loss 2429183416467662896627712.000000\n",
      "grad:tensor([1.6904e+14, 2.9776e+12])\n",
      "params:tensor([-1.6617e+12, -2.9270e+10])\n",
      "Epoch 8, Loss 8125122549611731432050262016.000000\n",
      "grad:tensor([-9.7764e+15, -1.7221e+14])\n",
      "params:tensor([9.6102e+13, 1.6928e+12])\n",
      "Epoch 9, Loss 27176882120842590626938030653440.000000\n",
      "grad:tensor([5.6541e+17, 9.9596e+15])\n",
      "params:tensor([-5.5580e+15, -9.7903e+13])\n",
      "Epoch 10, Loss 90901105189019073810297959556841472.000000\n",
      "grad:tensor([-3.2700e+19, -5.7600e+17])\n",
      "params:tensor([3.2144e+17, 5.6621e+15])\n",
      "Epoch 11, Loss inf\n",
      "grad:tensor([1.8912e+21, 3.3313e+19])\n",
      "params:tensor([-1.8590e+19, -3.2746e+17])\n",
      "Epoch 12, Loss inf\n",
      "grad:tensor([-1.0937e+23, -1.9266e+21])\n",
      "params:tensor([1.0752e+21, 1.8939e+19])\n",
      "Epoch 13, Loss inf\n",
      "grad:tensor([6.3256e+24, 1.1142e+23])\n",
      "params:tensor([-6.2181e+22, -1.0953e+21])\n",
      "Epoch 14, Loss inf\n",
      "grad:tensor([-3.6584e+26, -6.4441e+24])\n",
      "params:tensor([3.5962e+24, 6.3346e+22])\n",
      "Epoch 15, Loss inf\n",
      "grad:tensor([2.1158e+28, 3.7269e+26])\n",
      "params:tensor([-2.0798e+26, -3.6636e+24])\n",
      "Epoch 16, Loss inf\n",
      "grad:tensor([-1.2236e+30, -2.1554e+28])\n",
      "params:tensor([1.2028e+28, 2.1188e+26])\n",
      "Epoch 17, Loss inf\n",
      "grad:tensor([7.0769e+31, 1.2466e+30])\n",
      "params:tensor([-6.9566e+29, -1.2254e+28])\n",
      "Epoch 18, Loss inf\n",
      "grad:tensor([-4.0929e+33, -7.2095e+31])\n",
      "params:tensor([4.0233e+31, 7.0869e+29])\n",
      "Epoch 19, Loss inf\n",
      "grad:tensor([2.3671e+35, 4.1695e+33])\n",
      "params:tensor([-2.3268e+33, -4.0987e+31])\n",
      "Epoch 20, Loss inf\n",
      "grad:tensor([-1.3690e+37, -2.4114e+35])\n",
      "params:tensor([1.3457e+35, 2.3704e+33])\n"
     ]
    },
    {
     "data": {
      "text/plain": [
       "tensor([1.3457e+35, 2.3704e+33])"
      ]
     },
     "execution_count": 38,
     "metadata": {},
     "output_type": "execute_result"
    }
   ],
   "source": [
    "training_loop(\n",
    "    n_epochs = 20,\n",
    "    learning_rate = 1e-2,\n",
    "    params = torch.tensor([1.0, 0.0]),\n",
    "    t_u = t_u,\n",
    "    t_c = t_c)"
   ]
  },
  {
   "cell_type": "markdown",
   "id": "3902bf96-3e70-410b-a7f7-c687fb767b57",
   "metadata": {},
   "source": [
    "\n",
    "損失が無限大になった"
   ]
  },
  {
   "cell_type": "markdown",
   "id": "6e52f25d-dad4-42ab-9045-ef48fb543f8b",
   "metadata": {},
   "source": [
    "この訓練では変数が大きすぎる更新を受け取ったことを示す兆候である\n",
    "各更新がオーバーシュートして、次の更新がさらに過大評価され、最適化が収束する代わりに発散する\n",
    "本来はどんどん小さくしていきたい"
   ]
  },
  {
   "cell_type": "markdown",
   "id": "df53baf8-70d1-4dc0-a56f-954847202ff3",
   "metadata": {},
   "source": [
    "learning_rateは学習がうまくいかなかったときに変更することが多いパラメータの一つ"
   ]
  },
  {
   "cell_type": "code",
   "execution_count": 39,
   "id": "7247d76e-1175-4b93-8a42-245435fdb9b1",
   "metadata": {},
   "outputs": [
    {
     "name": "stdout",
     "output_type": "stream",
     "text": [
      "Epoch 1, Loss 1763.884766\n",
      "grad:tensor([4517.2964,   82.6000])\n",
      "params:tensor([ 0.5483, -0.0083])\n",
      "Epoch 2, Loss 323.090515\n",
      "grad:tensor([1859.5493,   35.7843])\n",
      "params:tensor([ 0.3623, -0.0118])\n",
      "Epoch 3, Loss 78.929634\n",
      "grad:tensor([765.4666,  16.5122])\n",
      "params:tensor([ 0.2858, -0.0135])\n",
      "Epoch 4, Loss 37.552845\n",
      "grad:tensor([315.0790,   8.5787])\n",
      "params:tensor([ 0.2543, -0.0143])\n",
      "Epoch 5, Loss 30.540283\n",
      "grad:tensor([129.6733,   5.3127])\n",
      "params:tensor([ 0.2413, -0.0149])\n",
      "Epoch 6, Loss 29.351154\n",
      "grad:tensor([53.3495,  3.9682])\n",
      "params:tensor([ 0.2360, -0.0153])\n",
      "Epoch 7, Loss 29.148884\n",
      "grad:tensor([21.9304,  3.4148])\n",
      "params:tensor([ 0.2338, -0.0156])\n",
      "Epoch 8, Loss 29.113848\n",
      "grad:tensor([8.9964, 3.1869])\n",
      "params:tensor([ 0.2329, -0.0159])\n",
      "Epoch 9, Loss 29.107145\n",
      "grad:tensor([3.6721, 3.0930])\n",
      "params:tensor([ 0.2325, -0.0162])\n",
      "Epoch 10, Loss 29.105247\n",
      "grad:tensor([1.4803, 3.0544])\n",
      "params:tensor([ 0.2324, -0.0166])\n",
      "Epoch 11, Loss 29.104168\n",
      "grad:tensor([0.5781, 3.0384])\n",
      "params:tensor([ 0.2323, -0.0169])\n",
      "Epoch 12, Loss 29.103222\n",
      "grad:tensor([0.2066, 3.0318])\n",
      "params:tensor([ 0.2323, -0.0172])\n",
      "Epoch 13, Loss 29.102295\n",
      "grad:tensor([0.0537, 3.0291])\n",
      "params:tensor([ 0.2323, -0.0175])\n",
      "Epoch 14, Loss 29.101379\n",
      "grad:tensor([-0.0093,  3.0279])\n",
      "params:tensor([ 0.2323, -0.0178])\n",
      "Epoch 15, Loss 29.100466\n",
      "grad:tensor([-0.0353,  3.0274])\n",
      "params:tensor([ 0.2323, -0.0181])\n",
      "Epoch 16, Loss 29.099548\n",
      "grad:tensor([-0.0459,  3.0272])\n",
      "params:tensor([ 0.2323, -0.0184])\n",
      "Epoch 17, Loss 29.098631\n",
      "grad:tensor([-0.0502,  3.0270])\n",
      "params:tensor([ 0.2323, -0.0187])\n",
      "Epoch 18, Loss 29.097717\n",
      "grad:tensor([-0.0520,  3.0270])\n",
      "params:tensor([ 0.2323, -0.0190])\n",
      "Epoch 19, Loss 29.096796\n",
      "grad:tensor([-0.0528,  3.0269])\n",
      "params:tensor([ 0.2323, -0.0193])\n",
      "Epoch 20, Loss 29.095881\n",
      "grad:tensor([-0.0531,  3.0268])\n",
      "params:tensor([ 0.2323, -0.0196])\n"
     ]
    },
    {
     "data": {
      "text/plain": [
       "tensor([ 0.2323, -0.0196])"
      ]
     },
     "execution_count": 39,
     "metadata": {},
     "output_type": "execute_result"
    }
   ],
   "source": [
    "training_loop(\n",
    "    n_epochs = 20,\n",
    "    learning_rate = 1e-4,\n",
    "    params = torch.tensor([1.0, 0.0]),\n",
    "    t_u = t_u,\n",
    "    t_c = t_c)"
   ]
  },
  {
   "cell_type": "markdown",
   "id": "fa05f327-89c7-4a3d-b5de-abe3abed76a6",
   "metadata": {},
   "source": [
    "今度はlearnig_rateが小さく、更新も小さく途中で終わってしまった\n",
    "adaptiveな変更が良いのではないか\n",
    "\n",
    "もう一つ問題がある"
   ]
  },
  {
   "cell_type": "markdown",
   "id": "0f19b215-b8c5-4984-868e-915bd5d8d249",
   "metadata": {},
   "source": [
    "## 入力の正規化"
   ]
  },
  {
   "cell_type": "markdown",
   "id": "ae2613b8-fd2a-467e-afc5-f30b98357127",
   "metadata": {},
   "source": [
    "\n",
    "\n",
    "\n",
    "勾配の大きさが重みと、バイアスで約50倍の差がある\n",
    "これはこれらのパラメータのスケールが異なるため\n",
    "\n",
    "片方のスケールに合わせた学習率では片方では大きすぎるか、または小さすぎる可能性がある。\n",
    "\n",
    "解決には問題の定式化の変更が必要\n",
    "入力の範囲を―１から１の範囲に収めればよいのではないか"
   ]
  },
  {
   "cell_type": "code",
   "execution_count": null,
   "id": "c1fd326b-4e07-4533-ae30-296b5ae05244",
   "metadata": {},
   "outputs": [],
   "source": []
  },
  {
   "cell_type": "code",
   "execution_count": null,
   "id": "dbac6e66-5558-42bd-aeb4-6d745d1872f3",
   "metadata": {},
   "outputs": [],
   "source": []
  }
 ],
 "metadata": {
  "kernelspec": {
   "display_name": "Python 3 (ipykernel)",
   "language": "python",
   "name": "python3"
  },
  "language_info": {
   "codemirror_mode": {
    "name": "ipython",
    "version": 3
   },
   "file_extension": ".py",
   "mimetype": "text/x-python",
   "name": "python",
   "nbconvert_exporter": "python",
   "pygments_lexer": "ipython3",
   "version": "3.9.10"
  }
 },
 "nbformat": 4,
 "nbformat_minor": 5
}
