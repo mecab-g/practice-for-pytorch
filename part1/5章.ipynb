{
 "cells": [
  {
   "cell_type": "markdown",
   "id": "f9778228-0187-4158-9c09-56f42438e879",
   "metadata": {},
   "source": [
    "## モデル構築"
   ]
  },
  {
   "cell_type": "code",
   "execution_count": 6,
   "id": "2d7a0434-d149-4ad9-bf4a-b41f4d4edbaf",
   "metadata": {},
   "outputs": [],
   "source": [
    "#データの収集\n",
    "\n",
    "%matplotlib inline\n",
    "import numpy as np\n",
    "import torch\n",
    "\n",
    "import matplotlib.pyplot as plt"
   ]
  },
  {
   "cell_type": "code",
   "execution_count": 7,
   "id": "acfd7014-31cf-4b68-beda-93283dbce705",
   "metadata": {},
   "outputs": [],
   "source": [
    "#t_cは摂氏\n",
    "#t_uは単位が知りたい値\n",
    "t_c = [0.5,  14.0, 15.0, 28.0, 11.0,  8.0,  3.0, -4.0,  6.0, 13.0, 21.0]\n",
    "t_u = [35.7, 55.9, 58.2, 81.9, 56.3, 48.9, 33.9, 21.8, 48.4, 60.4, 68.4]\n",
    "t_c = torch.tensor(t_c)\n",
    "t_u = torch.tensor(t_u)"
   ]
  },
  {
   "cell_type": "code",
   "execution_count": 9,
   "id": "0da51c26-80c8-448d-9cce-abe1552d3c3d",
   "metadata": {},
   "outputs": [
    {
     "data": {
      "text/plain": [
       "<matplotlib.collections.PathCollection at 0x7f0b1732ba90>"
      ]
     },
     "execution_count": 9,
     "metadata": {},
     "output_type": "execute_result"
    },
    {
     "data": {
      "image/png": "[encoded data removed]",
      "text/plain": [
       "<Figure size 432x288 with 1 Axes>"
      ]
     },
     "metadata": {
      "needs_background": "light"
     },
     "output_type": "display_data"
    }
   ],
   "source": [
    "plt.scatter(t_c, t_u)"
   ]
  },
  {
   "cell_type": "code",
   "execution_count": 11,
   "id": "1ac0a958-e483-4824-bc90-6a8f6825de61",
   "metadata": {},
   "outputs": [],
   "source": [
    "#データを収集したら、可視化、線形モデルをためす。\n",
    "#線形モデル　t_c = w * t_u + b\n",
    "#予測値と測定値の誤差が小さくなるようにモデルのパラメータ（ｗ：重みとｂ：バイアス）を推定する\n",
    "#誤差の測定方法に損失関数を用いる\n",
    "#この損失関数が最小になるようなw,bを見つけることを目標とする"
   ]
  },
  {
   "cell_type": "markdown",
   "id": "2436d561-406b-4364-a939-6ae842d31d78",
   "metadata": {},
   "source": [
    "## パラメータの推定と損失関数"
   ]
  },
  {
   "cell_type": "code",
   "execution_count": 13,
   "id": "0ceec7d2-05e5-4ee5-8db8-5448ef174b5a",
   "metadata": {},
   "outputs": [],
   "source": [
    "#モデル作成\n",
    "def model (t_u, w, b):\n",
    "    return w* t_u + b"
   ]
  },
  {
   "cell_type": "code",
   "execution_count": 14,
   "id": "896e0b03-2b33-4438-bd6b-00d6338c9d2b",
   "metadata": {},
   "outputs": [],
   "source": [
    "def loss_fn(t_p, t_c):\n",
    "    squared_diffs = (t_p - t_c)**2\n",
    "    return squared_diffs.mean()"
   ]
  },
  {
   "cell_type": "code",
   "execution_count": 19,
   "id": "f4f4da0a-7c66-4472-b693-71bfc1d0e8c3",
   "metadata": {},
   "outputs": [],
   "source": [
    "#パラメータの初期化\n",
    "w = torch.ones(())\n",
    "b = torch.zeros(())"
   ]
  },
  {
   "cell_type": "code",
   "execution_count": 20,
   "id": "77934ae6-367e-4d68-8efe-964cfbfa28c8",
   "metadata": {},
   "outputs": [
    {
     "data": {
      "text/plain": [
       "tensor(1.)"
      ]
     },
     "execution_count": 20,
     "metadata": {},
     "output_type": "execute_result"
    }
   ],
   "source": [
    "w"
   ]
  },
  {
   "cell_type": "code",
   "execution_count": 16,
   "id": "b52e40bb-c368-41ae-a8e1-d124132d7f59",
   "metadata": {},
   "outputs": [
    {
     "data": {
      "text/plain": [
       "tensor([35.7000, 55.9000, 58.2000, 81.9000, 56.3000, 48.9000, 33.9000, 21.8000,\n",
       "        48.4000, 60.4000, 68.4000])"
      ]
     },
     "execution_count": 16,
     "metadata": {},
     "output_type": "execute_result"
    }
   ],
   "source": [
    "t_p = model(t_u ,w ,b)\n",
    "t_p"
   ]
  },
  {
   "cell_type": "code",
   "execution_count": 21,
   "id": "416ee3b3-6f85-4403-9f5d-6516f151f3d1",
   "metadata": {},
   "outputs": [
    {
     "data": {
      "text/plain": [
       "tensor(1763.8848)"
      ]
     },
     "execution_count": 21,
     "metadata": {},
     "output_type": "execute_result"
    }
   ],
   "source": [
    "#この段階で損失\n",
    "loss = loss_fn(t_p, t_c)\n",
    "loss"
   ]
  },
  {
   "cell_type": "code",
   "execution_count": null,
   "id": "bd727cd8-4610-46b4-a062-f5486068633e",
   "metadata": {},
   "outputs": [],
   "source": [
    "#損失を小さくするためには"
   ]
  }
 ],
 "metadata": {
  "kernelspec": {
   "display_name": "Python 3 (ipykernel)",
   "language": "python",
   "name": "python3"
  },
  "language_info": {
   "codemirror_mode": {
    "name": "ipython",
    "version": 3
   },
   "file_extension": ".py",
   "mimetype": "text/x-python",
   "name": "python",
   "nbconvert_exporter": "python",
   "pygments_lexer": "ipython3",
   "version": "3.9.10"
  }
 },
 "nbformat": 4,
 "nbformat_minor": 5
}
