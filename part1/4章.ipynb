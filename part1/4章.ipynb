{
 "cells": [
  {
   "cell_type": "markdown",
   "id": "2152dfe3-24ca-402a-a5e4-516c6e89ceec",
   "metadata": {
    "tags": []
   },
   "source": [
    "## 4.1画像データ"
   ]
  },
  {
   "cell_type": "code",
   "execution_count": 17,
   "id": "97c4879b-705b-4b9a-8e7a-4aece6b91856",
   "metadata": {},
   "outputs": [],
   "source": [
    "from PIL import Image\n",
    "import numpy as np\n",
    "import torch"
   ]
  },
  {
   "cell_type": "code",
   "execution_count": 13,
   "id": "dda5a1f7-b385-4133-ad48-3de592d3dde7",
   "metadata": {},
   "outputs": [],
   "source": [
    "PATH = \"./deep-learning-with-pytorch-ja-main/data/p1ch2/bobby.jpg\"\n",
    "img = Image.open(PATH)"
   ]
  },
  {
   "cell_type": "code",
   "execution_count": 15,
   "id": "b387b166-720a-4aed-b25e-ce2a28ce35b8",
   "metadata": {},
   "outputs": [
    {
     "name": "stdout",
     "output_type": "stream",
     "text": [
      "(720, 1280, 3)\n"
     ]
    }
   ],
   "source": [
    "img_arr = np.array(img)\n",
    "print(img_arr.shape)"
   ]
  },
  {
   "cell_type": "code",
   "execution_count": 20,
   "id": "670f93f8-656b-46f9-b922-0df3f2a86e78",
   "metadata": {},
   "outputs": [
    {
     "name": "stdout",
     "output_type": "stream",
     "text": [
      "torch.Size([720, 1280, 3]) torch.Size([3, 720, 1280])\n"
     ]
    }
   ],
   "source": [
    "#permuteは次元の位置を変更する\n",
    "\n",
    "#tensorflowはチャネルが4\n",
    "#torchは2\n",
    "#batchはどちらも最初\n",
    "img = torch.from_numpy(img_arr)\n",
    "out = img.permute(2, 0, 1)\n",
    "print(img.shape, out.shape)"
   ]
  },
  {
   "cell_type": "code",
   "execution_count": 32,
   "id": "1703177f-16c4-4b0a-a884-53a2a4752c23",
   "metadata": {},
   "outputs": [],
   "source": [
    "batch_size = 3\n",
    "batch = torch.zeros(batch_size, 3, 256, 256, dtype=torch.uint8)\n",
    "#カメラの写真のフォーマット8ビットのint型"
   ]
  },
  {
   "cell_type": "code",
   "execution_count": 65,
   "id": "2c21fedc-89cb-460d-a9dc-7f0ce4fa010b",
   "metadata": {},
   "outputs": [],
   "source": [
    "import os\n",
    "data_dir = \"./deep-learning-with-pytorch-ja-main/data/p1ch4/image-cats\"\n",
    "filenames = [name for name in os.listdir(data_dir) if os.path.splitext(name)[-1] =='.png']\n",
    "\n",
    "#os.path.splitext(ファイル名)で拡張子を取得"
   ]
  },
  {
   "cell_type": "code",
   "execution_count": 37,
   "id": "524ccad1-ed8b-40fc-a380-1cb54ca24ee8",
   "metadata": {},
   "outputs": [],
   "source": [
    "#batchに画像データ三つを上書き\n",
    "for i, filename in enumerate(filenames):\n",
    "    img_arr = Image.open(os.path.join(data_dir, filename))\n",
    "    img_t = torch.from_numpy(np.array(img_arr))\n",
    "    img_t = img_t.permute(2, 0, 1)\n",
    "    img_t = img_t[:3]\n",
    "    batch[i] = img_t"
   ]
  },
  {
   "cell_type": "code",
   "execution_count": 40,
   "id": "1e2dc81e-ecf8-47c7-99fd-c95dce5e8507",
   "metadata": {},
   "outputs": [
    {
     "data": {
      "text/plain": [
       "(torch.Size([3, 3, 256, 256]), tensor(238, dtype=torch.uint8))"
      ]
     },
     "execution_count": 40,
     "metadata": {},
     "output_type": "execute_result"
    }
   ],
   "source": [
    "batch.shape, batch[2][0][0][0]"
   ]
  },
  {
   "cell_type": "code",
   "execution_count": 41,
   "id": "d6e7a0f7-28ee-440a-b0f8-b73c12b83629",
   "metadata": {},
   "outputs": [],
   "source": [
    "#データの正規化\n",
    "\n",
    "#ニューラルネットでは0から1、または-1から1の範囲で性能が高い\n",
    "#画像データは要素を浮動小数点にして、正規化するのが普通\n",
    "\n",
    "#8bit符号なし表現なら最大値の255で割る手法がある\n",
    "batch = batch.float()\n",
    "batch /= 255.0"
   ]
  },
  {
   "cell_type": "code",
   "execution_count": 48,
   "id": "324ce426-ee15-4aec-b766-56e63574445c",
   "metadata": {},
   "outputs": [
    {
     "data": {
      "text/plain": [
       "(3, torch.Size([3, 3, 256, 256]))"
      ]
     },
     "execution_count": 48,
     "metadata": {},
     "output_type": "execute_result"
    }
   ],
   "source": [
    "batch.shape[1], batch.shape"
   ]
  },
  {
   "cell_type": "code",
   "execution_count": 58,
   "id": "1a760b33-ef00-43b4-958d-6fc01edca5cc",
   "metadata": {},
   "outputs": [
    {
     "data": {
      "text/plain": [
       "(torch.Size([3, 3, 256, 256]), torch.Size([3, 256, 256]), torch.Size([3, 256]))"
      ]
     },
     "execution_count": 58,
     "metadata": {},
     "output_type": "execute_result"
    }
   ],
   "source": [
    "batch.shape, batch[:,1].shape, batch[:,1,1].shape"
   ]
  },
  {
   "cell_type": "code",
   "execution_count": 61,
   "id": "c8a28f52-cce0-4da7-9c39-f87fe58c3e1f",
   "metadata": {},
   "outputs": [
    {
     "data": {
      "text/plain": [
       "(tensor(0.4632), tensor(0.4632))"
      ]
     },
     "execution_count": 61,
     "metadata": {},
     "output_type": "execute_result"
    }
   ],
   "source": [
    "batch[:,1,:,:][0][0][0], batch[:,1][0][0][0]"
   ]
  },
  {
   "cell_type": "code",
   "execution_count": 47,
   "id": "375897fe-7fcb-4e16-8d70-80fe73707894",
   "metadata": {},
   "outputs": [],
   "source": [
    "#もう一つの正規化手法は平均0、標準偏差1にする標準化\n",
    "n_chanels = batch.shape[1]\n",
    "for c in range(n_chanels):\n",
    "    mean = torch.mean(batch[:, c])\n",
    "    std = torch.std(batch[:, c])\n",
    "    batch[:, c] = (batch[:, c] - mean ) / std"
   ]
  },
  {
   "cell_type": "code",
   "execution_count": 62,
   "id": "2d1f40dc-ada8-414c-93d8-dcd9623c9537",
   "metadata": {},
   "outputs": [],
   "source": [
    "#三次元データ（CT)"
   ]
  },
  {
   "cell_type": "code",
   "execution_count": 63,
   "id": "197c5a7c-2d12-4a8d-a62d-fc50656fac3a",
   "metadata": {},
   "outputs": [],
   "source": [
    "import imageio\n",
    "dir_path = "
   ]
  },
  {
   "cell_type": "code",
   "execution_count": null,
   "id": "0ca32817-f17a-4a50-878b-86585c44c8d4",
   "metadata": {},
   "outputs": [],
   "source": []
  }
 ],
 "metadata": {
  "kernelspec": {
   "display_name": "Python 3 (ipykernel)",
   "language": "python",
   "name": "python3"
  },
  "language_info": {
   "codemirror_mode": {
    "name": "ipython",
    "version": 3
   },
   "file_extension": ".py",
   "mimetype": "text/x-python",
   "name": "python",
   "nbconvert_exporter": "python",
   "pygments_lexer": "ipython3",
   "version": "3.9.13"
  }
 },
 "nbformat": 4,
 "nbformat_minor": 5
}
