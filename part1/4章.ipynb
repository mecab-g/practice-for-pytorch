{
 "cells": [
  {
   "cell_type": "markdown",
   "id": "2152dfe3-24ca-402a-a5e4-516c6e89ceec",
   "metadata": {
    "tags": []
   },
   "source": [
    "## 4.1画像データ"
   ]
  },
  {
   "cell_type": "code",
   "execution_count": 1,
   "id": "97c4879b-705b-4b9a-8e7a-4aece6b91856",
   "metadata": {},
   "outputs": [],
   "source": [
    "from PIL import Image\n",
    "import numpy as np\n",
    "import torch"
   ]
  },
  {
   "cell_type": "code",
   "execution_count": 2,
   "id": "dda5a1f7-b385-4133-ad48-3de592d3dde7",
   "metadata": {},
   "outputs": [],
   "source": [
    "PATH = \"../deep-learning-with-pytorch-ja-main/data/p1ch2/bobby.jpg\"\n",
    "img = Image.open(PATH)"
   ]
  },
  {
   "cell_type": "code",
   "execution_count": 3,
   "id": "b387b166-720a-4aed-b25e-ce2a28ce35b8",
   "metadata": {},
   "outputs": [
    {
     "name": "stdout",
     "output_type": "stream",
     "text": [
      "(720, 1280, 3)\n"
     ]
    }
   ],
   "source": [
    "img_arr = np.array(img)\n",
    "print(img_arr.shape)"
   ]
  },
  {
   "cell_type": "code",
   "execution_count": 20,
   "id": "670f93f8-656b-46f9-b922-0df3f2a86e78",
   "metadata": {},
   "outputs": [
    {
     "name": "stdout",
     "output_type": "stream",
     "text": [
      "torch.Size([720, 1280, 3]) torch.Size([3, 720, 1280])\n"
     ]
    }
   ],
   "source": [
    "#permuteは次元の位置を変更する\n",
    "\n",
    "#tensorflowはチャネルが4\n",
    "#torchは2\n",
    "#batchはどちらも最初\n",
    "img = torch.from_numpy(img_arr)\n",
    "out = img.permute(2, 0, 1)\n",
    "print(img.shape, out.shape)"
   ]
  },
  {
   "cell_type": "code",
   "execution_count": 7,
   "id": "1703177f-16c4-4b0a-a884-53a2a4752c23",
   "metadata": {},
   "outputs": [],
   "source": [
    "batch_size = 3\n",
    "batch = torch.zeros(batch_size, 3, 256, 256, dtype=torch.uint8)\n",
    "#カメラの写真のフォーマット8ビットのint型"
   ]
  },
  {
   "cell_type": "code",
   "execution_count": 8,
   "id": "2c21fedc-89cb-460d-a9dc-7f0ce4fa010b",
   "metadata": {},
   "outputs": [],
   "source": [
    "import os\n",
    "data_dir = \"../deep-learning-with-pytorch-ja-main/data/p1ch4/image-cats\"\n",
    "filenames = [name for name in os.listdir(data_dir) if os.path.splitext(name)[-1] =='.png']\n",
    "\n",
    "#os.path.splitext(ファイル名)で拡張子を取得"
   ]
  },
  {
   "cell_type": "code",
   "execution_count": 9,
   "id": "524ccad1-ed8b-40fc-a380-1cb54ca24ee8",
   "metadata": {},
   "outputs": [],
   "source": [
    "#batchに画像データ三つを上書き\n",
    "for i, filename in enumerate(filenames):\n",
    "    img_arr = Image.open(os.path.join(data_dir, filename))\n",
    "    img_t = torch.from_numpy(np.array(img_arr))\n",
    "    img_t = img_t.permute(2, 0, 1)\n",
    "    img_t = img_t[:3]\n",
    "    batch[i] = img_t"
   ]
  },
  {
   "cell_type": "code",
   "execution_count": 40,
   "id": "1e2dc81e-ecf8-47c7-99fd-c95dce5e8507",
   "metadata": {},
   "outputs": [
    {
     "data": {
      "text/plain": [
       "(torch.Size([3, 3, 256, 256]), tensor(238, dtype=torch.uint8))"
      ]
     },
     "execution_count": 40,
     "metadata": {},
     "output_type": "execute_result"
    }
   ],
   "source": [
    "batch.shape, batch[2][0][0][0]"
   ]
  },
  {
   "cell_type": "code",
   "execution_count": 41,
   "id": "d6e7a0f7-28ee-440a-b0f8-b73c12b83629",
   "metadata": {},
   "outputs": [],
   "source": [
    "#データの正規化\n",
    "\n",
    "#ニューラルネットでは0から1、または-1から1の範囲で性能が高い\n",
    "#画像データは要素を浮動小数点にして、正規化するのが普通\n",
    "\n",
    "#8bit符号なし表現なら最大値の255で割る手法がある\n",
    "batch = batch.float()\n",
    "batch /= 255.0"
   ]
  },
  {
   "cell_type": "code",
   "execution_count": 48,
   "id": "324ce426-ee15-4aec-b766-56e63574445c",
   "metadata": {},
   "outputs": [
    {
     "data": {
      "text/plain": [
       "(3, torch.Size([3, 3, 256, 256]))"
      ]
     },
     "execution_count": 48,
     "metadata": {},
     "output_type": "execute_result"
    }
   ],
   "source": [
    "batch.shape[1], batch.shape"
   ]
  },
  {
   "cell_type": "code",
   "execution_count": 58,
   "id": "1a760b33-ef00-43b4-958d-6fc01edca5cc",
   "metadata": {},
   "outputs": [
    {
     "data": {
      "text/plain": [
       "(torch.Size([3, 3, 256, 256]), torch.Size([3, 256, 256]), torch.Size([3, 256]))"
      ]
     },
     "execution_count": 58,
     "metadata": {},
     "output_type": "execute_result"
    }
   ],
   "source": [
    "batch.shape, batch[:,1].shape, batch[:,1,1].shape"
   ]
  },
  {
   "cell_type": "code",
   "execution_count": 61,
   "id": "c8a28f52-cce0-4da7-9c39-f87fe58c3e1f",
   "metadata": {},
   "outputs": [
    {
     "data": {
      "text/plain": [
       "(tensor(0.4632), tensor(0.4632))"
      ]
     },
     "execution_count": 61,
     "metadata": {},
     "output_type": "execute_result"
    }
   ],
   "source": [
    "batch[:,1,:,:][0][0][0], batch[:,1][0][0][0]"
   ]
  },
  {
   "cell_type": "code",
   "execution_count": 47,
   "id": "375897fe-7fcb-4e16-8d70-80fe73707894",
   "metadata": {},
   "outputs": [],
   "source": [
    "#もう一つの正規化手法は平均0、標準偏差1にする標準化\n",
    "n_chanels = batch.shape[1]\n",
    "for c in range(n_chanels):\n",
    "    mean = torch.mean(batch[:, c])\n",
    "    std = torch.std(batch[:, c])\n",
    "    batch[:, c] = (batch[:, c] - mean ) / std"
   ]
  },
  {
   "cell_type": "code",
   "execution_count": 62,
   "id": "2d1f40dc-ada8-414c-93d8-dcd9623c9537",
   "metadata": {},
   "outputs": [],
   "source": [
    "#三次元データ（CT)\n",
    "#次元はバッチ、チャネル、深さ、たて、横の五次元になる"
   ]
  },
  {
   "cell_type": "code",
   "execution_count": 16,
   "id": "197c5a7c-2d12-4a8d-a62d-fc50656fac3a",
   "metadata": {},
   "outputs": [
    {
     "name": "stdout",
     "output_type": "stream",
     "text": [
      "Reading DICOM (examining files): 1/99 files (1.0%69/99 files (69.7%99/99 files (100.0%)\n",
      "  Found 1 correct series.\n",
      "Reading DICOM (loading data): 69/99  (69.799/99  (100.0%)\n"
     ]
    },
    {
     "data": {
      "text/plain": [
       "(99, 512, 512)"
      ]
     },
     "execution_count": 16,
     "metadata": {},
     "output_type": "execute_result"
    }
   ],
   "source": [
    "import imageio\n",
    "dir_path = \"../deep-learning-with-pytorch-ja-main/data/p1ch4/volumetric-dicom/2-LUNG 3.0  B70f-04083\"\n",
    "vol_arr = imageio.volread(dir_path, \"DICOM\")\n",
    "vol_arr.shape"
   ]
  },
  {
   "cell_type": "code",
   "execution_count": 17,
   "id": "0ca32817-f17a-4a50-878b-86585c44c8d4",
   "metadata": {},
   "outputs": [
    {
     "data": {
      "text/plain": [
       "torch.Size([99, 512, 512])"
      ]
     },
     "execution_count": 17,
     "metadata": {},
     "output_type": "execute_result"
    }
   ],
   "source": [
    "vol = torch.from_numpy(vol_arr).float()\n",
    "vol.shape"
   ]
  },
  {
   "cell_type": "code",
   "execution_count": 18,
   "id": "09f73dd8-fd03-4737-9c3b-2fe89be2e58f",
   "metadata": {},
   "outputs": [
    {
     "data": {
      "text/plain": [
       "torch.Size([1, 99, 512, 512])"
      ]
     },
     "execution_count": 18,
     "metadata": {},
     "output_type": "execute_result"
    }
   ],
   "source": [
    "#バッチ方向がない四次元\n",
    "vol = torch.unsqueeze(vol, 0)\n",
    "vol.shape"
   ]
  },
  {
   "cell_type": "code",
   "execution_count": 19,
   "id": "4277783c-eca0-4f44-828c-bcd26a931851",
   "metadata": {},
   "outputs": [],
   "source": [
    "#表形式のデータ"
   ]
  },
  {
   "cell_type": "code",
   "execution_count": 20,
   "id": "e34ea019-e14a-4b88-a810-c3f11942267e",
   "metadata": {},
   "outputs": [],
   "source": [
    "import csv"
   ]
  },
  {
   "cell_type": "code",
   "execution_count": 24,
   "id": "5bb0703a-7fe6-4e43-b250-ebfeb776d79b",
   "metadata": {},
   "outputs": [
    {
     "data": {
      "text/plain": [
       "array([[ 7.  ,  0.27,  0.36, ...,  0.45,  8.8 ,  6.  ],\n",
       "       [ 6.3 ,  0.3 ,  0.34, ...,  0.49,  9.5 ,  6.  ],\n",
       "       [ 8.1 ,  0.28,  0.4 , ...,  0.44, 10.1 ,  6.  ],\n",
       "       ...,\n",
       "       [ 6.5 ,  0.24,  0.19, ...,  0.46,  9.4 ,  6.  ],\n",
       "       [ 5.5 ,  0.29,  0.3 , ...,  0.38, 12.8 ,  7.  ],\n",
       "       [ 6.  ,  0.21,  0.38, ...,  0.32, 11.8 ,  6.  ]], dtype=float32)"
      ]
     },
     "execution_count": 24,
     "metadata": {},
     "output_type": "execute_result"
    }
   ],
   "source": [
    "wine_path = \"../deep-learning-with-pytorch-ja-main/data/p1ch4/tabular-wine/winequality-white.csv\"\n",
    "#1行目はカラム名のためスキップして読み込み\n",
    "wine_numpy = np.loadtxt(wine_path, dtype=np.float32, delimiter=\";\", skiprows=1)\n",
    "wine_numpy"
   ]
  },
  {
   "cell_type": "code",
   "execution_count": 23,
   "id": "13857e9b-edc0-4c44-937d-94d92a8e16c7",
   "metadata": {},
   "outputs": [
    {
     "data": {
      "text/plain": [
       "((4898, 12),\n",
       " ['fixed acidity',\n",
       "  'volatile acidity',\n",
       "  'citric acid',\n",
       "  'residual sugar',\n",
       "  'chlorides',\n",
       "  'free sulfur dioxide',\n",
       "  'total sulfur dioxide',\n",
       "  'density',\n",
       "  'pH',\n",
       "  'sulphates',\n",
       "  'alcohol',\n",
       "  'quality'])"
      ]
     },
     "execution_count": 23,
     "metadata": {},
     "output_type": "execute_result"
    }
   ],
   "source": [
    "col_list = next(csv.reader(open(wine_path), delimiter=\";\"))\n",
    "wine_numpy.shape, col_list"
   ]
  },
  {
   "cell_type": "code",
   "execution_count": 25,
   "id": "9d6bfd45-eeff-4fd0-8b1a-e63909ced88a",
   "metadata": {},
   "outputs": [
    {
     "data": {
      "text/plain": [
       "(torch.Size([4898, 12]), torch.float32)"
      ]
     },
     "execution_count": 25,
     "metadata": {},
     "output_type": "execute_result"
    }
   ],
   "source": [
    "wineq = torch.from_numpy(wine_numpy)\n",
    "wineq.shape, wineq.dtype"
   ]
  },
  {
   "cell_type": "code",
   "execution_count": 26,
   "id": "82258f58-a9d1-4d88-93e0-a46a084df3f8",
   "metadata": {},
   "outputs": [],
   "source": [
    "#連続値、順序尺度、カテゴリカル変数には注意"
   ]
  },
  {
   "cell_type": "code",
   "execution_count": 27,
   "id": "462fdde0-992c-465b-bfd7-7a53da7d5f2b",
   "metadata": {},
   "outputs": [],
   "source": [
    "#スコアの表現\n",
    "\n",
    "#スコアはラベルとして扱う分類タスクか、連続値として回帰タスクか"
   ]
  },
  {
   "cell_type": "code",
   "execution_count": 28,
   "id": "65440b6b-771d-4fe9-ab36-cf201609e5c7",
   "metadata": {},
   "outputs": [
    {
     "name": "stdout",
     "output_type": "stream",
     "text": [
      "torch.Size([4898, 11])\n",
      "torch.Size([4898])\n"
     ]
    }
   ],
   "source": [
    "#最後の列が目的変数のためそれを除く\n",
    "data = wineq[:, :-1]\n",
    "print(data.shape)\n",
    "\n",
    "target = wineq[:, -1]\n",
    "print(target.shape)"
   ]
  },
  {
   "cell_type": "code",
   "execution_count": 30,
   "id": "8a167337-f986-424f-bb5e-4c569b3b42bf",
   "metadata": {},
   "outputs": [
    {
     "data": {
      "text/plain": [
       "torch.float32"
      ]
     },
     "execution_count": 30,
     "metadata": {},
     "output_type": "execute_result"
    }
   ],
   "source": [
    "target.dtype"
   ]
  },
  {
   "cell_type": "code",
   "execution_count": 33,
   "id": "915badde-09e4-4978-b811-30fbd580e46a",
   "metadata": {},
   "outputs": [
    {
     "data": {
      "text/plain": [
       "torch.int64"
      ]
     },
     "execution_count": 33,
     "metadata": {},
     "output_type": "execute_result"
    }
   ],
   "source": [
    "#ターゲットがワインの色名のような文字列のラベルであれば、文字列を整数値にして同様にアプローチできる\n",
    "target = wineq[:, -1].long()\n",
    "target.dtype"
   ]
  },
  {
   "cell_type": "code",
   "execution_count": 34,
   "id": "37153447-ad14-4cca-877e-66189caafaa1",
   "metadata": {},
   "outputs": [
    {
     "data": {
      "text/plain": [
       "tensor([6, 6, 6,  ..., 6, 7, 6])"
      ]
     },
     "execution_count": 34,
     "metadata": {},
     "output_type": "execute_result"
    }
   ],
   "source": [
    "target"
   ]
  },
  {
   "cell_type": "code",
   "execution_count": 52,
   "id": "5134a5f9-b3ed-4b30-925d-96c3000c0fd3",
   "metadata": {},
   "outputs": [
    {
     "name": "stdout",
     "output_type": "stream",
     "text": [
      "torch.Size([4898, 10]) torch.Size([4898]) torch.Size([4898, 1])\n"
     ]
    },
    {
     "data": {
      "text/plain": [
       "tensor([0., 0., 0., 0., 0., 1., 0., 0., 0., 0.])"
      ]
     },
     "execution_count": 52,
     "metadata": {},
     "output_type": "execute_result"
    }
   ],
   "source": [
    "#ワンホットエンコーディング\n",
    "target_onehot = torch.zeros(target.shape[0], 10)\n",
    "print(target_onehot.shape, target.shape, target.unsqueeze(1).shape)\n",
    "target_onehot.scatter_(1, target.unsqueeze(1), 1.0)[19]"
   ]
  },
  {
   "cell_type": "code",
   "execution_count": null,
   "id": "146fda84-905c-4119-8cea-ace44816d84a",
   "metadata": {},
   "outputs": [],
   "source": [
    "#scatter_で最後が_で終わるのは内部でテンソルを上書きする\n",
    "#引数は\n",
    "#one_hotにする次元 今回は二つ目次元の10側が目的\n",
    "#one_hotにしたい列（ラベル）　このindexはone_ohtで表現するテンソルと同じ次元にする\n",
    "#入力させる値"
   ]
  },
  {
   "cell_type": "code",
   "execution_count": 53,
   "id": "6024fb2b-479a-4588-9bb3-5eb5bebd3486",
   "metadata": {},
   "outputs": [
    {
     "data": {
      "text/plain": [
       "tensor([[6],\n",
       "        [6],\n",
       "        [6],\n",
       "        ...,\n",
       "        [6],\n",
       "        [7],\n",
       "        [6]])"
      ]
     },
     "execution_count": 53,
     "metadata": {},
     "output_type": "execute_result"
    }
   ],
   "source": [
    "target_unsqueezed = target.unsqueeze(1)\n",
    "target_unsqueezed"
   ]
  },
  {
   "cell_type": "code",
   "execution_count": 58,
   "id": "73a20f67-26e1-4940-a00c-5cfdfffd9535",
   "metadata": {},
   "outputs": [
    {
     "name": "stdout",
     "output_type": "stream",
     "text": [
      "torch.Size([4898, 11])\n"
     ]
    },
    {
     "data": {
      "text/plain": [
       "torch.Size([11])"
      ]
     },
     "execution_count": 58,
     "metadata": {},
     "output_type": "execute_result"
    }
   ],
   "source": [
    "#テンソルの計算\n",
    "print(data.shape)\n",
    "data_mean = torch.mean(data, dim=0)\n",
    "data_mean.shape"
   ]
  },
  {
   "cell_type": "code",
   "execution_count": 59,
   "id": "44adfae4-249e-4841-8878-49ac035efec8",
   "metadata": {},
   "outputs": [
    {
     "data": {
      "text/plain": [
       "torch.Size([11])"
      ]
     },
     "execution_count": 59,
     "metadata": {},
     "output_type": "execute_result"
    }
   ],
   "source": [
    "data_var = torch.var(data, dim=0)\n",
    "data_var.shape"
   ]
  },
  {
   "cell_type": "code",
   "execution_count": 62,
   "id": "4b5a5bac-1075-4187-8b56-e2fa075cc0a5",
   "metadata": {},
   "outputs": [
    {
     "data": {
      "text/plain": [
       "(tensor([-0.6574,  0.2159,  0.0480, -0.9447,  0.1477, -1.2529, -0.1497, -0.0091,\n",
       "          0.7400,  0.0013, -0.8242]),\n",
       " tensor([6.3000e+00, 3.0000e-01, 3.4000e-01, 1.6000e+00, 4.9000e-02, 1.4000e+01,\n",
       "         1.3200e+02, 9.9400e-01, 3.3000e+00, 4.9000e-01, 9.5000e+00]))"
      ]
     },
     "execution_count": 62,
     "metadata": {},
     "output_type": "execute_result"
    }
   ],
   "source": [
    "#正規化（標準化）\n",
    "data_normalized = (data - data_mean) / torch.sqrt(data_var)\n",
    "data_normalized[1], data[1]"
   ]
  },
  {
   "cell_type": "code",
   "execution_count": 63,
   "id": "55eb7c3a-3d45-438e-b138-1ea68abf33ba",
   "metadata": {},
   "outputs": [
    {
     "data": {
      "text/plain": [
       "(torch.Size([4898]), torch.bool, tensor(20))"
      ]
     },
     "execution_count": 63,
     "metadata": {},
     "output_type": "execute_result"
    }
   ],
   "source": [
    "#閾値の設定\n",
    "bad_indexes = target <= 3\n",
    "bad_indexes.shape, bad_indexes.dtype, bad_indexes.sum()"
   ]
  },
  {
   "cell_type": "code",
   "execution_count": 65,
   "id": "877b4798-f956-4f43-b80f-c111f22c19fa",
   "metadata": {},
   "outputs": [],
   "source": [
    "#bad_indexesの要素のうち20個がTure\n",
    "#advanced indexing機能を使い、torch.boolのテンソルを利用し、 インデックスをつける"
   ]
  },
  {
   "cell_type": "code",
   "execution_count": 66,
   "id": "f0860a8a-1377-4de5-917c-a73a6f046ce2",
   "metadata": {},
   "outputs": [
    {
     "data": {
      "text/plain": [
       "torch.Size([20, 11])"
      ]
     },
     "execution_count": 66,
     "metadata": {},
     "output_type": "execute_result"
    }
   ],
   "source": [
    "bad_data = data[bad_indexes]\n",
    "bad_data.shape\n",
    "#bad_dataテンソルは20行\n",
    "#条件にTrueで返した行\n",
    "#列は11列全て保有"
   ]
  },
  {
   "cell_type": "code",
   "execution_count": 68,
   "id": "3aba1a6f-f577-4797-a52e-bea29a1b0848",
   "metadata": {},
   "outputs": [],
   "source": [
    "#上の方法を使いワインの状態を三段階に分ける\n",
    "bad_data = data[target <= 3]\n",
    "mid_data = data[(target >3) & ( target <= 7)]\n",
    "good_data = data[target >= 7]\n",
    "\n"
   ]
  },
  {
   "cell_type": "code",
   "execution_count": null,
   "id": "d84a4f2f-e57e-4fe2-a836-231be7da1b55",
   "metadata": {},
   "outputs": [],
   "source": []
  }
 ],
 "metadata": {
  "kernelspec": {
   "display_name": "Python 3 (ipykernel)",
   "language": "python",
   "name": "python3"
  },
  "language_info": {
   "codemirror_mode": {
    "name": "ipython",
    "version": 3
   },
   "file_extension": ".py",
   "mimetype": "text/x-python",
   "name": "python",
   "nbconvert_exporter": "python",
   "pygments_lexer": "ipython3",
   "version": "3.9.13"
  }
 },
 "nbformat": 4,
 "nbformat_minor": 5
}
