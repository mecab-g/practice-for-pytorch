{
 "cells": [
  {
   "cell_type": "markdown",
   "id": "b2645585-4b9b-455e-8045-3d3d06556adf",
   "metadata": {
    "tags": []
   },
   "source": [
    "## 4.1画像データ"
   ]
  },
  {
   "cell_type": "code",
   "execution_count": 4,
   "id": "97c4879b-705b-4b9a-8e7a-4aece6b91856",
   "metadata": {},
   "outputs": [],
   "source": [
    "from PIL import Image\n",
    "import numpy as np\n",
    "import torch"
   ]
  },
  {
   "cell_type": "code",
   "execution_count": 2,
   "id": "dda5a1f7-b385-4133-ad48-3de592d3dde7",
   "metadata": {},
   "outputs": [],
   "source": [
    "PATH = \"../deep-learning-with-pytorch-ja-main/data/p1ch2/bobby.jpg\"\n",
    "img = Image.open(PATH)"
   ]
  },
  {
   "cell_type": "code",
   "execution_count": 3,
   "id": "b387b166-720a-4aed-b25e-ce2a28ce35b8",
   "metadata": {},
   "outputs": [
    {
     "name": "stdout",
     "output_type": "stream",
     "text": [
      "(720, 1280, 3)\n"
     ]
    }
   ],
   "source": [
    "img_arr = np.array(img)\n",
    "print(img_arr.shape)"
   ]
  },
  {
   "cell_type": "code",
   "execution_count": 20,
   "id": "670f93f8-656b-46f9-b922-0df3f2a86e78",
   "metadata": {},
   "outputs": [
    {
     "name": "stdout",
     "output_type": "stream",
     "text": [
      "torch.Size([720, 1280, 3]) torch.Size([3, 720, 1280])\n"
     ]
    }
   ],
   "source": [
    "#permuteは次元の位置を変更する\n",
    "\n",
    "#tensorflowはチャネルが4\n",
    "#torchは2\n",
    "#batchはどちらも最初\n",
    "img = torch.from_numpy(img_arr)\n",
    "out = img.permute(2, 0, 1)\n",
    "print(img.shape, out.shape)"
   ]
  },
  {
   "cell_type": "code",
   "execution_count": 7,
   "id": "1703177f-16c4-4b0a-a884-53a2a4752c23",
   "metadata": {},
   "outputs": [],
   "source": [
    "batch_size = 3\n",
    "batch = torch.zeros(batch_size, 3, 256, 256, dtype=torch.uint8)\n",
    "#カメラの写真のフォーマット8ビットのint型"
   ]
  },
  {
   "cell_type": "code",
   "execution_count": 8,
   "id": "2c21fedc-89cb-460d-a9dc-7f0ce4fa010b",
   "metadata": {},
   "outputs": [],
   "source": [
    "import os\n",
    "data_dir = \"../deep-learning-with-pytorch-ja-main/data/p1ch4/image-cats\"\n",
    "filenames = [name for name in os.listdir(data_dir) if os.path.splitext(name)[-1] =='.png']\n",
    "\n",
    "#os.path.splitext(ファイル名)で拡張子を取得"
   ]
  },
  {
   "cell_type": "code",
   "execution_count": 9,
   "id": "524ccad1-ed8b-40fc-a380-1cb54ca24ee8",
   "metadata": {},
   "outputs": [],
   "source": [
    "#batchに画像データ三つを上書き\n",
    "for i, filename in enumerate(filenames):\n",
    "    img_arr = Image.open(os.path.join(data_dir, filename))\n",
    "    img_t = torch.from_numpy(np.array(img_arr))\n",
    "    img_t = img_t.permute(2, 0, 1)\n",
    "    img_t = img_t[:3]\n",
    "    batch[i] = img_t"
   ]
  },
  {
   "cell_type": "code",
   "execution_count": 40,
   "id": "1e2dc81e-ecf8-47c7-99fd-c95dce5e8507",
   "metadata": {},
   "outputs": [
    {
     "data": {
      "text/plain": [
       "(torch.Size([3, 3, 256, 256]), tensor(238, dtype=torch.uint8))"
      ]
     },
     "execution_count": 40,
     "metadata": {},
     "output_type": "execute_result"
    }
   ],
   "source": [
    "batch.shape, batch[2][0][0][0]"
   ]
  },
  {
   "cell_type": "code",
   "execution_count": 41,
   "id": "d6e7a0f7-28ee-440a-b0f8-b73c12b83629",
   "metadata": {},
   "outputs": [],
   "source": [
    "#データの正規化\n",
    "\n",
    "#ニューラルネットでは0から1、または-1から1の範囲で性能が高い\n",
    "#画像データは要素を浮動小数点にして、正規化するのが普通\n",
    "\n",
    "#8bit符号なし表現なら最大値の255で割る手法がある\n",
    "batch = batch.float()\n",
    "batch /= 255.0"
   ]
  },
  {
   "cell_type": "code",
   "execution_count": 48,
   "id": "324ce426-ee15-4aec-b766-56e63574445c",
   "metadata": {},
   "outputs": [
    {
     "data": {
      "text/plain": [
       "(3, torch.Size([3, 3, 256, 256]))"
      ]
     },
     "execution_count": 48,
     "metadata": {},
     "output_type": "execute_result"
    }
   ],
   "source": [
    "batch.shape[1], batch.shape"
   ]
  },
  {
   "cell_type": "code",
   "execution_count": 58,
   "id": "1a760b33-ef00-43b4-958d-6fc01edca5cc",
   "metadata": {},
   "outputs": [
    {
     "data": {
      "text/plain": [
       "(torch.Size([3, 3, 256, 256]), torch.Size([3, 256, 256]), torch.Size([3, 256]))"
      ]
     },
     "execution_count": 58,
     "metadata": {},
     "output_type": "execute_result"
    }
   ],
   "source": [
    "batch.shape, batch[:,1].shape, batch[:,1,1].shape"
   ]
  },
  {
   "cell_type": "code",
   "execution_count": 61,
   "id": "c8a28f52-cce0-4da7-9c39-f87fe58c3e1f",
   "metadata": {},
   "outputs": [
    {
     "data": {
      "text/plain": [
       "(tensor(0.4632), tensor(0.4632))"
      ]
     },
     "execution_count": 61,
     "metadata": {},
     "output_type": "execute_result"
    }
   ],
   "source": [
    "batch[:,1,:,:][0][0][0], batch[:,1][0][0][0]"
   ]
  },
  {
   "cell_type": "code",
   "execution_count": 47,
   "id": "375897fe-7fcb-4e16-8d70-80fe73707894",
   "metadata": {},
   "outputs": [],
   "source": [
    "#もう一つの正規化手法は平均0、標準偏差1にする標準化\n",
    "n_chanels = batch.shape[1]\n",
    "for c in range(n_chanels):\n",
    "    mean = torch.mean(batch[:, c])\n",
    "    std = torch.std(batch[:, c])\n",
    "    batch[:, c] = (batch[:, c] - mean ) / std"
   ]
  },
  {
   "cell_type": "markdown",
   "id": "e9249f90-c43d-4318-acaf-1d7063cff186",
   "metadata": {},
   "source": [
    "## 4.2三次元データ（CT)"
   ]
  },
  {
   "cell_type": "code",
   "execution_count": 62,
   "id": "2d1f40dc-ada8-414c-93d8-dcd9623c9537",
   "metadata": {},
   "outputs": [],
   "source": [
    "#次元はバッチ、チャネル、深さ、たて、横の五次元になる"
   ]
  },
  {
   "cell_type": "code",
   "execution_count": 16,
   "id": "197c5a7c-2d12-4a8d-a62d-fc50656fac3a",
   "metadata": {},
   "outputs": [
    {
     "name": "stdout",
     "output_type": "stream",
     "text": [
      "Reading DICOM (examining files): 1/99 files (1.0%69/99 files (69.7%99/99 files (100.0%)\n",
      "  Found 1 correct series.\n",
      "Reading DICOM (loading data): 69/99  (69.799/99  (100.0%)\n"
     ]
    },
    {
     "data": {
      "text/plain": [
       "(99, 512, 512)"
      ]
     },
     "execution_count": 16,
     "metadata": {},
     "output_type": "execute_result"
    }
   ],
   "source": [
    "import imageio\n",
    "dir_path = \"../deep-learning-with-pytorch-ja-main/data/p1ch4/volumetric-dicom/2-LUNG 3.0  B70f-04083\"\n",
    "vol_arr = imageio.volread(dir_path, \"DICOM\")\n",
    "vol_arr.shape"
   ]
  },
  {
   "cell_type": "code",
   "execution_count": 17,
   "id": "0ca32817-f17a-4a50-878b-86585c44c8d4",
   "metadata": {},
   "outputs": [
    {
     "data": {
      "text/plain": [
       "torch.Size([99, 512, 512])"
      ]
     },
     "execution_count": 17,
     "metadata": {},
     "output_type": "execute_result"
    }
   ],
   "source": [
    "vol = torch.from_numpy(vol_arr).float()\n",
    "vol.shape"
   ]
  },
  {
   "cell_type": "code",
   "execution_count": 18,
   "id": "09f73dd8-fd03-4737-9c3b-2fe89be2e58f",
   "metadata": {},
   "outputs": [
    {
     "data": {
      "text/plain": [
       "torch.Size([1, 99, 512, 512])"
      ]
     },
     "execution_count": 18,
     "metadata": {},
     "output_type": "execute_result"
    }
   ],
   "source": [
    "#バッチ方向がない四次元\n",
    "vol = torch.unsqueeze(vol, 0)\n",
    "vol.shape"
   ]
  },
  {
   "cell_type": "markdown",
   "id": "5da94e8d-b36d-451d-ada8-928b2898ab5d",
   "metadata": {},
   "source": [
    "##   4.3表形式のデータ"
   ]
  },
  {
   "cell_type": "code",
   "execution_count": 55,
   "id": "e34ea019-e14a-4b88-a810-c3f11942267e",
   "metadata": {},
   "outputs": [],
   "source": [
    "import csv"
   ]
  },
  {
   "cell_type": "code",
   "execution_count": 65,
   "id": "5bb0703a-7fe6-4e43-b250-ebfeb776d79b",
   "metadata": {},
   "outputs": [
    {
     "data": {
      "text/plain": [
       "array([[ 7.  ,  0.27,  0.36, ...,  0.45,  8.8 ,  6.  ],\n",
       "       [ 6.3 ,  0.3 ,  0.34, ...,  0.49,  9.5 ,  6.  ],\n",
       "       [ 8.1 ,  0.28,  0.4 , ...,  0.44, 10.1 ,  6.  ],\n",
       "       ...,\n",
       "       [ 6.5 ,  0.24,  0.19, ...,  0.46,  9.4 ,  6.  ],\n",
       "       [ 5.5 ,  0.29,  0.3 , ...,  0.38, 12.8 ,  7.  ],\n",
       "       [ 6.  ,  0.21,  0.38, ...,  0.32, 11.8 ,  6.  ]], dtype=float32)"
      ]
     },
     "execution_count": 65,
     "metadata": {},
     "output_type": "execute_result"
    }
   ],
   "source": [
    "#wine_path = \"../deep-learning-with-pytorch-ja-main/data/p1ch4/tabular-wine/winequality-white.csv\"\n",
    "wine_path = \"../deep-learning-with-pytorch-ja/data/p1ch4/tabular-wine/winequality-white.csv\"\n",
    "#1行目はカラム名のためスキップして読み込み\n",
    "wine_numpy = np.loadtxt(wine_path, dtype=np.float32, delimiter=\";\", skiprows=1)\n",
    "wine_numpy"
   ]
  },
  {
   "cell_type": "code",
   "execution_count": 66,
   "id": "13857e9b-edc0-4c44-937d-94d92a8e16c7",
   "metadata": {},
   "outputs": [
    {
     "data": {
      "text/plain": [
       "((4898, 12),\n",
       " ['fixed acidity',\n",
       "  'volatile acidity',\n",
       "  'citric acid',\n",
       "  'residual sugar',\n",
       "  'chlorides',\n",
       "  'free sulfur dioxide',\n",
       "  'total sulfur dioxide',\n",
       "  'density',\n",
       "  'pH',\n",
       "  'sulphates',\n",
       "  'alcohol',\n",
       "  'quality'])"
      ]
     },
     "execution_count": 66,
     "metadata": {},
     "output_type": "execute_result"
    }
   ],
   "source": [
    "col_list = next(csv.reader(open(wine_path), delimiter=\";\"))\n",
    "wine_numpy.shape, col_list"
   ]
  },
  {
   "cell_type": "code",
   "execution_count": 67,
   "id": "9d6bfd45-eeff-4fd0-8b1a-e63909ced88a",
   "metadata": {},
   "outputs": [
    {
     "data": {
      "text/plain": [
       "(torch.Size([4898, 12]), torch.float32)"
      ]
     },
     "execution_count": 67,
     "metadata": {},
     "output_type": "execute_result"
    }
   ],
   "source": [
    "wineq = torch.from_numpy(wine_numpy)\n",
    "wineq.shape, wineq.dtype"
   ]
  },
  {
   "cell_type": "code",
   "execution_count": 68,
   "id": "82258f58-a9d1-4d88-93e0-a46a084df3f8",
   "metadata": {},
   "outputs": [],
   "source": [
    "#連続値、順序尺度、カテゴリカル変数には注意"
   ]
  },
  {
   "cell_type": "code",
   "execution_count": 69,
   "id": "462fdde0-992c-465b-bfd7-7a53da7d5f2b",
   "metadata": {},
   "outputs": [],
   "source": [
    "#スコアの表現\n",
    "\n",
    "#スコアはラベルとして扱う分類タスクか、連続値として回帰タスクか"
   ]
  },
  {
   "cell_type": "code",
   "execution_count": 70,
   "id": "65440b6b-771d-4fe9-ab36-cf201609e5c7",
   "metadata": {},
   "outputs": [
    {
     "name": "stdout",
     "output_type": "stream",
     "text": [
      "torch.Size([4898, 11])\n",
      "torch.Size([4898])\n"
     ]
    }
   ],
   "source": [
    "#最後の列が目的変数のためそれを除く\n",
    "data = wineq[:, :-1]\n",
    "print(data.shape)\n",
    "\n",
    "target = wineq[:, -1]\n",
    "print(target.shape)"
   ]
  },
  {
   "cell_type": "code",
   "execution_count": 71,
   "id": "8a167337-f986-424f-bb5e-4c569b3b42bf",
   "metadata": {},
   "outputs": [
    {
     "data": {
      "text/plain": [
       "torch.float32"
      ]
     },
     "execution_count": 71,
     "metadata": {},
     "output_type": "execute_result"
    }
   ],
   "source": [
    "target.dtype"
   ]
  },
  {
   "cell_type": "code",
   "execution_count": 72,
   "id": "915badde-09e4-4978-b811-30fbd580e46a",
   "metadata": {},
   "outputs": [
    {
     "data": {
      "text/plain": [
       "torch.int64"
      ]
     },
     "execution_count": 72,
     "metadata": {},
     "output_type": "execute_result"
    }
   ],
   "source": [
    "#ターゲットがワインの色名のような文字列のラベルであれば、文字列を整数値にして同様にアプローチできる\n",
    "target = wineq[:, -1].long()\n",
    "target.dtype"
   ]
  },
  {
   "cell_type": "code",
   "execution_count": 76,
   "id": "37153447-ad14-4cca-877e-66189caafaa1",
   "metadata": {},
   "outputs": [
    {
     "data": {
      "text/plain": [
       "4898"
      ]
     },
     "execution_count": 76,
     "metadata": {},
     "output_type": "execute_result"
    }
   ],
   "source": [
    "target.shape[0]"
   ]
  },
  {
   "cell_type": "code",
   "execution_count": 96,
   "id": "5134a5f9-b3ed-4b30-925d-96c3000c0fd3",
   "metadata": {},
   "outputs": [
    {
     "name": "stdout",
     "output_type": "stream",
     "text": [
      "torch.Size([4898, 10]) torch.Size([4898]) torch.Size([4898, 1]) tensor([[6],\n",
      "        [6],\n",
      "        [6],\n",
      "        ...,\n",
      "        [6],\n",
      "        [7],\n",
      "        [6]])\n"
     ]
    },
    {
     "data": {
      "text/plain": [
       "tensor([[0., 0., 0.,  ..., 0., 0., 0.],\n",
       "        [0., 0., 0.,  ..., 0., 0., 0.],\n",
       "        [0., 0., 0.,  ..., 0., 0., 0.],\n",
       "        ...,\n",
       "        [0., 0., 0.,  ..., 0., 0., 0.],\n",
       "        [0., 0., 0.,  ..., 1., 0., 0.],\n",
       "        [0., 0., 0.,  ..., 0., 0., 0.]])"
      ]
     },
     "execution_count": 96,
     "metadata": {},
     "output_type": "execute_result"
    }
   ],
   "source": [
    "#ワンホットエンコーディング\n",
    "\n",
    "#データ数とラベル数のテンソル作成\n",
    "target_onehot = torch.zeros(target.shape[0], 10)\n",
    "print(target_onehot.shape, target.shape,  target.unsqueeze(1).shape, target.unsqueeze(1))\n",
    "\n",
    "target_onehot.scatter_(1, target.unsqueeze(1), 1.0)"
   ]
  },
  {
   "cell_type": "code",
   "execution_count": 97,
   "id": "146fda84-905c-4119-8cea-ace44816d84a",
   "metadata": {},
   "outputs": [],
   "source": [
    "#scatter_で最後が_で終わるのは内部でテンソルを上書きする\n",
    "#引数は\n",
    "#one_hotにする配列 ０が行、１が列\n",
    "#one_hotにしたい列（ラベル）　このindexはone_ohtで表現するテンソルと同じ次元にする必要がありunsqueeze(1)\n",
    "#入力させる値"
   ]
  },
  {
   "cell_type": "code",
   "execution_count": 98,
   "id": "6024fb2b-479a-4588-9bb3-5eb5bebd3486",
   "metadata": {},
   "outputs": [
    {
     "data": {
      "text/plain": [
       "tensor([[6],\n",
       "        [6],\n",
       "        [6],\n",
       "        ...,\n",
       "        [6],\n",
       "        [7],\n",
       "        [6]])"
      ]
     },
     "execution_count": 98,
     "metadata": {},
     "output_type": "execute_result"
    }
   ],
   "source": [
    "target_unsqueezed = target.unsqueeze(1)\n",
    "target_unsqueezed"
   ]
  },
  {
   "cell_type": "code",
   "execution_count": 99,
   "id": "73a20f67-26e1-4940-a00c-5cfdfffd9535",
   "metadata": {},
   "outputs": [
    {
     "name": "stdout",
     "output_type": "stream",
     "text": [
      "torch.Size([4898, 11])\n"
     ]
    },
    {
     "data": {
      "text/plain": [
       "torch.Size([11])"
      ]
     },
     "execution_count": 99,
     "metadata": {},
     "output_type": "execute_result"
    }
   ],
   "source": [
    "#テンソルの計算\n",
    "print(data.shape)\n",
    "data_mean = torch.mean(data, dim=0)\n",
    "data_mean.shape"
   ]
  },
  {
   "cell_type": "code",
   "execution_count": 100,
   "id": "44adfae4-249e-4841-8878-49ac035efec8",
   "metadata": {},
   "outputs": [
    {
     "data": {
      "text/plain": [
       "torch.Size([11])"
      ]
     },
     "execution_count": 100,
     "metadata": {},
     "output_type": "execute_result"
    }
   ],
   "source": [
    "data_var = torch.var(data, dim=0)\n",
    "data_var.shape"
   ]
  },
  {
   "cell_type": "code",
   "execution_count": 101,
   "id": "4b5a5bac-1075-4187-8b56-e2fa075cc0a5",
   "metadata": {},
   "outputs": [
    {
     "data": {
      "text/plain": [
       "(tensor([-0.6574,  0.2159,  0.0480, -0.9447,  0.1477, -1.2529, -0.1497, -0.0091,\n",
       "          0.7400,  0.0013, -0.8242]),\n",
       " tensor([6.3000e+00, 3.0000e-01, 3.4000e-01, 1.6000e+00, 4.9000e-02, 1.4000e+01,\n",
       "         1.3200e+02, 9.9400e-01, 3.3000e+00, 4.9000e-01, 9.5000e+00]))"
      ]
     },
     "execution_count": 101,
     "metadata": {},
     "output_type": "execute_result"
    }
   ],
   "source": [
    "#正規化（標準化）\n",
    "data_normalized = (data - data_mean) / torch.sqrt(data_var)\n",
    "data_normalized[1], data[1]"
   ]
  },
  {
   "cell_type": "code",
   "execution_count": 102,
   "id": "55eb7c3a-3d45-438e-b138-1ea68abf33ba",
   "metadata": {},
   "outputs": [
    {
     "data": {
      "text/plain": [
       "(torch.Size([4898]), torch.bool, tensor(20))"
      ]
     },
     "execution_count": 102,
     "metadata": {},
     "output_type": "execute_result"
    }
   ],
   "source": [
    "#閾値の設定\n",
    "bad_indexes = target <= 3\n",
    "bad_indexes.shape, bad_indexes.dtype, bad_indexes.sum()"
   ]
  },
  {
   "cell_type": "code",
   "execution_count": 103,
   "id": "877b4798-f956-4f43-b80f-c111f22c19fa",
   "metadata": {},
   "outputs": [],
   "source": [
    "#bad_indexesの要素のうち20個がTure\n",
    "#advanced indexing機能を使い、torch.boolのテンソルを利用し、 インデックスをつける"
   ]
  },
  {
   "cell_type": "code",
   "execution_count": 104,
   "id": "f0860a8a-1377-4de5-917c-a73a6f046ce2",
   "metadata": {},
   "outputs": [
    {
     "data": {
      "text/plain": [
       "torch.Size([20, 11])"
      ]
     },
     "execution_count": 104,
     "metadata": {},
     "output_type": "execute_result"
    }
   ],
   "source": [
    "bad_data = data[bad_indexes]\n",
    "bad_data.shape\n",
    "#bad_dataテンソルは20行\n",
    "#条件にTrueで返した行\n",
    "#列は11列全て保有"
   ]
  },
  {
   "cell_type": "code",
   "execution_count": 105,
   "id": "3aba1a6f-f577-4797-a52e-bea29a1b0848",
   "metadata": {},
   "outputs": [],
   "source": [
    "#上の方法を使いワインの状態を三段階に分ける\n",
    "bad_data = data[target <= 3]\n",
    "mid_data = data[(target >3) & ( target <= 7)]\n",
    "good_data = data[target >= 7]"
   ]
  },
  {
   "cell_type": "code",
   "execution_count": 106,
   "id": "d84a4f2f-e57e-4fe2-a836-231be7da1b55",
   "metadata": {},
   "outputs": [
    {
     "name": "stdout",
     "output_type": "stream",
     "text": [
      " 0 fixed acidity          7.60   6.86   6.73\n",
      " 1 volatile acidity       0.33   0.28   0.27\n",
      " 2 citric acid            0.34   0.33   0.33\n",
      " 3 residual sugar         6.39   6.42   5.26\n",
      " 4 chlorides              0.05   0.05   0.04\n",
      " 5 free sulfur dioxide   53.33  35.18  34.55\n",
      " 6 total sulfur dioxide 170.60 138.70 125.25\n",
      " 7 density                0.99   0.99   0.99\n",
      " 8 pH                     3.19   3.19   3.22\n",
      " 9 sulphates              0.47   0.49   0.50\n",
      "10 alcohol               10.34  10.47  11.42\n"
     ]
    }
   ],
   "source": [
    "bad_mean = torch.mean(bad_data, dim=0)\n",
    "mid_mean = torch.mean(mid_data, dim=0)\n",
    "good_mean = torch.mean(good_data ,dim=0)\n",
    "#3段階のワインの詳細データの表示\n",
    "for i, args in enumerate(zip(col_list, bad_mean, mid_mean, good_mean)):\n",
    "    print(\"{:2} {:20} {:6.2f} {:6.2f} {:6.2f}\".format(i,*args))"
   ]
  },
  {
   "cell_type": "code",
   "execution_count": 107,
   "id": "e41e0a4b-d3a1-473e-83df-23fda5c9ae2e",
   "metadata": {},
   "outputs": [
    {
     "data": {
      "text/plain": [
       "tensor([170., 132.,  97.,  ..., 111., 110.,  98.])"
      ]
     },
     "execution_count": 107,
     "metadata": {},
     "output_type": "execute_result"
    }
   ],
   "source": [
    "#total sulfur dioxide(二酸化硫黄)が多いと質が悪いのか？\n",
    "#閾値を作成し\n",
    "total_sulfur_threshold = 141.83\n",
    "total_sulfur_data = data[:, 6]\n",
    "total_sulfur_data"
   ]
  },
  {
   "cell_type": "code",
   "execution_count": 108,
   "id": "d6f9ed88-f11e-46bc-9f51-6db2a5175923",
   "metadata": {},
   "outputs": [
    {
     "data": {
      "text/plain": [
       "(torch.Size([4898]), torch.bool, tensor(2727))"
      ]
     },
     "execution_count": 108,
     "metadata": {},
     "output_type": "execute_result"
    }
   ],
   "source": [
    "predicted_indexes = torch.lt(total_sulfur_data, total_sulfur_threshold)\n",
    "predicted_indexes.shape, predicted_indexes.dtype, predicted_indexes.sum()\n",
    "# 第一引数が元data, 第二引数以下のテンソルがTure、大きい要素はFalse"
   ]
  },
  {
   "cell_type": "code",
   "execution_count": 109,
   "id": "e3bda819-6a64-4132-bb8c-cd0342fd9fcf",
   "metadata": {},
   "outputs": [
    {
     "data": {
      "text/plain": [
       "(torch.Size([4898]), torch.bool, tensor(3258))"
      ]
     },
     "execution_count": 109,
     "metadata": {},
     "output_type": "execute_result"
    }
   ],
   "source": [
    "#数を確認すると半分以上は良質なワインか？\n",
    "#targetを確認する\n",
    "actual_indexes = target > 5\n",
    "actual_indexes.shape, actual_indexes.dtype, actual_indexes.sum()"
   ]
  },
  {
   "cell_type": "code",
   "execution_count": 110,
   "id": "4e81687a-580c-4ca0-91ba-966fb04604cb",
   "metadata": {},
   "outputs": [
    {
     "name": "stdout",
     "output_type": "stream",
     "text": [
      "2018\n",
      "0.6193984039287906 0.74000733406674\n"
     ]
    }
   ],
   "source": [
    "#数は合わない。\n",
    "#重なりを確認する\n",
    "n_matches = torch.sum(actual_indexes & predicted_indexes).item()\n",
    "print(n_matches)\n",
    "n_predicted = torch.sum(predicted_indexes).item()\n",
    "n_actual = torch.sum(actual_indexes).item()\n",
    "print(n_matches / n_actual, n_matches / n_predicted)"
   ]
  },
  {
   "cell_type": "markdown",
   "id": "f512240d-b211-4d66-b640-2e0194bede1b",
   "metadata": {},
   "source": [
    "## 4.4時系列データ"
   ]
  },
  {
   "cell_type": "code",
   "execution_count": 134,
   "id": "c0704ced-ad3b-42b2-9b57-8a224611e438",
   "metadata": {},
   "outputs": [],
   "source": [
    "bike_path = \"../deep-learning-with-pytorch-ja/data/p1ch4/bike-sharing-dataset/hour-fixed.csv\"\n",
    "bikes_numpy = np.loadtxt(bike_path, \n",
    "                      dtype=np.float32, \n",
    "                      delimiter=\",\", \n",
    "                      skiprows=1, \n",
    "                      converters={1: lambda x:float(x[8:10])}#日だけにしている,strだと読み込めない\n",
    "                     )"
   ]
  },
  {
   "cell_type": "code",
   "execution_count": 155,
   "id": "9f5e9ce3-0401-41c7-b3d1-30f549ab370d",
   "metadata": {},
   "outputs": [
    {
     "data": {
      "text/plain": [
       "(torch.Size([17520, 17]), (17, 1))"
      ]
     },
     "execution_count": 155,
     "metadata": {},
     "output_type": "execute_result"
    }
   ],
   "source": [
    "#index、日、季節、年、月、時間、休日か、曜日、平日か、曜日、気象状況、温度\n",
    "#体感温度、湿度、風速、カジュアルユーザ数、登録ユーザ数、レンタル自転車数\n",
    "#1時間ごとのデータ\n",
    "bikes = torch.from_numpy(bikes_numpy)\n",
    "bikes.shape, bikes.stride()"
   ]
  },
  {
   "cell_type": "code",
   "execution_count": 156,
   "id": "ddcf7ad9-231e-4e0e-86a6-14b2a17f9968",
   "metadata": {},
   "outputs": [],
   "source": [
    "#ある単位量でのシーケンス処理をする\n",
    "#単位：Cの次元：Nの時間軸のデータに変換してNN"
   ]
  },
  {
   "cell_type": "code",
   "execution_count": 157,
   "id": "cea51d35-31f4-4a9e-bdb0-b64ebf3b05ce",
   "metadata": {},
   "outputs": [],
   "source": [
    "#時間帯別に整形"
   ]
  },
  {
   "cell_type": "code",
   "execution_count": 158,
   "id": "2818584d-35bc-4f09-9c4d-589d5beaf784",
   "metadata": {},
   "outputs": [
    {
     "data": {
      "text/plain": [
       "(torch.Size([730, 24, 17]), (408, 17, 1))"
      ]
     },
     "execution_count": 158,
     "metadata": {},
     "output_type": "execute_result"
    }
   ],
   "source": [
    "daily_bikes = bikes.view(-1, 24, bikes.shape[1])\n",
    "daily_bikes.shape, daily_bikes.stride()\n",
    "#bikesの列数を2次元に、1次元は24で日ごと、0次元は-1で自動計算"
   ]
  },
  {
   "cell_type": "code",
   "execution_count": 159,
   "id": "d169701d-c455-4b9a-be66-b1c3ef4ded51",
   "metadata": {},
   "outputs": [
    {
     "data": {
      "text/plain": [
       "(torch.Size([730, 17, 24]), (408, 1, 17))"
      ]
     },
     "execution_count": 159,
     "metadata": {},
     "output_type": "execute_result"
    }
   ],
   "source": [
    "#日付の次元に沿って進むには24×17個の要素文進まないといけない\n",
    "#N：730個のシーケンスを、C：17チャネル、L:24時間のデータでもつ形に変更\n",
    "daily_bikes = daily_bikes.transpose(1, 2)\n",
    "daily_bikes.shape, daily_bikes.stride()"
   ]
  },
  {
   "cell_type": "code",
   "execution_count": 160,
   "id": "7feab928-711f-4e64-80ae-eacfb6f2f4de",
   "metadata": {},
   "outputs": [
    {
     "data": {
      "text/plain": [
       "torch.Size([17, 24])"
      ]
     },
     "execution_count": 160,
     "metadata": {},
     "output_type": "execute_result"
    }
   ],
   "source": [
    "#テンソルはストレージに連続に格納されており、形状をviewで自由に変更できる\n",
    "daily_bikes[1].shape"
   ]
  },
  {
   "cell_type": "code",
   "execution_count": 161,
   "id": "59466727-fb58-41ab-9403-6eac56f8c2f3",
   "metadata": {},
   "outputs": [],
   "source": [
    "#時間の次元（１）がひとつ進むと、ストレージ内の要素が17個すすむことがわかる"
   ]
  },
  {
   "cell_type": "code",
   "execution_count": 162,
   "id": "7cd7c055-0a15-4d79-9f17-a56435c3b476",
   "metadata": {},
   "outputs": [
    {
     "data": {
      "text/plain": [
       "torch.float32"
      ]
     },
     "execution_count": 162,
     "metadata": {},
     "output_type": "execute_result"
    }
   ],
   "source": [
    "first_day = bikes[:24]\n",
    "first_day.dtype"
   ]
  },
  {
   "cell_type": "code",
   "execution_count": 163,
   "id": "92d91fef-5763-4a75-9019-d844dc1cbf8c",
   "metadata": {},
   "outputs": [
    {
     "data": {
      "text/plain": [
       "torch.int64"
      ]
     },
     "execution_count": 163,
     "metadata": {},
     "output_type": "execute_result"
    }
   ],
   "source": [
    "#整数にします\n",
    "first_day = bikes[:24].long()\n",
    "first_day.dtype"
   ]
  },
  {
   "cell_type": "markdown",
   "id": "7bfdee38-f29b-48f1-92d2-230a33497b16",
   "metadata": {},
   "source": [
    "訓練の準備 onehot"
   ]
  },
  {
   "cell_type": "code",
   "execution_count": 177,
   "id": "3505822f-e729-4c58-9364-ca5b5647425b",
   "metadata": {},
   "outputs": [
    {
     "name": "stdout",
     "output_type": "stream",
     "text": [
      "torch.Size([24, 17])\n",
      "torch.Size([24, 4])\n"
     ]
    }
   ],
   "source": [
    "#訓練の準備\n",
    "\n",
    "#初日のデータの確認\n",
    "first_day = bikes[:24].long()\n",
    "print(first_day.shape)\n",
    "#天気は四種類\n",
    "weather_onehot = torch.zeros(first_day.shape[0], 4)\n",
    "print(weather_onehot.shape)"
   ]
  },
  {
   "cell_type": "code",
   "execution_count": 165,
   "id": "bbae4bb4-56d7-4368-a976-6fca4cdd8390",
   "metadata": {},
   "outputs": [
    {
     "name": "stdout",
     "output_type": "stream",
     "text": [
      "tensor([1, 1, 1, 1, 1, 2, 1, 1, 1, 1, 1, 1, 1, 2, 2, 2, 2, 2, 3, 3, 2, 2, 2, 2])\n",
      "tensor([[0],\n",
      "        [0],\n",
      "        [0],\n",
      "        [0],\n",
      "        [0],\n",
      "        [1],\n",
      "        [0],\n",
      "        [0],\n",
      "        [0],\n",
      "        [0],\n",
      "        [0],\n",
      "        [0],\n",
      "        [0],\n",
      "        [1],\n",
      "        [1],\n",
      "        [1],\n",
      "        [1],\n",
      "        [1],\n",
      "        [2],\n",
      "        [2],\n",
      "        [1],\n",
      "        [1],\n",
      "        [1],\n",
      "        [1]])\n"
     ]
    }
   ],
   "source": [
    "#天気\n",
    "print(first_day[:, 9])\n",
    "#1から４を、０から３に変更\n",
    "print(first_day[:, 9].unsqueeze(1).long() -1)"
   ]
  },
  {
   "cell_type": "code",
   "execution_count": 166,
   "id": "2f799342-6bae-4da7-a79f-1a2b41ab0560",
   "metadata": {},
   "outputs": [
    {
     "name": "stdout",
     "output_type": "stream",
     "text": [
      "one_hotで torch.Size([24, 17]) -> 9番目のtorch.Size([24, 4]) 　最後にconcat \n"
     ]
    }
   ],
   "source": [
    "print(f\"one_hotで {first_day.shape} -> 9番目の{weather_onehot.shape} 　最後にconcat \")"
   ]
  },
  {
   "cell_type": "code",
   "execution_count": 167,
   "id": "36f1bb5c-b9cf-455a-b48d-75b07a0efcc0",
   "metadata": {},
   "outputs": [
    {
     "data": {
      "text/plain": [
       "tensor([[1., 0., 0., 0.],\n",
       "        [1., 0., 0., 0.],\n",
       "        [1., 0., 0., 0.],\n",
       "        [1., 0., 0., 0.],\n",
       "        [1., 0., 0., 0.],\n",
       "        [0., 1., 0., 0.],\n",
       "        [1., 0., 0., 0.],\n",
       "        [1., 0., 0., 0.],\n",
       "        [1., 0., 0., 0.],\n",
       "        [1., 0., 0., 0.],\n",
       "        [1., 0., 0., 0.],\n",
       "        [1., 0., 0., 0.],\n",
       "        [1., 0., 0., 0.],\n",
       "        [0., 1., 0., 0.],\n",
       "        [0., 1., 0., 0.],\n",
       "        [0., 1., 0., 0.],\n",
       "        [0., 1., 0., 0.],\n",
       "        [0., 1., 0., 0.],\n",
       "        [0., 0., 1., 0.],\n",
       "        [0., 0., 1., 0.],\n",
       "        [0., 1., 0., 0.],\n",
       "        [0., 1., 0., 0.],\n",
       "        [0., 1., 0., 0.],\n",
       "        [0., 1., 0., 0.]])"
      ]
     },
     "execution_count": 167,
     "metadata": {},
     "output_type": "execute_result"
    }
   ],
   "source": [
    "weather_onehot.scatter_(\n",
    "    dim =1,#one_hotにしたいカラム\n",
    "    index=first_day[:, 9].unsqueeze(1).long() -1 ,#one_hotにしたい列（ラベル）　このindexはone_ohtで表現するテンソルと同じ次元にする\n",
    "    value=1.0#入れる値)\n",
    ")"
   ]
  },
  {
   "cell_type": "code",
   "execution_count": 168,
   "id": "44acaae7-0197-43ec-bcb5-eb3564cd4c2a",
   "metadata": {},
   "outputs": [
    {
     "data": {
      "text/plain": [
       "tensor([[ 1.0000,  1.0000,  1.0000,  0.0000,  1.0000,  0.0000,  0.0000,  6.0000,\n",
       "          0.0000,  1.0000,  0.2400,  0.2879,  0.8100,  0.0000,  3.0000, 13.0000,\n",
       "         16.0000,  1.0000,  0.0000,  0.0000,  0.0000]])"
      ]
     },
     "execution_count": 168,
     "metadata": {},
     "output_type": "execute_result"
    }
   ],
   "source": [
    "#元データに結合\n",
    "#:24 は一日のデータだから\n",
    "torch.cat((bikes[:24], weather_onehot), 1)[:1]"
   ]
  },
  {
   "cell_type": "code",
   "execution_count": 169,
   "id": "7e0dd4c3-ae89-41ad-b15c-a590f70f6f2d",
   "metadata": {},
   "outputs": [],
   "source": [
    "#全データに適応（B,C,L)　B＝730　L=24　L=17\n",
    "\n",
    "daily_weather_onehot = torch.zeros(daily_bikes.shape[0], 4,\n",
    "                                   daily_bikes.shape[2])"
   ]
  },
  {
   "cell_type": "code",
   "execution_count": 172,
   "id": "09263750-8a18-4800-a14d-c55d82b80d18",
   "metadata": {},
   "outputs": [
    {
     "data": {
      "text/plain": [
       "(torch.Size([730, 4, 24]), torch.Size([730, 24]))"
      ]
     },
     "execution_count": 172,
     "metadata": {},
     "output_type": "execute_result"
    }
   ],
   "source": [
    "#チャネルの24の代わりにラベル数の次元\n",
    "daily_weather_onehot.shape, daily_bikes[:, 9, :].long().shape"
   ]
  },
  {
   "cell_type": "code",
   "execution_count": 174,
   "id": "b17607ef-a2e4-404a-9adc-c127c89dbe1a",
   "metadata": {},
   "outputs": [
    {
     "data": {
      "text/plain": [
       "torch.Size([730, 4, 24])"
      ]
     },
     "execution_count": 174,
     "metadata": {},
     "output_type": "execute_result"
    }
   ],
   "source": [
    "daily_weather_onehot.scatter_(1, \n",
    "                              daily_bikes[:, 9, :].long().unsqueeze(1) -1,\n",
    "                              1.0\n",
    "                             )\n",
    "\n",
    "daily_weather_onehot.shape"
   ]
  },
  {
   "cell_type": "code",
   "execution_count": 176,
   "id": "7b097005-348f-4e36-b24c-1c1333f8f002",
   "metadata": {},
   "outputs": [],
   "source": [
    "daily_bikes = torch.cat((daily_bikes, daily_weather_onehot), dim=1)"
   ]
  },
  {
   "cell_type": "markdown",
   "id": "d16a0fb9-c101-47ae-bf07-f87762f190ab",
   "metadata": {},
   "source": [
    "連続変数に変換\n",
    "\n",
    "天気は0.0から1.0の連続変数として扱うこともできる"
   ]
  },
  {
   "cell_type": "code",
   "execution_count": 179,
   "id": "4bee9661-5ecd-42a0-83f1-d5eb9672784f",
   "metadata": {},
   "outputs": [],
   "source": [
    "#4までだから１引いて３で割る\n",
    "daily_bikes[:, 9, :] = (daily_bikes[:, 9, :] -1.0) /3.0"
   ]
  },
  {
   "cell_type": "code",
   "execution_count": 180,
   "id": "2b7166b5-2da0-4a54-b779-e79f3b9ca97d",
   "metadata": {},
   "outputs": [],
   "source": [
    "#0,1スケーリング\n",
    "temp = daily_bikes[:, 10, :]\n",
    "temp_min =torch.min(temp)\n",
    "temp_max =torch.max(temp)\n",
    "daily_bikes[:, 10, :] = ((daily_bikes[:, 10, :] - temp_min)/\n",
    "                         (temp_max - temp_min))"
   ]
  },
  {
   "cell_type": "code",
   "execution_count": 182,
   "id": "6c4757c8-21ee-4fe7-85e7-cd96da37da98",
   "metadata": {},
   "outputs": [],
   "source": [
    "#あるいは標準化\n",
    "temp = daily_bikes[:, 10, :]\n",
    "daily_bikes[:, 10, :] = ((daily_bikes[:, 10, : ] - torch.mean(temp))/\n",
    "                         torch.std(temp))"
   ]
  },
  {
   "cell_type": "markdown",
   "id": "13e58d66-88d3-4840-a74c-222326edc1b4",
   "metadata": {},
   "source": [
    "##　テキストデータ"
   ]
  },
  {
   "cell_type": "code",
   "execution_count": null,
   "id": "804ae97b-6986-4f04-b2f1-2483cd6262c4",
   "metadata": {},
   "outputs": [],
   "source": [
    "#テキストから数値へ変換"
   ]
  }
 ],
 "metadata": {
  "kernelspec": {
   "display_name": "Python 3 (ipykernel)",
   "language": "python",
   "name": "python3"
  },
  "language_info": {
   "codemirror_mode": {
    "name": "ipython",
    "version": 3
   },
   "file_extension": ".py",
   "mimetype": "text/x-python",
   "name": "python",
   "nbconvert_exporter": "python",
   "pygments_lexer": "ipython3",
   "version": "3.9.10"
  }
 },
 "nbformat": 4,
 "nbformat_minor": 5
}
