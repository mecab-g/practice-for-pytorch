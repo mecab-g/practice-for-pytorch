{
 "cells": [
  {
   "cell_type": "markdown",
   "id": "bab6e332-88ed-4196-8220-b75c263cee34",
   "metadata": {},
   "source": [
    "## 画像分類モデル"
   ]
  },
  {
   "cell_type": "markdown",
   "id": "b78a1250-4b10-4280-bd16-07aacfef483f",
   "metadata": {},
   "source": [
    "・ニューラルネットの構築\n",
    "・Dataset,DataLoaderの読み込み\n",
    "・分類タスクの損失"
   ]
  },
  {
   "cell_type": "code",
   "execution_count": 30,
   "id": "e351dc73-4654-413c-a762-5b4e20d207da",
   "metadata": {},
   "outputs": [],
   "source": [
    "from torchvision import datasets\n",
    "\n",
    "from matplotlib import pyplot as plt\n",
    "import numpy as np\n",
    "import torch"
   ]
  },
  {
   "cell_type": "code",
   "execution_count": 37,
   "id": "522db511-054a-4d4a-a448-9def50f57a63",
   "metadata": {},
   "outputs": [
    {
     "name": "stdout",
     "output_type": "stream",
     "text": [
      "Files already downloaded and verified\n",
      "Files already downloaded and verified\n"
     ]
    }
   ],
   "source": [
    "data_path = \"../data/p1ch7/\"\n",
    "#引数は保存のパス、訓練用かテスト用か、pytorchで保存して良いか\n",
    "#他にもSVHN ,COCO,Ominglotなどがある\n",
    "cifar10 = datasets.CIFAR10(data_path, train=True, download=True)\n",
    "cifar10_val = datasets.CIFAR10(data_path, train=False, download=True)"
   ]
  },
  {
   "cell_type": "code",
   "execution_count": 54,
   "id": "96a53b7f-ad2c-46fd-a1ad-99a6a5ffc9c1",
   "metadata": {},
   "outputs": [
    {
     "data": {
      "text/plain": [
       "(torchvision.datasets.cifar.CIFAR10,\n",
       " torchvision.datasets.vision.VisionDataset,\n",
       " torch.utils.data.dataset.Dataset,\n",
       " typing.Generic,\n",
       " object)"
      ]
     },
     "execution_count": 54,
     "metadata": {},
     "output_type": "execute_result"
    }
   ],
   "source": [
    "#torch.util.data.datasetsのサブクラスとして返される\n",
    "type(cifar10).__mro__"
   ]
  },
  {
   "cell_type": "markdown",
   "id": "1129b162-274b-4dda-9ca5-a13233e3202a",
   "metadata": {},
   "source": [
    "##datasetクラス"
   ]
  },
  {
   "cell_type": "code",
   "execution_count": 38,
   "id": "bfe9174c-4946-4d15-a1e1-3ba40f1c48e2",
   "metadata": {},
   "outputs": [
    {
     "data": {
      "text/plain": [
       "(50000, 10000)"
      ]
     },
     "execution_count": 38,
     "metadata": {},
     "output_type": "execute_result"
    }
   ],
   "source": [
    "len(cifar10), len(cifar10_val)"
   ]
  },
  {
   "cell_type": "markdown",
   "id": "9684ab00-2dd8-459e-99b2-dddacf1965eb",
   "metadata": {},
   "source": [
    "datasetはデータを保持している訳ではなく、__len__,__getitem__を介してデータへのアクセスを提供する"
   ]
  },
  {
   "cell_type": "code",
   "execution_count": 39,
   "id": "cbab5485-cc26-4edf-98e6-4896b4940463",
   "metadata": {},
   "outputs": [],
   "source": [
    "class_names = ['airplane','automobile','bird','cat','deer',\n",
    "               'dog','frog','horse','ship','truck']"
   ]
  },
  {
   "cell_type": "code",
   "execution_count": 40,
   "id": "3e1b9a61-c2a2-4065-baee-843d50d98aab",
   "metadata": {},
   "outputs": [
    {
     "data": {
      "text/plain": [
       "(<PIL.Image.Image image mode=RGB size=32x32>, 1, 'automobile')"
      ]
     },
     "execution_count": 40,
     "metadata": {},
     "output_type": "execute_result"
    }
   ],
   "source": [
    "img, label = cifar10[99]\n",
    "img, label, class_names[label]"
   ]
  },
  {
   "cell_type": "code",
   "execution_count": 35,
   "id": "92063214-a2da-41f2-9b1f-bbabce38ebca",
   "metadata": {},
   "outputs": [
    {
     "data": {
      "text/plain": [
       "<function matplotlib.pyplot.show(close=None, block=None)>"
      ]
     },
     "execution_count": 35,
     "metadata": {},
     "output_type": "execute_result"
    },
    {
     "data": {
      "image/png": "[encoded data removed]",
      "text/plain": [
       "<Figure size 432x288 with 1 Axes>"
      ]
     },
     "metadata": {
      "needs_background": "light"
     },
     "output_type": "display_data"
    }
   ],
   "source": [
    "plt.imshow(img)\n",
    "plt.show"
   ]
  },
  {
   "cell_type": "code",
   "execution_count": 44,
   "id": "7029f8e2-8c09-4cfd-82f5-693f4c09c540",
   "metadata": {},
   "outputs": [
    {
     "data": {
      "image/png": "[encoded data removed]",
      "text/plain": [
       "<PIL.Image.Image image mode=RGB size=32x32>"
      ]
     },
     "execution_count": 44,
     "metadata": {},
     "output_type": "execute_result"
    }
   ],
   "source": [
    "img"
   ]
  },
  {
   "cell_type": "markdown",
   "id": "1de67e98-8853-490a-9a41-e24215bea29d",
   "metadata": {},
   "source": [
    "画像の変換はtorchvisionのtransforms"
   ]
  },
  {
   "cell_type": "code",
   "execution_count": 9,
   "id": "437ad192-2d74-44c6-9661-9b97c6fcb466",
   "metadata": {
    "tags": []
   },
   "outputs": [
    {
     "data": {
      "text/plain": [
       "['AutoAugment',\n",
       " 'AutoAugmentPolicy',\n",
       " 'CenterCrop',\n",
       " 'ColorJitter',\n",
       " 'Compose',\n",
       " 'ConvertImageDtype',\n",
       " 'FiveCrop',\n",
       " 'GaussianBlur',\n",
       " 'Grayscale',\n",
       " 'InterpolationMode',\n",
       " 'Lambda',\n",
       " 'LinearTransformation',\n",
       " 'Normalize',\n",
       " 'PILToTensor',\n",
       " 'Pad',\n",
       " 'RandAugment',\n",
       " 'RandomAdjustSharpness',\n",
       " 'RandomAffine',\n",
       " 'RandomApply',\n",
       " 'RandomAutocontrast',\n",
       " 'RandomChoice',\n",
       " 'RandomCrop',\n",
       " 'RandomEqualize',\n",
       " 'RandomErasing',\n",
       " 'RandomGrayscale',\n",
       " 'RandomHorizontalFlip',\n",
       " 'RandomInvert',\n",
       " 'RandomOrder',\n",
       " 'RandomPerspective',\n",
       " 'RandomPosterize',\n",
       " 'RandomResizedCrop',\n",
       " 'RandomRotation',\n",
       " 'RandomSizedCrop',\n",
       " 'RandomSolarize',\n",
       " 'RandomVerticalFlip',\n",
       " 'Resize',\n",
       " 'Scale',\n",
       " 'TenCrop',\n",
       " 'ToPILImage',\n",
       " 'ToTensor',\n",
       " 'TrivialAugmentWide',\n",
       " '__builtins__',\n",
       " '__cached__',\n",
       " '__doc__',\n",
       " '__file__',\n",
       " '__loader__',\n",
       " '__name__',\n",
       " '__package__',\n",
       " '__path__',\n",
       " '__spec__',\n",
       " 'autoaugment',\n",
       " 'functional',\n",
       " 'functional_pil',\n",
       " 'functional_tensor',\n",
       " 'transforms']"
      ]
     },
     "execution_count": 9,
     "metadata": {},
     "output_type": "execute_result"
    }
   ],
   "source": [
    "from torchvision import transforms\n",
    "dir(transforms)"
   ]
  },
  {
   "cell_type": "code",
   "execution_count": 10,
   "id": "f84af2c6-00b9-4a85-829d-4ab08014f95e",
   "metadata": {},
   "outputs": [
    {
     "name": "stdout",
     "output_type": "stream",
     "text": [
      "(32, 32, 3)\n"
     ]
    }
   ],
   "source": [
    "img_arr = np.array(img)\n",
    "print(img_arr.shape)"
   ]
  },
  {
   "cell_type": "code",
   "execution_count": 11,
   "id": "082588b9-7e22-4f71-8a61-5a09017e28f2",
   "metadata": {},
   "outputs": [
    {
     "name": "stdout",
     "output_type": "stream",
     "text": [
      "変換後torch.Size([3, 32, 32])\n"
     ]
    }
   ],
   "source": [
    "#To.tensorではpil画像からテンソルへ変換できる\n",
    "#一度インスタンス化してから引数に画像を入れる\n",
    "\n",
    "\n",
    "from torchvision import transforms\n",
    "\n",
    "to_tensor = transforms.ToTensor()\n",
    "img_t = to_tensor(img)\n",
    "\n",
    "print(f\"変換後{img_t.shape}\")"
   ]
  },
  {
   "cell_type": "code",
   "execution_count": 12,
   "id": "56264b6a-d11b-4bb0-af40-e1bdd6f24ac6",
   "metadata": {},
   "outputs": [],
   "source": [
    "#datasetへの引数にもtransformsで渡せる\n",
    "tensor_cifar10 = tensor_cifar10 = datasets.CIFAR10(data_path,\n",
    "                                                  train=True,\n",
    "                                                  download=False,\n",
    "                                                  transform = transforms.ToTensor())"
   ]
  },
  {
   "cell_type": "code",
   "execution_count": 13,
   "id": "a0e748a6-5906-4ff2-bd04-d39ab9c67961",
   "metadata": {},
   "outputs": [
    {
     "data": {
      "text/plain": [
       "torch.Tensor"
      ]
     },
     "execution_count": 13,
     "metadata": {},
     "output_type": "execute_result"
    }
   ],
   "source": [
    "#pilではなくtensor\n",
    "img_t, _ = tensor_cifar10[99]\n",
    "type(img_t)"
   ]
  },
  {
   "cell_type": "code",
   "execution_count": 14,
   "id": "eacc4143-26ad-4d5f-93cd-0674a98dd4c5",
   "metadata": {},
   "outputs": [
    {
     "data": {
      "text/plain": [
       "(tensor(0.), tensor(1.))"
      ]
     },
     "execution_count": 14,
     "metadata": {},
     "output_type": "execute_result"
    }
   ],
   "source": [
    "#0から１.0へのスケーリングもされる\n",
    "img_t.min(), img_t.max()"
   ]
  },
  {
   "cell_type": "code",
   "execution_count": 15,
   "id": "729caacf-43f3-40d7-bd72-f9692ec69407",
   "metadata": {},
   "outputs": [
    {
     "data": {
      "image/png": "[encoded data removed]",
      "text/plain": [
       "<Figure size 432x288 with 1 Axes>"
      ]
     },
     "metadata": {
      "needs_background": "light"
     },
     "output_type": "display_data"
    }
   ],
   "source": [
    "#img_tが元の画像なのか確認\n",
    "\n",
    "plt.imshow(img_t.permute(1,2,0))\n",
    "plt.show()"
   ]
  },
  {
   "cell_type": "markdown",
   "id": "65534fa4-7dac-4778-b1e0-7755af6d5240",
   "metadata": {},
   "source": [
    "## データの正規化"
   ]
  },
  {
   "cell_type": "code",
   "execution_count": 19,
   "id": "21004c44-f503-481c-bc98-39be14fcc803",
   "metadata": {},
   "outputs": [
    {
     "data": {
      "text/plain": [
       "Dataset CIFAR10\n",
       "    Number of datapoints: 50000\n",
       "    Root location: ../data/p1ch7/\n",
       "    Split: Train\n",
       "    StandardTransform\n",
       "Transform: ToTensor()"
      ]
     },
     "execution_count": 19,
     "metadata": {},
     "output_type": "execute_result"
    }
   ],
   "source": [
    "tensor_cifar10"
   ]
  },
  {
   "cell_type": "markdown",
   "id": "a22ef6d5-41d2-4107-8748-32380d8497a7",
   "metadata": {},
   "source": [
    "transform.Composeを用いて複数の変換を繋げて行うことが可能。\n",
    "正規化やデータ拡張がある\n",
    "平均0、標準偏差1の正規化を行うことは良い習慣である\n",
    "\n",
    "正規化を行う理由は\n",
    "・データを一定の範囲に保ち、その範囲内（0＋ー1）で線形である活性化関数を選択すつことで、ニューロンが非0の可能性を上げる（訓練が速くなる）\n",
    "・各チャネルを正規化することで、同じ学習率の使用ができる\n",
    "\n",
    "平均値と標準偏差をあらかじめ計算しなければいけないがこの計算を、transform.Normalizeが行う\n"
   ]
  },
  {
   "cell_type": "code",
   "execution_count": 25,
   "id": "b51b1b14-6429-4415-8e22-dc76af7936ac",
   "metadata": {},
   "outputs": [
    {
     "data": {
      "text/plain": [
       "(torch.Size([3, 102400]), torch.Size([3]))"
      ]
     },
     "execution_count": 25,
     "metadata": {},
     "output_type": "execute_result"
    }
   ],
   "source": [
    "#viewの確認\n",
    "points=torch.zeros(3,32,32,100)\n",
    "points.shape\n",
    "\n",
    "#全ての画像の平均をチャネルごとに行う\n",
    "points.view(3,-1).shape, points.view(3, -1).mean(dim=1).shape"
   ]
  },
  {
   "cell_type": "code",
   "execution_count": 16,
   "id": "466d0815-1266-478f-981f-f7399e7acb5a",
   "metadata": {},
   "outputs": [],
   "source": [
    "#CIFAR10がデータが小さく、メモリ内で処理する\n",
    "#下記で全ての画像をまとめたテンソルを作り、\n",
    "#imgs = torch.stack([img_t for img_t, _ in tensor_cifar10], dim=3)\n",
    "#imgs.view(3, -1).mean(dim=1)  # <1>\n",
    "#imgs.view(3, -1).std(dim=1)"
   ]
  },
  {
   "cell_type": "code",
   "execution_count": 17,
   "id": "6a23eba6-54b7-4f0e-8e59-d51655763569",
   "metadata": {},
   "outputs": [
    {
     "data": {
      "text/plain": [
       "Normalize(mean=(0.4915, 0.4823, 0.4468), std=(0.247, 0.2435, 0.2616))"
      ]
     },
     "execution_count": 17,
     "metadata": {},
     "output_type": "execute_result"
    }
   ],
   "source": [
    "transforms.Normalize((0.4915, 0.4823, 0.4468), (0.2470, 0.2435, 0.2616))"
   ]
  },
  {
   "cell_type": "code",
   "execution_count": 27,
   "id": "4c60cb73-999f-456a-8e31-03e886e7232a",
   "metadata": {},
   "outputs": [],
   "source": [
    "#ToTensorと合わせてtransformを作r,datasetsに組み込む\n",
    "\n",
    "transformed_cifar10 = datasets.CIFAR10(\n",
    "            data_path, train=True, download=False, \n",
    "            transform = transforms.Compose([\n",
    "                transforms.ToTensor(),\n",
    "                transforms.Normalize((0.4915, 0.4823, 0.4468),\n",
    "                                     (0.1470, 0.2435, 0.2626))\n",
    "            ]))"
   ]
  },
  {
   "cell_type": "code",
   "execution_count": 46,
   "id": "fb63a7fe-53b1-4225-b25e-dc24904130ae",
   "metadata": {},
   "outputs": [
    {
     "data": {
      "text/plain": [
       "torch.Size([3, 32, 32])"
      ]
     },
     "execution_count": 46,
     "metadata": {},
     "output_type": "execute_result"
    }
   ],
   "source": [
    "img_t, _ = transformed_cifar10[99]\n",
    "img_t.shape"
   ]
  },
  {
   "cell_type": "code",
   "execution_count": 50,
   "id": "fbe424d8-4592-4e35-adf7-035837b2049b",
   "metadata": {},
   "outputs": [
    {
     "name": "stderr",
     "output_type": "stream",
     "text": [
      "Clipping input data to the valid range for imshow with RGB data ([0..1] for floats or [0..255] for integers).\n"
     ]
    },
    {
     "data": {
      "image/png": "[encoded data removed]",
      "text/plain": [
       "<Figure size 432x288 with 1 Axes>"
      ]
     },
     "metadata": {
      "needs_background": "light"
     },
     "output_type": "display_data"
    }
   ],
   "source": [
    "#RGBレベルが変化している。データとしては存在しておりmatplotlibが黒く表示している\n",
    "plt.imshow(img_t.permute(1, 2, 0))\n",
    "plt.show()"
   ]
  },
  {
   "cell_type": "markdown",
   "id": "538cc6ca-6e03-4abf-be35-3b319ae37b85",
   "metadata": {
    "tags": []
   },
   "source": [
    "##　画像分類モデル作成"
   ]
  },
  {
   "cell_type": "markdown",
   "id": "434f13f3-4d4e-4efd-ad93-00f0e089ea31",
   "metadata": {},
   "source": [
    "飛行機と鳥の判別モデルを作る\n",
    "ラベル「0」： airplane（飛行機）\n",
    "ラベル「1」： automobile（自動車）\n",
    "ラベル「2」： bird（鳥）\n",
    "ラベル「3」： cat（猫）\n",
    "ラベル「4」： deer（鹿）\n",
    "ラベル「5」： dog（犬）\n",
    "ラベル「6」： frog（カエル）\n",
    "ラベル「7」： horse（馬）\n",
    "ラベル「8」： ship（船）\n",
    "ラベル「9」： truck（トラック）"
   ]
  },
  {
   "cell_type": "code",
   "execution_count": 59,
   "id": "16084e3d-6b95-4124-8320-37d13e8a3bc9",
   "metadata": {},
   "outputs": [],
   "source": [
    "#cifar10の中から飛行機と鳥のみのdatasetsにする\n",
    "\n",
    "label_map = {0:0, 2:1}\n",
    "class_names = ['airplane', 'bird']\n",
    "cifar2 = [(img, label_map[label]) for img, label in cifar10 if label in [0,2]]\n",
    "cifar2_val = [(img, label_map[label]) for img, label in cifar10 if label in [0,2]]"
   ]
  },
  {
   "cell_type": "code",
   "execution_count": 63,
   "id": "c8e99ac1-572d-449f-9060-7feebbfd3bfc",
   "metadata": {},
   "outputs": [
    {
     "data": {
      "text/plain": [
       "(tuple, list)"
      ]
     },
     "execution_count": 63,
     "metadata": {},
     "output_type": "execute_result"
    }
   ],
   "source": [
    "#データセットはdatasetsのサブクラスでなくても、getitemとlenメソッドが定義されていれば利用できる\n",
    "type(cifar2[1]), type(cifar2)"
   ]
  },
  {
   "cell_type": "markdown",
   "id": "84b6ed8e-2d2f-4266-806f-9c21982d4b48",
   "metadata": {},
   "source": [
    "全結合のモデルを試す"
   ]
  },
  {
   "cell_type": "code",
   "execution_count": 77,
   "id": "2a0fe060-371e-4fc4-b196-dc456eacd470",
   "metadata": {},
   "outputs": [
    {
     "data": {
      "text/plain": [
       "torch.Size([1, 3072])"
      ]
     },
     "execution_count": 77,
     "metadata": {},
     "output_type": "execute_result"
    }
   ],
   "source": [
    "img,label = cifar2[1]\n",
    "img_t = to_tensor(img).view(1,-1)\n",
    "img_t.shape"
   ]
  },
  {
   "cell_type": "code",
   "execution_count": 79,
   "id": "674ec563-d9f8-4a90-87ca-c44cfe1beab5",
   "metadata": {},
   "outputs": [],
   "source": [
    "import torch.nn as nn\n",
    "n_out = 2\n",
    "\n",
    "model = nn.Sequential(\n",
    "            nn.Linear(3072, 512),\n",
    "            nn.Linear(512, n_out)\n",
    "        )"
   ]
  },
  {
   "cell_type": "markdown",
   "id": "d25dc85f-1ea9-440d-bc1f-46e205635a66",
   "metadata": {},
   "source": [
    "今回は分類問題である。\n",
    "ネットワーク上では１.0か０.０に対応させる。出力は鳥か飛行機二つのラベルであるため、ワンホットエンコーディングの表現に切り替える\n",
    "\n",
    "CIFAR10の10カテゴリでも同様に可能であり、その時は長さが10のベクトルになる\n",
    "\n",
    "\n",
    "モデルの出力の理想は飛行機はtorch.tensor([1.0、 0.0]),鳥の場合はtorch.tensor([0.0, 1.0])である。\n",
    "\n",
    "実際にはその間の値が出力されることが予想される。\n",
    "この値は0から1なので確率として解釈できる（出力の一番目が飛行機の確率、二番目が鳥の確率）\n",
    "\n",
    "問題は出力の各値が0から1であること、二つの合計が1であること\n",
    "\n",
    "この問題の解決策がsoftmax"
   ]
  },
  {
   "cell_type": "code",
   "execution_count": null,
   "id": "eefb9595-950f-4105-90c2-abfd2942b989",
   "metadata": {},
   "outputs": [],
   "source": []
  },
  {
   "cell_type": "code",
   "execution_count": null,
   "id": "4e1adc65-4e59-420e-9a3b-3d95d2e4df81",
   "metadata": {},
   "outputs": [],
   "source": []
  }
 ],
 "metadata": {
  "kernelspec": {
   "display_name": "Python 3 (ipykernel)",
   "language": "python",
   "name": "python3"
  },
  "language_info": {
   "codemirror_mode": {
    "name": "ipython",
    "version": 3
   },
   "file_extension": ".py",
   "mimetype": "text/x-python",
   "name": "python",
   "nbconvert_exporter": "python",
   "pygments_lexer": "ipython3",
   "version": "3.9.13"
  }
 },
 "nbformat": 4,
 "nbformat_minor": 5
}
