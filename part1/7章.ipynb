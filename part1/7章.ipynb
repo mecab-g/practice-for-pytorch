{
 "cells": [
  {
   "cell_type": "markdown",
   "id": "bab6e332-88ed-4196-8220-b75c263cee34",
   "metadata": {},
   "source": [
    "## 画像分類モデル"
   ]
  },
  {
   "cell_type": "markdown",
   "id": "b78a1250-4b10-4280-bd16-07aacfef483f",
   "metadata": {},
   "source": [
    "・ニューラルネットの構築\n",
    "・Dataset,DataLoaderの読み込み\n",
    "・分類タスクの損失"
   ]
  },
  {
   "cell_type": "code",
   "execution_count": 1,
   "id": "e351dc73-4654-413c-a762-5b4e20d207da",
   "metadata": {},
   "outputs": [],
   "source": [
    "from torchvision import datasets\n",
    "\n",
    "from matplotlib import pyplot as plt\n",
    "import numpy as np\n",
    "import torch"
   ]
  },
  {
   "cell_type": "code",
   "execution_count": 37,
   "id": "522db511-054a-4d4a-a448-9def50f57a63",
   "metadata": {},
   "outputs": [
    {
     "name": "stdout",
     "output_type": "stream",
     "text": [
      "Files already downloaded and verified\n",
      "Files already downloaded and verified\n"
     ]
    }
   ],
   "source": [
    "data_path = \"../data/p1ch7/\"\n",
    "#引数は保存のパス、訓練用かテスト用か、pytorchで保存して良いか\n",
    "#他にもSVHN ,COCO,Ominglotなどがある\n",
    "cifar10 = datasets.CIFAR10(data_path, train=True, download=True)\n",
    "cifar10_val = datasets.CIFAR10(data_path, train=False, download=True)"
   ]
  },
  {
   "cell_type": "code",
   "execution_count": 54,
   "id": "96a53b7f-ad2c-46fd-a1ad-99a6a5ffc9c1",
   "metadata": {},
   "outputs": [
    {
     "data": {
      "text/plain": [
       "(torchvision.datasets.cifar.CIFAR10,\n",
       " torchvision.datasets.vision.VisionDataset,\n",
       " torch.utils.data.dataset.Dataset,\n",
       " typing.Generic,\n",
       " object)"
      ]
     },
     "execution_count": 54,
     "metadata": {},
     "output_type": "execute_result"
    }
   ],
   "source": [
    "#torch.util.data.datasetsのサブクラスとして返される\n",
    "type(cifar10).__mro__"
   ]
  },
  {
   "cell_type": "markdown",
   "id": "1129b162-274b-4dda-9ca5-a13233e3202a",
   "metadata": {},
   "source": [
    "##datasetクラス"
   ]
  },
  {
   "cell_type": "code",
   "execution_count": 38,
   "id": "bfe9174c-4946-4d15-a1e1-3ba40f1c48e2",
   "metadata": {},
   "outputs": [
    {
     "data": {
      "text/plain": [
       "(50000, 10000)"
      ]
     },
     "execution_count": 38,
     "metadata": {},
     "output_type": "execute_result"
    }
   ],
   "source": [
    "len(cifar10), len(cifar10_val)"
   ]
  },
  {
   "cell_type": "markdown",
   "id": "9684ab00-2dd8-459e-99b2-dddacf1965eb",
   "metadata": {},
   "source": [
    "datasetはデータを保持している訳ではなく、__len__,__getitem__を介してデータへのアクセスを提供する"
   ]
  },
  {
   "cell_type": "code",
   "execution_count": 39,
   "id": "cbab5485-cc26-4edf-98e6-4896b4940463",
   "metadata": {},
   "outputs": [],
   "source": [
    "class_names = ['airplane','automobile','bird','cat','deer',\n",
    "               'dog','frog','horse','ship','truck']"
   ]
  },
  {
   "cell_type": "code",
   "execution_count": 40,
   "id": "3e1b9a61-c2a2-4065-baee-843d50d98aab",
   "metadata": {},
   "outputs": [
    {
     "data": {
      "text/plain": [
       "(<PIL.Image.Image image mode=RGB size=32x32>, 1, 'automobile')"
      ]
     },
     "execution_count": 40,
     "metadata": {},
     "output_type": "execute_result"
    }
   ],
   "source": [
    "img, label = cifar10[99]\n",
    "img, label, class_names[label]"
   ]
  },
  {
   "cell_type": "code",
   "execution_count": 35,
   "id": "92063214-a2da-41f2-9b1f-bbabce38ebca",
   "metadata": {},
   "outputs": [
    {
     "data": {
      "text/plain": [
       "<function matplotlib.pyplot.show(close=None, block=None)>"
      ]
     },
     "execution_count": 35,
     "metadata": {},
     "output_type": "execute_result"
    },
    {
     "data": {
      "image/png": "[encoded data removed]",
      "text/plain": [
       "<Figure size 432x288 with 1 Axes>"
      ]
     },
     "metadata": {
      "needs_background": "light"
     },
     "output_type": "display_data"
    }
   ],
   "source": [
    "plt.imshow(img)\n",
    "plt.show"
   ]
  },
  {
   "cell_type": "code",
   "execution_count": 44,
   "id": "7029f8e2-8c09-4cfd-82f5-693f4c09c540",
   "metadata": {},
   "outputs": [
    {
     "data": {
      "image/png": "[encoded data removed]",
      "text/plain": [
       "<PIL.Image.Image image mode=RGB size=32x32>"
      ]
     },
     "execution_count": 44,
     "metadata": {},
     "output_type": "execute_result"
    }
   ],
   "source": [
    "img"
   ]
  },
  {
   "cell_type": "markdown",
   "id": "1de67e98-8853-490a-9a41-e24215bea29d",
   "metadata": {},
   "source": [
    "画像の変換はtorchvisionのtransforms"
   ]
  },
  {
   "cell_type": "code",
   "execution_count": 9,
   "id": "437ad192-2d74-44c6-9661-9b97c6fcb466",
   "metadata": {
    "tags": []
   },
   "outputs": [
    {
     "data": {
      "text/plain": [
       "['AutoAugment',\n",
       " 'AutoAugmentPolicy',\n",
       " 'CenterCrop',\n",
       " 'ColorJitter',\n",
       " 'Compose',\n",
       " 'ConvertImageDtype',\n",
       " 'FiveCrop',\n",
       " 'GaussianBlur',\n",
       " 'Grayscale',\n",
       " 'InterpolationMode',\n",
       " 'Lambda',\n",
       " 'LinearTransformation',\n",
       " 'Normalize',\n",
       " 'PILToTensor',\n",
       " 'Pad',\n",
       " 'RandAugment',\n",
       " 'RandomAdjustSharpness',\n",
       " 'RandomAffine',\n",
       " 'RandomApply',\n",
       " 'RandomAutocontrast',\n",
       " 'RandomChoice',\n",
       " 'RandomCrop',\n",
       " 'RandomEqualize',\n",
       " 'RandomErasing',\n",
       " 'RandomGrayscale',\n",
       " 'RandomHorizontalFlip',\n",
       " 'RandomInvert',\n",
       " 'RandomOrder',\n",
       " 'RandomPerspective',\n",
       " 'RandomPosterize',\n",
       " 'RandomResizedCrop',\n",
       " 'RandomRotation',\n",
       " 'RandomSizedCrop',\n",
       " 'RandomSolarize',\n",
       " 'RandomVerticalFlip',\n",
       " 'Resize',\n",
       " 'Scale',\n",
       " 'TenCrop',\n",
       " 'ToPILImage',\n",
       " 'ToTensor',\n",
       " 'TrivialAugmentWide',\n",
       " '__builtins__',\n",
       " '__cached__',\n",
       " '__doc__',\n",
       " '__file__',\n",
       " '__loader__',\n",
       " '__name__',\n",
       " '__package__',\n",
       " '__path__',\n",
       " '__spec__',\n",
       " 'autoaugment',\n",
       " 'functional',\n",
       " 'functional_pil',\n",
       " 'functional_tensor',\n",
       " 'transforms']"
      ]
     },
     "execution_count": 9,
     "metadata": {},
     "output_type": "execute_result"
    }
   ],
   "source": [
    "from torchvision import transforms\n",
    "dir(transforms)"
   ]
  },
  {
   "cell_type": "code",
   "execution_count": 10,
   "id": "f84af2c6-00b9-4a85-829d-4ab08014f95e",
   "metadata": {},
   "outputs": [
    {
     "name": "stdout",
     "output_type": "stream",
     "text": [
      "(32, 32, 3)\n"
     ]
    }
   ],
   "source": [
    "img_arr = np.array(img)\n",
    "print(img_arr.shape)"
   ]
  },
  {
   "cell_type": "code",
   "execution_count": 11,
   "id": "082588b9-7e22-4f71-8a61-5a09017e28f2",
   "metadata": {},
   "outputs": [
    {
     "name": "stdout",
     "output_type": "stream",
     "text": [
      "変換後torch.Size([3, 32, 32])\n"
     ]
    }
   ],
   "source": [
    "#To.tensorではpil画像からテンソルへ変換できる\n",
    "#一度インスタンス化してから引数に画像を入れる\n",
    "\n",
    "\n",
    "from torchvision import transforms\n",
    "\n",
    "to_tensor = transforms.ToTensor()\n",
    "img_t = to_tensor(img)\n",
    "\n",
    "print(f\"変換後{img_t.shape}\")"
   ]
  },
  {
   "cell_type": "code",
   "execution_count": 12,
   "id": "56264b6a-d11b-4bb0-af40-e1bdd6f24ac6",
   "metadata": {},
   "outputs": [],
   "source": [
    "#datasetへの引数にもtransformsで渡せる\n",
    "tensor_cifar10 = tensor_cifar10 = datasets.CIFAR10(data_path,\n",
    "                                                  train=True,\n",
    "                                                  download=False,\n",
    "                                                  transform = transforms.ToTensor())"
   ]
  },
  {
   "cell_type": "code",
   "execution_count": 13,
   "id": "a0e748a6-5906-4ff2-bd04-d39ab9c67961",
   "metadata": {},
   "outputs": [
    {
     "data": {
      "text/plain": [
       "torch.Tensor"
      ]
     },
     "execution_count": 13,
     "metadata": {},
     "output_type": "execute_result"
    }
   ],
   "source": [
    "#pilではなくtensor\n",
    "img_t, _ = tensor_cifar10[99]\n",
    "type(img_t)"
   ]
  },
  {
   "cell_type": "code",
   "execution_count": 14,
   "id": "eacc4143-26ad-4d5f-93cd-0674a98dd4c5",
   "metadata": {},
   "outputs": [
    {
     "data": {
      "text/plain": [
       "(tensor(0.), tensor(1.))"
      ]
     },
     "execution_count": 14,
     "metadata": {},
     "output_type": "execute_result"
    }
   ],
   "source": [
    "#0から１.0へのスケーリングもされる\n",
    "img_t.min(), img_t.max()"
   ]
  },
  {
   "cell_type": "code",
   "execution_count": 15,
   "id": "729caacf-43f3-40d7-bd72-f9692ec69407",
   "metadata": {},
   "outputs": [
    {
     "data": {
      "image/png": "[encoded data removed]",
      "text/plain": [
       "<Figure size 432x288 with 1 Axes>"
      ]
     },
     "metadata": {
      "needs_background": "light"
     },
     "output_type": "display_data"
    }
   ],
   "source": [
    "#img_tが元の画像なのか確認\n",
    "\n",
    "plt.imshow(img_t.permute(1,2,0))\n",
    "plt.show()"
   ]
  },
  {
   "cell_type": "markdown",
   "id": "65534fa4-7dac-4778-b1e0-7755af6d5240",
   "metadata": {},
   "source": [
    "## データの正規化"
   ]
  },
  {
   "cell_type": "code",
   "execution_count": 19,
   "id": "21004c44-f503-481c-bc98-39be14fcc803",
   "metadata": {},
   "outputs": [
    {
     "data": {
      "text/plain": [
       "Dataset CIFAR10\n",
       "    Number of datapoints: 50000\n",
       "    Root location: ../data/p1ch7/\n",
       "    Split: Train\n",
       "    StandardTransform\n",
       "Transform: ToTensor()"
      ]
     },
     "execution_count": 19,
     "metadata": {},
     "output_type": "execute_result"
    }
   ],
   "source": [
    "tensor_cifar10"
   ]
  },
  {
   "cell_type": "markdown",
   "id": "a22ef6d5-41d2-4107-8748-32380d8497a7",
   "metadata": {},
   "source": [
    "transform.Composeを用いて複数の変換を繋げて行うことが可能。\n",
    "正規化やデータ拡張がある\n",
    "平均0、標準偏差1の正規化を行うことは良い習慣である\n",
    "\n",
    "正規化を行う理由は\n",
    "・データを一定の範囲に保ち、その範囲内（0＋ー1）で線形である活性化関数を選択すつことで、ニューロンが非0の可能性を上げる（訓練が速くなる）\n",
    "・各チャネルを正規化することで、同じ学習率の使用ができる\n",
    "\n",
    "平均値と標準偏差をあらかじめ計算しなければいけないがこの計算を、transform.Normalizeが行う\n"
   ]
  },
  {
   "cell_type": "code",
   "execution_count": 25,
   "id": "b51b1b14-6429-4415-8e22-dc76af7936ac",
   "metadata": {},
   "outputs": [
    {
     "data": {
      "text/plain": [
       "(torch.Size([3, 102400]), torch.Size([3]))"
      ]
     },
     "execution_count": 25,
     "metadata": {},
     "output_type": "execute_result"
    }
   ],
   "source": [
    "#viewの確認\n",
    "points=torch.zeros(3,32,32,100)\n",
    "points.shape\n",
    "\n",
    "#全ての画像の平均をチャネルごとに行う\n",
    "points.view(3,-1).shape, points.view(3, -1).mean(dim=1).shape"
   ]
  },
  {
   "cell_type": "code",
   "execution_count": 16,
   "id": "466d0815-1266-478f-981f-f7399e7acb5a",
   "metadata": {},
   "outputs": [],
   "source": [
    "#CIFAR10がデータが小さく、メモリ内で処理する\n",
    "#下記で全ての画像をまとめたテンソルを作り、\n",
    "#imgs = torch.stack([img_t for img_t, _ in tensor_cifar10], dim=3)\n",
    "#imgs.view(3, -1).mean(dim=1)  # <1>\n",
    "#imgs.view(3, -1).std(dim=1)"
   ]
  },
  {
   "cell_type": "code",
   "execution_count": 17,
   "id": "6a23eba6-54b7-4f0e-8e59-d51655763569",
   "metadata": {},
   "outputs": [
    {
     "data": {
      "text/plain": [
       "Normalize(mean=(0.4915, 0.4823, 0.4468), std=(0.247, 0.2435, 0.2616))"
      ]
     },
     "execution_count": 17,
     "metadata": {},
     "output_type": "execute_result"
    }
   ],
   "source": [
    "transforms.Normalize((0.4915, 0.4823, 0.4468), (0.2470, 0.2435, 0.2616))"
   ]
  },
  {
   "cell_type": "code",
   "execution_count": 27,
   "id": "4c60cb73-999f-456a-8e31-03e886e7232a",
   "metadata": {},
   "outputs": [],
   "source": [
    "#ToTensorと合わせてtransformを作r,datasetsに組み込む\n",
    "\n",
    "transformed_cifar10 = datasets.CIFAR10(\n",
    "            data_path, train=True, download=False, \n",
    "            transform = transforms.Compose([\n",
    "                transforms.ToTensor(),\n",
    "                transforms.Normalize((0.4915, 0.4823, 0.4468),\n",
    "                                     (0.1470, 0.2435, 0.2626))\n",
    "            ]))"
   ]
  },
  {
   "cell_type": "code",
   "execution_count": 46,
   "id": "fb63a7fe-53b1-4225-b25e-dc24904130ae",
   "metadata": {},
   "outputs": [
    {
     "data": {
      "text/plain": [
       "torch.Size([3, 32, 32])"
      ]
     },
     "execution_count": 46,
     "metadata": {},
     "output_type": "execute_result"
    }
   ],
   "source": [
    "img_t, _ = transformed_cifar10[99]\n",
    "img_t.shape"
   ]
  },
  {
   "cell_type": "code",
   "execution_count": 50,
   "id": "fbe424d8-4592-4e35-adf7-035837b2049b",
   "metadata": {},
   "outputs": [
    {
     "name": "stderr",
     "output_type": "stream",
     "text": [
      "Clipping input data to the valid range for imshow with RGB data ([0..1] for floats or [0..255] for integers).\n"
     ]
    },
    {
     "data": {
      "image/png": "[encoded data removed]",
      "text/plain": [
       "<Figure size 432x288 with 1 Axes>"
      ]
     },
     "metadata": {
      "needs_background": "light"
     },
     "output_type": "display_data"
    }
   ],
   "source": [
    "#RGBレベルが変化している。データとしては存在しておりmatplotlibが黒く表示している\n",
    "plt.imshow(img_t.permute(1, 2, 0))\n",
    "plt.show()"
   ]
  },
  {
   "cell_type": "markdown",
   "id": "538cc6ca-6e03-4abf-be35-3b319ae37b85",
   "metadata": {
    "tags": []
   },
   "source": [
    "##　画像分類モデル作成"
   ]
  },
  {
   "cell_type": "markdown",
   "id": "434f13f3-4d4e-4efd-ad93-00f0e089ea31",
   "metadata": {},
   "source": [
    "飛行機と鳥の判別モデルを作る\n",
    "ラベル「0」： airplane（飛行機）\n",
    "ラベル「1」： automobile（自動車）\n",
    "ラベル「2」： bird（鳥）\n",
    "ラベル「3」： cat（猫）\n",
    "ラベル「4」： deer（鹿）\n",
    "ラベル「5」： dog（犬）\n",
    "ラベル「6」： frog（カエル）\n",
    "ラベル「7」： horse（馬）\n",
    "ラベル「8」： ship（船）\n",
    "ラベル「9」： truck（トラック）"
   ]
  },
  {
   "cell_type": "code",
   "execution_count": 2,
   "id": "18b6b979-b843-4cd2-b1ec-9c05f083bf8e",
   "metadata": {},
   "outputs": [],
   "source": [
    "from torchvision import datasets\n",
    "from torchvision import transforms\n",
    "import torch\n",
    "\n",
    "data_path = \"../data/p1ch7/\""
   ]
  },
  {
   "cell_type": "code",
   "execution_count": 3,
   "id": "0f9936a7-4a02-45ba-91fe-ef87a94aadd3",
   "metadata": {},
   "outputs": [],
   "source": [
    "cifar10 = datasets.CIFAR10(\n",
    "            data_path, train=True, download=False, \n",
    "            transform = transforms.Compose([\n",
    "                transforms.ToTensor(),\n",
    "                transforms.Normalize((0.4915, 0.4823, 0.4468),\n",
    "                                     (0.1470, 0.2435, 0.2626))\n",
    "            ]))"
   ]
  },
  {
   "cell_type": "code",
   "execution_count": 4,
   "id": "93ab692a-4eed-4c9d-96f0-23a776d945e2",
   "metadata": {},
   "outputs": [],
   "source": [
    "cifar10_val = datasets.CIFAR10(\n",
    "    data_path, train=False, download=False,\n",
    "    transform=transforms.Compose([\n",
    "        transforms.ToTensor(),\n",
    "        transforms.Normalize((0.4915, 0.4823, 0.4468),\n",
    "                             (0.2470, 0.2435, 0.2616))\n",
    "    ]))"
   ]
  },
  {
   "cell_type": "code",
   "execution_count": 5,
   "id": "a9e66d7b-a09d-4131-9e11-2e77c1606393",
   "metadata": {},
   "outputs": [
    {
     "data": {
      "text/plain": [
       "(50000, 10000)"
      ]
     },
     "execution_count": 5,
     "metadata": {},
     "output_type": "execute_result"
    }
   ],
   "source": [
    "len(cifar10),len(cifar10_val)"
   ]
  },
  {
   "cell_type": "code",
   "execution_count": 6,
   "id": "16084e3d-6b95-4124-8320-37d13e8a3bc9",
   "metadata": {},
   "outputs": [],
   "source": [
    "#cifar10の中から飛行機と鳥のみのdatasetsにする\n",
    "\n",
    "label_map = {0:0, 2:1}\n",
    "class_names = ['airplane', 'bird']\n",
    "cifar2 = [(img, label_map[label]) for img, label in cifar10 if label in [0,2]]\n",
    "cifar2_val = [(img, label_map[label]) for img, label in cifar10_val if label in [0,2]]"
   ]
  },
  {
   "cell_type": "code",
   "execution_count": 7,
   "id": "c8e99ac1-572d-449f-9060-7feebbfd3bfc",
   "metadata": {},
   "outputs": [
    {
     "data": {
      "text/plain": [
       "(tuple, list)"
      ]
     },
     "execution_count": 7,
     "metadata": {},
     "output_type": "execute_result"
    }
   ],
   "source": [
    "#データセットはdatasetsのサブクラスでなくても、getitemとlenメソッドが定義されていれば利用できる\n",
    "type(cifar2[1]), type(cifar2)"
   ]
  },
  {
   "cell_type": "markdown",
   "id": "84b6ed8e-2d2f-4266-806f-9c21982d4b48",
   "metadata": {},
   "source": [
    "## 全結合のモデルを試す"
   ]
  },
  {
   "cell_type": "code",
   "execution_count": 8,
   "id": "2a0fe060-371e-4fc4-b196-dc456eacd470",
   "metadata": {},
   "outputs": [
    {
     "data": {
      "text/plain": [
       "torch.Size([1, 3072])"
      ]
     },
     "execution_count": 8,
     "metadata": {},
     "output_type": "execute_result"
    }
   ],
   "source": [
    "img,label = cifar2[1]\n",
    "img_t = img.view(1,-1)\n",
    "img_t.shape"
   ]
  },
  {
   "cell_type": "code",
   "execution_count": 9,
   "id": "674ec563-d9f8-4a90-87ca-c44cfe1beab5",
   "metadata": {},
   "outputs": [],
   "source": [
    "import torch.nn as nn\n",
    "n_out = 2\n",
    "#非線形を必ず挟む\n",
    "model = nn.Sequential(\n",
    "            nn.Linear(3072, 512),\n",
    "            nn.Tanh(),\n",
    "            nn.Linear(512, n_out)\n",
    "        )"
   ]
  },
  {
   "cell_type": "markdown",
   "id": "d25dc85f-1ea9-440d-bc1f-46e205635a66",
   "metadata": {},
   "source": [
    "今回は分類問題である。\n",
    "ネットワーク上では１.0か０.０に対応させる。出力は鳥か飛行機二つのラベルであるため、ワンホットエンコーディングの表現に切り替える\n",
    "\n",
    "CIFAR10の10カテゴリでも同様に可能であり、その時は長さが10のベクトルになる\n",
    "\n",
    "\n",
    "モデルの出力の理想は飛行機はtorch.tensor([1.0、 0.0]),鳥の場合はtorch.tensor([0.0, 1.0])である。\n",
    "\n",
    "実際にはその間の値が出力されることが予想される。\n",
    "この値は0から1なので確率として解釈できる（出力の一番目が飛行機の確率、二番目が鳥の確率）\n",
    "\n",
    "問題は出力の各値が0から1であること、二つの合計が1であること\n",
    "\n",
    "この問題の解決策がsoftmax"
   ]
  },
  {
   "cell_type": "markdown",
   "id": "783a70ec-15fc-4ac1-a75d-af8e392c7883",
   "metadata": {},
   "source": [
    "## ソフトマックスを試す"
   ]
  },
  {
   "cell_type": "code",
   "execution_count": 10,
   "id": "4e1adc65-4e59-420e-9a3b-3d95d2e4df81",
   "metadata": {},
   "outputs": [],
   "source": [
    "def softmax(x):\n",
    "    return torch.exp(x) / torch.exp(x).sum()"
   ]
  },
  {
   "cell_type": "code",
   "execution_count": 11,
   "id": "2227f462-e0ce-4f92-bd6f-cd6e61b990de",
   "metadata": {},
   "outputs": [
    {
     "data": {
      "text/plain": [
       "tensor([0.0900, 0.2447, 0.6652])"
      ]
     },
     "execution_count": 11,
     "metadata": {},
     "output_type": "execute_result"
    }
   ],
   "source": [
    "x = torch.tensor([1.0, 2.0, 3.0])\n",
    "softmax(x)"
   ]
  },
  {
   "cell_type": "code",
   "execution_count": 12,
   "id": "5936ff3a-7bb0-4264-bea3-2115f36ec885",
   "metadata": {},
   "outputs": [
    {
     "data": {
      "text/plain": [
       "tensor(1.)"
      ]
     },
     "execution_count": 12,
     "metadata": {},
     "output_type": "execute_result"
    }
   ],
   "source": [
    "softmax(x).sum()"
   ]
  },
  {
   "cell_type": "code",
   "execution_count": 13,
   "id": "88a1bab7-c8e7-4ddd-b5fa-e1233132b745",
   "metadata": {},
   "outputs": [],
   "source": [
    "#softmaxは単調関数で入力が低くなれば出力も低くなる\n",
    "#しかし、比率は変化するためスケーリングは異なる"
   ]
  },
  {
   "cell_type": "code",
   "execution_count": 14,
   "id": "7e536ad1-7caf-4fd7-b091-8a71739cc3f1",
   "metadata": {},
   "outputs": [
    {
     "data": {
      "text/plain": [
       "tensor([[0.0900, 0.2447, 0.6652],\n",
       "        [0.0900, 0.2447, 0.6652]])"
      ]
     },
     "execution_count": 14,
     "metadata": {},
     "output_type": "execute_result"
    }
   ],
   "source": [
    "#バッチが存在するため、nnではインスタンス作成時に次元の指定が必要\n",
    "softmax = nn.Softmax(dim=1)\n",
    "\n",
    "x = torch.tensor([[1.0, 2.0, 3.0],\n",
    "                  [1.0, 2.0, 3.0]])\n",
    "softmax(x)\n"
   ]
  },
  {
   "cell_type": "code",
   "execution_count": 15,
   "id": "5e2d587c-8164-4bcd-aedc-df7e8fc02ae5",
   "metadata": {},
   "outputs": [
    {
     "data": {
      "text/plain": [
       "Sequential(\n",
       "  (0): Linear(in_features=3072, out_features=512, bias=True)\n",
       "  (1): Tanh()\n",
       "  (2): Linear(in_features=512, out_features=2, bias=True)\n",
       "  (3): Softmax(dim=1)\n",
       ")"
      ]
     },
     "execution_count": 15,
     "metadata": {},
     "output_type": "execute_result"
    }
   ],
   "source": [
    "n_out = 2\n",
    "\n",
    "model = nn.Sequential(\n",
    "            nn.Linear(3072, 512),\n",
    "            nn.Tanh(),\n",
    "            nn.Linear(512, n_out),\n",
    "            nn.Softmax(dim=1)\n",
    "        )\n",
    "model"
   ]
  },
  {
   "cell_type": "code",
   "execution_count": 16,
   "id": "dd9f3b24-828e-4bb9-933d-b3660551e558",
   "metadata": {},
   "outputs": [
    {
     "name": "stderr",
     "output_type": "stream",
     "text": [
      "Clipping input data to the valid range for imshow with RGB data ([0..1] for floats or [0..255] for integers).\n"
     ]
    },
    {
     "data": {
      "image/png": "[encoded data removed]",
      "text/plain": [
       "<Figure size 432x288 with 1 Axes>"
      ]
     },
     "metadata": {
      "needs_background": "light"
     },
     "output_type": "display_data"
    }
   ],
   "source": [
    "#入力の確認\n",
    "img,_ =cifar2[0]\n",
    "plt.imshow(img.permute(1,2,0))\n",
    "plt.show()"
   ]
  },
  {
   "cell_type": "code",
   "execution_count": 17,
   "id": "dcb84f02-b06f-40b8-b1a6-d67a79b38aa5",
   "metadata": {},
   "outputs": [
    {
     "data": {
      "text/plain": [
       "torch.Size([1, 3072])"
      ]
     },
     "execution_count": 17,
     "metadata": {},
     "output_type": "execute_result"
    }
   ],
   "source": [
    "#画像を一つの次元に直し、バッチ次元を追加\n",
    "img_batch = img.view(-1).unsqueeze(0)\n",
    "img_batch.shape"
   ]
  },
  {
   "cell_type": "code",
   "execution_count": 18,
   "id": "90cc00ad-d2ef-4fc8-a5ab-cae9a667a03d",
   "metadata": {},
   "outputs": [
    {
     "data": {
      "text/plain": [
       "(tensor([[0.5079, 0.4921]], grad_fn=<SoftmaxBackward0>), torch.Size([1, 2]))"
      ]
     },
     "execution_count": 18,
     "metadata": {},
     "output_type": "execute_result"
    }
   ],
   "source": [
    "#出力の確認\n",
    "#重みとバイアスはランダムな値\n",
    "out = model(img_batch)\n",
    "out,out.shape"
   ]
  },
  {
   "cell_type": "code",
   "execution_count": 19,
   "id": "04567bb3-459b-4a1d-85d7-c5a1be210921",
   "metadata": {},
   "outputs": [
    {
     "data": {
      "text/plain": [
       "(tensor([0.5079], grad_fn=<MaxBackward0>), tensor([0]))"
      ]
     },
     "execution_count": 19,
     "metadata": {},
     "output_type": "execute_result"
    }
   ],
   "source": [
    "#バッチではなく、確率ベクトルの次元の最大値を取得したいからdim=1\n",
    "value, index = torch.max(out, dim=1)\n",
    "value, index"
   ]
  },
  {
   "cell_type": "markdown",
   "id": "f983e137-b7f3-4b82-b32d-5db479daa102",
   "metadata": {},
   "source": [
    "## 分類問題の損失関数"
   ]
  },
  {
   "cell_type": "markdown",
   "id": "4382c53f-eea5-4f80-be83-e0cf9f8b0931",
   "metadata": {},
   "source": [
    "最大化するのは正しいクラスである確率out[class_index]である\n",
    "outはsoftmaxの出力、class_indexは鳥か飛行機かの0、1のベクトル\n",
    "\n",
    "この正しいクラスである確率は尤度と呼ばれ、尤度を最大化するため尤度が低い時に損失が大きいような損失関数が必要である\n",
    "尤度が低い時はもう一つのカテゴリが正解である確立が高い\n",
    "（尤度とは二つの確立分布の重ね合わせ）\n",
    "\n",
    "\n",
    "予測確立を1にすることを目標にするのではなく、最もらしい予測ができれば良い\n",
    "\n",
    "そのために対数尤度（NLL)を損失関数として用いる\n",
    "データに低い確立が割り当てられた場合は無限大に、確立が上がると緩やかに減少する\n",
    "NLLは入力に確立を受け取るため、一つのクラスの尤度が上がると、他のクラスの正解率は減少していく"
   ]
  },
  {
   "cell_type": "markdown",
   "id": "18f0b42c-df11-4627-b922-8541f2443f46",
   "metadata": {},
   "source": [
    "入力データの流れ\n",
    "\n",
    "1 モデルの順伝播を実行し、最後の層から出力値を得る\n",
    "\n",
    "2 softmaxを計算し、各確率を求める\n",
    "\n",
    "3 正しいクラスに対応する確率のみを取得\n",
    "\n",
    "4 対数を計算しマイナス記号を付与し損失に加算する"
   ]
  },
  {
   "cell_type": "markdown",
   "id": "4353f983-bc44-4f17-8508-b407a38810f2",
   "metadata": {},
   "source": [
    "nn.NLLLoss関数が利用できる\n",
    "これは対数確立を入力値として受け取る"
   ]
  },
  {
   "cell_type": "markdown",
   "id": "cdc70a7b-e9ad-4882-ac5b-8f956fc93bf5",
   "metadata": {},
   "source": [
    "https://qiita.com/y629/items/1369ab6e56b93d39e043\n",
    "\n",
    "結論を述べると，torch.nn.LogSoftmax に続いて torch.nn.NLLLoss を適用するのと，\n",
    "torch.nn.CrossEntropyLoss を適用するのは同じことです。\n",
    "\n",
    "実際の利用時\n",
    "\n",
    "訓練時に NLLLoss を利用する場合は，モデルの最後の全結合層の後に，LogSoftmax の層を入れておく必要があります．\n",
    "訓練時に CrossEntropyLoss を利用する場合は，そのような追加の層を入れる必要はありません．"
   ]
  },
  {
   "cell_type": "code",
   "execution_count": 20,
   "id": "b933d801-8644-4dc4-b500-380c4c414404",
   "metadata": {},
   "outputs": [],
   "source": [
    "#nnNLLLossへ与えるためにsoftmaxをLogSoftmaxへ変更\n",
    "model = nn.Sequential(\n",
    "        nn.Linear(3072,512),\n",
    "        nn.Tanh(),\n",
    "        nn.Linear(512,2),\n",
    "        nn.LogSoftmax(dim=1))"
   ]
  },
  {
   "cell_type": "code",
   "execution_count": 21,
   "id": "2ef652a0-a29e-4e99-b9e0-01c4452f6279",
   "metadata": {},
   "outputs": [],
   "source": [
    "loss = nn.NLLLoss()"
   ]
  },
  {
   "cell_type": "code",
   "execution_count": 22,
   "id": "67b65cd1-9251-49c1-86df-29d312f63ec4",
   "metadata": {},
   "outputs": [
    {
     "data": {
      "text/plain": [
       "tensor([1])"
      ]
     },
     "execution_count": 22,
     "metadata": {},
     "output_type": "execute_result"
    }
   ],
   "source": [
    "img, label = cifar2[0]\n",
    "torch.tensor([label])"
   ]
  },
  {
   "cell_type": "code",
   "execution_count": 23,
   "id": "a63d59f5-4469-4c8c-83fd-fe83cd4043c2",
   "metadata": {},
   "outputs": [
    {
     "data": {
      "text/plain": [
       "tensor(1.1319, grad_fn=<NllLossBackward0>)"
      ]
     },
     "execution_count": 23,
     "metadata": {},
     "output_type": "execute_result"
    }
   ],
   "source": [
    "img, label = cifar2[0]\n",
    "\n",
    "out = model(img.view(-1).unsqueeze(0))\n",
    "loss(out, torch.tensor([label]))"
   ]
  },
  {
   "cell_type": "markdown",
   "id": "91576abf-4ff2-4d36-9934-b30cae8a1775",
   "metadata": {},
   "source": [
    "分類問題（確立を扱う）でMSEを用いると損失が非常に早く飽和し、勾配が0になってしまう。\n",
    "そのためNLL（負の対数尤度、クロスエントロピー誤差、交差エントロピー誤差）を用いる。"
   ]
  },
  {
   "cell_type": "markdown",
   "id": "2e905dd1-ca3f-4526-a3f2-b3013f32b4e7",
   "metadata": {},
   "source": [
    "## 分類器の学習"
   ]
  },
  {
   "cell_type": "code",
   "execution_count": 24,
   "id": "2d8c040f-524f-472c-a21d-fec9e5da221c",
   "metadata": {},
   "outputs": [
    {
     "name": "stdout",
     "output_type": "stream",
     "text": [
      "Epoch: 0, Loss: 5.544024\n",
      "Epoch: 1, Loss: 7.257884\n",
      "Epoch: 2, Loss: 8.210531\n",
      "Epoch: 3, Loss: 8.310430\n",
      "Epoch: 4, Loss: 7.301338\n",
      "Epoch: 5, Loss: 15.187206\n",
      "Epoch: 6, Loss: 12.531138\n",
      "Epoch: 7, Loss: 8.311193\n",
      "Epoch: 8, Loss: 3.529665\n",
      "Epoch: 9, Loss: 15.479809\n",
      "Epoch: 10, Loss: 15.015351\n",
      "Epoch: 11, Loss: 11.621490\n",
      "Epoch: 12, Loss: 14.394477\n",
      "Epoch: 13, Loss: 7.127346\n",
      "Epoch: 14, Loss: 8.674850\n",
      "Epoch: 15, Loss: 12.703704\n",
      "Epoch: 16, Loss: 8.039080\n",
      "Epoch: 17, Loss: 9.383343\n",
      "Epoch: 18, Loss: 9.888266\n",
      "Epoch: 19, Loss: 10.561154\n"
     ]
    }
   ],
   "source": [
    "import torch\n",
    "import torch.nn as nn\n",
    "import torch.optim as optim\n",
    "\n",
    "\n",
    "model = nn.Sequential(\n",
    "            nn.Linear(3072, 512),\n",
    "            nn.Tanh(),\n",
    "            nn.Linear(512, 2),\n",
    "            nn.LogSoftmax(dim=1))\n",
    "\n",
    "learning_rate = 1e-2\n",
    "\n",
    "optimizer = optim.SGD(model.parameters(), lr=learning_rate)\n",
    "\n",
    "loss_fn = nn.NLLLoss()\n",
    "\n",
    "n_epochs = 20\n",
    "\n",
    "#1エポック内で画像10000枚は大変なので1枚ごとにバックプロパゲーションすることとした\n",
    "for epoch in range(n_epochs):\n",
    "    for img, label in cifar2:\n",
    "        out = model(img.view(-1).unsqueeze(0))\n",
    "        loss = loss_fn(out, torch.tensor([label]))\n",
    "        \n",
    "        optimizer.zero_grad()\n",
    "        loss.backward()\n",
    "        optimizer.step()\n",
    "    \n",
    "    print(\"Epoch: %d, Loss: %f\" %(epoch, float(loss)))"
   ]
  },
  {
   "cell_type": "code",
   "execution_count": null,
   "id": "8912a6a0-db69-432f-a9fb-26468fc7ea5a",
   "metadata": {},
   "outputs": [],
   "source": []
  },
  {
   "cell_type": "code",
   "execution_count": null,
   "id": "c587560e-d519-4699-ad8f-637570ceb36f",
   "metadata": {},
   "outputs": [],
   "source": []
  },
  {
   "cell_type": "code",
   "execution_count": null,
   "id": "56f6299b-4d6f-4336-93f9-7ff9c08f9c73",
   "metadata": {},
   "outputs": [],
   "source": []
  },
  {
   "cell_type": "code",
   "execution_count": null,
   "id": "aee99fdf-6946-433c-a19a-f4eb82beb4b3",
   "metadata": {},
   "outputs": [],
   "source": []
  },
  {
   "cell_type": "code",
   "execution_count": null,
   "id": "64a920a8-97ec-47e1-8b7d-e504666a6d90",
   "metadata": {},
   "outputs": [],
   "source": []
  },
  {
   "cell_type": "code",
   "execution_count": null,
   "id": "bc55d834-54dc-4f5f-83dd-a3e77ce7e4d5",
   "metadata": {},
   "outputs": [],
   "source": []
  },
  {
   "cell_type": "code",
   "execution_count": null,
   "id": "d4a53d58-6319-48ff-b1ba-39bafa970c12",
   "metadata": {},
   "outputs": [],
   "source": []
  }
 ],
 "metadata": {
  "kernelspec": {
   "display_name": "Python 3 (ipykernel)",
   "language": "python",
   "name": "python3"
  },
  "language_info": {
   "codemirror_mode": {
    "name": "ipython",
    "version": 3
   },
   "file_extension": ".py",
   "mimetype": "text/x-python",
   "name": "python",
   "nbconvert_exporter": "python",
   "pygments_lexer": "ipython3",
   "version": "3.9.13"
  }
 },
 "nbformat": 4,
 "nbformat_minor": 5
}
