{
 "cells": [
  {
   "cell_type": "markdown",
   "id": "bab6e332-88ed-4196-8220-b75c263cee34",
   "metadata": {},
   "source": [
    "## 画像分類モデル"
   ]
  },
  {
   "cell_type": "markdown",
   "id": "b78a1250-4b10-4280-bd16-07aacfef483f",
   "metadata": {},
   "source": [
    "・ニューラルネットの構築\n",
    "・Dataset,DataLoaderの読み込み\n",
    "・分類タスクの損失"
   ]
  },
  {
   "cell_type": "code",
   "execution_count": 1,
   "id": "e351dc73-4654-413c-a762-5b4e20d207da",
   "metadata": {},
   "outputs": [],
   "source": [
    "from torchvision import datasets\n",
    "\n",
    "from matplotlib import pyplot as plt\n",
    "import numpy as np\n",
    "import torch"
   ]
  },
  {
   "cell_type": "code",
   "execution_count": 2,
   "id": "522db511-054a-4d4a-a448-9def50f57a63",
   "metadata": {},
   "outputs": [
    {
     "name": "stdout",
     "output_type": "stream",
     "text": [
      "Files already downloaded and verified\n",
      "Files already downloaded and verified\n"
     ]
    }
   ],
   "source": [
    "data_path = \"../data/p1ch7/\"\n",
    "#引数は保存のパス、訓練用かテスト用か、pytorchで保存して良いか\n",
    "#他にもSVHN ,COCO,Ominglotなどがある\n",
    "cifar10 = datasets.CIFAR10(data_path, train=True, download=True)\n",
    "cifar10_val = datasets.CIFAR10(data_path, train=False, download=True)"
   ]
  },
  {
   "cell_type": "code",
   "execution_count": 3,
   "id": "96a53b7f-ad2c-46fd-a1ad-99a6a5ffc9c1",
   "metadata": {},
   "outputs": [
    {
     "data": {
      "text/plain": [
       "(torchvision.datasets.cifar.CIFAR10,\n",
       " torchvision.datasets.vision.VisionDataset,\n",
       " torch.utils.data.dataset.Dataset,\n",
       " typing.Generic,\n",
       " object)"
      ]
     },
     "execution_count": 3,
     "metadata": {},
     "output_type": "execute_result"
    }
   ],
   "source": [
    "#torch.util.data.datasetsのサブクラスとして返される\n",
    "type(cifar10).__mro__"
   ]
  },
  {
   "cell_type": "markdown",
   "id": "1129b162-274b-4dda-9ca5-a13233e3202a",
   "metadata": {},
   "source": [
    "##datasetクラス"
   ]
  },
  {
   "cell_type": "code",
   "execution_count": 4,
   "id": "bfe9174c-4946-4d15-a1e1-3ba40f1c48e2",
   "metadata": {},
   "outputs": [
    {
     "data": {
      "text/plain": [
       "(50000, 10000)"
      ]
     },
     "execution_count": 4,
     "metadata": {},
     "output_type": "execute_result"
    }
   ],
   "source": [
    "len(cifar10), len(cifar10_val)"
   ]
  },
  {
   "cell_type": "markdown",
   "id": "9684ab00-2dd8-459e-99b2-dddacf1965eb",
   "metadata": {},
   "source": [
    "datasetはデータを保持している訳ではなく、__len__,__getitem__を介してデータへのアクセスを提供する"
   ]
  },
  {
   "cell_type": "code",
   "execution_count": 19,
   "id": "cbab5485-cc26-4edf-98e6-4896b4940463",
   "metadata": {},
   "outputs": [],
   "source": [
    "class_names = ['airplane','automobile','bird','cat','deer',\n",
    "               'dog','frog','horse','ship','truck']"
   ]
  },
  {
   "cell_type": "code",
   "execution_count": 20,
   "id": "3e1b9a61-c2a2-4065-baee-843d50d98aab",
   "metadata": {},
   "outputs": [
    {
     "data": {
      "text/plain": [
       "(<PIL.Image.Image image mode=RGB size=32x32 at 0x7F76EDA71BB0>,\n",
       " 1,\n",
       " 'automobile')"
      ]
     },
     "execution_count": 20,
     "metadata": {},
     "output_type": "execute_result"
    }
   ],
   "source": [
    "img, label = cifar10[99]\n",
    "img, label, class_names[label]"
   ]
  },
  {
   "cell_type": "code",
   "execution_count": 21,
   "id": "92063214-a2da-41f2-9b1f-bbabce38ebca",
   "metadata": {},
   "outputs": [
    {
     "data": {
      "text/plain": [
       "<function matplotlib.pyplot.show(close=None, block=None)>"
      ]
     },
     "execution_count": 21,
     "metadata": {},
     "output_type": "execute_result"
    },
    {
     "data": {
      "image/png": "[encoded data removed]",
      "text/plain": [
       "<Figure size 432x288 with 1 Axes>"
      ]
     },
     "metadata": {
      "needs_background": "light"
     },
     "output_type": "display_data"
    }
   ],
   "source": [
    "plt.imshow(img)\n",
    "plt.show"
   ]
  },
  {
   "cell_type": "code",
   "execution_count": 22,
   "id": "7029f8e2-8c09-4cfd-82f5-693f4c09c540",
   "metadata": {},
   "outputs": [
    {
     "data": {
      "image/png": "[encoded data removed]",
      "text/plain": [
       "<PIL.Image.Image image mode=RGB size=32x32 at 0x7F76EDA71BB0>"
      ]
     },
     "execution_count": 22,
     "metadata": {},
     "output_type": "execute_result"
    }
   ],
   "source": [
    "img"
   ]
  },
  {
   "cell_type": "markdown",
   "id": "1de67e98-8853-490a-9a41-e24215bea29d",
   "metadata": {},
   "source": [
    "画像の変換はtorchvisionのtransforms"
   ]
  },
  {
   "cell_type": "code",
   "execution_count": 23,
   "id": "437ad192-2d74-44c6-9661-9b97c6fcb466",
   "metadata": {
    "tags": []
   },
   "outputs": [
    {
     "data": {
      "text/plain": [
       "['AutoAugment',\n",
       " 'AutoAugmentPolicy',\n",
       " 'CenterCrop',\n",
       " 'ColorJitter',\n",
       " 'Compose',\n",
       " 'ConvertImageDtype',\n",
       " 'FiveCrop',\n",
       " 'GaussianBlur',\n",
       " 'Grayscale',\n",
       " 'InterpolationMode',\n",
       " 'Lambda',\n",
       " 'LinearTransformation',\n",
       " 'Normalize',\n",
       " 'PILToTensor',\n",
       " 'Pad',\n",
       " 'RandAugment',\n",
       " 'RandomAdjustSharpness',\n",
       " 'RandomAffine',\n",
       " 'RandomApply',\n",
       " 'RandomAutocontrast',\n",
       " 'RandomChoice',\n",
       " 'RandomCrop',\n",
       " 'RandomEqualize',\n",
       " 'RandomErasing',\n",
       " 'RandomGrayscale',\n",
       " 'RandomHorizontalFlip',\n",
       " 'RandomInvert',\n",
       " 'RandomOrder',\n",
       " 'RandomPerspective',\n",
       " 'RandomPosterize',\n",
       " 'RandomResizedCrop',\n",
       " 'RandomRotation',\n",
       " 'RandomSizedCrop',\n",
       " 'RandomSolarize',\n",
       " 'RandomVerticalFlip',\n",
       " 'Resize',\n",
       " 'Scale',\n",
       " 'TenCrop',\n",
       " 'ToPILImage',\n",
       " 'ToTensor',\n",
       " 'TrivialAugmentWide',\n",
       " '__builtins__',\n",
       " '__cached__',\n",
       " '__doc__',\n",
       " '__file__',\n",
       " '__loader__',\n",
       " '__name__',\n",
       " '__package__',\n",
       " '__path__',\n",
       " '__spec__',\n",
       " 'autoaugment',\n",
       " 'functional',\n",
       " 'functional_pil',\n",
       " 'functional_tensor',\n",
       " 'transforms']"
      ]
     },
     "execution_count": 23,
     "metadata": {},
     "output_type": "execute_result"
    }
   ],
   "source": [
    "from torchvision import transforms\n",
    "dir(transforms)"
   ]
  },
  {
   "cell_type": "code",
   "execution_count": 24,
   "id": "f84af2c6-00b9-4a85-829d-4ab08014f95e",
   "metadata": {},
   "outputs": [
    {
     "name": "stdout",
     "output_type": "stream",
     "text": [
      "(32, 32, 3)\n"
     ]
    }
   ],
   "source": [
    "img_arr = np.array(img)\n",
    "print(img_arr.shape)"
   ]
  },
  {
   "cell_type": "code",
   "execution_count": 25,
   "id": "082588b9-7e22-4f71-8a61-5a09017e28f2",
   "metadata": {},
   "outputs": [
    {
     "name": "stdout",
     "output_type": "stream",
     "text": [
      "変換後torch.Size([3, 32, 32])\n"
     ]
    }
   ],
   "source": [
    "#To.tensorではpil画像からテンソルへ変換できる\n",
    "#一度インスタンス化してから引数に画像を入れる\n",
    "\n",
    "\n",
    "from torchvision import transforms\n",
    "\n",
    "to_tensor = transforms.ToTensor()\n",
    "img_t = to_tensor(img)\n",
    "\n",
    "print(f\"変換後{img_t.shape}\")"
   ]
  },
  {
   "cell_type": "code",
   "execution_count": 26,
   "id": "56264b6a-d11b-4bb0-af40-e1bdd6f24ac6",
   "metadata": {},
   "outputs": [],
   "source": [
    "#datasetへの引数にもtransformsで渡せる\n",
    "tensor_cifar10 = tensor_cifar10 = datasets.CIFAR10(data_path,\n",
    "                                                  train=True,\n",
    "                                                  download=False,\n",
    "                                                  transform = transforms.ToTensor())"
   ]
  },
  {
   "cell_type": "code",
   "execution_count": 27,
   "id": "a0e748a6-5906-4ff2-bd04-d39ab9c67961",
   "metadata": {},
   "outputs": [
    {
     "data": {
      "text/plain": [
       "torch.Tensor"
      ]
     },
     "execution_count": 27,
     "metadata": {},
     "output_type": "execute_result"
    }
   ],
   "source": [
    "#pilではなくtensor\n",
    "img_t, _ = tensor_cifar10[99]\n",
    "type(img_t)"
   ]
  },
  {
   "cell_type": "code",
   "execution_count": 28,
   "id": "eacc4143-26ad-4d5f-93cd-0674a98dd4c5",
   "metadata": {},
   "outputs": [
    {
     "data": {
      "text/plain": [
       "(tensor(0.), tensor(1.))"
      ]
     },
     "execution_count": 28,
     "metadata": {},
     "output_type": "execute_result"
    }
   ],
   "source": [
    "#0から１.0へのスケーリングもされる\n",
    "img_t.min(), img_t.max()"
   ]
  },
  {
   "cell_type": "code",
   "execution_count": 29,
   "id": "729caacf-43f3-40d7-bd72-f9692ec69407",
   "metadata": {},
   "outputs": [
    {
     "data": {
      "image/png": "[encoded data removed]",
      "text/plain": [
       "<Figure size 432x288 with 1 Axes>"
      ]
     },
     "metadata": {
      "needs_background": "light"
     },
     "output_type": "display_data"
    }
   ],
   "source": [
    "#img_tが元の画像なのか確認\n",
    "\n",
    "plt.imshow(img_t.permute(1,2,0))\n",
    "plt.show()"
   ]
  },
  {
   "cell_type": "markdown",
   "id": "65534fa4-7dac-4778-b1e0-7755af6d5240",
   "metadata": {},
   "source": [
    "## データの正規化"
   ]
  },
  {
   "cell_type": "code",
   "execution_count": 30,
   "id": "21004c44-f503-481c-bc98-39be14fcc803",
   "metadata": {},
   "outputs": [
    {
     "data": {
      "text/plain": [
       "Dataset CIFAR10\n",
       "    Number of datapoints: 50000\n",
       "    Root location: ../data/p1ch7/\n",
       "    Split: Train\n",
       "    StandardTransform\n",
       "Transform: ToTensor()"
      ]
     },
     "execution_count": 30,
     "metadata": {},
     "output_type": "execute_result"
    }
   ],
   "source": [
    "tensor_cifar10"
   ]
  },
  {
   "cell_type": "markdown",
   "id": "a22ef6d5-41d2-4107-8748-32380d8497a7",
   "metadata": {},
   "source": [
    "transform.Composeを用いて複数の変換を繋げて行うことが可能。\n",
    "正規化やデータ拡張がある\n",
    "平均0、標準偏差1の正規化を行うことは良い習慣である\n",
    "\n",
    "正規化を行う理由は\n",
    "・データを一定の範囲に保ち、その範囲内（0＋ー1）で線形である活性化関数を選択すつことで、ニューロンが非0の可能性を上げる（訓練が速くなる）\n",
    "・各チャネルを正規化することで、同じ学習率の使用ができる\n",
    "\n",
    "平均値と標準偏差をあらかじめ計算しなければいけないがこの計算を、transform.Normalizeが行う\n"
   ]
  },
  {
   "cell_type": "code",
   "execution_count": 31,
   "id": "b51b1b14-6429-4415-8e22-dc76af7936ac",
   "metadata": {},
   "outputs": [
    {
     "data": {
      "text/plain": [
       "(torch.Size([3, 102400]), torch.Size([3]))"
      ]
     },
     "execution_count": 31,
     "metadata": {},
     "output_type": "execute_result"
    }
   ],
   "source": [
    "#viewの確認\n",
    "points=torch.zeros(3,32,32,100)\n",
    "points.shape\n",
    "\n",
    "#全ての画像の平均をチャネルごとに行う\n",
    "points.view(3,-1).shape, points.view(3, -1).mean(dim=1).shape"
   ]
  },
  {
   "cell_type": "code",
   "execution_count": 32,
   "id": "466d0815-1266-478f-981f-f7399e7acb5a",
   "metadata": {},
   "outputs": [],
   "source": [
    "#CIFAR10がデータが小さく、メモリ内で処理する\n",
    "#下記で全ての画像をまとめたテンソルを作り、\n",
    "#imgs = torch.stack([img_t for img_t, _ in tensor_cifar10], dim=3)\n",
    "#imgs.view(3, -1).mean(dim=1)  # <1>\n",
    "#imgs.view(3, -1).std(dim=1)"
   ]
  },
  {
   "cell_type": "code",
   "execution_count": 33,
   "id": "6a23eba6-54b7-4f0e-8e59-d51655763569",
   "metadata": {},
   "outputs": [
    {
     "data": {
      "text/plain": [
       "Normalize(mean=(0.4915, 0.4823, 0.4468), std=(0.247, 0.2435, 0.2616))"
      ]
     },
     "execution_count": 33,
     "metadata": {},
     "output_type": "execute_result"
    }
   ],
   "source": [
    "transforms.Normalize((0.4915, 0.4823, 0.4468), (0.2470, 0.2435, 0.2616))"
   ]
  },
  {
   "cell_type": "code",
   "execution_count": 34,
   "id": "4c60cb73-999f-456a-8e31-03e886e7232a",
   "metadata": {},
   "outputs": [],
   "source": [
    "#ToTensorと合わせてtransformを作r,datasetsに組み込む\n",
    "\n",
    "transformed_cifar10 = datasets.CIFAR10(\n",
    "            data_path, train=True, download=False, \n",
    "            transform = transforms.Compose([\n",
    "                transforms.ToTensor(),\n",
    "                transforms.Normalize((0.4915, 0.4823, 0.4468),\n",
    "                                     (0.1470, 0.2435, 0.2626))\n",
    "            ]))"
   ]
  },
  {
   "cell_type": "code",
   "execution_count": 35,
   "id": "fb63a7fe-53b1-4225-b25e-dc24904130ae",
   "metadata": {},
   "outputs": [
    {
     "data": {
      "text/plain": [
       "torch.Size([3, 32, 32])"
      ]
     },
     "execution_count": 35,
     "metadata": {},
     "output_type": "execute_result"
    }
   ],
   "source": [
    "img_t, _ = transformed_cifar10[99]\n",
    "img_t.shape"
   ]
  },
  {
   "cell_type": "code",
   "execution_count": 36,
   "id": "fbe424d8-4592-4e35-adf7-035837b2049b",
   "metadata": {},
   "outputs": [
    {
     "name": "stderr",
     "output_type": "stream",
     "text": [
      "Clipping input data to the valid range for imshow with RGB data ([0..1] for floats or [0..255] for integers).\n"
     ]
    },
    {
     "data": {
      "image/png": "[encoded data removed]",
      "text/plain": [
       "<Figure size 432x288 with 1 Axes>"
      ]
     },
     "metadata": {
      "needs_background": "light"
     },
     "output_type": "display_data"
    }
   ],
   "source": [
    "#RGBレベルが変化している。データとしては存在しておりmatplotlibが黒く表示している\n",
    "plt.imshow(img_t.permute(1, 2, 0))\n",
    "plt.show()"
   ]
  },
  {
   "cell_type": "markdown",
   "id": "538cc6ca-6e03-4abf-be35-3b319ae37b85",
   "metadata": {
    "tags": []
   },
   "source": [
    "##　画像分類モデル作成"
   ]
  },
  {
   "cell_type": "markdown",
   "id": "434f13f3-4d4e-4efd-ad93-00f0e089ea31",
   "metadata": {},
   "source": [
    "飛行機と鳥の判別モデルを作る\n",
    "ラベル「0」： airplane（飛行機）\n",
    "ラベル「1」： automobile（自動車）\n",
    "ラベル「2」： bird（鳥）\n",
    "ラベル「3」： cat（猫）\n",
    "ラベル「4」： deer（鹿）\n",
    "ラベル「5」： dog（犬）\n",
    "ラベル「6」： frog（カエル）\n",
    "ラベル「7」： horse（馬）\n",
    "ラベル「8」： ship（船）\n",
    "ラベル「9」： truck（トラック）"
   ]
  },
  {
   "cell_type": "code",
   "execution_count": 11,
   "id": "18b6b979-b843-4cd2-b1ec-9c05f083bf8e",
   "metadata": {},
   "outputs": [],
   "source": [
    "from torchvision import datasets\n",
    "from torchvision import transforms\n",
    "import torch\n",
    "\n",
    "data_path = \"../data/p1ch7/\""
   ]
  },
  {
   "cell_type": "code",
   "execution_count": 12,
   "id": "0f9936a7-4a02-45ba-91fe-ef87a94aadd3",
   "metadata": {},
   "outputs": [],
   "source": [
    "cifar10 = datasets.CIFAR10(\n",
    "            data_path, train=True, download=False, \n",
    "            transform = transforms.Compose([\n",
    "                transforms.ToTensor(),\n",
    "                transforms.Normalize((0.4915, 0.4823, 0.4468),\n",
    "                                     (0.1470, 0.2435, 0.2626))\n",
    "            ]))"
   ]
  },
  {
   "cell_type": "code",
   "execution_count": 13,
   "id": "93ab692a-4eed-4c9d-96f0-23a776d945e2",
   "metadata": {},
   "outputs": [],
   "source": [
    "cifar10_val = datasets.CIFAR10(\n",
    "    data_path, train=False, download=False,\n",
    "    transform=transforms.Compose([\n",
    "        transforms.ToTensor(),\n",
    "        transforms.Normalize((0.4915, 0.4823, 0.4468),\n",
    "                             (0.2470, 0.2435, 0.2616))\n",
    "    ]))"
   ]
  },
  {
   "cell_type": "code",
   "execution_count": 14,
   "id": "a9e66d7b-a09d-4131-9e11-2e77c1606393",
   "metadata": {},
   "outputs": [
    {
     "data": {
      "text/plain": [
       "(50000, 10000)"
      ]
     },
     "execution_count": 14,
     "metadata": {},
     "output_type": "execute_result"
    }
   ],
   "source": [
    "len(cifar10),len(cifar10_val)"
   ]
  },
  {
   "cell_type": "code",
   "execution_count": 15,
   "id": "16084e3d-6b95-4124-8320-37d13e8a3bc9",
   "metadata": {},
   "outputs": [],
   "source": [
    "#cifar10の中から飛行機と鳥のみのdatasetsにする\n",
    "\n",
    "label_map = {0:0, 2:1}\n",
    "class_names = ['airplane', 'bird']\n",
    "cifar2 = [(img, label_map[label]) for img, label in cifar10 if label in [0,2]]\n",
    "cifar2_val = [(img, label_map[label]) for img, label in cifar10_val if label in [0,2]]"
   ]
  },
  {
   "cell_type": "code",
   "execution_count": 16,
   "id": "c8e99ac1-572d-449f-9060-7feebbfd3bfc",
   "metadata": {},
   "outputs": [
    {
     "data": {
      "text/plain": [
       "(tuple, list)"
      ]
     },
     "execution_count": 16,
     "metadata": {},
     "output_type": "execute_result"
    }
   ],
   "source": [
    "#データセットはdatasetsのサブクラスでなくても、getitemとlenメソッドが定義されていれば利用できる\n",
    "type(cifar2[1]), type(cifar2)"
   ]
  },
  {
   "cell_type": "markdown",
   "id": "84b6ed8e-2d2f-4266-806f-9c21982d4b48",
   "metadata": {},
   "source": [
    "## 全結合のモデルを試す"
   ]
  },
  {
   "cell_type": "code",
   "execution_count": 17,
   "id": "2a0fe060-371e-4fc4-b196-dc456eacd470",
   "metadata": {},
   "outputs": [
    {
     "data": {
      "text/plain": [
       "torch.Size([1, 3072])"
      ]
     },
     "execution_count": 17,
     "metadata": {},
     "output_type": "execute_result"
    }
   ],
   "source": [
    "img,label = cifar2[1]\n",
    "img_t = img.view(1,-1)\n",
    "img_t.shape"
   ]
  },
  {
   "cell_type": "code",
   "execution_count": 18,
   "id": "674ec563-d9f8-4a90-87ca-c44cfe1beab5",
   "metadata": {},
   "outputs": [],
   "source": [
    "import torch.nn as nn\n",
    "n_out = 2\n",
    "#非線形を必ず挟む\n",
    "model = nn.Sequential(\n",
    "            nn.Linear(3072, 512),\n",
    "            nn.Tanh(),\n",
    "            nn.Linear(512, n_out)\n",
    "        )"
   ]
  },
  {
   "cell_type": "markdown",
   "id": "d25dc85f-1ea9-440d-bc1f-46e205635a66",
   "metadata": {},
   "source": [
    "今回は分類問題である。\n",
    "ネットワーク上では１.0か０.０に対応させる。出力は鳥か飛行機二つのラベルであるため、ワンホットエンコーディングの表現に切り替える\n",
    "\n",
    "CIFAR10の10カテゴリでも同様に可能であり、その時は長さが10のベクトルになる\n",
    "\n",
    "\n",
    "モデルの出力の理想は飛行機はtorch.tensor([1.0、 0.0]),鳥の場合はtorch.tensor([0.0, 1.0])である。\n",
    "\n",
    "実際にはその間の値が出力されることが予想される。\n",
    "この値は0から1なので確率として解釈できる（出力の一番目が飛行機の確率、二番目が鳥の確率）\n",
    "\n",
    "問題は出力の各値が0から1であること、二つの合計が1であること\n",
    "\n",
    "この問題の解決策がsoftmax"
   ]
  },
  {
   "cell_type": "markdown",
   "id": "783a70ec-15fc-4ac1-a75d-af8e392c7883",
   "metadata": {},
   "source": [
    "## ソフトマックスを試す"
   ]
  },
  {
   "cell_type": "code",
   "execution_count": 5,
   "id": "4e1adc65-4e59-420e-9a3b-3d95d2e4df81",
   "metadata": {},
   "outputs": [],
   "source": [
    "def softmax(x):\n",
    "    return torch.exp(x) / torch.exp(x).sum()"
   ]
  },
  {
   "cell_type": "code",
   "execution_count": 6,
   "id": "2227f462-e0ce-4f92-bd6f-cd6e61b990de",
   "metadata": {},
   "outputs": [
    {
     "data": {
      "text/plain": [
       "tensor([0.0900, 0.2447, 0.6652])"
      ]
     },
     "execution_count": 6,
     "metadata": {},
     "output_type": "execute_result"
    }
   ],
   "source": [
    "x = torch.tensor([1.0, 2.0, 3.0])\n",
    "softmax(x)"
   ]
  },
  {
   "cell_type": "code",
   "execution_count": 7,
   "id": "5936ff3a-7bb0-4264-bea3-2115f36ec885",
   "metadata": {},
   "outputs": [
    {
     "data": {
      "text/plain": [
       "tensor(1.)"
      ]
     },
     "execution_count": 7,
     "metadata": {},
     "output_type": "execute_result"
    }
   ],
   "source": [
    "softmax(x).sum()"
   ]
  },
  {
   "cell_type": "code",
   "execution_count": 8,
   "id": "88a1bab7-c8e7-4ddd-b5fa-e1233132b745",
   "metadata": {},
   "outputs": [],
   "source": [
    "#softmaxは単調関数で入力が低くなれば出力も低くなる\n",
    "#しかし、比率は変化するためスケーリングは異なる"
   ]
  },
  {
   "cell_type": "code",
   "execution_count": 19,
   "id": "7e536ad1-7caf-4fd7-b091-8a71739cc3f1",
   "metadata": {},
   "outputs": [
    {
     "data": {
      "text/plain": [
       "tensor([[0.0900, 0.2447, 0.6652],\n",
       "        [0.0900, 0.2447, 0.6652]])"
      ]
     },
     "execution_count": 19,
     "metadata": {},
     "output_type": "execute_result"
    }
   ],
   "source": [
    "#バッチが存在するため、nnではインスタンス作成時に次元の指定が必要\n",
    "softmax = nn.Softmax(dim=1)\n",
    "\n",
    "x = torch.tensor([[1.0, 2.0, 3.0],\n",
    "                  [1.0, 2.0, 3.0]])\n",
    "softmax(x)\n"
   ]
  },
  {
   "cell_type": "code",
   "execution_count": 20,
   "id": "5e2d587c-8164-4bcd-aedc-df7e8fc02ae5",
   "metadata": {},
   "outputs": [
    {
     "data": {
      "text/plain": [
       "Sequential(\n",
       "  (0): Linear(in_features=3072, out_features=512, bias=True)\n",
       "  (1): Tanh()\n",
       "  (2): Linear(in_features=512, out_features=2, bias=True)\n",
       "  (3): Softmax(dim=1)\n",
       ")"
      ]
     },
     "execution_count": 20,
     "metadata": {},
     "output_type": "execute_result"
    }
   ],
   "source": [
    "n_out = 2\n",
    "\n",
    "model = nn.Sequential(\n",
    "            nn.Linear(3072, 512),\n",
    "            nn.Tanh(),\n",
    "            nn.Linear(512, n_out),\n",
    "            nn.Softmax(dim=1)\n",
    "        )\n",
    "model"
   ]
  },
  {
   "cell_type": "code",
   "execution_count": 21,
   "id": "dd9f3b24-828e-4bb9-933d-b3660551e558",
   "metadata": {},
   "outputs": [
    {
     "name": "stderr",
     "output_type": "stream",
     "text": [
      "Clipping input data to the valid range for imshow with RGB data ([0..1] for floats or [0..255] for integers).\n"
     ]
    },
    {
     "data": {
      "image/png": "[encoded data removed]",
      "text/plain": [
       "<Figure size 432x288 with 1 Axes>"
      ]
     },
     "metadata": {
      "needs_background": "light"
     },
     "output_type": "display_data"
    }
   ],
   "source": [
    "#入力の確認\n",
    "img,_ =cifar2[0]\n",
    "plt.imshow(img.permute(1,2,0))\n",
    "plt.show()"
   ]
  },
  {
   "cell_type": "code",
   "execution_count": 22,
   "id": "dcb84f02-b06f-40b8-b1a6-d67a79b38aa5",
   "metadata": {},
   "outputs": [
    {
     "data": {
      "text/plain": [
       "torch.Size([1, 3072])"
      ]
     },
     "execution_count": 22,
     "metadata": {},
     "output_type": "execute_result"
    }
   ],
   "source": [
    "#画像を一つの次元に直し、バッチ次元を追加\n",
    "img_batch = img.view(-1).unsqueeze(0)\n",
    "img_batch.shape"
   ]
  },
  {
   "cell_type": "code",
   "execution_count": 23,
   "id": "90cc00ad-d2ef-4fc8-a5ab-cae9a667a03d",
   "metadata": {},
   "outputs": [
    {
     "data": {
      "text/plain": [
       "(tensor([[0.4401, 0.5599]], grad_fn=<SoftmaxBackward0>), torch.Size([1, 2]))"
      ]
     },
     "execution_count": 23,
     "metadata": {},
     "output_type": "execute_result"
    }
   ],
   "source": [
    "#出力の確認\n",
    "#重みとバイアスはランダムな値\n",
    "out = model(img_batch)\n",
    "out,out.shape"
   ]
  },
  {
   "cell_type": "code",
   "execution_count": 24,
   "id": "04567bb3-459b-4a1d-85d7-c5a1be210921",
   "metadata": {},
   "outputs": [
    {
     "data": {
      "text/plain": [
       "(tensor([0.5599], grad_fn=<MaxBackward0>), tensor([1]))"
      ]
     },
     "execution_count": 24,
     "metadata": {},
     "output_type": "execute_result"
    }
   ],
   "source": [
    "#バッチではなく、確率ベクトルの次元の最大値を取得したいからdim=1\n",
    "value, index = torch.max(out, dim=1)\n",
    "value, index"
   ]
  },
  {
   "cell_type": "markdown",
   "id": "f983e137-b7f3-4b82-b32d-5db479daa102",
   "metadata": {},
   "source": [
    "## 分類問題の損失関数"
   ]
  },
  {
   "cell_type": "markdown",
   "id": "4382c53f-eea5-4f80-be83-e0cf9f8b0931",
   "metadata": {},
   "source": [
    "最大化するのは正しいクラスである確率out[class_index]である\n",
    "outはsoftmaxの出力、class_indexは鳥か飛行機かの0、1のベクトル\n",
    "\n",
    "この正しいクラスである確率は尤度と呼ばれ、尤度を最大化するため尤度が低い時に損失が大きいような損失関数が必要である\n",
    "尤度が低い時はもう一つのカテゴリが正解である確立が高い\n",
    "（尤度とは二つの確立分布の重ね合わせ）\n",
    "\n",
    "\n",
    "予測確立を1にすることを目標にするのではなく、最もらしい予測ができれば良い\n",
    "\n",
    "そのために対数尤度（NLL)を損失関数として用いる\n",
    "データに低い確立が割り当てられた場合は無限大に、確立が上がると緩やかに減少する\n",
    "NLLは入力に確立を受け取るため、一つのクラスの尤度が上がると、他のクラスの正解率は減少していく"
   ]
  },
  {
   "cell_type": "markdown",
   "id": "18f0b42c-df11-4627-b922-8541f2443f46",
   "metadata": {},
   "source": [
    "入力データの流れ\n",
    "\n",
    "1 モデルの順伝播を実行し、最後の層から出力値を得る\n",
    "\n",
    "2 softmaxを計算し、各確率を求める\n",
    "\n",
    "3 正しいクラスに対応する確率のみを取得\n",
    "\n",
    "4 対数を計算しマイナス記号を付与し損失に加算する"
   ]
  },
  {
   "cell_type": "markdown",
   "id": "4353f983-bc44-4f17-8508-b407a38810f2",
   "metadata": {},
   "source": [
    "nn.NLLLoss関数が利用できる\n",
    "これは対数確立を入力値として受け取る"
   ]
  },
  {
   "cell_type": "markdown",
   "id": "cdc70a7b-e9ad-4882-ac5b-8f956fc93bf5",
   "metadata": {},
   "source": [
    "https://qiita.com/y629/items/1369ab6e56b93d39e043\n",
    "\n",
    "結論を述べると，torch.nn.LogSoftmax に続いて torch.nn.NLLLoss を適用するのと，\n",
    "torch.nn.CrossEntropyLoss を適用するのは同じことです。\n",
    "\n",
    "実際の利用時\n",
    "\n",
    "訓練時に NLLLoss を利用する場合は，モデルの最後の全結合層の後に，LogSoftmax の層を入れておく必要があります．\n",
    "訓練時に CrossEntropyLoss を利用する場合は，そのような追加の層を入れる必要はありません．"
   ]
  },
  {
   "cell_type": "code",
   "execution_count": 12,
   "id": "b933d801-8644-4dc4-b500-380c4c414404",
   "metadata": {},
   "outputs": [],
   "source": [
    "#nnNLLLossへ与えるためにsoftmaxをLogSoftmaxへ変更\n",
    "model = nn.Sequential(\n",
    "        nn.Linear(3072,512),\n",
    "        nn.Tanh(),\n",
    "        nn.Linear(512,2),\n",
    "        nn.LogSoftmax(dim=1))"
   ]
  },
  {
   "cell_type": "code",
   "execution_count": 13,
   "id": "2ef652a0-a29e-4e99-b9e0-01c4452f6279",
   "metadata": {},
   "outputs": [],
   "source": [
    "loss = nn.NLLLoss()"
   ]
  },
  {
   "cell_type": "code",
   "execution_count": 14,
   "id": "67b65cd1-9251-49c1-86df-29d312f63ec4",
   "metadata": {},
   "outputs": [
    {
     "data": {
      "text/plain": [
       "tensor([1])"
      ]
     },
     "execution_count": 14,
     "metadata": {},
     "output_type": "execute_result"
    }
   ],
   "source": [
    "img, label = cifar2[0]\n",
    "torch.tensor([label])"
   ]
  },
  {
   "cell_type": "code",
   "execution_count": 15,
   "id": "a63d59f5-4469-4c8c-83fd-fe83cd4043c2",
   "metadata": {},
   "outputs": [
    {
     "data": {
      "text/plain": [
       "tensor(0.6439, grad_fn=<NllLossBackward0>)"
      ]
     },
     "execution_count": 15,
     "metadata": {},
     "output_type": "execute_result"
    }
   ],
   "source": [
    "img, label = cifar2[0]\n",
    "\n",
    "out = model(img.view(-1).unsqueeze(0))\n",
    "loss(out, torch.tensor([label]))"
   ]
  },
  {
   "cell_type": "markdown",
   "id": "91576abf-4ff2-4d36-9934-b30cae8a1775",
   "metadata": {},
   "source": [
    "分類問題（確立を扱う）でMSEを用いると損失が非常に早く飽和し、勾配が0になってしまう。\n",
    "そのためNLL（負の対数尤度、クロスエントロピー誤差、交差エントロピー誤差）を用いる。"
   ]
  },
  {
   "cell_type": "markdown",
   "id": "2e905dd1-ca3f-4526-a3f2-b3013f32b4e7",
   "metadata": {},
   "source": [
    "## 分類器の学習"
   ]
  },
  {
   "cell_type": "code",
   "execution_count": 10,
   "id": "99dcf1fd-9607-422f-862f-88b6134d22a4",
   "metadata": {},
   "outputs": [
    {
     "ename": "NameError",
     "evalue": "name 'cifar2' is not defined",
     "output_type": "error",
     "traceback": [
      "\u001b[0;31m---------------------------------------------------------------------------\u001b[0m",
      "\u001b[0;31mNameError\u001b[0m                                 Traceback (most recent call last)",
      "Input \u001b[0;32mIn [10]\u001b[0m, in \u001b[0;36m<module>\u001b[0;34m\u001b[0m\n\u001b[1;32m     20\u001b[0m \u001b[38;5;66;03m#1エポック内で画像10000枚は大変なので1枚ごとにバックプロパゲーションすることとした\u001b[39;00m\n\u001b[1;32m     21\u001b[0m \u001b[38;5;28;01mfor\u001b[39;00m epoch \u001b[38;5;129;01min\u001b[39;00m \u001b[38;5;28mrange\u001b[39m(n_epochs):\n\u001b[0;32m---> 22\u001b[0m     \u001b[38;5;28;01mfor\u001b[39;00m img, label \u001b[38;5;129;01min\u001b[39;00m \u001b[43mcifar2\u001b[49m:\n\u001b[1;32m     23\u001b[0m         out \u001b[38;5;241m=\u001b[39m model(img\u001b[38;5;241m.\u001b[39mview(\u001b[38;5;241m-\u001b[39m\u001b[38;5;241m1\u001b[39m)\u001b[38;5;241m.\u001b[39munsqueeze(\u001b[38;5;241m0\u001b[39m))\n\u001b[1;32m     24\u001b[0m         loss \u001b[38;5;241m=\u001b[39m loss_fn(out, torch\u001b[38;5;241m.\u001b[39mtensor([label]))\n",
      "\u001b[0;31mNameError\u001b[0m: name 'cifar2' is not defined"
     ]
    }
   ],
   "source": [
    "import torch\n",
    "import torch.nn as nn\n",
    "import torch.optim as optim\n",
    "\n",
    "\n",
    "model = nn.Sequential(\n",
    "            nn.Linear(3072, 512),\n",
    "            nn.Tanh(),\n",
    "            nn.Linear(512, 2),\n",
    "            nn.LogSoftmax(dim=1))\n",
    "\n",
    "learning_rate = 1e-2\n",
    "\n",
    "optimizer = optim.SGD(model.parameters(), lr=learning_rate)\n",
    "\n",
    "loss_fn = nn.NLLLoss()\n",
    "\n",
    "n_epochs = 20\n",
    "\n",
    "#1エポック内で画像10000枚は大変なので1枚ごとにバックプロパゲーションすることとした\n",
    "for epoch in range(n_epochs):\n",
    "    for img, label in cifar2:\n",
    "        out = model(img.view(-1).unsqueeze(0))\n",
    "        loss = loss_fn(out, torch.tensor([label]))\n",
    "        \n",
    "        optimizer.zero_grad()\n",
    "        loss.backward()\n",
    "        optimizer.step()\n",
    "    \n",
    "    print(\"Epoch: %d, Loss: %f\" %(epoch, float(loss)))"
   ]
  },
  {
   "cell_type": "markdown",
   "id": "20e87c8d-c0fe-449c-96c7-2d5eb7a96a69",
   "metadata": {},
   "source": [
    "## 訓練のパターン"
   ]
  },
  {
   "cell_type": "markdown",
   "id": "c9ab9fe1-a586-4d29-8d73-0097aae9e20f",
   "metadata": {},
   "source": [
    "１データセット全体で更新を平均化\n",
    "\n",
    "毎回ある1サンプルから計算された勾配の値に強く依存してパラメータが更新される。その更新が他のサンプルではよくない方向の可能性もある。\n",
    "\n",
    "\n",
    "２データセット内でエポックごとにシャッフルしていくつかのサンプルで勾配を推定する\n",
    "\n",
    "シャッフルされた小さなバッチでの計算により効果的にランダム性を導入できる\n",
    "\n",
    "このミニバッチサイズはハイパーパラメータのひとつ。上記のコードではサイズ１のミニバッチど同じ。\n",
    "\n",
    "torch.utils.data内にデータのシャッフルとミニバッチ整形のDataLoaderクラスが容易されている\n"
   ]
  },
  {
   "cell_type": "code",
   "execution_count": 25,
   "id": "56f6299b-4d6f-4336-93f9-7ff9c08f9c73",
   "metadata": {},
   "outputs": [],
   "source": [
    "train_loader = torch.utils.data.DataLoader(cifar2, batch_size=64, shuffle=True)"
   ]
  },
  {
   "cell_type": "code",
   "execution_count": 26,
   "id": "0df6195b-7e64-46a5-af25-f88151d80aef",
   "metadata": {},
   "outputs": [],
   "source": [
    "# dataの取り出し\n",
    "tmp = train_loader.__iter__()\n",
    "x1, y1 = tmp.next() "
   ]
  },
  {
   "cell_type": "code",
   "execution_count": 27,
   "id": "56c6bead-0eff-49f5-a06d-f3bfb2b87109",
   "metadata": {},
   "outputs": [
    {
     "data": {
      "text/plain": [
       "(torch.Size([64, 3, 32, 32]), torch.Size([64]))"
      ]
     },
     "execution_count": 27,
     "metadata": {},
     "output_type": "execute_result"
    }
   ],
   "source": [
    "x1.shape, y1.shape"
   ]
  },
  {
   "cell_type": "code",
   "execution_count": 35,
   "id": "aee99fdf-6946-433c-a19a-f4eb82beb4b3",
   "metadata": {},
   "outputs": [
    {
     "name": "stdout",
     "output_type": "stream",
     "text": [
      "Epoch: 0, Loss: 0.401841\n",
      "Epoch: 1, Loss: 0.813831\n",
      "Epoch: 2, Loss: 0.443563\n",
      "Epoch: 3, Loss: 0.404383\n",
      "Epoch: 4, Loss: 0.436817\n",
      "Epoch: 5, Loss: 0.629050\n",
      "Epoch: 6, Loss: 0.123072\n",
      "Epoch: 7, Loss: 0.374222\n",
      "Epoch: 8, Loss: 0.428779\n",
      "Epoch: 9, Loss: 0.468932\n",
      "Epoch: 10, Loss: 0.578602\n",
      "Epoch: 11, Loss: 0.356709\n",
      "Epoch: 12, Loss: 0.585646\n",
      "Epoch: 13, Loss: 0.188793\n",
      "Epoch: 14, Loss: 0.879550\n",
      "Epoch: 15, Loss: 0.177780\n",
      "Epoch: 16, Loss: 0.271355\n",
      "Epoch: 17, Loss: 0.103531\n",
      "Epoch: 18, Loss: 0.147651\n",
      "Epoch: 19, Loss: 0.434940\n"
     ]
    }
   ],
   "source": [
    "import torch\n",
    "import torch.nn as nn\n",
    "import torch.optim as optim\n",
    "\n",
    "model = nn.Sequential(\n",
    "    nn.Linear(3072, 512),\n",
    "    nn.Tanh(),\n",
    "    nn.Linear(512, 2),\n",
    "    nn.LogSoftmax(dim=1))\n",
    "\n",
    "learning_rate = 1e-2\n",
    "\n",
    "optimizer = optim.SGD(model.parameters(), lr=learning_rate)\n",
    "\n",
    "loss_fn = nn.NLLLoss()\n",
    "\n",
    "n_epochs = 20\n",
    "\n",
    "for epoch in range(n_epochs):\n",
    "    for imgs, labels in train_loader:\n",
    "        batch_size = imgs.shape[0]\n",
    "        outputs = model(imgs.view(batch_size, -1))#batchsizeはそのまま他を一列に\n",
    "        loss = loss_fn(outputs, labels)\n",
    "        \n",
    "        optimizer.zero_grad()\n",
    "        loss.backward()\n",
    "        optimizer.step()\n",
    "    \n",
    "    print(\"Epoch: %d, Loss: %f\" %(epoch, float(loss)))"
   ]
  },
  {
   "cell_type": "code",
   "execution_count": 37,
   "id": "64a920a8-97ec-47e1-8b7d-e504666a6d90",
   "metadata": {},
   "outputs": [],
   "source": [
    "val_loader = torch.utils.data.DataLoader(cifar2_val, batch_size=64, shuffle=False)"
   ]
  },
  {
   "cell_type": "code",
   "execution_count": 44,
   "id": "bc55d834-54dc-4f5f-83dd-a3e77ce7e4d5",
   "metadata": {},
   "outputs": [
    {
     "name": "stdout",
     "output_type": "stream",
     "text": [
      "Accuracy: %f 0.773\n"
     ]
    }
   ],
   "source": [
    "#検証データで確認\n",
    "correct = 0\n",
    "total = 0\n",
    "\n",
    "with torch.no_grad():\n",
    "    for imgs, labels in val_loader:\n",
    "        batch_size  =imgs.shape[0]\n",
    "        outputs = model(imgs.view(batch_size, -1))\n",
    "        _, predicted = torch.max(outputs, dim=1)\n",
    "        total += labels.shape[0]#64\n",
    "        correct += int((predicted == labels).sum())#64と64が返ってくるそのうち同じ数がcorrest\n",
    "        \n",
    "print(\"Accuracy: %f\", correct / total)"
   ]
  },
  {
   "cell_type": "markdown",
   "id": "ef86b6a7-3b0e-4ce6-95b6-e8115db1dd07",
   "metadata": {},
   "source": [
    "モデルの層を増やすことで深さと容量を増加できる。\n",
    "さらにnn.LogSoftmax()とnn.NLLLoss()の組み合わせはnn.CrossEntropyLoss()で同等である。\n",
    "入力と出力はそれぞれ異なることに注意"
   ]
  },
  {
   "cell_type": "code",
   "execution_count": null,
   "id": "edf004da-bbbf-480e-88f8-24717ee956e8",
   "metadata": {},
   "outputs": [],
   "source": [
    "import torch\n",
    "import torch.nn as nn\n",
    "\n",
    "model = nn.Sequential(\n",
    "    nn.Linear(3071, 1024),\n",
    "    nn.Tanh(), \n",
    "    nn.Linear(1024, 512),\n",
    "    nn.Tanh(),\n",
    "    nn.Linear(128, 2))\n",
    "\n",
    "loss_fn = nn.CrossEntropyLoss()"
   ]
  },
  {
   "cell_type": "markdown",
   "id": "80c59e05-7f08-4761-83b2-4cad08ca1afe",
   "metadata": {},
   "source": [
    "このモデルでは正解率ははず化に向上し、訓練データではほぼ１となった。\n",
    "この結果は過学習していることを示している。\n",
    "\n",
    "pytorchではnn.Modelのparametersメソッドを使用することで、パラメータの数を知ることが出きる。\n",
    "\n",
    "numelメソッドで各テンソルインスタンスにいくつの要素があるのかわかる\n",
    "このnumelメソッドの値の合計がパラメータの総数になる。"
   ]
  },
  {
   "cell_type": "code",
   "execution_count": null,
   "id": "8974a026-b03a-4331-9fc6-daf8687db59b",
   "metadata": {},
   "outputs": [],
   "source": [
    "numl_list =[p.numel()\n",
    "            for p in connected_model.parameters()\n",
    "            if p.required_grad == True]\n",
    "sum(numel_list), numel_list"
   ]
  },
  {
   "cell_type": "markdown",
   "id": "d97e7d1a-7c35-42b9-a3f0-2455120d5334",
   "metadata": {},
   "source": [
    "## 全結合の限界"
   ]
  },
  {
   "cell_type": "markdown",
   "id": "e6ea052b-139e-414b-b3fc-3e51a54c4980",
   "metadata": {},
   "source": [
    "\n",
    "\n",
    "\n",
    "\n",
    "全結合層の計算のために画像を1次元にした。 これは画像を大きなベクトルとして扱うことで、隣接したピクセルと離れたピクセルの相対的位置関係情報はなくなる。\n",
    "\n",
    "つまり移動不変性がなくなり、画像内で物体の位置が異なれば認識できないことになる。 解消するにはデータセットの拡張が必要になる。\n",
    "\n",
    "そしてモデルのパラメータも拡張したデータ（レプリカ）に関する情報を格納するのに十分な量必要になる\n",
    "\n",
    "演習問題"
   ]
  },
  {
   "cell_type": "markdown",
   "id": "5fdaf1c8-2756-40e4-9977-924d9e767279",
   "metadata": {},
   "source": [
    "\n",
    "## 演習問題"
   ]
  },
  {
   "cell_type": "code",
   "execution_count": 5,
   "id": "2305479d-88f5-47d0-961a-c7803747b201",
   "metadata": {},
   "outputs": [],
   "source": [
    "%matplotlib inline\n",
    "from matplotlib import pyplot as plt\n",
    "import numpy as np\n",
    "import torch\n",
    "\n",
    "from torchvision import datasets\n",
    "from torchvision import transforms"
   ]
  },
  {
   "cell_type": "code",
   "execution_count": 6,
   "id": "55247d8c-0909-49ce-a2e3-e746668c1d26",
   "metadata": {},
   "outputs": [
    {
     "data": {
      "text/plain": [
       "<torch._C.Generator at 0x7f7de9484c10>"
      ]
     },
     "execution_count": 6,
     "metadata": {},
     "output_type": "execute_result"
    }
   ],
   "source": [
    "torch.manual_seed(123)"
   ]
  },
  {
   "cell_type": "code",
   "execution_count": 8,
   "id": "d68d41e7-3672-4d44-9b16-97eae5be6ef2",
   "metadata": {},
   "outputs": [
    {
     "name": "stdout",
     "output_type": "stream",
     "text": [
      "Files already downloaded and verified\n",
      "Files already downloaded and verified\n"
     ]
    }
   ],
   "source": [
    "data_path = \"../data/p1ch7/\"\n",
    "cifar10 = datasets.CIFAR10(data_path, train=True, download=True) # <1>\n",
    "cifar10_val = datasets.CIFAR10(data_path, train=False, download=True) # <2>"
   ]
  },
  {
   "cell_type": "code",
   "execution_count": 11,
   "id": "f8cb27b9-48c4-43b8-acb1-52ff3defe5bc",
   "metadata": {},
   "outputs": [],
   "source": [
    "# 実行するたびに次のセルの実行結果がランダムに変わることが確認できます\n",
    "transformed_cifar10 = datasets.CIFAR10(\n",
    "    data_path, train=True, download=False,\n",
    "    transform=transforms.RandomCrop(32))"
   ]
  },
  {
   "cell_type": "code",
   "execution_count": 12,
   "id": "02a12c61-f5ba-4bf6-93de-cedaba973113",
   "metadata": {},
   "outputs": [
    {
     "data": {
      "image/png": "[encoded data removed]",
      "text/plain": [
       "<Figure size 432x288 with 1 Axes>"
      ]
     },
     "metadata": {
      "needs_background": "light"
     },
     "output_type": "display_data"
    }
   ],
   "source": [
    "img_t, _ = transformed_cifar10[99]\n",
    "\n",
    "plt.imshow(img_t)\n",
    "plt.show()"
   ]
  },
  {
   "cell_type": "code",
   "execution_count": 13,
   "id": "bcfbb6b7-60ca-44db-abb2-5502f3dc1982",
   "metadata": {},
   "outputs": [
    {
     "data": {
      "image/png": "[encoded data removed]",
      "text/plain": [
       "<Figure size 432x288 with 1 Axes>"
      ]
     },
     "metadata": {
      "needs_background": "light"
     },
     "output_type": "display_data"
    }
   ],
   "source": [
    "random_crop = transforms.RandomCrop(16)\n",
    "img_t = random_crop(img_t)\n",
    "plt.imshow(img_t)\n",
    "plt.show()"
   ]
  },
  {
   "cell_type": "code",
   "execution_count": 14,
   "id": "58a60902-48d9-4919-ba36-c0b17d0aed9d",
   "metadata": {},
   "outputs": [],
   "source": [
    "crop_size = 30\n",
    "\n",
    "transform_crop = transforms.Compose([\n",
    "        transforms.RandomCrop(crop_size),\n",
    "        transforms.ToTensor(),\n",
    "        transforms.Normalize((0.4915, 0.4823, 0.4468),\n",
    "                             (0.2470, 0.2435, 0.2616))\n",
    "    ])\n",
    "\n",
    "transform_no_crop = transforms.Compose([       \n",
    "        transforms.ToTensor(),\n",
    "        transforms.Normalize((0.4915, 0.4823, 0.4468),\n",
    "                             (0.2470, 0.2435, 0.2616))\n",
    "    ])\n",
    "\n",
    "\n",
    "cifar10 = datasets.CIFAR10(\n",
    "    data_path, train=True, download=False,\n",
    "    transform=transform_no_crop)\n",
    "\n",
    "cifar10_val = datasets.CIFAR10(\n",
    "    data_path, train=False, download=False,\n",
    "    transform=transform_no_crop)"
   ]
  },
  {
   "cell_type": "code",
   "execution_count": 15,
   "id": "cffbf13b-3e8b-49a4-9696-8fbd44a64f73",
   "metadata": {},
   "outputs": [],
   "source": [
    "label_map = {0: 0, 2: 1}\n",
    "class_names = ['airplane', 'bird']\n",
    "cifar2 = [(img, label_map[label])\n",
    "          for img, label in cifar10 \n",
    "          if label in [0, 2]]\n",
    "cifar2_val = [(img, label_map[label])\n",
    "              for img, label in cifar10_val\n",
    "              if label in [0, 2]]"
   ]
  },
  {
   "cell_type": "code",
   "execution_count": 16,
   "id": "b27e73ea-44db-43bd-bc80-dc699665a5f5",
   "metadata": {},
   "outputs": [],
   "source": [
    "train_loader = torch.utils.data.DataLoader(cifar2, batch_size=64, shuffle=True)"
   ]
  },
  {
   "cell_type": "code",
   "execution_count": 17,
   "id": "ddd3bf5b-1630-46d1-99cc-5002c39ffc70",
   "metadata": {},
   "outputs": [
    {
     "ename": "RuntimeError",
     "evalue": "mat1 and mat2 shapes cannot be multiplied (64x3072 and 2700x1024)",
     "output_type": "error",
     "traceback": [
      "\u001b[0;31m---------------------------------------------------------------------------\u001b[0m",
      "\u001b[0;31mRuntimeError\u001b[0m                              Traceback (most recent call last)",
      "Input \u001b[0;32mIn [17]\u001b[0m, in \u001b[0;36m<module>\u001b[0;34m\u001b[0m\n\u001b[1;32m     24\u001b[0m \u001b[38;5;28;01mfor\u001b[39;00m epoch \u001b[38;5;129;01min\u001b[39;00m \u001b[38;5;28mrange\u001b[39m(n_epochs):\n\u001b[1;32m     25\u001b[0m     \u001b[38;5;28;01mfor\u001b[39;00m imgs, labels \u001b[38;5;129;01min\u001b[39;00m train_loader:\n\u001b[0;32m---> 26\u001b[0m         outputs \u001b[38;5;241m=\u001b[39m \u001b[43mmodel\u001b[49m\u001b[43m(\u001b[49m\u001b[43mimgs\u001b[49m\u001b[38;5;241;43m.\u001b[39;49m\u001b[43mview\u001b[49m\u001b[43m(\u001b[49m\u001b[43mimgs\u001b[49m\u001b[38;5;241;43m.\u001b[39;49m\u001b[43mshape\u001b[49m\u001b[43m[\u001b[49m\u001b[38;5;241;43m0\u001b[39;49m\u001b[43m]\u001b[49m\u001b[43m,\u001b[49m\u001b[43m \u001b[49m\u001b[38;5;241;43m-\u001b[39;49m\u001b[38;5;241;43m1\u001b[39;49m\u001b[43m)\u001b[49m\u001b[43m)\u001b[49m\n\u001b[1;32m     27\u001b[0m         loss \u001b[38;5;241m=\u001b[39m loss_fn(outputs, labels)\n\u001b[1;32m     29\u001b[0m         optimizer\u001b[38;5;241m.\u001b[39mzero_grad()\n",
      "File \u001b[0;32m/usr/local/lib/python3.9/site-packages/torch/nn/modules/module.py:1102\u001b[0m, in \u001b[0;36mModule._call_impl\u001b[0;34m(self, *input, **kwargs)\u001b[0m\n\u001b[1;32m   1098\u001b[0m \u001b[38;5;66;03m# If we don't have any hooks, we want to skip the rest of the logic in\u001b[39;00m\n\u001b[1;32m   1099\u001b[0m \u001b[38;5;66;03m# this function, and just call forward.\u001b[39;00m\n\u001b[1;32m   1100\u001b[0m \u001b[38;5;28;01mif\u001b[39;00m \u001b[38;5;129;01mnot\u001b[39;00m (\u001b[38;5;28mself\u001b[39m\u001b[38;5;241m.\u001b[39m_backward_hooks \u001b[38;5;129;01mor\u001b[39;00m \u001b[38;5;28mself\u001b[39m\u001b[38;5;241m.\u001b[39m_forward_hooks \u001b[38;5;129;01mor\u001b[39;00m \u001b[38;5;28mself\u001b[39m\u001b[38;5;241m.\u001b[39m_forward_pre_hooks \u001b[38;5;129;01mor\u001b[39;00m _global_backward_hooks\n\u001b[1;32m   1101\u001b[0m         \u001b[38;5;129;01mor\u001b[39;00m _global_forward_hooks \u001b[38;5;129;01mor\u001b[39;00m _global_forward_pre_hooks):\n\u001b[0;32m-> 1102\u001b[0m     \u001b[38;5;28;01mreturn\u001b[39;00m \u001b[43mforward_call\u001b[49m\u001b[43m(\u001b[49m\u001b[38;5;241;43m*\u001b[39;49m\u001b[38;5;28;43minput\u001b[39;49m\u001b[43m,\u001b[49m\u001b[43m \u001b[49m\u001b[38;5;241;43m*\u001b[39;49m\u001b[38;5;241;43m*\u001b[39;49m\u001b[43mkwargs\u001b[49m\u001b[43m)\u001b[49m\n\u001b[1;32m   1103\u001b[0m \u001b[38;5;66;03m# Do not call functions when jit is used\u001b[39;00m\n\u001b[1;32m   1104\u001b[0m full_backward_hooks, non_full_backward_hooks \u001b[38;5;241m=\u001b[39m [], []\n",
      "File \u001b[0;32m/usr/local/lib/python3.9/site-packages/torch/nn/modules/container.py:141\u001b[0m, in \u001b[0;36mSequential.forward\u001b[0;34m(self, input)\u001b[0m\n\u001b[1;32m    139\u001b[0m \u001b[38;5;28;01mdef\u001b[39;00m \u001b[38;5;21mforward\u001b[39m(\u001b[38;5;28mself\u001b[39m, \u001b[38;5;28minput\u001b[39m):\n\u001b[1;32m    140\u001b[0m     \u001b[38;5;28;01mfor\u001b[39;00m module \u001b[38;5;129;01min\u001b[39;00m \u001b[38;5;28mself\u001b[39m:\n\u001b[0;32m--> 141\u001b[0m         \u001b[38;5;28minput\u001b[39m \u001b[38;5;241m=\u001b[39m \u001b[43mmodule\u001b[49m\u001b[43m(\u001b[49m\u001b[38;5;28;43minput\u001b[39;49m\u001b[43m)\u001b[49m\n\u001b[1;32m    142\u001b[0m     \u001b[38;5;28;01mreturn\u001b[39;00m \u001b[38;5;28minput\u001b[39m\n",
      "File \u001b[0;32m/usr/local/lib/python3.9/site-packages/torch/nn/modules/module.py:1102\u001b[0m, in \u001b[0;36mModule._call_impl\u001b[0;34m(self, *input, **kwargs)\u001b[0m\n\u001b[1;32m   1098\u001b[0m \u001b[38;5;66;03m# If we don't have any hooks, we want to skip the rest of the logic in\u001b[39;00m\n\u001b[1;32m   1099\u001b[0m \u001b[38;5;66;03m# this function, and just call forward.\u001b[39;00m\n\u001b[1;32m   1100\u001b[0m \u001b[38;5;28;01mif\u001b[39;00m \u001b[38;5;129;01mnot\u001b[39;00m (\u001b[38;5;28mself\u001b[39m\u001b[38;5;241m.\u001b[39m_backward_hooks \u001b[38;5;129;01mor\u001b[39;00m \u001b[38;5;28mself\u001b[39m\u001b[38;5;241m.\u001b[39m_forward_hooks \u001b[38;5;129;01mor\u001b[39;00m \u001b[38;5;28mself\u001b[39m\u001b[38;5;241m.\u001b[39m_forward_pre_hooks \u001b[38;5;129;01mor\u001b[39;00m _global_backward_hooks\n\u001b[1;32m   1101\u001b[0m         \u001b[38;5;129;01mor\u001b[39;00m _global_forward_hooks \u001b[38;5;129;01mor\u001b[39;00m _global_forward_pre_hooks):\n\u001b[0;32m-> 1102\u001b[0m     \u001b[38;5;28;01mreturn\u001b[39;00m \u001b[43mforward_call\u001b[49m\u001b[43m(\u001b[49m\u001b[38;5;241;43m*\u001b[39;49m\u001b[38;5;28;43minput\u001b[39;49m\u001b[43m,\u001b[49m\u001b[43m \u001b[49m\u001b[38;5;241;43m*\u001b[39;49m\u001b[38;5;241;43m*\u001b[39;49m\u001b[43mkwargs\u001b[49m\u001b[43m)\u001b[49m\n\u001b[1;32m   1103\u001b[0m \u001b[38;5;66;03m# Do not call functions when jit is used\u001b[39;00m\n\u001b[1;32m   1104\u001b[0m full_backward_hooks, non_full_backward_hooks \u001b[38;5;241m=\u001b[39m [], []\n",
      "File \u001b[0;32m/usr/local/lib/python3.9/site-packages/torch/nn/modules/linear.py:103\u001b[0m, in \u001b[0;36mLinear.forward\u001b[0;34m(self, input)\u001b[0m\n\u001b[1;32m    102\u001b[0m \u001b[38;5;28;01mdef\u001b[39;00m \u001b[38;5;21mforward\u001b[39m(\u001b[38;5;28mself\u001b[39m, \u001b[38;5;28minput\u001b[39m: Tensor) \u001b[38;5;241m-\u001b[39m\u001b[38;5;241m>\u001b[39m Tensor:\n\u001b[0;32m--> 103\u001b[0m     \u001b[38;5;28;01mreturn\u001b[39;00m \u001b[43mF\u001b[49m\u001b[38;5;241;43m.\u001b[39;49m\u001b[43mlinear\u001b[49m\u001b[43m(\u001b[49m\u001b[38;5;28;43minput\u001b[39;49m\u001b[43m,\u001b[49m\u001b[43m \u001b[49m\u001b[38;5;28;43mself\u001b[39;49m\u001b[38;5;241;43m.\u001b[39;49m\u001b[43mweight\u001b[49m\u001b[43m,\u001b[49m\u001b[43m \u001b[49m\u001b[38;5;28;43mself\u001b[39;49m\u001b[38;5;241;43m.\u001b[39;49m\u001b[43mbias\u001b[49m\u001b[43m)\u001b[49m\n",
      "File \u001b[0;32m/usr/local/lib/python3.9/site-packages/torch/nn/functional.py:1848\u001b[0m, in \u001b[0;36mlinear\u001b[0;34m(input, weight, bias)\u001b[0m\n\u001b[1;32m   1846\u001b[0m \u001b[38;5;28;01mif\u001b[39;00m has_torch_function_variadic(\u001b[38;5;28minput\u001b[39m, weight, bias):\n\u001b[1;32m   1847\u001b[0m     \u001b[38;5;28;01mreturn\u001b[39;00m handle_torch_function(linear, (\u001b[38;5;28minput\u001b[39m, weight, bias), \u001b[38;5;28minput\u001b[39m, weight, bias\u001b[38;5;241m=\u001b[39mbias)\n\u001b[0;32m-> 1848\u001b[0m \u001b[38;5;28;01mreturn\u001b[39;00m \u001b[43mtorch\u001b[49m\u001b[38;5;241;43m.\u001b[39;49m\u001b[43m_C\u001b[49m\u001b[38;5;241;43m.\u001b[39;49m\u001b[43m_nn\u001b[49m\u001b[38;5;241;43m.\u001b[39;49m\u001b[43mlinear\u001b[49m\u001b[43m(\u001b[49m\u001b[38;5;28;43minput\u001b[39;49m\u001b[43m,\u001b[49m\u001b[43m \u001b[49m\u001b[43mweight\u001b[49m\u001b[43m,\u001b[49m\u001b[43m \u001b[49m\u001b[43mbias\u001b[49m\u001b[43m)\u001b[49m\n",
      "\u001b[0;31mRuntimeError\u001b[0m: mat1 and mat2 shapes cannot be multiplied (64x3072 and 2700x1024)"
     ]
    }
   ],
   "source": [
    "import torch.nn as nn\n",
    "import torch.optim as optim\n",
    "\n",
    "input_size = crop_size * crop_size *3\n",
    "#input_size = 3072 # cropなし\n",
    "\n",
    "model = nn.Sequential(\n",
    "            nn.Linear(input_size, 1024),\n",
    "            nn.Tanh(),\n",
    "            nn.Linear(1024, 512),\n",
    "            nn.Tanh(),\n",
    "            nn.Linear(512, 128),\n",
    "            nn.Tanh(),\n",
    "            nn.Linear(128, 2))\n",
    "\n",
    "learning_rate = 1e-3\n",
    "\n",
    "optimizer = optim.SGD(model.parameters(), lr=learning_rate)\n",
    "\n",
    "loss_fn = nn.CrossEntropyLoss()\n",
    "\n",
    "n_epochs = 20\n",
    "\n",
    "for epoch in range(n_epochs):\n",
    "    for imgs, labels in train_loader:\n",
    "        outputs = model(imgs.view(imgs.shape[0], -1))\n",
    "        loss = loss_fn(outputs, labels)\n",
    "\n",
    "        optimizer.zero_grad()\n",
    "        loss.backward()\n",
    "        optimizer.step()\n",
    "\n",
    "    print(\"Epoch: %d, Loss: %f\" % (epoch, float(loss)))"
   ]
  },
  {
   "cell_type": "code",
   "execution_count": null,
   "id": "aaed8ea1-5909-4341-bbfb-2bae3c6b9fdd",
   "metadata": {},
   "outputs": [],
   "source": [
    "correct = 0\n",
    "total = 0\n",
    "\n",
    "with torch.no_grad():\n",
    "    for imgs, labels in train_loader:\n",
    "        outputs = model(imgs.view(imgs.shape[0], -1))\n",
    "        _, predicted = torch.max(outputs, dim=1)\n",
    "        total += labels.shape[0]\n",
    "        correct += int((predicted == labels).sum())\n",
    "        \n",
    "print(\"Accuracy: %f\" % (correct / total))"
   ]
  },
  {
   "cell_type": "code",
   "execution_count": null,
   "id": "95f5f3f7-eb3a-465b-822f-437aea6fe1c8",
   "metadata": {},
   "outputs": [],
   "source": [
    "val_loader = torch.utils.data.DataLoader(cifar2_val, batch_size=64,\n",
    "                                         shuffle=False)\n",
    "\n",
    "correct = 0\n",
    "total = 0\n",
    "\n",
    "with torch.no_grad():\n",
    "    for imgs, labels in val_loader:\n",
    "        outputs = model(imgs.view(imgs.shape[0], -1))\n",
    "        _, predicted = torch.max(outputs, dim=1)\n",
    "        total += labels.shape[0]\n",
    "        correct += int((predicted == labels).sum())\n",
    "        \n",
    "print(\"Accuracy: %f\" % (correct / total))\n"
   ]
  },
  {
   "cell_type": "markdown",
   "id": "08d4a757-f92b-4344-8dc2-e96cba423af1",
   "metadata": {},
   "source": [
    "モデルの層の数を部屋すことでパラメータが減少し、過学習が軽減される"
   ]
  },
  {
   "cell_type": "code",
   "execution_count": null,
   "id": "f87a34a8-a84c-416d-a454-2c375b921eab",
   "metadata": {},
   "outputs": [],
   "source": []
  }
 ],
 "metadata": {
  "kernelspec": {
   "display_name": "Python 3 (ipykernel)",
   "language": "python",
   "name": "python3"
  },
  "language_info": {
   "codemirror_mode": {
    "name": "ipython",
    "version": 3
   },
   "file_extension": ".py",
   "mimetype": "text/x-python",
   "name": "python",
   "nbconvert_exporter": "python",
   "pygments_lexer": "ipython3",
   "version": "3.9.13"
  }
 },
 "nbformat": 4,
 "nbformat_minor": 5
}
