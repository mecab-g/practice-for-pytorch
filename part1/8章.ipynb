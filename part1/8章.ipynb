{
 "cells": [
  {
   "cell_type": "markdown",
   "id": "206a74cb-b50f-43bf-98a1-5e8a68dd6685",
   "metadata": {},
   "source": [
    "## 畳み込み"
   ]
  },
  {
   "cell_type": "markdown",
   "id": "ef141348-455c-4b11-ab99-bc7cc4b58f9c",
   "metadata": {},
   "source": [
    "畳み込みとは\n",
    "\n",
    "あるピクセルと隣接するピクセルとの荷重和を作成する計算である。\n",
    "この計算により、局所的なパターンが画像内の物体位置に関わらず出力に効果的である。"
   ]
  },
  {
   "cell_type": "markdown",
   "id": "0225d1ac-db26-489f-8e3b-1d9a7736acb3",
   "metadata": {},
   "source": [
    "重み行列（カーネル）のスカラー積を出力していく\n",
    "カーネルサイズは一般的に小さなサイズを使用し、二次元画像には３＊３、RBGの画像には３＊３＊３のカーネルが使用される。\n",
    "\n",
    "カーネルの重みはnn.Linearの重みと同様に学習してい値である。そしてこのカーネルの重みは画像全体に渡り利用される。\n",
    "そのためカーネルの重みは画像全体から影響を受けることになる。\n",
    "\n",
    "全結合層を畳み込みに変更することで、下記のメリットがある\n",
    "\n",
    "１．近傍における局所的な演算処理\n",
    "２．移動不変性\n",
    "３．パラメータを大幅に削減したモデル"
   ]
  },
  {
   "cell_type": "markdown",
   "id": "8aa4b128-5758-4d21-b872-e166ee28b033",
   "metadata": {},
   "source": [
    "## 畳み込みの使用"
   ]
  },
  {
   "cell_type": "code",
   "execution_count": 1,
   "id": "89062e4c-15a3-4609-be26-0726003ef865",
   "metadata": {},
   "outputs": [],
   "source": [
    "from torchvision import datasets\n",
    "import torch\n",
    "import torch.nn as nn\n",
    "from torchvision import transforms\n",
    "\n",
    "\n",
    "from matplotlib import pyplot as plt\n",
    "import numpy as np"
   ]
  },
  {
   "cell_type": "markdown",
   "id": "9feb6328-1ff1-4781-9a94-5186e075f26c",
   "metadata": {},
   "source": [
    "出力チャネルのサイズは任意の値が選択できる。\n",
    "このチャネルの数が増えるほどパラメータが増加し、特徴量の検出も増大する。\n",
    "\n",
    "カーネルのサイズはすべての方向に同じことが一般的だが、CTのボクセルのうち一つが異なる解像度であるような場合は、例外的に異なるサイズを使用する。"
   ]
  },
  {
   "cell_type": "code",
   "execution_count": 2,
   "id": "a46ca71f-ec15-43e7-8974-36bc85649f0f",
   "metadata": {},
   "outputs": [
    {
     "data": {
      "text/plain": [
       "Conv2d(3, 16, kernel_size=(3, 3), stride=(1, 1))"
      ]
     },
     "execution_count": 2,
     "metadata": {},
     "output_type": "execute_result"
    }
   ],
   "source": [
    "conv = nn.Conv2d(3, 16, kernel_size=3)\n",
    "conv"
   ]
  },
  {
   "cell_type": "code",
   "execution_count": 3,
   "id": "39f098af-ca60-46eb-af77-c687c78e39ae",
   "metadata": {},
   "outputs": [
    {
     "data": {
      "text/plain": [
       "(torch.Size([16, 3, 3, 3]), torch.Size([16]))"
      ]
     },
     "execution_count": 3,
     "metadata": {},
     "output_type": "execute_result"
    }
   ],
   "source": [
    "conv.weight.shape, conv.bias.shape"
   ]
  },
  {
   "cell_type": "code",
   "execution_count": 4,
   "id": "4b6ce25e-1e99-4090-a718-63e78ed435fa",
   "metadata": {},
   "outputs": [
    {
     "name": "stdout",
     "output_type": "stream",
     "text": [
      "Files already downloaded and verified\n",
      "Files already downloaded and verified\n"
     ]
    }
   ],
   "source": [
    "data_path = \"../data/p1ch7/\"\n",
    "#引数は保存のパス、訓練用かテスト用か、pytorchで保存して良いか\n",
    "#他にもSVHN ,COCO,Ominglotなどがある\n",
    "cifar10 = datasets.CIFAR10(data_path, train=True, download=True)\n",
    "cifar10_val = datasets.CIFAR10(data_path, train=False, download=True)"
   ]
  },
  {
   "cell_type": "code",
   "execution_count": 5,
   "id": "339322ae-9d9a-45bc-825c-3ce6b48648c8",
   "metadata": {},
   "outputs": [],
   "source": [
    "cifar10 = datasets.CIFAR10(\n",
    "            data_path, train=True, download=False, \n",
    "            transform = transforms.Compose([\n",
    "                transforms.ToTensor(),\n",
    "                transforms.Normalize((0.4915, 0.4823, 0.4468),\n",
    "                                     (0.1470, 0.2435, 0.2626))\n",
    "            ]))"
   ]
  },
  {
   "cell_type": "code",
   "execution_count": 6,
   "id": "8bff76a8-5769-4871-8fbe-1f27b4d96fe4",
   "metadata": {},
   "outputs": [],
   "source": [
    "cifar10_val = datasets.CIFAR10(\n",
    "    data_path, train=False, download=False,\n",
    "    transform=transforms.Compose([\n",
    "        transforms.ToTensor(),\n",
    "        transforms.Normalize((0.4915, 0.4823, 0.4468),\n",
    "                             (0.2470, 0.2435, 0.2616))\n",
    "    ]))"
   ]
  },
  {
   "cell_type": "code",
   "execution_count": 7,
   "id": "16084e3d-6b95-4124-8320-37d13e8a3bc9",
   "metadata": {},
   "outputs": [],
   "source": [
    "#cifar10の中から飛行機と鳥のみのdatasetsにする\n",
    "label_map = {0:0, 2:1}\n",
    "class_names = ['airplane', 'bird']\n",
    "cifar2 = [(img, label_map[label]) for img, label in cifar10 if label in [0,2]]\n",
    "cifar2_val = [(img, label_map[label]) for img, label in cifar10_val if label in [0,2]]"
   ]
  },
  {
   "cell_type": "code",
   "execution_count": 8,
   "id": "fdde8ad0-c36d-466d-a01d-9efd43a2df14",
   "metadata": {},
   "outputs": [
    {
     "data": {
      "text/plain": [
       "torch.Size([3, 32, 32])"
      ]
     },
     "execution_count": 8,
     "metadata": {},
     "output_type": "execute_result"
    }
   ],
   "source": [
    "img, _ = cifar2[0]\n",
    "img.shape"
   ]
  },
  {
   "cell_type": "code",
   "execution_count": 9,
   "id": "a9ffc773-c831-4af5-a87c-5c1bfaef735f",
   "metadata": {},
   "outputs": [
    {
     "data": {
      "text/plain": [
       "(torch.Size([1, 3, 32, 32]), torch.Size([1, 16, 30, 30]))"
      ]
     },
     "execution_count": 9,
     "metadata": {},
     "output_type": "execute_result"
    }
   ],
   "source": [
    "output = conv(img.unsqueeze(0))\n",
    "img.unsqueeze((0)).shape, output.shape"
   ]
  },
  {
   "cell_type": "code",
   "execution_count": 10,
   "id": "2eeeb722-93b5-4272-bb31-b8cd35e5734a",
   "metadata": {},
   "outputs": [
    {
     "data": {
      "text/plain": [
       "torch.Size([30, 30])"
      ]
     },
     "execution_count": 10,
     "metadata": {},
     "output_type": "execute_result"
    }
   ],
   "source": [
    "output[0, 0].shape"
   ]
  },
  {
   "cell_type": "code",
   "execution_count": 11,
   "id": "ead3d316-5856-4106-be82-411b76e4df8f",
   "metadata": {
    "colab": {
     "base_uri": "https://localhost:8080/",
     "height": 318
    },
    "id": "_peLHw3CTeVC",
    "outputId": "950db33c-99fd-45d8-b274-6d66225182c6"
   },
   "outputs": [
    {
     "data": {
      "image/png": "[encoded data removed]",
      "text/plain": [
       "<Figure size 720x345.6 with 2 Axes>"
      ]
     },
     "metadata": {
      "needs_background": "light"
     },
     "output_type": "display_data"
    }
   ],
   "source": [
    "plt.figure(figsize=(10, 4.8))  # 本では省略\n",
    "ax1 = plt.subplot(1, 2, 1)   # 本では省略\n",
    "plt.title('output')   # 本では省略\n",
    "plt.imshow(output[0, 0].detach(), cmap='gray')\n",
    "plt.subplot(1, 2, 2, sharex=ax1, sharey=ax1)  # 本では省略\n",
    "plt.imshow(img.mean(0), cmap='gray')  \n",
    "plt.title('input')  # 本では省略\n",
    "#plt.savefig('Ch8_F2_PyTorch.png')  # 本では省略\n",
    "plt.show()\n",
    "\n",
    "#sharex = XXX：x軸の共有設定\n",
    "#sharey = XXX：y軸の共有設定"
   ]
  },
  {
   "cell_type": "markdown",
   "id": "11ba6848-48c3-45d9-b4a8-d988d10befa1",
   "metadata": {},
   "source": [
    "入力に対して出力の画像サイズが小さくなっている。"
   ]
  },
  {
   "cell_type": "markdown",
   "id": "5d517a79-f790-4065-bfd5-6166b812e6e2",
   "metadata": {
    "tags": []
   },
   "source": [
    "## 境界のパディング"
   ]
  },
  {
   "cell_type": "markdown",
   "id": "c8471318-5f88-4142-91bd-ae77a18a7056",
   "metadata": {},
   "source": [
    "畳み込み処理では全ての方向に隣接したピクセルが存在する必要がある。\n",
    "角の位置では上下どちらか、左右どちらかが存在しない。デフォルトではPyTorchではwidth - kernl_width +1 の位置までを取得する。\n",
    "奇数サイズのカーネルではカーネルの幅の半分（今回は3//2=1)だけ各境界が小さくなった画像が出力された。\n",
    "\n",
    "pytorchでは畳み込み時に境界領域にゼロになｋる架空のピクセルを作成して画像をパディングできる。\n",
    "今回の件ではkernel_size=3*3, padeing=1 を指定するともとの画像と同じサイズの出力が得られる。"
   ]
  },
  {
   "cell_type": "code",
   "execution_count": 12,
   "id": "73f3df62-e207-48ea-9bf4-839795171ef9",
   "metadata": {},
   "outputs": [],
   "source": [
    "conv = nn.Conv2d(3, 1, kernel_size=3, padding=1)\n",
    "output = conv(img.unsqueeze(0))"
   ]
  },
  {
   "cell_type": "code",
   "execution_count": 13,
   "id": "7a042ed4-eb43-490d-be69-f61dfb8f906a",
   "metadata": {},
   "outputs": [
    {
     "data": {
      "text/plain": [
       "(torch.Size([1, 3, 32, 32]), torch.Size([1, 1, 32, 32]))"
      ]
     },
     "execution_count": 13,
     "metadata": {},
     "output_type": "execute_result"
    }
   ],
   "source": [
    "img.unsqueeze(0).shape, output.shape"
   ]
  },
  {
   "cell_type": "markdown",
   "id": "2c871475-c0d3-4d9a-9073-1bfcbf6778f6",
   "metadata": {},
   "source": [
    "画像サイズが変化しないことはスキップ接続や複雑な構造のモデルでテンソル同士の加減算が可能になる。"
   ]
  },
  {
   "cell_type": "markdown",
   "id": "810c58b7-9e45-4e97-b6a2-cb41f49438e1",
   "metadata": {},
   "source": [
    "## 畳み込みの学習"
   ]
  },
  {
   "cell_type": "markdown",
   "id": "fa14e9a9-fd4d-4023-b675-9b82419036a4",
   "metadata": {},
   "source": [
    "手動でのパラメータ設定"
   ]
  },
  {
   "cell_type": "code",
   "execution_count": 14,
   "id": "012d6d06-5619-4ff3-b3f2-f53103a1e94c",
   "metadata": {},
   "outputs": [],
   "source": [
    "#バイアスをゼロにする\n",
    "with torch.no_grad():\n",
    "    conv.bias.zero_()\n",
    "    \n",
    "with torch.no_grad():\n",
    "    conv.weight.fill_(1.0 / 9.0)"
   ]
  },
  {
   "cell_type": "code",
   "execution_count": 15,
   "id": "089f9515-03f2-4536-88be-034c4a0f0ced",
   "metadata": {},
   "outputs": [
    {
     "data": {
      "text/plain": [
       "Parameter containing:\n",
       "tensor([[[[0.1111, 0.1111, 0.1111],\n",
       "          [0.1111, 0.1111, 0.1111],\n",
       "          [0.1111, 0.1111, 0.1111]],\n",
       "\n",
       "         [[0.1111, 0.1111, 0.1111],\n",
       "          [0.1111, 0.1111, 0.1111],\n",
       "          [0.1111, 0.1111, 0.1111]],\n",
       "\n",
       "         [[0.1111, 0.1111, 0.1111],\n",
       "          [0.1111, 0.1111, 0.1111],\n",
       "          [0.1111, 0.1111, 0.1111]]]], requires_grad=True)"
      ]
     },
     "execution_count": 15,
     "metadata": {},
     "output_type": "execute_result"
    }
   ],
   "source": [
    "conv.weight"
   ]
  },
  {
   "cell_type": "code",
   "execution_count": 16,
   "id": "c4f0de35-65fe-4bfc-a08c-b2ec9f23db88",
   "metadata": {
    "colab": {
     "base_uri": "https://localhost:8080/",
     "height": 318
    },
    "id": "VUQhUyEoTeVT",
    "outputId": "024b9a6a-2d2e-4863-ea9a-a26b7820192c"
   },
   "outputs": [
    {
     "data": {
      "image/png": "[encoded data removed]",
      "text/plain": [
       "<Figure size 720x345.6 with 2 Axes>"
      ]
     },
     "metadata": {
      "needs_background": "light"
     },
     "output_type": "display_data"
    }
   ],
   "source": [
    "output = conv(img.unsqueeze(0))\n",
    "plt.figure(figsize=(10, 4.8))  # 本では省略\n",
    "ax1 = plt.subplot(1, 2, 1)   # 本では省略\n",
    "plt.title('output_padding')   # 本では省略\n",
    "plt.imshow(output[0, 0].detach(), cmap='gray')\n",
    "plt.subplot(1, 2, 2, sharex=ax1, sharey=ax1)  # 本では省略\n",
    "plt.imshow(img.mean(0), cmap='gray')  # 本では省略\n",
    "plt.title('input')  # 本では省略\n",
    "#plt.savefig('Ch8_F4_PyTorch.png')  # 本では省略\n",
    "plt.show()"
   ]
  },
  {
   "cell_type": "markdown",
   "id": "99fe5b4e-1501-4bd2-a497-b5a173746a67",
   "metadata": {},
   "source": [
    "convの一定の重み（フィルタ）によってボケた画像が出力された。\n",
    "畳み込みは出力ピクセル間に相関が生まれ、スムーズに画像が変化する"
   ]
  },
  {
   "cell_type": "code",
   "execution_count": 17,
   "id": "1cfd4753-f449-496d-b86b-3c17471a111d",
   "metadata": {},
   "outputs": [
    {
     "data": {
      "text/plain": [
       "torch.Size([1, 3, 3, 3])"
      ]
     },
     "execution_count": 17,
     "metadata": {},
     "output_type": "execute_result"
    }
   ],
   "source": [
    "conv.weight.shape"
   ]
  },
  {
   "cell_type": "code",
   "execution_count": 18,
   "id": "09045477-1f06-4b11-9aab-b9430dec94f3",
   "metadata": {},
   "outputs": [],
   "source": [
    "#右側のピクセルから左側のピクセルを減算するフィルタ\n",
    "#強度が異なる領域の垂直方向の境界になっているピクセルに対しては出力の値は大きな値となる。\n",
    "#一方一様な領域であれば0に近い値となる。\n",
    "\n",
    "#つまり垂直方向のエッジ検出のカーネルとなる\n",
    "conv = nn.Conv2d(3, 1, kernel_size=3, padding=1)\n",
    "with torch.no_grad():\n",
    "    conv.weight[:] = torch.tensor([[-1.0, 0.0, 1.0],\n",
    "                                   [-1.0, 0.0, 1.0],\n",
    "                                   [-1.0, 0.0, 1.0]])\n",
    "    conv.bias.zero_()"
   ]
  },
  {
   "cell_type": "code",
   "execution_count": 19,
   "id": "f6deed91-a931-4380-b63d-821af7872626",
   "metadata": {},
   "outputs": [
    {
     "data": {
      "text/plain": [
       "Parameter containing:\n",
       "tensor([[[[-1.,  0.,  1.],\n",
       "          [-1.,  0.,  1.],\n",
       "          [-1.,  0.,  1.]],\n",
       "\n",
       "         [[-1.,  0.,  1.],\n",
       "          [-1.,  0.,  1.],\n",
       "          [-1.,  0.,  1.]],\n",
       "\n",
       "         [[-1.,  0.,  1.],\n",
       "          [-1.,  0.,  1.],\n",
       "          [-1.,  0.,  1.]]]], requires_grad=True)"
      ]
     },
     "execution_count": 19,
     "metadata": {},
     "output_type": "execute_result"
    }
   ],
   "source": [
    "conv.weight"
   ]
  },
  {
   "cell_type": "code",
   "execution_count": 20,
   "id": "1e408be0-467d-47a9-aabe-173022526ebb",
   "metadata": {
    "colab": {
     "base_uri": "https://localhost:8080/",
     "height": 318
    },
    "id": "VUQhUyEoTeVT",
    "outputId": "024b9a6a-2d2e-4863-ea9a-a26b7820192c"
   },
   "outputs": [
    {
     "data": {
      "image/png": "[encoded data removed]",
      "text/plain": [
       "<Figure size 720x345.6 with 2 Axes>"
      ]
     },
     "metadata": {
      "needs_background": "light"
     },
     "output_type": "display_data"
    }
   ],
   "source": [
    "output = conv(img.unsqueeze(0))\n",
    "plt.figure(figsize=(10, 4.8))  # 本では省略\n",
    "ax1 = plt.subplot(1, 2, 1)   # 本では省略\n",
    "plt.title('output_padding')   # 本では省略\n",
    "plt.imshow(output[0, 0].detach(), cmap='gray')\n",
    "plt.subplot(1, 2, 2, sharex=ax1, sharey=ax1)  # 本では省略\n",
    "plt.imshow(img.mean(0), cmap='gray')  # 本では省略\n",
    "plt.title('input')  # 本では省略\n",
    "#plt.savefig('Ch8_F4_PyTorch.png')  # 本では省略\n",
    "plt.show()"
   ]
  },
  {
   "cell_type": "markdown",
   "id": "94b99283-9585-48c4-9b4c-eadee1fb9783",
   "metadata": {},
   "source": [
    "ディープラーニングでは最も効果的なカーネルの値を推定する。\n",
    "学習は入力と出力の間のクロスエントロピー誤差を最小化するカーネルの値を推測していく。\n",
    "\n",
    "畳み込みニューラルネットワークは複数チャネルの画像を別の複数チャネルの画像に変換する連続した層のフィルタ群を推定することである。\n",
    "この異なるチャネルは異なる特徴量に対応する"
   ]
  },
  {
   "cell_type": "markdown",
   "id": "d1fb7802-dd64-4374-9605-f4f4f67cad8d",
   "metadata": {},
   "source": [
    "## 深さとプーリング"
   ]
  },
  {
   "cell_type": "markdown",
   "id": "b6cc64dc-7596-436d-8380-b4ffc1dbc926",
   "metadata": {},
   "source": [
    "CIFAR10の画像は小さく小さなカーネルで局所的な特徴を得た。\n",
    "大きな画像で広い範囲の構造を把握したい場合はどうすれば良いか？\n",
    "\n",
    "大きなカーネルを使用することで解決できるが、今度は元々の畳み込みの利点がなくなる。\n",
    "\n",
    "畳み込みの利点を活かし、かつ大きな範囲の構造も把握するためには畳み込み後に畳み込みを繰り返しその間にダウンサンプリングをする方法がある"
   ]
  },
  {
   "cell_type": "markdown",
   "id": "7f9a966e-83d5-4ca1-b656-f4ba4e110393",
   "metadata": {},
   "source": [
    "## ダウンサンプリング"
   ]
  },
  {
   "cell_type": "markdown",
   "id": "3473a2d4-025b-407a-b5b1-5a1123196539",
   "metadata": {},
   "source": [
    "画像を半分に縮小することは隣接している4つのピクセルを1つのピクセルにする\n",
    "\n",
    "1.アベレージプーリング\n",
    "2.マックスプーリング\n",
    "3.ストライド畳み込み\n"
   ]
  },
  {
   "cell_type": "code",
   "execution_count": 21,
   "id": "9cbe6c33-e776-41dc-a283-dcef574ae5c9",
   "metadata": {},
   "outputs": [
    {
     "data": {
      "text/plain": [
       "torch.Size([3, 32, 32])"
      ]
     },
     "execution_count": 21,
     "metadata": {},
     "output_type": "execute_result"
    }
   ],
   "source": [
    "img.shape"
   ]
  },
  {
   "cell_type": "code",
   "execution_count": 22,
   "id": "85042ab7-95d4-4fa8-ab0d-cfced71abaa7",
   "metadata": {},
   "outputs": [
    {
     "data": {
      "text/plain": [
       "(torch.Size([1, 3, 32, 32]), torch.Size([1, 3, 16, 16]))"
      ]
     },
     "execution_count": 22,
     "metadata": {},
     "output_type": "execute_result"
    }
   ],
   "source": [
    "#max_pooling\n",
    "#画像を半分にしたいときはインスタンス引数に2を入れる\n",
    "\n",
    "pool = nn.MaxPool2d(2)\n",
    "output = pool(img.unsqueeze(0))\n",
    "img.unsqueeze(0).shape , output.shape"
   ]
  },
  {
   "cell_type": "markdown",
   "id": "b0fbcbad-3645-49fa-9b3c-37f30fb95752",
   "metadata": {},
   "source": [
    "はじめに小さなカーネルで畳み込みを行い、局所の特徴を掴み、\n",
    "ダウンサンプリングした縮小後の画像で畳み込みを行う（元の画像で考えると倍の広い領域の特徴を掴む）\n",
    "\n",
    "1つ目のカーネルは低レベルの特徴を、2つ目のカーネルは広い領域で効果的に動作し、前の特徴量を合成した特徴量を生成する。\n",
    "\n",
    "このため複雑なケースでも対応できる"
   ]
  },
  {
   "cell_type": "code",
   "execution_count": 23,
   "id": "e0324e7d-3edb-4a85-a66c-c79b7a6e2df2",
   "metadata": {},
   "outputs": [
    {
     "data": {
      "text/plain": [
       "Sequential(\n",
       "  (0): Conv2d(3, 16, kernel_size=(3, 3), stride=(1, 1), padding=(1, 1))\n",
       "  (1): Tanh()\n",
       "  (2): MaxPool2d(kernel_size=2, stride=2, padding=0, dilation=1, ceil_mode=False)\n",
       "  (3): Conv2d(16, 8, kernel_size=(3, 3), stride=(1, 1), padding=(1, 1))\n",
       "  (4): Tanh()\n",
       "  (5): MaxPool2d(kernel_size=2, stride=2, padding=0, dilation=1, ceil_mode=False)\n",
       ")"
      ]
     },
     "execution_count": 23,
     "metadata": {},
     "output_type": "execute_result"
    }
   ],
   "source": [
    "# ダウンサンプリングを入れたモデル\n",
    "model = nn.Sequential(\n",
    "        nn.Conv2d(3, 16, kernel_size=3, padding=1),\n",
    "        nn.Tanh(),\n",
    "        nn.MaxPool2d(2),\n",
    "        nn.Conv2d(16, 8, kernel_size=3, padding=1),\n",
    "        nn.Tanh(),\n",
    "        nn.MaxPool2d(2),\n",
    ")\n",
    "model"
   ]
  },
  {
   "cell_type": "code",
   "execution_count": 24,
   "id": "eb4ed49c-7a95-49fb-8305-52dddb881eb8",
   "metadata": {},
   "outputs": [
    {
     "data": {
      "text/plain": [
       "torch.Size([1, 8, 8, 8])"
      ]
     },
     "execution_count": 24,
     "metadata": {},
     "output_type": "execute_result"
    }
   ],
   "source": [
    "# 出力は8チャネルの8＊8の画像\n",
    "model(img.unsqueeze(0)).shape"
   ]
  },
  {
   "cell_type": "code",
   "execution_count": 25,
   "id": "1996cdde-3138-4e5c-8491-8c46054cec08",
   "metadata": {},
   "outputs": [
    {
     "data": {
      "text/plain": [
       "Sequential(\n",
       "  (0): Conv2d(3, 16, kernel_size=(3, 3), stride=(1, 1), padding=(1, 1))\n",
       "  (1): Tanh()\n",
       "  (2): MaxPool2d(kernel_size=2, stride=2, padding=0, dilation=1, ceil_mode=False)\n",
       "  (3): Conv2d(16, 8, kernel_size=(3, 3), stride=(1, 1), padding=(1, 1))\n",
       "  (4): Tanh()\n",
       "  (5): MaxPool2d(kernel_size=2, stride=2, padding=0, dilation=1, ceil_mode=False)\n",
       "  (6): Linear(in_features=512, out_features=32, bias=True)\n",
       "  (7): Tanh()\n",
       "  (8): Linear(in_features=32, out_features=2, bias=True)\n",
       ")"
      ]
     },
     "execution_count": 25,
     "metadata": {},
     "output_type": "execute_result"
    }
   ],
   "source": [
    "# 出力はとりか飛行機の2値にする必要がある\n",
    "# 画像を32のベクトルにして、最後2値にする\n",
    "model = nn.Sequential(\n",
    "        nn.Conv2d(3, 16, kernel_size=3, padding=1),\n",
    "        nn.Tanh(),\n",
    "        nn.MaxPool2d(2),\n",
    "        nn.Conv2d(16, 8, kernel_size=3, padding=1),\n",
    "        nn.Tanh(),\n",
    "        nn.MaxPool2d(2),\n",
    "        nn.Linear(8 * 8 * 8, 32),\n",
    "        nn.Tanh(),\n",
    "        nn.Linear(32, 2)\n",
    ")\n",
    "model"
   ]
  },
  {
   "cell_type": "code",
   "execution_count": 26,
   "id": "df6306dc-9014-402e-bd3e-cab453fa9e40",
   "metadata": {},
   "outputs": [
    {
     "data": {
      "text/plain": [
       "(18090, [432, 16, 1152, 8, 16384, 32, 64, 2])"
      ]
     },
     "execution_count": 26,
     "metadata": {},
     "output_type": "execute_result"
    }
   ],
   "source": [
    "# パラメータ確認\n",
    "num_list = [p.numel() for p in model.parameters()]\n",
    "sum(num_list), num_list"
   ]
  },
  {
   "cell_type": "code",
   "execution_count": 28,
   "id": "e1edc5ef-b30c-4a74-8ddd-7ff4fff2097d",
   "metadata": {},
   "outputs": [],
   "source": [
    "#エラーが出る\n",
    "#model(img.unsqueeze(0))"
   ]
  },
  {
   "cell_type": "markdown",
   "id": "4a43077c-fd2e-4a99-aa98-bdbc104d1980",
   "metadata": {},
   "source": [
    "## nn.Moduleを継承してモデルを作成"
   ]
  },
  {
   "cell_type": "markdown",
   "id": "62504e0d-d4b8-4e91-8214-6b32bd0834e3",
   "metadata": {},
   "source": [
    "モデル内で入力が二次元から一次元へと形式が変化するような場合はnn.sequeintal()では作成できない\n",
    "（次元数が変化しないモデルを作成し。最後にLinearする手もある：キカガク参考）\n",
    "\n",
    "nn.Moduleのサブクラス(子クラス）を用いて作成する\n",
    "\n",
    "nn.Moduleを用いる場合はfoward関数を定義して、入力か出力への流れを記載する。\n",
    "backwardはtorchのテンソルでは自動でおこなってくれる。"
   ]
  },
  {
   "cell_type": "code",
   "execution_count": 29,
   "id": "525974cd-7b6c-408e-9af6-e5bfcdb3930d",
   "metadata": {},
   "outputs": [],
   "source": [
    "import torch\n",
    "import torch.nn as nn\n",
    "import torch.nn.functional as F\n",
    "import torch.optim as optim\n",
    "# バッチ数が不明のためviewの引数は-1\n",
    "# CNNの有名なモデルRESNETなどでは解像度を落としながら、チャネルを増やしていく（結果的にはサイズは縮小する）　\n",
    "class Net(nn.Module):\n",
    "    def __init__(self):\n",
    "        super().__init__()\n",
    "        self.conv1 = nn.Conv2d(3, 16, kernel_size=3, padding=1)\n",
    "        self.act1 = nn.Tanh()\n",
    "        self.pool1 = nn.MaxPool2d(2)\n",
    "        self.conv2 = nn.Conv2d(16, 8, kernel_size=3, padding=1)\n",
    "        self.act2 = nn.Tanh()\n",
    "        self.pool2 = nn.MaxPool2d(2)\n",
    "        self.fc1 = nn.Linear(8 * 8 * 8, 32)\n",
    "        self.act3 = nn.Tanh()\n",
    "        self.fc2 = nn.Linear(32, 2)\n",
    "        \n",
    "    def forward(self, x):\n",
    "        out = self.pool1(self.act1(self.conv1(x)))\n",
    "        out = self.pool2(self.act2(self.conv2(out)))\n",
    "        out = out.view(-1, 8 * 8 * 8)\n",
    "        out = self.act3(self.fc1(out))\n",
    "        out = self.fc2(out)\n",
    "        \n",
    "        return out"
   ]
  },
  {
   "cell_type": "code",
   "execution_count": 30,
   "id": "ffa8d1e4-af22-4a1b-9aa5-16deee5cabb0",
   "metadata": {},
   "outputs": [
    {
     "data": {
      "text/plain": [
       "(18090, [432, 16, 1152, 8, 16384, 32, 64, 2])"
      ]
     },
     "execution_count": 30,
     "metadata": {},
     "output_type": "execute_result"
    }
   ],
   "source": [
    "model = Net()\n",
    "\n",
    "numel_list = [p.numel() for p in model.parameters()]\n",
    "sum(numel_list), numel_list"
   ]
  },
  {
   "cell_type": "code",
   "execution_count": 31,
   "id": "abf1170f-a58c-4e6d-8bf8-abcf5bca6091",
   "metadata": {},
   "outputs": [
    {
     "data": {
      "text/plain": [
       "tensor([[ 0.1294, -0.1205]], grad_fn=<AddmmBackward0>)"
      ]
     },
     "execution_count": 31,
     "metadata": {},
     "output_type": "execute_result"
    }
   ],
   "source": [
    "model(img.unsqueeze(0))"
   ]
  },
  {
   "cell_type": "code",
   "execution_count": 32,
   "id": "f78f51a3-6e98-4e1a-b600-4f758749b382",
   "metadata": {},
   "outputs": [
    {
     "data": {
      "text/plain": [
       "Net(\n",
       "  (conv1): Conv2d(3, 16, kernel_size=(3, 3), stride=(1, 1), padding=(1, 1))\n",
       "  (act1): Tanh()\n",
       "  (pool1): MaxPool2d(kernel_size=2, stride=2, padding=0, dilation=1, ceil_mode=False)\n",
       "  (conv2): Conv2d(16, 8, kernel_size=(3, 3), stride=(1, 1), padding=(1, 1))\n",
       "  (act2): Tanh()\n",
       "  (pool2): MaxPool2d(kernel_size=2, stride=2, padding=0, dilation=1, ceil_mode=False)\n",
       "  (fc1): Linear(in_features=512, out_features=32, bias=True)\n",
       "  (act3): Tanh()\n",
       "  (fc2): Linear(in_features=32, out_features=2, bias=True)\n",
       ")"
      ]
     },
     "execution_count": 32,
     "metadata": {},
     "output_type": "execute_result"
    }
   ],
   "source": [
    "model.train()"
   ]
  },
  {
   "cell_type": "markdown",
   "id": "4cb71a11-4830-4476-b328-bd7ae5571f55",
   "metadata": {},
   "source": [
    "## functional API\n",
    "\n",
    "パラメータが不要なサブモジュールも上の例ではインスタンス化して登録している。\n",
    "pytorchでは「内部状態を持たない」といういみのfanctonalAPIが存在し、入力値を引数に入れると出力値が決定するモジュールがある。\n",
    "\n",
    "nn.Linear には　nn.fanctional.linear 　　重みとバイアスと入力値を引数に入れて出力値が決まる。"
   ]
  },
  {
   "cell_type": "code",
   "execution_count": 33,
   "id": "c3118a26-75e2-4190-b897-435de7f93122",
   "metadata": {},
   "outputs": [],
   "source": [
    "import torch.nn.functional as F\n",
    "\n",
    "class Net(nn.Module):\n",
    "    def __init__(self):\n",
    "        super().__init__()\n",
    "        self.conv1 = nn.Conv2d(3, 16, kernel_size=3, padding=1)\n",
    "        self.conv2 = nn.Conv2d(16, 8, kernel_size=3, padding=1)\n",
    "        self.fc1 = nn.Linear(8 * 8 * 8, 32)\n",
    "        self.fc2 = nn.Linear(32, 2)\n",
    "        \n",
    "    def forward(self, x):\n",
    "        out = F.max_pool2d(torch.tanh(self.conv1(x)), 2)\n",
    "        out = F.max_pool2d(torch.tanh(self.conv2(out)), 2)\n",
    "        out = out.view(-1, 8 * 8 * 8)\n",
    "        out = torch.tanh(self.fc1(out))\n",
    "        out = self.fc2(out)\n",
    "        return out\n",
    "    \n",
    "                           "
   ]
  },
  {
   "cell_type": "code",
   "execution_count": 34,
   "id": "9eef8c95-20d5-4d34-86eb-f828c36a53bd",
   "metadata": {},
   "outputs": [
    {
     "data": {
      "text/plain": [
       "tensor([[-0.0529,  0.0507]], grad_fn=<AddmmBackward0>)"
      ]
     },
     "execution_count": 34,
     "metadata": {},
     "output_type": "execute_result"
    }
   ],
   "source": [
    "model = Net()\n",
    "model(img.unsqueeze(0))"
   ]
  },
  {
   "cell_type": "markdown",
   "id": "77aef8c4-9566-4a48-83b0-6fdc6f6e3054",
   "metadata": {},
   "source": [
    "## 畳み込みニューラルネットの学習"
   ]
  },
  {
   "cell_type": "markdown",
   "id": "97e0da96-8781-4e56-96e6-138a62557fe8",
   "metadata": {},
   "source": [
    "ネットワークは外側がエポック、内側がバッチを取り出すDataLoaderによって二重にネストされている\n",
    "\n",
    "各訓練ループは\n",
    "\n",
    "１．入力をモデルに与える\n",
    "\n",
    "２．損失を計算する\n",
    "\n",
    "３．勾配をゼロにする（リセット）\n",
    "\n",
    "４．loss.backfoward()ですべてのパラメータの損失に対する勾配を計算\n",
    "\n",
    "５．オプティマイザで損失を低下する方向に更新\n"
   ]
  },
  {
   "cell_type": "code",
   "execution_count": 35,
   "id": "958b331a-e4db-489f-9210-8a5ec63beab0",
   "metadata": {},
   "outputs": [
    {
     "data": {
      "text/plain": [
       "torch.Size([1])"
      ]
     },
     "execution_count": 35,
     "metadata": {},
     "output_type": "execute_result"
    }
   ],
   "source": [
    "#lossまでの確認\n",
    "img, label = cifar2[0]\n",
    "label = torch.tensor([label])\n",
    "label.shape\n",
    "#labelはバッチ"
   ]
  },
  {
   "cell_type": "code",
   "execution_count": 36,
   "id": "8a0a2dc4-e0ba-4541-ba1e-d53189b40689",
   "metadata": {},
   "outputs": [
    {
     "data": {
      "text/plain": [
       "torch.Size([1, 2])"
      ]
     },
     "execution_count": 36,
     "metadata": {},
     "output_type": "execute_result"
    }
   ],
   "source": [
    "output = model(img.unsqueeze(0))\n",
    "output.shape\n",
    "#outputは バッチ　＊　答えの種類"
   ]
  },
  {
   "cell_type": "code",
   "execution_count": 37,
   "id": "dce09518-4155-4737-bc3d-c23934dd02cd",
   "metadata": {},
   "outputs": [
    {
     "name": "stdout",
     "output_type": "stream",
     "text": [
      "tensor(0.6427, grad_fn=<NllLossBackward0>) 0.6426792144775391\n"
     ]
    }
   ],
   "source": [
    "loss_fn = nn.CrossEntropyLoss()\n",
    "#確率が高い方のその値とラベルとの損失\n",
    "loss = loss_fn(output, label)\n",
    "print(loss, loss.item())"
   ]
  },
  {
   "cell_type": "code",
   "execution_count": 38,
   "id": "f581d92d-a3e7-4c13-b2f0-8b55d7d767f4",
   "metadata": {},
   "outputs": [],
   "source": [
    "import datetime  # <1>\n",
    "\n",
    "def training_loop(n_epochs, optimizer, model, loss_fn, train_loader):\n",
    "    for epoch in range(1, n_epochs + 1):  # <2>\n",
    "        loss_train = 0.0\n",
    "        for imgs, labels in train_loader:  # <3>\n",
    "            outputs = model(imgs)  # <4>\n",
    "            loss = loss_fn(outputs, labels)  # <5>\n",
    "            optimizer.zero_grad()  # <6>            \n",
    "            loss.backward()  # <7>\n",
    "            optimizer.step()  # <8>\n",
    "            loss_train += loss.item()  # <9>\n",
    "\n",
    "        if epoch == 1 or epoch % 10 == 0:\n",
    "            print('{} Epoch {}, Training loss {}'.format(\n",
    "                datetime.datetime.now(), epoch,\n",
    "                loss_train / len(train_loader)))  # <10>\n",
    "            # <1>\n",
    "# Pythonに含まれているdatetimeモジュールを使用 \n",
    "# \n",
    "# <2>\n",
    "# 0からではなく1からn_epochsまで数字を振ったエポックに対するループ\n",
    "# <3>\n",
    "# データローダーが作成したバッチの中のデータセットに対するループ\n",
    "# <4>\n",
    "# モデルにバッチを投入し、…\n",
    "# <5>\n",
    "# … そして最小化したい損失を計算を行う。\n",
    "# <6>\n",
    "# 直近のラウンドの勾配を取り除いたあとに…\n",
    "# <7>\n",
    "# … バックワード処理を行う。 \n",
    "# つまり、ネットワークに学習して欲しいすべての パラメーターの勾配を計算します。\n",
    "# <8>\n",
    "# モデルを更新\n",
    "# <9>\n",
    "# エポックをまたいで損失を合算。 \n",
    "# 勾配の情報を除くため、損失の値を.item()を用いて \n",
    "# Pythonの数値に変形するということを覚えておきましょう。 \n",
    "# <10>\n",
    "# 訓練用のデータローダーの長さで除算し、バッチあたりの平均損失を得ます。 \n",
    "# これは合計値よりも直感的な尺度ですね。 "
   ]
  },
  {
   "cell_type": "code",
   "execution_count": null,
   "id": "7986590e-e784-4fe6-952a-37010adbe81d",
   "metadata": {},
   "outputs": [
    {
     "name": "stdout",
     "output_type": "stream",
     "text": [
      "2022-08-04 07:20:48.352391 Epoch 1, Training loss 0.5983713366043796\n",
      "2022-08-04 07:21:06.936294 Epoch 10, Training loss 0.32304165659436757\n",
      "2022-08-04 07:21:28.214782 Epoch 20, Training loss 0.28603252607166385\n",
      "2022-08-04 07:21:48.568826 Epoch 30, Training loss 0.25668408996929787\n"
     ]
    }
   ],
   "source": [
    "import torch\n",
    "import torch.nn as nn\n",
    "import torch.nn.functional as F\n",
    "import torch.optim as optim\n",
    "\n",
    "train_loader = torch.utils.data.DataLoader(cifar2, batch_size=64,\n",
    "                                           shuffle=True)  # <1>\n",
    "\n",
    "model = Net()  #  <2>\n",
    "optimizer = optim.SGD(model.parameters(), lr=1e-2)  #  <3>\n",
    "loss_fn = nn.CrossEntropyLoss()  #  <4>\n",
    "\n",
    "training_loop(  # <5>\n",
    "    n_epochs = 30,\n",
    "    optimizer = optimizer,\n",
    "    model = model,\n",
    "    loss_fn = loss_fn,\n",
    "    train_loader = train_loader,\n",
    ")\n",
    "\n",
    "# <1>\n",
    "# DataLoaderがcifar2のデータセットのサンプルをバッチ化します。 \n",
    "# また、データセットからサンプルを取得する順番をランダムにシャッフルしています。 \n",
    "# <2>\n",
    "# ネットワークをインスタンス化し、…\n",
    "# <3>\n",
    "# … 扱った確率的勾配降下の最適化関数を使用し…\n",
    "# <4>\n",
    "# … 7.10節で扱った交差エントロピー損失を使用。\n",
    "# <5>\n",
    "# 先程定義した訓練ループを呼び出す。 "
   ]
  },
  {
   "cell_type": "markdown",
   "id": "f8b87155-3a99-4ca6-8cdb-a17dafc6efee",
   "metadata": {},
   "source": [
    "訓練の損失は低下したがそれだけでは評価できない\n",
    "\n",
    "評価指標が必要であるため、正解率で確認してみる"
   ]
  },
  {
   "cell_type": "code",
   "execution_count": null,
   "id": "eae15868-db04-4210-9676-94ab31275624",
   "metadata": {},
   "outputs": [
    {
     "name": "stdout",
     "output_type": "stream",
     "text": [
      "Accuracy train: 0.88\n",
      "Accuracy val: 0.85\n"
     ]
    }
   ],
   "source": [
    "train_loader = torch.utils.data.DataLoader(cifar2, batch_size=64,\n",
    "                                           shuffle=False)\n",
    "val_loader = torch.utils.data.DataLoader(cifar2_val, batch_size=64,\n",
    "                                         shuffle=False)\n",
    "\n",
    "import collections\n",
    "\n",
    "all_acc_dict = collections.OrderedDict()\n",
    "\n",
    "\n",
    "def validate(model, train_loader, val_loader):\n",
    "    accdict={}\n",
    "    for name, loader in [(\"train\", train_loader), (\"val\", val_loader)]:\n",
    "        correct = 0\n",
    "        total = 0\n",
    "        # パラメータの更新は不要のためlossは確認しない、勾配も不要\n",
    "\n",
    "        with torch.no_grad():\n",
    "            for imgs, labels in loader:\n",
    "                outputs = model(imgs)\n",
    "                _, predicted = torch.max(outputs, dim=1)\n",
    "                total += labels.shape[0]\n",
    "                correct += int((predicted == labels).sum())\n",
    "\n",
    "        print(\"Accuracy {}: {:.2f}\".format(name , correct / total))\n",
    "        accdict[name] = correct / total\n",
    "    return accdict\n",
    "\n",
    "all_acc_dict[\"baseline\"] = validate(model, train_loader, val_loader)\n"
   ]
  },
  {
   "cell_type": "markdown",
   "id": "ada9fc1e-3893-4695-a7a3-fde7e9da1d42",
   "metadata": {},
   "source": [
    "##　モデルの保存と読み込み"
   ]
  },
  {
   "cell_type": "code",
   "execution_count": null,
   "id": "e32b1954-b534-42d9-8712-95bb810b6cf8",
   "metadata": {},
   "outputs": [],
   "source": [
    " # モデルの保存\n",
    "data_path = '.'\n",
    "\n",
    "torch.save(model.state_dict(), data_path + \"birds_vs_airplanes.pt\")"
   ]
  },
  {
   "cell_type": "markdown",
   "id": "b18ad7de-0fa2-4fa3-974f-3e4325d38aff",
   "metadata": {},
   "source": [
    "この方法でモデルを保存したときはモデル内のパラメータと（重みとバイアス）であって、\n",
    "モデルの構造は保存されていない。\n",
    "\n",
    "読み込み時にモデルは同一のモデルをインスタンス化してパラメータを読み込む"
   ]
  },
  {
   "cell_type": "code",
   "execution_count": null,
   "id": "44448ddb-fa62-49b0-a5f5-89c0fefa6bfb",
   "metadata": {},
   "outputs": [
    {
     "data": {
      "text/plain": [
       "<All keys matched successfully>"
      ]
     },
     "execution_count": 42,
     "metadata": {},
     "output_type": "execute_result"
    }
   ],
   "source": [
    " # モデルの読み込み\n",
    "loaded_model = Net()\n",
    "loaded_model.load_state_dict(torch.load(data_path + 'birds_vs_airplanes.pt'))"
   ]
  },
  {
   "cell_type": "markdown",
   "id": "ebc4f9c5-099e-4d42-b9fa-dd2f0b1de2f1",
   "metadata": {},
   "source": [
    "## GPU上での訓練\n",
    "\n"
   ]
  },
  {
   "cell_type": "markdown",
   "id": "ae81946a-8824-4f24-b8c2-cc70ec6bc734",
   "metadata": {},
   "source": [
    ".toメソッドを使えばテンソルをGPUへ移動できる。モデルのパラメータもGPUに移し計算をGPU上で行う。\n",
    "\n",
    "Module.toはそのインスタンスそのものが移動する。\n",
    "\n",
    "Tensor.toは別メモリ上での処理となり、あらたなテンソルが返される\n",
    "\n",
    "モデルは適当なデバイスにパラメータを移してからOptimaizerを作成するのがよい。\n"
   ]
  },
  {
   "cell_type": "code",
   "execution_count": null,
   "id": "ef0cdca4-4559-40e2-9070-2b6c77ded67d",
   "metadata": {},
   "outputs": [
    {
     "name": "stdout",
     "output_type": "stream",
     "text": [
      "Training on device cpu.\n"
     ]
    }
   ],
   "source": [
    "device = (torch.device('cuda') if torch.cuda.is_available()\n",
    "          else torch.device('cpu'))\n",
    "\n",
    "print(f'Training on device {device}.')        "
   ]
  },
  {
   "cell_type": "code",
   "execution_count": null,
   "id": "22f9b575-650d-4523-ad10-3a1b9c836b2d",
   "metadata": {},
   "outputs": [],
   "source": [
    "# GPUでの学習でも対応\n",
    "# 全てのパラメータがGPUに無い場合はエラー（一部GPUでの計算は非対応）\n",
    "def training_loop(n_epochs, optimizer, model, loss_fn, train_loader):\n",
    "    for epoch in range(1, n_epochs + 1):\n",
    "        loss_train = 0.0\n",
    "        for imgs, labels in train_loader:\n",
    "            imgs = imgs.to(device=device) \n",
    "            labels = labels.to(device=device)\n",
    "            outputs = model(imgs)\n",
    "            loss = loss_fn(outputs, labels)\n",
    "\n",
    "            optimizer.zero_grad()\n",
    "            loss.backward()\n",
    "            optimizer.step()\n",
    "\n",
    "            loss_train += loss.item()\n",
    "\n",
    "        if epoch == 1 or epoch % 10 == 0:\n",
    "            print('{} Epoch {}, Training loss {}'.format(\n",
    "                datetime.datetime.now(), epoch,\n",
    "                loss_train / len(train_loader)))"
   ]
  },
  {
   "cell_type": "code",
   "execution_count": 45,
   "id": "fc499cbd-abb3-40a9-868e-067bf79d6589",
   "metadata": {},
   "outputs": [
    {
     "name": "stdout",
     "output_type": "stream",
     "text": [
      "2022-08-04 07:21:52.230299 Epoch 1, Training loss 0.6072637319185172\n",
      "2022-08-04 07:22:11.573403 Epoch 10, Training loss 0.32538400372122506\n",
      "2022-08-04 07:22:33.067150 Epoch 20, Training loss 0.2949707527069529\n",
      "2022-08-04 07:22:54.080757 Epoch 30, Training loss 0.2707322500883394\n"
     ]
    }
   ],
   "source": [
    "model = Net().to(device=device)  # <1>\n",
    "optimizer = optim.SGD(model.parameters(), lr=1e-2)\n",
    "loss_fn = nn.CrossEntropyLoss()\n",
    "\n",
    "training_loop(\n",
    "    n_epochs = 30,\n",
    "    optimizer = optimizer,\n",
    "    model = model,\n",
    "    loss_fn = loss_fn,\n",
    "    train_loader = train_loader,\n",
    ")"
   ]
  },
  {
   "cell_type": "code",
   "execution_count": 46,
   "id": "b53b8d01-9a5a-4010-be0c-6eec8c92de22",
   "metadata": {
    "colab": {
     "base_uri": "https://localhost:8080/",
     "height": 35
    },
    "id": "EeffUEkETeW7",
    "outputId": "c9b9845d-0526-41f8-e00e-c04e064d155d"
   },
   "outputs": [
    {
     "data": {
      "text/plain": [
       "<All keys matched successfully>"
      ]
     },
     "execution_count": 46,
     "metadata": {},
     "output_type": "execute_result"
    }
   ],
   "source": [
    "# pytorchではネットワークの重み等の読み込み時は保存時のデバイスに読み込もうとする。\n",
    "# ネットワークの重みを読み込むデバイスと保存されているデバイスが同じなのか事前には分からないため指示する　map_loacation\n",
    "loaded_model = Net().to(device=device)\n",
    "loaded_model.load_state_dict(torch.load(data_path\n",
    "                                        + 'birds_vs_airplanes.pt',\n",
    "                                        map_location=device))"
   ]
  },
  {
   "cell_type": "markdown",
   "id": "06b33b1e-1034-489d-ab20-a4c0ccf2efba",
   "metadata": {},
   "source": [
    "##　モデルの改善：幅"
   ]
  },
  {
   "cell_type": "markdown",
   "id": "0b833710-8056-41a5-be86-8c88438f454c",
   "metadata": {},
   "source": [
    "記憶容量の追加時にハードコーティングを避けるためには、initにパラメータを渡す"
   ]
  },
  {
   "cell_type": "code",
   "execution_count": 47,
   "id": "2f9c380d-f7ea-4161-827c-7aa1571f01c7",
   "metadata": {},
   "outputs": [],
   "source": [
    "class NetWidth(nn.Module):\n",
    "    def __init__(self, n_chans1=32):\n",
    "        super().__init__()\n",
    "        self.n_chans1 = n_chans1 \n",
    "        self.conv1 = nn.Conv2d(3, n_chans1, kernel_size=3, padding=1)\n",
    "        self.conv2 = nn.Conv2d(n_chans1, n_chans1 // 2, kernel_size=3, padding=1)\n",
    "        self.fc1 = nn.Linear(8 * 8 * n_chans1 // 2, 32)\n",
    "        self.fc2 = nn.Linear(32, 2)\n",
    "        \n",
    "    def forward(self, x):\n",
    "        out = F.max_pool2d(torch.tanh(self.conv1(x)), 2)\n",
    "        out = F.max_pool2d(torch.tanh(self.conv2(out)), 2)\n",
    "        out = out.view(-1, 8 * 8 * self.n_chans1 // 2)\n",
    "        out = torch.tanh(self.fc1(out))\n",
    "        out = self.fc2(out)\n",
    "        return out"
   ]
  },
  {
   "cell_type": "code",
   "execution_count": 48,
   "id": "5d427dbc-5502-49a9-85e0-2e91b8437718",
   "metadata": {},
   "outputs": [
    {
     "name": "stdout",
     "output_type": "stream",
     "text": [
      "2022-08-04 07:22:58.337797 Epoch 1, Training loss 0.5586554305568622\n",
      "2022-08-04 07:23:36.593919 Epoch 10, Training loss 0.31862089806681226\n",
      "2022-08-04 07:24:19.412632 Epoch 20, Training loss 0.2749388356497333\n",
      "2022-08-04 07:25:07.377365 Epoch 30, Training loss 0.24361977626563638\n",
      "Accuracy train: 0.88\n",
      "Accuracy val: 0.78\n"
     ]
    }
   ],
   "source": [
    "model = NetWidth(n_chans1=32).to(device=device)\n",
    "optimizer = optim.SGD(model.parameters(), lr=1e-2)\n",
    "loss_fn = nn.CrossEntropyLoss()\n",
    "\n",
    "training_loop(\n",
    "    n_epochs = 30,\n",
    "    optimizer = optimizer,\n",
    "    model = model,\n",
    "    loss_fn = loss_fn,\n",
    "    train_loader = train_loader,\n",
    ")\n",
    "\n",
    "all_acc_dict[\"width\"] = validate(model, train_loader, val_loader)"
   ]
  },
  {
   "cell_type": "code",
   "execution_count": 49,
   "id": "fc797468-d440-4a89-8be2-3ab4b826c9cb",
   "metadata": {},
   "outputs": [
    {
     "data": {
      "text/plain": [
       "38386"
      ]
     },
     "execution_count": 49,
     "metadata": {},
     "output_type": "execute_result"
    }
   ],
   "source": [
    "sum(p.numel() for p in model.parameters())"
   ]
  },
  {
   "cell_type": "raw",
   "id": "8561d567-1686-4db1-808a-ac92b2c8c235",
   "metadata": {},
   "source": [
    "モデル内の容量が増加するほどモデルが管理できる入力の可能性は高くなる。\n",
    "しかし同時に不要な側面を記憶するパラメータをモデルが多数使用することになり、過学習が起きやすい。\n",
    "\n",
    "過学習にはサンプルサイズの拡大、DataAugmentationが有効だが、モデルレベルでの制御法もある"
   ]
  },
  {
   "cell_type": "markdown",
   "id": "466f52f6-e837-482a-94e9-e6d81aa48c98",
   "metadata": {},
   "source": [
    "## 損失時に改善　正則化"
   ]
  },
  {
   "cell_type": "markdown",
   "id": "efc6d3ea-9002-4167-9188-21a126306bf7",
   "metadata": {},
   "source": [
    "損失に正則化項（重みパラメータを足したもの）を加えることで、大きな値の重みへのペナルティになる。\n",
    "損失関数はより滑らかになり、個々のサンプルに過剰に適合することを防ぐ。\n",
    "\n",
    "L2：モデル内の重みの二乗をすべて足したもの\n",
    "重みの減衰（現在の値に比例した量だけ各重みを減衰させる）\n",
    "\n",
    "L1：モデル内の重みの絶対値をすべて足したもの\n",
    "重みを0に近づけるため不要なパラメータを無くす"
   ]
  },
  {
   "cell_type": "code",
   "execution_count": 50,
   "id": "f8ab18c1-90af-44cb-8526-b0b8a2c7344c",
   "metadata": {},
   "outputs": [],
   "source": [
    "import datetime\n",
    "\n",
    "def training_loop_l2reg(n_epochs, optimizer, model, loss_fn, train_loader):\n",
    "    for epoch in range(1, n_epochs +1 ):\n",
    "        loss_train = 0.0\n",
    "        for imgs, labels in train_loader:\n",
    "            imgs = imgs.to(device=device)\n",
    "            labels = labels.to(device=device)\n",
    "            outputs = model(imgs)\n",
    "            \n",
    "            loss = loss_fn(outputs, labels)\n",
    "            l2_lambda = 0.01\n",
    "            l2_norm = sum(p.pow(2.0).sum() for p in model.parameters())\n",
    "            #l1はpoe(2.0)をabs()\n",
    "            loss = loss + l2_lambda * l2_norm\n",
    "            \n",
    "            optimizer.zero_grad()\n",
    "            loss.backward()\n",
    "            optimizer.step()\n",
    "            \n",
    "            loss_train += loss.item()\n",
    "            \n",
    "        if epoch == 1 or epoch % 10 == 0:\n",
    "            print('{} Epoch {}, Training loss {}'.format(datetime.datetime.now(), epoch, loss_train / len(train_loader)))"
   ]
  },
  {
   "cell_type": "code",
   "execution_count": 51,
   "id": "6f1bc5b6-d108-42b6-a77d-aa23392ea245",
   "metadata": {},
   "outputs": [
    {
     "name": "stdout",
     "output_type": "stream",
     "text": [
      "2022-08-04 07:25:13.256518 Epoch 1, Training loss 0.8081606440483384\n",
      "2022-08-04 07:25:36.446835 Epoch 10, Training loss 0.47865571527724055\n",
      "2022-08-04 07:26:12.124469 Epoch 20, Training loss 0.4170774420735183\n",
      "2022-08-04 07:26:35.607158 Epoch 30, Training loss 0.38696237677221845\n",
      "Accuracy train: 0.87\n",
      "Accuracy val: 0.84\n"
     ]
    }
   ],
   "source": [
    "train_loader = torch.utils.data.DataLoader(cifar2, batch_size=64,\n",
    "                                           shuffle=True)\n",
    "\n",
    "model = Net().to(device=device)  # <1>\n",
    "optimizer = optim.SGD(model.parameters(), lr=1e-2)\n",
    "loss_fn = nn.CrossEntropyLoss()\n",
    "\n",
    "training_loop_l2reg(\n",
    "    n_epochs = 30,\n",
    "    optimizer = optimizer,\n",
    "    model = model,\n",
    "    loss_fn = loss_fn,\n",
    "    train_loader = train_loader,\n",
    ")\n",
    "\n",
    "all_acc_dict[\"l2 reg\"] = validate(model, train_loader, val_loader)"
   ]
  },
  {
   "cell_type": "markdown",
   "id": "69811006-8552-44c5-8596-a319c6af1611",
   "metadata": {},
   "source": [
    "## ドロップアウト"
   ]
  },
  {
   "cell_type": "markdown",
   "id": "f99315bc-27a6-44f9-98c8-7568e1f48d38",
   "metadata": {},
   "source": [
    "ネットワーク上の出力をランダムの割合でゼロにする\n",
    "各反復で異なるニューロンの形状のわずかに異なるモデルが作成されるため、モデル内のニューロンが記憶プロセスになることを防ぐ。"
   ]
  },
  {
   "cell_type": "markdown",
   "id": "7b9347e7-0036-4f52-b16c-00245964bb90",
   "metadata": {},
   "source": [
    "このドロップアウトは訓練時のみ有効であり、推論時はモードを切り替えて全パラメータを使用する。\n",
    "\n",
    "model.train()\n",
    "\n",
    "model.eval()\n",
    "\n",
    "で切り替え"
   ]
  },
  {
   "cell_type": "code",
   "execution_count": 52,
   "id": "aadbac98-3189-476c-9b68-424af263636a",
   "metadata": {},
   "outputs": [],
   "source": [
    "class NetDropout(nn.Module):\n",
    "    def __init__(self, n_chans1=32):\n",
    "        super().__init__()\n",
    "        self.n_chans1 = n_chans1\n",
    "        self.conv1 = nn.Conv2d(3, n_chans1, kernel_size=3, padding=1)\n",
    "        self.conv1_dropout = nn.Dropout2d(p=0.4)\n",
    "        self.conv2 = nn.Conv2d(n_chans1, n_chans1 // 2, kernel_size=3,\n",
    "                               padding=1)\n",
    "        self.conv2_dropout = nn.Dropout2d(p=0.4)\n",
    "        self.fc1 = nn.Linear(8 * 8 * n_chans1 // 2, 32)\n",
    "        self.fc2 = nn.Linear(32, 2)\n",
    "        \n",
    "    def forward(self, x):\n",
    "        out = F.max_pool2d(torch.tanh(self.conv1(x)), 2)\n",
    "        out = self.conv1_dropout(out)\n",
    "        out = F.max_pool2d(torch.tanh(self.conv2(out)), 2)\n",
    "        out = self.conv2_dropout(out)\n",
    "        out = out.view(-1, 8 * 8 * self.n_chans1 // 2)\n",
    "        out = torch.tanh(self.fc1(out))\n",
    "        out = self.fc2(out)\n",
    "        return out"
   ]
  },
  {
   "cell_type": "code",
   "execution_count": 53,
   "id": "c2444fb8-df7a-402a-b971-c1b5598b3e42",
   "metadata": {},
   "outputs": [
    {
     "name": "stdout",
     "output_type": "stream",
     "text": [
      "2022-08-04 07:26:41.772915 Epoch 1, Training loss 0.5628887039081306\n",
      "2022-08-04 07:27:22.552239 Epoch 10, Training loss 0.36985790663084406\n",
      "2022-08-04 07:28:06.834297 Epoch 20, Training loss 0.34125151252670655\n",
      "2022-08-04 07:28:51.544297 Epoch 30, Training loss 0.3230181481618031\n",
      "Accuracy train: 0.86\n",
      "Accuracy val: 0.84\n"
     ]
    }
   ],
   "source": [
    "model = NetDropout(n_chans1=32).to(device=device)\n",
    "optimizer = optim.SGD(model.parameters(), lr=1e-2)\n",
    "loss_fn = nn.CrossEntropyLoss()\n",
    "\n",
    "\n",
    "training_loop(\n",
    "    n_epochs = 30,\n",
    "    optimizer = optimizer,\n",
    "    model = model,\n",
    "    loss_fn = loss_fn,\n",
    "    train_loader = train_loader,\n",
    ")\n",
    "\n",
    "\n",
    "all_acc_dict[\"dropout\"] = validate(model, train_loader, val_loader)"
   ]
  },
  {
   "cell_type": "markdown",
   "id": "f142ec20-843a-42e3-bdc6-92639c065da0",
   "metadata": {},
   "source": [
    "## バッチ正則化"
   ]
  },
  {
   "cell_type": "markdown",
   "id": "1f106b6d-151f-41dc-96c0-554c97a5f59c",
   "metadata": {},
   "source": [
    "活性化に対する入力を特定の分布内にリスケールする。\n",
    "入力が活性化関数の飽和部分へ極端に移動することを防ぎ訓練が遅くなることを防ぐ。\n",
    "\n",
    "ミニバッチごとにネットワークの中間地点で入力値の平均値と標準偏差を使用して中間入力の大きさにシフトする。\n",
    "\n",
    "正則化とデータオーギュメンテーションの意味がある\n",
    "\n",
    "基本的には活性化関数の前に使用"
   ]
  },
  {
   "cell_type": "markdown",
   "id": "24c4917a-dfb4-4f0a-9e4d-53f11f505746",
   "metadata": {},
   "source": [
    "推論時はモードを切り替えることで、訓練時のデータセット全体の平均値と標準偏差を毎回使用するようになる。"
   ]
  },
  {
   "cell_type": "code",
   "execution_count": 54,
   "id": "5cb0a6aa-8d03-4729-8335-86efbe5cf32e",
   "metadata": {
    "id": "aaVSP0vGTeXl"
   },
   "outputs": [],
   "source": [
    "class NetBatchNorm(nn.Module):\n",
    "    def __init__(self, n_chans1=32):\n",
    "        super().__init__()\n",
    "        self.n_chans1 = n_chans1\n",
    "        self.conv1 = nn.Conv2d(3, n_chans1, kernel_size=3, padding=1)\n",
    "        self.conv1_batchnorm = nn.BatchNorm2d(num_features=n_chans1)\n",
    "        self.conv2 = nn.Conv2d(n_chans1, n_chans1 // 2, kernel_size=3, \n",
    "                               padding=1)\n",
    "        self.conv2_batchnorm = nn.BatchNorm2d(num_features=n_chans1 // 2)\n",
    "        self.fc1 = nn.Linear(8 * 8 * n_chans1 // 2, 32)\n",
    "        self.fc2 = nn.Linear(32, 2)\n",
    "        \n",
    "    def forward(self, x):\n",
    "        out = self.conv1_batchnorm(self.conv1(x))\n",
    "        out = F.max_pool2d(torch.tanh(out), 2)\n",
    "        out = self.conv2_batchnorm(self.conv2(out))\n",
    "        out = F.max_pool2d(torch.tanh(out), 2)\n",
    "        out = out.view(-1, 8 * 8 * self.n_chans1 // 2)\n",
    "        out = torch.tanh(self.fc1(out))\n",
    "        out = self.fc2(out)\n",
    "        return out"
   ]
  },
  {
   "cell_type": "code",
   "execution_count": 55,
   "id": "82014495-f111-471e-a2c9-e1cf2c42168c",
   "metadata": {
    "colab": {
     "base_uri": "https://localhost:8080/",
     "height": 254
    },
    "id": "tpjdjqfaTeXo",
    "outputId": "c846e757-3f21-491d-e9cf-6e5dbb9c7f75"
   },
   "outputs": [
    {
     "name": "stdout",
     "output_type": "stream",
     "text": [
      "2022-08-04 07:29:00.187139 Epoch 1, Training loss 0.4640124616729226\n",
      "2022-08-04 07:29:51.728797 Epoch 10, Training loss 0.2723110207137029\n",
      "2022-08-04 07:30:48.898004 Epoch 20, Training loss 0.21426195174360732\n",
      "2022-08-04 07:31:46.353945 Epoch 30, Training loss 0.17343610022098396\n",
      "Accuracy train: 0.88\n",
      "Accuracy val: 0.85\n"
     ]
    }
   ],
   "source": [
    "model = NetBatchNorm(n_chans1=32).to(device=device)\n",
    "optimizer = optim.SGD(model.parameters(), lr=1e-2)\n",
    "loss_fn = nn.CrossEntropyLoss()\n",
    "\n",
    "training_loop(\n",
    "    n_epochs = 30,\n",
    "    optimizer = optimizer,\n",
    "    model = model,\n",
    "    loss_fn = loss_fn,\n",
    "    train_loader = train_loader,\n",
    ")\n",
    "all_acc_dict[\"batch_norm\"] = validate(model, train_loader, val_loader)"
   ]
  },
  {
   "cell_type": "markdown",
   "id": "3844e24c-cd96-4ffd-9939-e0c250760b09",
   "metadata": {},
   "source": [
    "## モデル改善：深さ　スキップ接続"
   ]
  },
  {
   "cell_type": "markdown",
   "id": "bbcd5ab5-4cbc-44e8-a670-991790dff5e3",
   "metadata": {},
   "source": [
    "接続の確認"
   ]
  },
  {
   "cell_type": "code",
   "execution_count": null,
   "id": "4905db45-a3d8-45cb-b7f8-052b34de4127",
   "metadata": {},
   "outputs": [],
   "source": [
    "batch_a = torch.randn(2,1)\n",
    "batch_b = torch.randn(2,1)\n",
    "batch_a, batch_b"
   ]
  },
  {
   "cell_type": "code",
   "execution_count": null,
   "id": "57a34d23-9c93-43da-a24a-1622550b012b",
   "metadata": {},
   "outputs": [],
   "source": [
    "batch_a + batch_b"
   ]
  },
  {
   "cell_type": "code",
   "execution_count": null,
   "id": "00238ca1-c6d7-49b7-bf7e-6cf976c65f26",
   "metadata": {},
   "outputs": [],
   "source": [
    "w = torch.empty(3, 5)\n",
    "nn.init.constant_(w, 0.5)"
   ]
  },
  {
   "cell_type": "markdown",
   "id": "4dde2616-4065-4eea-8370-2dfc3ef76abd",
   "metadata": {},
   "source": [
    "ある層の活性化後のの出力を次の層の線形処理後の入力に追加する。\n",
    "\n",
    "このことで深部の損失の勾配に対する各パラメータの寄与がより直接的になる。\n",
    "序盤のパラメータの収縮の観点で効果的である。"
   ]
  },
  {
   "cell_type": "code",
   "execution_count": 56,
   "id": "68b54973-9567-4584-bda8-b5518f1f5716",
   "metadata": {
    "id": "NjWrXybDTeX2"
   },
   "outputs": [],
   "source": [
    "class NetRes(nn.Module):\n",
    "    def __init__(self, n_chans1=32):\n",
    "        super().__init__()\n",
    "        self.n_chans1 = n_chans1\n",
    "        self.conv1 = nn.Conv2d(3, n_chans1, kernel_size=3, padding=1)\n",
    "        self.conv2 = nn.Conv2d(n_chans1, n_chans1 // 2, kernel_size=3,\n",
    "                               padding=1)\n",
    "        self.conv3 = nn.Conv2d(n_chans1 // 2, n_chans1 // 2,\n",
    "                               kernel_size=3, padding=1)\n",
    "        self.fc1 = nn.Linear(4 * 4 * n_chans1 // 2, 32)\n",
    "        self.fc2 = nn.Linear(32, 2)\n",
    "        \n",
    "    def forward(self, x):\n",
    "        out = F.max_pool2d(torch.relu(self.conv1(x)), 2)\n",
    "        out = F.max_pool2d(torch.relu(self.conv2(out)), 2)\n",
    "        out1 = out\n",
    "        out = F.max_pool2d(torch.relu(self.conv3(out)) + out1, 2)\n",
    "        out = out.view(-1, 4 * 4 * self.n_chans1 // 2)\n",
    "        out = torch.relu(self.fc1(out))\n",
    "        out = self.fc2(out)\n",
    "        return out"
   ]
  },
  {
   "cell_type": "code",
   "execution_count": 57,
   "id": "fdd85db3-d0ab-492d-b221-99b400c54734",
   "metadata": {
    "colab": {
     "base_uri": "https://localhost:8080/",
     "height": 254
    },
    "id": "KfgqWhcwTeX6",
    "outputId": "fafaf0f3-4a4f-497a-ce84-702e25bbda0f"
   },
   "outputs": [
    {
     "name": "stdout",
     "output_type": "stream",
     "text": [
      "2022-08-04 07:55:33.483912 Epoch 1, Training loss 0.6428604524606353\n",
      "2022-08-04 07:56:09.220229 Epoch 10, Training loss 0.32137808602326995\n",
      "2022-08-04 07:56:48.922005 Epoch 20, Training loss 0.27012127182286255\n",
      "2022-08-04 07:57:29.275451 Epoch 30, Training loss 0.23492220419037874\n",
      "Accuracy train: 0.89\n",
      "Accuracy val: 0.81\n"
     ]
    }
   ],
   "source": [
    "model = NetRes(n_chans1=32).to(device=device)\n",
    "optimizer = optim.SGD(model.parameters(), lr=1e-2)\n",
    "loss_fn = nn.CrossEntropyLoss()\n",
    "\n",
    "training_loop(\n",
    "    n_epochs = 30,\n",
    "    optimizer = optimizer,\n",
    "    model = model,\n",
    "    loss_fn = loss_fn,\n",
    "    train_loader = train_loader,\n",
    ")\n",
    "all_acc_dict[\"res\"] = validate(model, train_loader, val_loader)"
   ]
  },
  {
   "cell_type": "markdown",
   "id": "393f3ef5-cb5c-4d6e-9aa9-50508b9567d4",
   "metadata": {},
   "source": [
    "## ディープなモデルを作成するためには"
   ]
  },
  {
   "cell_type": "markdown",
   "id": "7a504ca5-c4ca-4de6-9d14-d7a50b87c624",
   "metadata": {},
   "source": [
    "標準的な戦略としては（conv2d,batchnorm,Relu,スキップ接続）のブロックを作成して、\n",
    "for1ループで動的に繰り返す方法がある。"
   ]
  },
  {
   "cell_type": "code",
   "execution_count": 58,
   "id": "a32a8792-a9c6-4435-bd2c-7e923c485eb5",
   "metadata": {
    "id": "lNqv3CZgTeX9"
   },
   "outputs": [],
   "source": [
    "#ブロックの作成\n",
    "\n",
    "class ResBlock(nn.Module):\n",
    "    def __init__(self, n_chans):\n",
    "        #継承時にsuperの引数は不要だが、多重継承の時に予期せぬ継承がされる可能性があり、引数に指定する\n",
    "        super(ResBlock, self).__init__()\n",
    "        self.conv = nn.Conv2d(n_chans, n_chans, kernel_size=3,padding=1, bias=False)  # <1>\n",
    "        self.batch_norm = nn.BatchNorm2d(num_features=n_chans)\n",
    "        torch.nn.init.kaiming_normal_(self.conv.weight,nonlinearity='relu')  # <2>\n",
    "        torch.nn.init.constant_(self.batch_norm.weight, 0.5)\n",
    "        torch.nn.init.zeros_(self.batch_norm.bias)\n",
    "\n",
    "    def forward(self, x):\n",
    "        out = self.conv(x)\n",
    "        out = self.batch_norm(out)\n",
    "        out = torch.relu(out)\n",
    "        return out + x\n",
    "\n",
    "# <1>\n",
    "# BatchNorm層はバイアスの影響を消し去るため、慣例的にバイアスは省いています。 \n",
    "# <2>\n",
    "# ResNetの論文で計算されている標準偏差を持つ正規の乱数を用いたカスタマイズの初期化処理 kaiming_normal_initializes を使用します。 \n",
    "# なお、初期状態では、バッチ正規化処理は平均0で分散0.5の出力分布を生成するように初期化されます。 "
   ]
  },
  {
   "cell_type": "markdown",
   "id": "ca6aedc1-e2f1-43e1-9bbc-1cf1370d9e36",
   "metadata": {},
   "source": [
    "ディープに作るためには\n",
    "\n",
    "resbloksにnn.Sequentialを定義して、指定数＊Resblockを入れる"
   ]
  },
  {
   "cell_type": "code",
   "execution_count": 67,
   "id": "41bad8c2-bfad-43ed-82d0-6ee8946b40d7",
   "metadata": {},
   "outputs": [
    {
     "name": "stdout",
     "output_type": "stream",
     "text": [
      "<class 'list'> [ResBlock(\n",
      "  (conv): Conv2d(32, 32, kernel_size=(3, 3), stride=(1, 1), padding=(1, 1), bias=False)\n",
      "  (batch_norm): BatchNorm2d(32, eps=1e-05, momentum=0.1, affine=True, track_running_stats=True)\n",
      "), ResBlock(\n",
      "  (conv): Conv2d(32, 32, kernel_size=(3, 3), stride=(1, 1), padding=(1, 1), bias=False)\n",
      "  (batch_norm): BatchNorm2d(32, eps=1e-05, momentum=0.1, affine=True, track_running_stats=True)\n",
      "), ResBlock(\n",
      "  (conv): Conv2d(32, 32, kernel_size=(3, 3), stride=(1, 1), padding=(1, 1), bias=False)\n",
      "  (batch_norm): BatchNorm2d(32, eps=1e-05, momentum=0.1, affine=True, track_running_stats=True)\n",
      ")]\n"
     ]
    }
   ],
   "source": [
    "#リスト\n",
    "a=(3 * [ResBlock(n_chans=32)])\n",
    "print(type(a),a)"
   ]
  },
  {
   "cell_type": "code",
   "execution_count": 65,
   "id": "609a8afc-ad67-4d20-846a-392f00d70ab0",
   "metadata": {},
   "outputs": [
    {
     "data": {
      "text/plain": [
       "Sequential(\n",
       "  (0): ResBlock(\n",
       "    (conv): Conv2d(32, 32, kernel_size=(3, 3), stride=(1, 1), padding=(1, 1), bias=False)\n",
       "    (batch_norm): BatchNorm2d(32, eps=1e-05, momentum=0.1, affine=True, track_running_stats=True)\n",
       "  )\n",
       "  (1): ResBlock(\n",
       "    (conv): Conv2d(32, 32, kernel_size=(3, 3), stride=(1, 1), padding=(1, 1), bias=False)\n",
       "    (batch_norm): BatchNorm2d(32, eps=1e-05, momentum=0.1, affine=True, track_running_stats=True)\n",
       "  )\n",
       "  (2): ResBlock(\n",
       "    (conv): Conv2d(32, 32, kernel_size=(3, 3), stride=(1, 1), padding=(1, 1), bias=False)\n",
       "    (batch_norm): BatchNorm2d(32, eps=1e-05, momentum=0.1, affine=True, track_running_stats=True)\n",
       "  )\n",
       ")"
      ]
     },
     "execution_count": 65,
     "metadata": {},
     "output_type": "execute_result"
    }
   ],
   "source": [
    "resblocks = nn.Sequential(\n",
    "           * (3 * [ResBlock(n_chans=32)]))\n",
    "resblocks"
   ]
  },
  {
   "cell_type": "code",
   "execution_count": 68,
   "id": "34130157-1722-4f5e-b2b3-8ba566d15c44",
   "metadata": {
    "id": "rRHc8xfWTeYD"
   },
   "outputs": [],
   "source": [
    "class NetResDeep(nn.Module):\n",
    "    def __init__(self, n_chans1=32, n_blocks=10):\n",
    "        super().__init__()\n",
    "        self.n_chans1 = n_chans1\n",
    "        self.conv1 = nn.Conv2d(3, n_chans1, kernel_size=3, padding=1)\n",
    "        self.resblocks = nn.Sequential(\n",
    "            *(n_blocks * [ResBlock(n_chans=n_chans1)]))\n",
    "        self.fc1 = nn.Linear(8 * 8 * n_chans1, 32)\n",
    "        self.fc2 = nn.Linear(32, 2)\n",
    "        \n",
    "    def forward(self, x):\n",
    "        out = F.max_pool2d(torch.relu(self.conv1(x)), 2)\n",
    "        out = self.resblocks(out)\n",
    "        out = F.max_pool2d(out, 2)\n",
    "        out = out.view(-1, 8 * 8 * self.n_chans1)\n",
    "        out = torch.relu(self.fc1(out))\n",
    "        out = self.fc2(out)\n",
    "        return out"
   ]
  },
  {
   "cell_type": "code",
   "execution_count": null,
   "id": "674ac5e2-e059-4ac2-900b-009b5c06c06d",
   "metadata": {
    "colab": {
     "base_uri": "https://localhost:8080/",
     "height": 254
    },
    "id": "TkiMOWJfTeYF",
    "outputId": "b426481a-78c9-4e14-f3e5-522124599bb1"
   },
   "outputs": [
    {
     "name": "stdout",
     "output_type": "stream",
     "text": [
      "2022-08-04 08:22:35.397013 Epoch 1, Training loss 1.2335678866714428\n"
     ]
    }
   ],
   "source": [
    "model = NetResDeep(n_chans1=32, n_blocks=100).to(device=device)\n",
    "optimizer = optim.SGD(model.parameters(), lr=3e-3)\n",
    "loss_fn = nn.CrossEntropyLoss()\n",
    "\n",
    "training_loop(\n",
    "    n_epochs = 100,\n",
    "    optimizer = optimizer,\n",
    "    model = model,\n",
    "    loss_fn = loss_fn,\n",
    "    train_loader = train_loader,\n",
    ")\n",
    "all_acc_dict[\"res deep\"] = validate(model, train_loader, val_loader)"
   ]
  },
  {
   "cell_type": "code",
   "execution_count": null,
   "id": "4e298f23-4f64-4144-b071-8400bf068719",
   "metadata": {
    "colab": {
     "base_uri": "https://localhost:8080/",
     "height": 316
    },
    "id": "X8ZExdRETeYN",
    "outputId": "7c0e9564-e4d1-446b-93c6-2bed99a40df1"
   },
   "outputs": [],
   "source": [
    "trn_acc = [v['train'] for k, v in all_acc_dict.items()]\n",
    "val_acc = [v['val'] for k, v in all_acc_dict.items()]\n",
    "\n",
    "width =0.3\n",
    "plt.bar(np.arange(len(trn_acc)), trn_acc, width=width, label='train')\n",
    "plt.bar(np.arange(len(val_acc))+ width, val_acc, width=width, label='val')\n",
    "plt.xticks(np.arange(len(val_acc))+ width/2, list(all_acc_dict.keys()),\n",
    "           rotation=60)\n",
    "plt.ylabel('accuracy')\n",
    "plt.legend(loc='lower right')\n",
    "plt.ylim(0.7, 1)\n",
    "plt.savefig('accuracy_comparison.png', bbox_inches='tight')\n",
    "plt.show()\n"
   ]
  },
  {
   "cell_type": "code",
   "execution_count": null,
   "id": "50c75115-ec04-497d-a713-091838fca9eb",
   "metadata": {},
   "outputs": [],
   "source": []
  },
  {
   "cell_type": "code",
   "execution_count": null,
   "id": "bdbb1351-e98e-42fc-884f-f660ee55c17e",
   "metadata": {},
   "outputs": [],
   "source": []
  },
  {
   "cell_type": "code",
   "execution_count": null,
   "id": "024bde67-af5e-46cb-9f2a-639e4cce72a4",
   "metadata": {},
   "outputs": [],
   "source": []
  },
  {
   "cell_type": "code",
   "execution_count": null,
   "id": "c2192de4-3741-419f-9cf7-327d45c23dcf",
   "metadata": {},
   "outputs": [],
   "source": []
  },
  {
   "cell_type": "code",
   "execution_count": null,
   "id": "99025ec1-8b60-4b04-b9a8-1ecc2f872ff4",
   "metadata": {},
   "outputs": [],
   "source": []
  },
  {
   "cell_type": "code",
   "execution_count": null,
   "id": "df127cd7-a3b3-45e4-8653-c414224caad4",
   "metadata": {},
   "outputs": [],
   "source": []
  }
 ],
 "metadata": {
  "kernelspec": {
   "display_name": "Python 3 (ipykernel)",
   "language": "python",
   "name": "python3"
  },
  "language_info": {
   "codemirror_mode": {
    "name": "ipython",
    "version": 3
   },
   "file_extension": ".py",
   "mimetype": "text/x-python",
   "name": "python",
   "nbconvert_exporter": "python",
   "pygments_lexer": "ipython3",
   "version": "3.9.10"
  }
 },
 "nbformat": 4,
 "nbformat_minor": 5
}
