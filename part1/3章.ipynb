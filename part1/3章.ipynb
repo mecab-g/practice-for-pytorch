{
 "cells": [
  {
   "cell_type": "code",
   "execution_count": 2,
   "id": "c1420e93-3716-4031-82d5-69800bb11722",
   "metadata": {},
   "outputs": [],
   "source": [
    "import torch\n",
    "from torch import hub"
   ]
  },
  {
   "cell_type": "code",
   "execution_count": 3,
   "id": "060089c3-93ba-4948-8cb1-a03db347882c",
   "metadata": {},
   "outputs": [],
   "source": [
    "import torchvision"
   ]
  },
  {
   "cell_type": "code",
   "execution_count": 4,
   "id": "7e2993ed-0171-4487-b8d7-b48c40bdc0d6",
   "metadata": {},
   "outputs": [],
   "source": [
    "img_t = torch.randn(3, 5, 5)\n",
    "weights = torch.tensor([0.2126, 0.7152, 0.0722])"
   ]
  },
  {
   "cell_type": "code",
   "execution_count": 5,
   "id": "e7afc2cc-3d61-47be-9268-f7a0afdd2094",
   "metadata": {},
   "outputs": [],
   "source": [
    "batch_t = torch.randn(2, 3, 5, 5)"
   ]
  },
  {
   "cell_type": "code",
   "execution_count": 6,
   "id": "fa1daf64-2226-4be5-ac13-7df730b69b8b",
   "metadata": {},
   "outputs": [
    {
     "data": {
      "text/plain": [
       "'\\nバッチ次元の有無により\\nRGBのチャネルは0か1のため\\n終わりから数えると-3にRGBがくる\\n'"
      ]
     },
     "execution_count": 6,
     "metadata": {},
     "output_type": "execute_result"
    }
   ],
   "source": [
    "\"\"\"\n",
    "バッチ次元の有無により\n",
    "RGBのチャネルは0か1のため\n",
    "終わりから数えると-3にRGBがくる\n",
    "\"\"\""
   ]
  },
  {
   "cell_type": "code",
   "execution_count": 7,
   "id": "a7cde060-66d5-4261-80ac-d4429e82a691",
   "metadata": {},
   "outputs": [
    {
     "data": {
      "text/plain": [
       "(torch.Size([5, 5]), torch.Size([2, 5, 5]))"
      ]
     },
     "execution_count": 7,
     "metadata": {},
     "output_type": "execute_result"
    }
   ],
   "source": [
    "img_gray_naive = img_t.mean(-3)\n",
    "batch_gray_naive = batch_t.mean(-3)\n",
    "\n",
    "img_gray_naive.shape, batch_gray_naive.shape"
   ]
  },
  {
   "cell_type": "code",
   "execution_count": 8,
   "id": "b3b285ed-df50-4c07-b7f2-d744639b2d37",
   "metadata": {},
   "outputs": [
    {
     "name": "stdout",
     "output_type": "stream",
     "text": [
      "torch.Size([3])\n",
      "torch.Size([3, 1, 1]) torch.Size([3, 5, 5]) torch.Size([3, 5, 5]) torch.Size([5, 5])\n",
      "torch.Size([3, 1, 1]) torch.Size([2, 3, 5, 5]) torch.Size([2, 3, 5, 5]) torch.Size([2, 5, 5])\n"
     ]
    }
   ],
   "source": [
    "#重みを1次元から3次元へ[3,1,1]\n",
    "unsqueezed_weights = weights.unsqueeze(-1).unsqueeze(-1)\n",
    "#broadcastingされてimgには「3、5、5」としてbacthには「2,3,5,5」となり次元が追加される\n",
    "img_weights = (img_t * unsqueezed_weights)\n",
    "batch_weights = (batch_t * unsqueezed_weights)\n",
    "\n",
    "img_gray_weighted = img_weights.sum(-3)\n",
    "batch_gray_weighted = batch_weights.sum(-3)\n",
    "print(weights.shape)\n",
    "print(unsqueezed_weights.shape, img_t.shape ,img_weights.shape, img_gray_weighted.shape) \n",
    "print(unsqueezed_weights.shape, batch_t.shape, batch_weights.shape, batch_gray_weighted.shape) "
   ]
  },
  {
   "cell_type": "code",
   "execution_count": 9,
   "id": "e14c51ad-4999-4cc7-a2cb-37d11a310450",
   "metadata": {},
   "outputs": [
    {
     "data": {
      "text/plain": [
       "(tensor([-0.0727, -1.6070,  0.8864, -0.5384,  0.8892]),\n",
       " tensor([-0.0520, -1.1493,  0.6340, -0.3851,  0.6360]),\n",
       " tensor([[0.7152]]))"
      ]
     },
     "execution_count": 9,
     "metadata": {},
     "output_type": "execute_result"
    }
   ],
   "source": [
    "img_t[1][1],img_weights[1][1],unsqueezed_weights[1]"
   ]
  },
  {
   "cell_type": "code",
   "execution_count": 10,
   "id": "358ba443-9d4b-4b7c-b540-5b6016eee220",
   "metadata": {},
   "outputs": [],
   "source": [
    "#数値型\n",
    "#必要に応じて低ビットを使う"
   ]
  },
  {
   "cell_type": "code",
   "execution_count": 11,
   "id": "ba127474-114c-4100-a75e-44db825c8d0c",
   "metadata": {},
   "outputs": [],
   "source": [
    "double_points = torch.ones(10, 2 ,dtype=torch.double)#64倍制度浮動小数点\n",
    "short_points = torch.tensor([[1,2], [3,4]], dtype=torch.short)#short=16符号付き整数\n",
    "bit_points = torch.zeros(3,3, dtype=torch.int)"
   ]
  },
  {
   "cell_type": "code",
   "execution_count": 12,
   "id": "3cbb6a33-06d8-4a8e-8942-ec8f076981b6",
   "metadata": {},
   "outputs": [
    {
     "data": {
      "text/plain": [
       "torch.float64"
      ]
     },
     "execution_count": 12,
     "metadata": {},
     "output_type": "execute_result"
    }
   ],
   "source": [
    "double_points.dtype"
   ]
  },
  {
   "cell_type": "code",
   "execution_count": 13,
   "id": "ca870664-e5c9-4362-a14a-837b592576e7",
   "metadata": {},
   "outputs": [
    {
     "data": {
      "text/plain": [
       "torch.int16"
      ]
     },
     "execution_count": 13,
     "metadata": {},
     "output_type": "execute_result"
    }
   ],
   "source": [
    "short_points.dtype"
   ]
  },
  {
   "cell_type": "code",
   "execution_count": 14,
   "id": "a3cc2213-3800-40cb-91ce-5106e4ed6514",
   "metadata": {},
   "outputs": [
    {
     "data": {
      "text/plain": [
       "torch.int32"
      ]
     },
     "execution_count": 14,
     "metadata": {},
     "output_type": "execute_result"
    }
   ],
   "source": [
    "bit_points.dtype"
   ]
  },
  {
   "cell_type": "code",
   "execution_count": 15,
   "id": "81437a18-f069-4a70-bfb4-ddaef05b7050",
   "metadata": {},
   "outputs": [
    {
     "data": {
      "text/plain": [
       "(torch.float32, torch.int16)"
      ]
     },
     "execution_count": 15,
     "metadata": {},
     "output_type": "execute_result"
    }
   ],
   "source": [
    "#キャスト機能も使える\n",
    "moto=torch.zeros(10, 2)\n",
    "henka=moto.short()\n",
    "moto.dtype, henka.dtype "
   ]
  },
  {
   "cell_type": "code",
   "execution_count": 16,
   "id": "40bb54c2-d0fd-45fb-a5b2-0d242d7bf408",
   "metadata": {},
   "outputs": [
    {
     "data": {
      "text/plain": [
       "torch.float64"
      ]
     },
     "execution_count": 16,
     "metadata": {},
     "output_type": "execute_result"
    }
   ],
   "source": [
    "#関数でもいける\n",
    "anather_use = henka.to(torch.double)\n",
    "anather_use.dtype"
   ]
  },
  {
   "cell_type": "code",
   "execution_count": 17,
   "id": "8738ad81-5699-45cc-961e-3e47f281cee6",
   "metadata": {},
   "outputs": [],
   "source": [
    "#テンソルの演算\n",
    "#テンソルの演算はほとんどtorchモジュールで可能\n",
    "#http://pytorch.org/docs"
   ]
  },
  {
   "cell_type": "code",
   "execution_count": 18,
   "id": "66d84097-bc11-4f90-bc08-c54faee1353c",
   "metadata": {},
   "outputs": [
    {
     "name": "stdout",
     "output_type": "stream",
     "text": [
      "torch.Size([3, 2]) torch.Size([2, 3])\n"
     ]
    }
   ],
   "source": [
    "a = torch.ones(3, 2)\n",
    "a_t = torch.transpose(a, 0, 1)\n",
    "#次元の交換\n",
    "print(a.shape, a_t.shape)"
   ]
  },
  {
   "cell_type": "code",
   "execution_count": 19,
   "id": "b215a652-3dde-45ea-b1ff-269dd48cef8c",
   "metadata": {},
   "outputs": [
    {
     "name": "stdout",
     "output_type": "stream",
     "text": [
      "torch.Size([2, 3])\n"
     ]
    }
   ],
   "source": [
    "a_t = a.transpose(0,1)\n",
    "print(a_t.shape)"
   ]
  },
  {
   "cell_type": "code",
   "execution_count": 20,
   "id": "4e999a6c-7727-42fd-94fa-6b509f5d94f4",
   "metadata": {},
   "outputs": [],
   "source": [
    "#テンソルとストレージの表示関係"
   ]
  },
  {
   "cell_type": "code",
   "execution_count": 21,
   "id": "9266c21f-4729-490a-bf5a-84b81e5e025a",
   "metadata": {},
   "outputs": [],
   "source": [
    "big_points=torch.zeros(6,4,2)\n",
    "points = torch.tensor([[4.0, 1.0], [5.0, 3.0], [2.0, 1.0]])\n",
    "second_points = points[1]"
   ]
  },
  {
   "cell_type": "code",
   "execution_count": 22,
   "id": "d3f5a2bc-0b30-4588-99bb-1b75b2a47a14",
   "metadata": {},
   "outputs": [
    {
     "data": {
      "text/plain": [
       "tensor([5., 3.])"
      ]
     },
     "execution_count": 22,
     "metadata": {},
     "output_type": "execute_result"
    }
   ],
   "source": [
    "second_points"
   ]
  },
  {
   "cell_type": "code",
   "execution_count": 23,
   "id": "d6b4d662-409f-42e6-ae57-b807651d7d5a",
   "metadata": {},
   "outputs": [
    {
     "name": "stdout",
     "output_type": "stream",
     "text": [
      "torch.Size([3, 2])\n",
      "torch.Size([2]) torch.Size([2])\n",
      "torch.Size([6, 4, 2])\n"
     ]
    }
   ],
   "source": [
    "print(points.size())\n",
    "print(second_points.size(), second_points.shape)\n",
    "print(big_points.shape)"
   ]
  },
  {
   "cell_type": "markdown",
   "id": "7a06b379-24e5-4c50-845d-2ab9d4d03e3e",
   "metadata": {},
   "source": [
    "# オフセット"
   ]
  },
  {
   "cell_type": "code",
   "execution_count": 35,
   "id": "905fd368-5a68-47c7-9b0c-9250526de33d",
   "metadata": {},
   "outputs": [
    {
     "name": "stdout",
     "output_type": "stream",
     "text": [
      "2 4 0\n",
      "0 10\n"
     ]
    }
   ],
   "source": [
    "#横に並べて、最初の要素からいくつ目か\n",
    "#points[2]は二つの要素の点をスキップしないといけない\n",
    "#pointsはそれ自身しかない\n",
    "print(points[1].storage_offset(), points[2].storage_offset(), points.storage_offset(),)\n",
    "print(big_points.storage_offset(), big_points[1,1,0].storage_offset())"
   ]
  },
  {
   "cell_type": "code",
   "execution_count": 33,
   "id": "63c2b9b8-01a8-4387-b7b3-bf1edc1c1717",
   "metadata": {},
   "outputs": [
    {
     "data": {
      "text/plain": [
       "tensor([[4., 1.],\n",
       "        [5., 3.],\n",
       "        [2., 1.]])"
      ]
     },
     "execution_count": 33,
     "metadata": {},
     "output_type": "execute_result"
    }
   ],
   "source": [
    "points"
   ]
  },
  {
   "cell_type": "markdown",
   "id": "669b79fb-4acf-40cf-b712-485dcb543fdd",
   "metadata": {},
   "source": [
    "# ストライド"
   ]
  },
  {
   "cell_type": "code",
   "execution_count": 28,
   "id": "87082df3-2e66-44e4-a215-ec710832a0ee",
   "metadata": {},
   "outputs": [
    {
     "data": {
      "text/plain": [
       "(torch.Size([3, 2]), (2, 1), (1,))"
      ]
     },
     "execution_count": 28,
     "metadata": {},
     "output_type": "execute_result"
    }
   ],
   "source": [
    "#各インデックスを増加した時スキップしないといけない要素数\n",
    "#各次元の要素数ー1\n",
    "points.shape,points.stride(), second_points.stride(), "
   ]
  },
  {
   "cell_type": "code",
   "execution_count": 30,
   "id": "b58abe30-fb03-40ff-a769-41eb962a71d2",
   "metadata": {},
   "outputs": [
    {
     "data": {
      "text/plain": [
       "tensor([[4., 1.],\n",
       "        [5., 3.],\n",
       "        [2., 1.]])"
      ]
     },
     "execution_count": 30,
     "metadata": {},
     "output_type": "execute_result"
    }
   ],
   "source": [
    "points"
   ]
  },
  {
   "cell_type": "code",
   "execution_count": 27,
   "id": "d93658f5-7a4d-4a10-8fd8-1385908534af",
   "metadata": {},
   "outputs": [
    {
     "data": {
      "text/plain": [
       "(8, 2, 1)"
      ]
     },
     "execution_count": 27,
     "metadata": {},
     "output_type": "execute_result"
    }
   ],
   "source": [
    "big_points.stride()"
   ]
  },
  {
   "cell_type": "code",
   "execution_count": 121,
   "id": "e4f5ef18-ed65-4900-877e-0770a6bfb8ac",
   "metadata": {},
   "outputs": [
    {
     "data": {
      "text/plain": [
       "tensor([5., 3.])"
      ]
     },
     "execution_count": 121,
     "metadata": {},
     "output_type": "execute_result"
    }
   ],
   "source": [
    "points = torch.tensor([[4.0, 1.0], [5.0, 3.0], [2.0, 1.0]])\n",
    "second_points = points[1]\n",
    "second_points"
   ]
  },
  {
   "cell_type": "code",
   "execution_count": 122,
   "id": "11b02846-3afa-42ea-8699-a8b4db5cb568",
   "metadata": {},
   "outputs": [],
   "source": [
    "second_points[1]=10.0"
   ]
  },
  {
   "cell_type": "code",
   "execution_count": 123,
   "id": "7dad3a9f-cc26-41bc-886d-cdf517e3978c",
   "metadata": {},
   "outputs": [
    {
     "data": {
      "text/plain": [
       "tensor([[ 4.,  1.],\n",
       "        [ 5., 10.],\n",
       "        [ 2.,  1.]])"
      ]
     },
     "execution_count": 123,
     "metadata": {},
     "output_type": "execute_result"
    }
   ],
   "source": [
    "points"
   ]
  },
  {
   "cell_type": "code",
   "execution_count": 29,
   "id": "10d5cc82-2188-4ccc-90a1-fb2e5069954e",
   "metadata": {},
   "outputs": [
    {
     "data": {
      "text/plain": [
       "(5, 1)"
      ]
     },
     "execution_count": 29,
     "metadata": {},
     "output_type": "execute_result"
    }
   ],
   "source": [
    "x = torch.tensor([[1, 2, 3, 4, 5], [6, 7, 8, 9, 10]])\n",
    "x.stride()"
   ]
  },
  {
   "cell_type": "code",
   "execution_count": 124,
   "id": "139d5c36-d089-4718-8f13-014fbc5b3423",
   "metadata": {},
   "outputs": [
    {
     "data": {
      "text/plain": [
       "tensor([ 5., 10.])"
      ]
     },
     "execution_count": 124,
     "metadata": {},
     "output_type": "execute_result"
    }
   ],
   "source": [
    "#サブテンソルの変更は元のテンソルへも影響がある\n",
    "#影響を避けるにはclone()\n",
    "\n",
    "second_points = points[1].clone()\n",
    "second_points"
   ]
  },
  {
   "cell_type": "code",
   "execution_count": 125,
   "id": "b9a1f90f-2e05-4fe2-a130-de2ad794ab64",
   "metadata": {},
   "outputs": [
    {
     "data": {
      "text/plain": [
       "tensor([[ 4.,  1.],\n",
       "        [ 5., 10.],\n",
       "        [ 2.,  1.]])"
      ]
     },
     "execution_count": 125,
     "metadata": {},
     "output_type": "execute_result"
    }
   ],
   "source": [
    "second_points[1] =200\n",
    "points"
   ]
  },
  {
   "cell_type": "code",
   "execution_count": 127,
   "id": "8e375a6b-82e9-4306-9b15-ceb645ae7df6",
   "metadata": {},
   "outputs": [
    {
     "data": {
      "text/plain": [
       "(tensor([[ 4.,  1.],\n",
       "         [ 5., 10.],\n",
       "         [ 2.,  1.]]),\n",
       " tensor([[ 4.,  5.,  2.],\n",
       "         [ 1., 10.,  1.]]))"
      ]
     },
     "execution_count": 127,
     "metadata": {},
     "output_type": "execute_result"
    }
   ],
   "source": [
    "#天地\n",
    "points, points.t()"
   ]
  },
  {
   "cell_type": "code",
   "execution_count": 128,
   "id": "0e23ebd2-8d03-49d2-bcd9-574a4016e136",
   "metadata": {},
   "outputs": [
    {
     "name": "stdout",
     "output_type": "stream",
     "text": [
      "torch.Size([3, 4, 5]) torch.Size([5, 4, 3])\n"
     ]
    }
   ],
   "source": [
    "#高次元での天地は二次元を指定する\n",
    "\n",
    "some_t = torch.ones(3,4,5)\n",
    "transpose_some_t = some_t.transpose(0,2)\n",
    "print(some_t.shape, transpose_some_t.shape)"
   ]
  },
  {
   "cell_type": "code",
   "execution_count": 133,
   "id": "42b38f89-174b-4b21-8202-eb3fdc5409f8",
   "metadata": {},
   "outputs": [
    {
     "data": {
      "text/plain": [
       "(torch.Size([3, 2]), True)"
      ]
     },
     "execution_count": 133,
     "metadata": {},
     "output_type": "execute_result"
    }
   ],
   "source": [
    "#要素が連続しているか確認\n",
    "points.shape, points.is_contiguous()"
   ]
  },
  {
   "cell_type": "code",
   "execution_count": 137,
   "id": "d2624bf1-b1d0-4469-8ada-428b93969839",
   "metadata": {},
   "outputs": [
    {
     "data": {
      "text/plain": [
       "(torch.Size([2, 3]), False)"
      ]
     },
     "execution_count": 137,
     "metadata": {},
     "output_type": "execute_result"
    }
   ],
   "source": [
    "#天地した行列は連続していない\n",
    "points.t().shape, points.t().is_contiguous()"
   ]
  },
  {
   "cell_type": "code",
   "execution_count": 138,
   "id": "e342e890-7dac-4edd-bb8f-336631b567f8",
   "metadata": {},
   "outputs": [],
   "source": [
    "points_t = points.t()\n",
    "points_t_cont = points_t.contiguous()"
   ]
  },
  {
   "cell_type": "code",
   "execution_count": 139,
   "id": "be32221e-7a44-4e88-b6d2-42d979fd0768",
   "metadata": {},
   "outputs": [
    {
     "data": {
      "text/plain": [
       "True"
      ]
     },
     "execution_count": 139,
     "metadata": {},
     "output_type": "execute_result"
    }
   ],
   "source": [
    "#contiguous()で新しいテンソルが作られる\n",
    "points_t_cont.is_contiguous()"
   ]
  },
  {
   "cell_type": "code",
   "execution_count": null,
   "id": "b09448fc-f391-45df-928e-e1c8a3933df9",
   "metadata": {},
   "outputs": [],
   "source": [
    "#GPUへの転送\n",
    "#deviceという属性にはテンソルの場所を示す\n",
    "points_gpu = torch.tensor([[4.0, 1.0],[5.0, 3.0], [2.0, 1.0], device='cuda')"
   ]
  },
  {
   "cell_type": "code",
   "execution_count": null,
   "id": "74f5831d-016c-41c3-b350-7d25db46c0a8",
   "metadata": {},
   "outputs": [],
   "source": [
    "#cpuで作成したテンソルの送信\n",
    "points_gpu = points.to(device='cuda')"
   ]
  },
  {
   "cell_type": "code",
   "execution_count": null,
   "id": "e3a87920-d8a7-423c-8b76-0c8a2e99c814",
   "metadata": {},
   "outputs": [],
   "source": [
    "#複数のGPUがある場合は整数で選択\n",
    "points_gpu = points.to(device='cuda:0')"
   ]
  },
  {
   "cell_type": "code",
   "execution_count": 3,
   "id": "2ce800e9-5d68-4d76-9cf8-83ffa5738eec",
   "metadata": {},
   "outputs": [],
   "source": [
    "#numpyとの相互運用性"
   ]
  },
  {
   "cell_type": "code",
   "execution_count": 1,
   "id": "145c131f-171d-49a1-8268-18b768c23c3d",
   "metadata": {},
   "outputs": [
    {
     "data": {
      "text/plain": [
       "(array([[1., 1., 1., 1.],\n",
       "        [1., 1., 1., 1.],\n",
       "        [1., 1., 1., 1.]], dtype=float32),\n",
       " tensor([[1., 1., 1., 1.],\n",
       "         [1., 1., 1., 1.],\n",
       "         [1., 1., 1., 1.]]))"
      ]
     },
     "execution_count": 1,
     "metadata": {},
     "output_type": "execute_result"
    }
   ],
   "source": [
    "import torch\n",
    "points = torch.ones(3, 4)\n",
    "points_np = points.numpy()\n",
    "points_np, points"
   ]
  },
  {
   "cell_type": "code",
   "execution_count": 2,
   "id": "241d39cb-f89a-48e2-96c3-448f1bab40e2",
   "metadata": {},
   "outputs": [],
   "source": [
    "points_np[1][1]=3"
   ]
  },
  {
   "cell_type": "code",
   "execution_count": 9,
   "id": "f5af3dc6-6cb6-45bb-9e11-a0bba4e4ece7",
   "metadata": {},
   "outputs": [
    {
     "data": {
      "text/plain": [
       "(array([[1., 1., 1., 1.],\n",
       "        [1., 3., 1., 1.],\n",
       "        [1., 1., 1., 1.]], dtype=float32),\n",
       " tensor([[1., 1., 1., 1.],\n",
       "         [1., 3., 1., 1.],\n",
       "         [1., 1., 1., 1.]]))"
      ]
     },
     "execution_count": 9,
     "metadata": {},
     "output_type": "execute_result"
    }
   ],
   "source": [
    "#メモリを共有している\n",
    "points_np, points"
   ]
  },
  {
   "cell_type": "code",
   "execution_count": 10,
   "id": "3f8826b9-3f6b-4930-8aa2-ae944574a2ea",
   "metadata": {},
   "outputs": [],
   "source": [
    "#テンソルの保存とロード"
   ]
  },
  {
   "cell_type": "code",
   "execution_count": 17,
   "id": "4ca0a0db-e54d-4046-9273-fc772fbc26d8",
   "metadata": {},
   "outputs": [],
   "source": [
    "#ファイル名で保存\n",
    "torch.save(points, \"ourpoints.t\")"
   ]
  },
  {
   "cell_type": "code",
   "execution_count": 18,
   "id": "05d6d2f1-b5ed-4b23-948a-e5cd741c2159",
   "metadata": {},
   "outputs": [],
   "source": [
    "#ファイル変数として保存\n",
    "with open ('ourpoints2.t', \"wb\") as f:\n",
    "    torch.save(points, f)"
   ]
  },
  {
   "cell_type": "code",
   "execution_count": 4,
   "id": "75b26128-593b-4b4f-8dff-7daa8bfacd66",
   "metadata": {},
   "outputs": [
    {
     "name": "stdout",
     "output_type": "stream",
     "text": [
      "tensor([[1., 1., 1., 1.],\n",
      "        [1., 3., 1., 1.],\n",
      "        [1., 1., 1., 1.]])\n"
     ]
    }
   ],
   "source": [
    "#ロード\n",
    "points_load = torch.load('ourpoints.t')\n",
    "print(points_load)"
   ]
  },
  {
   "cell_type": "code",
   "execution_count": 26,
   "id": "6528710e-1be5-4d67-99c3-503842df1968",
   "metadata": {},
   "outputs": [],
   "source": [
    "with open('ourpoints2.t','rb') as f:\n",
    "    points = torch.load(f)"
   ]
  },
  {
   "cell_type": "code",
   "execution_count": 3,
   "id": "3a347b0c-2fe5-418a-9d12-e4b30a0a1f0f",
   "metadata": {},
   "outputs": [],
   "source": [
    "#h5pyによるHDF5での保存\n",
    "#HDF5形式はkey-value辞書形式で構成された多次元配列を表現するためのフォーマット\n",
    "import h5py"
   ]
  },
  {
   "cell_type": "code",
   "execution_count": 4,
   "id": "84aada48-d796-4821-854b-f2f6ff5b0016",
   "metadata": {},
   "outputs": [],
   "source": [
    "f = h5py.File('ourpoints.hdf5', 'w')\n",
    "dset = f.create_dataset('coords', data=points.numpy())\n",
    "f.close()"
   ]
  },
  {
   "cell_type": "code",
   "execution_count": 6,
   "id": "d2dce54c-e81d-4c49-adfa-ca87346617a9",
   "metadata": {},
   "outputs": [
    {
     "name": "stdout",
     "output_type": "stream",
     "text": [
      "<HDF5 dataset \"coords\": shape (3, 4), type \"<f4\">\n",
      "[[1. 3. 1. 1.]\n",
      " [1. 1. 1. 1.]]\n"
     ]
    }
   ],
   "source": [
    "f = h5py.File('ourpoints.hdf5', \"r\")\n",
    "dset = f['coords']\n",
    "#関心のある要素のみメモリに載せることができる\n",
    "last_points = dset[-2:]\n",
    "print(dset)\n",
    "print(last_points)"
   ]
  },
  {
   "cell_type": "code",
   "execution_count": 7,
   "id": "26a6f786-24ba-4ff2-b87d-2d24136fc879",
   "metadata": {},
   "outputs": [],
   "source": [
    "#演習問題"
   ]
  },
  {
   "cell_type": "code",
   "execution_count": 28,
   "id": "4e1b635e-b4b2-4201-927d-d562b5e067ff",
   "metadata": {},
   "outputs": [
    {
     "name": "stdout",
     "output_type": "stream",
     "text": [
      "[0, 1, 2, 3, 4, 5, 6, 7, 8]\n",
      "tensor([0, 1, 2, 3, 4, 5, 6, 7, 8])\n",
      "torch.Size([9]) 0 (1,)\n"
     ]
    }
   ],
   "source": [
    "a = list(range(9))\n",
    "print(a)\n",
    "a= torch.tensor(a)\n",
    "print(a)\n",
    "print(a.size(), a.storage_offset(), a.stride())"
   ]
  },
  {
   "cell_type": "code",
   "execution_count": 29,
   "id": "b98dc0f3-9b4c-4c7b-b390-7b60e13cd99a",
   "metadata": {},
   "outputs": [
    {
     "data": {
      "text/plain": [
       "tensor([[0, 1, 2],\n",
       "        [3, 4, 5],\n",
       "        [6, 7, 8]])"
      ]
     },
     "execution_count": 29,
     "metadata": {},
     "output_type": "execute_result"
    }
   ],
   "source": [
    "b = a.view(3, 3)\n",
    "b"
   ]
  },
  {
   "cell_type": "code",
   "execution_count": 30,
   "id": "385586ec-8fbf-4b17-b608-99000625607e",
   "metadata": {},
   "outputs": [
    {
     "data": {
      "text/plain": [
       "(tensor([  0,   1,   2,   3,   4, 100,   6,   7,   8]),\n",
       " tensor([[  0,   1,   2],\n",
       "         [  3,   4, 100],\n",
       "         [  6,   7,   8]]))"
      ]
     },
     "execution_count": 30,
     "metadata": {},
     "output_type": "execute_result"
    }
   ],
   "source": [
    "b[1][2] = 100\n",
    "a,b"
   ]
  },
  {
   "cell_type": "code",
   "execution_count": 31,
   "id": "1fb858b9-3064-417c-972a-5e458e160397",
   "metadata": {},
   "outputs": [
    {
     "name": "stdout",
     "output_type": "stream",
     "text": [
      "tensor([[  4, 100],\n",
      "        [  7,   8]])\n",
      "torch.Size([2, 2]) 4 (3, 1)\n"
     ]
    }
   ],
   "source": [
    "c = b[1:,1:]\n",
    "print(c)\n",
    "print(c.size(), c.storage_offset(), c.stride())"
   ]
  },
  {
   "cell_type": "code",
   "execution_count": 33,
   "id": "b7c8a7e7-2a3e-44bb-9316-61dfa82b97da",
   "metadata": {},
   "outputs": [
    {
     "name": "stdout",
     "output_type": "stream",
     "text": [
      "tensor([ 1.0000,  0.5403, -0.4161, -0.9900, -0.6536,  0.8623,  0.9602,  0.7539,\n",
      "        -0.1455])\n"
     ]
    }
   ],
   "source": [
    "print(torch.cos(a))"
   ]
  },
  {
   "cell_type": "code",
   "execution_count": 34,
   "id": "dc09606f-cc3c-4651-b51d-4b97041573ab",
   "metadata": {},
   "outputs": [
    {
     "name": "stdout",
     "output_type": "stream",
     "text": [
      "tensor([   inf, 1.0000, 0.7071, 0.5774, 0.5000, 0.1000, 0.4082, 0.3780, 0.3536])\n"
     ]
    }
   ],
   "source": [
    "print(torch.rsqrt(a))"
   ]
  },
  {
   "cell_type": "code",
   "execution_count": 35,
   "id": "2a171d5d-468a-4dcb-bbab-50d81dcbcb7b",
   "metadata": {},
   "outputs": [
    {
     "data": {
      "text/plain": [
       "tensor([  0,   1,   2,   3,   4, 100,   6,   7,   8])"
      ]
     },
     "execution_count": 35,
     "metadata": {},
     "output_type": "execute_result"
    }
   ],
   "source": [
    "a"
   ]
  },
  {
   "cell_type": "code",
   "execution_count": null,
   "id": "ca13caa5-f196-42dd-8bdd-45b0dd6327c9",
   "metadata": {},
   "outputs": [],
   "source": []
  }
 ],
 "metadata": {
  "kernelspec": {
   "display_name": "Python 3 (ipykernel)",
   "language": "python",
   "name": "python3"
  },
  "language_info": {
   "codemirror_mode": {
    "name": "ipython",
    "version": 3
   },
   "file_extension": ".py",
   "mimetype": "text/x-python",
   "name": "python",
   "nbconvert_exporter": "python",
   "pygments_lexer": "ipython3",
   "version": "3.9.10"
  }
 },
 "nbformat": 4,
 "nbformat_minor": 5
}
