{
 "cells": [
  {
   "cell_type": "markdown",
   "id": "2ca0cc48-4b5a-4a2a-a980-1fd3074c5cba",
   "metadata": {},
   "source": [
    "##　ニューラルネットワーク"
   ]
  },
  {
   "cell_type": "markdown",
   "id": "802debbc-ea3b-47a2-9ac3-c8fb54febbde",
   "metadata": {},
   "source": [
    "損失関数で求めた誤差を各パラメータに逆伝播して損失に対する勾配をもとめ、勾配に応じてパラメータを更新する"
   ]
  },
  {
   "cell_type": "markdown",
   "id": "adcf8303-d7aa-4ee8-b0f6-170604347520",
   "metadata": {},
   "source": [
    "線形関数（各パラメータを含む）に活性化関数（非線形関数）を適用することで、複雑な関数として動く\n",
    "o = tanh(wx + b)\n",
    "\n",
    "oとｘはスカラーでもベクトルでも\n",
    "ｗもスカラーでも行列でも\n",
    "ｂはスカラーかベクトル（入力と出力の次元は同じ）"
   ]
  },
  {
   "cell_type": "markdown",
   "id": "ea0ac6ce-ae4d-4b07-9690-a88cfc316b24",
   "metadata": {},
   "source": [
    "誤差関数の理解\n",
    "\n",
    "線形モデルでは誤差関数が凸型だが、ニューラルネットでは各パラメータに唯一の解が無く、凸上にならない"
   ]
  },
  {
   "cell_type": "markdown",
   "id": "799028ab-a0e4-47d6-98d7-8d00529d2c55",
   "metadata": {},
   "source": [
    "活性化関数の意味\n",
    "\n",
    "線形変換では10点々での評価でも11点を出すなど出力を特定の範囲に制限できない\n",
    "\n",
    "1/(1+e** -x)を計算するnn.Sigmoidやtanhなどを用いることで解決できる\n",
    "xが負の無限大に近づくと0または―1へ、正の無限大に近づくと１になる2"
   ]
  },
  {
   "cell_type": "markdown",
   "id": "e49081d5-09d7-4435-9713-606dab4b99a3",
   "metadata": {},
   "source": [
    "最適な活性化関数の選択\n",
    "\n",
    "活性化関数なしでは繰り返し使用しても同じ形式の関数が得られる（アフィン変換）拡大回転等のみ\n",
    "活性化関数は微分可能\n",
    "\n",
    "活性化関数は入力に対して感度の高い領域を保有し、入力値の重要な変化に応じ変化も大きくなる。訓練に必要な特徴\n",
    "また入力値の変化に出力が変化しないような飽和領域も保有している"
   ]
  },
  {
   "cell_type": "markdown",
   "id": "f01cf895-54e1-44db-8ac9-7ff1f3934b85",
   "metadata": {},
   "source": [
    "## nnモジュール"
   ]
  },
  {
   "cell_type": "code",
   "execution_count": 75,
   "id": "265e6cce-ea4a-47f9-9a89-f63cb42c087e",
   "metadata": {},
   "outputs": [
    {
     "data": {
      "text/plain": [
       "torch.Size([11, 1])"
      ]
     },
     "execution_count": 75,
     "metadata": {},
     "output_type": "execute_result"
    }
   ],
   "source": [
    "%matplotlib inline\n",
    "import numpy as np\n",
    "import torch\n",
    "import torch.optim as optim\n",
    "\n",
    "t_c = [0.5,  14.0, 15.0, 28.0, 11.0,  8.0,  3.0, -4.0,  6.0, 13.0, 21.0]\n",
    "t_u = [35.7, 55.9, 58.2, 81.9, 56.3, 48.9, 33.9, 21.8, 48.4, 60.4, 68.4]\n",
    "t_c = torch.tensor(t_c).unsqueeze(1) # <1>\n",
    "t_u = torch.tensor(t_u).unsqueeze(1) # <1>\n",
    "\n",
    "t_u.shape"
   ]
  },
  {
   "cell_type": "code",
   "execution_count": 76,
   "id": "afcefa5c-87d5-4646-adb3-dbbec8c87142",
   "metadata": {},
   "outputs": [
    {
     "data": {
      "text/plain": [
       "(tensor([ 1, 10,  2,  8,  5,  9,  6,  0,  4]), tensor([3, 7]))"
      ]
     },
     "execution_count": 76,
     "metadata": {},
     "output_type": "execute_result"
    }
   ],
   "source": [
    "n_samples = t_u.shape[0]\n",
    "n_val = int(0.2 * n_samples)\n",
    "\n",
    "shuffled_indices = torch.randperm(n_samples)\n",
    "\n",
    "train_indices = shuffled_indices[:-n_val]\n",
    "val_indices = shuffled_indices[-n_val:]\n",
    "\n",
    "train_indices, val_indices"
   ]
  },
  {
   "cell_type": "code",
   "execution_count": 77,
   "id": "1a0b89ce-389b-4b4e-8e16-3f0db6cd4a21",
   "metadata": {},
   "outputs": [],
   "source": [
    "t_u_train = t_u[train_indices]\n",
    "t_c_train = t_c[train_indices]\n",
    "\n",
    "t_u_val = t_u[val_indices]\n",
    "t_c_val = t_c[val_indices]\n",
    "\n",
    "t_un_train = 0.1 * t_u_train\n",
    "t_un_val = 0.1 * t_u_val"
   ]
  },
  {
   "cell_type": "code",
   "execution_count": 78,
   "id": "c7dfe005-5bf0-4b9a-8dc1-de4815d305bf",
   "metadata": {},
   "outputs": [
    {
     "data": {
      "text/plain": [
       "tensor([[5.8782],\n",
       "        [1.9026]], grad_fn=<AddmmBackward0>)"
      ]
     },
     "execution_count": 78,
     "metadata": {},
     "output_type": "execute_result"
    }
   ],
   "source": [
    "import torch.nn as nn\n",
    "linear_model = nn.Linear(1, 1)#コンストラクタに引数を与える\n",
    "linear_model(t_un_val)"
   ]
  },
  {
   "cell_type": "code",
   "execution_count": 79,
   "id": "95458a44-f331-4729-83e8-14d95c275157",
   "metadata": {},
   "outputs": [],
   "source": [
    "#インスタンスと引数を渡すと、同じ引数をもつfowardが実行される\n",
    "#下は同じだが、foward()は呼ばない\n",
    "\n",
    "#y = model(x)\n",
    "#y = model.foward(x)"
   ]
  },
  {
   "cell_type": "markdown",
   "id": "39db905f-fc84-4ebf-b89c-6a17e0d5fdda",
   "metadata": {},
   "source": [
    "nnで線形モデル作成（無駄だが）"
   ]
  },
  {
   "cell_type": "code",
   "execution_count": 80,
   "id": "b1188460-0536-4ffe-a8cb-9d62d8ac3cf0",
   "metadata": {},
   "outputs": [
    {
     "data": {
      "text/plain": [
       "tensor([[ 1.6335],\n",
       "        [-0.2067]], grad_fn=<AddmmBackward0>)"
      ]
     },
     "execution_count": 80,
     "metadata": {},
     "output_type": "execute_result"
    }
   ],
   "source": [
    "import torch.nn as nn\n",
    "#Linearの引数は三つ（入力特徴量の次元、出力特徴量の次元、バイアルの有無（デフォルトはTrue））\n",
    "linear_model = nn.Linear(1, 1)\n",
    "linear_model(t_un_val)"
   ]
  },
  {
   "cell_type": "code",
   "execution_count": 81,
   "id": "0f9ca589-624f-44cb-90a5-44f05857018a",
   "metadata": {},
   "outputs": [
    {
     "data": {
      "text/plain": [
       "Parameter containing:\n",
       "tensor([[0.3062]], requires_grad=True)"
      ]
     },
     "execution_count": 81,
     "metadata": {},
     "output_type": "execute_result"
    }
   ],
   "source": [
    "linear_model.weight"
   ]
  },
  {
   "cell_type": "code",
   "execution_count": 82,
   "id": "e97e64ba-8397-4c3c-a9f4-a7555951c3fd",
   "metadata": {},
   "outputs": [
    {
     "data": {
      "text/plain": [
       "Parameter containing:\n",
       "tensor([-0.8742], requires_grad=True)"
      ]
     },
     "execution_count": 82,
     "metadata": {},
     "output_type": "execute_result"
    }
   ],
   "source": [
    "linear_model.bias"
   ]
  },
  {
   "cell_type": "code",
   "execution_count": 83,
   "id": "c4a18688-aea6-4e1a-8379-17a705d674bb",
   "metadata": {},
   "outputs": [
    {
     "data": {
      "text/plain": [
       "tensor([-0.5680], grad_fn=<AddBackward0>)"
      ]
     },
     "execution_count": 83,
     "metadata": {},
     "output_type": "execute_result"
    }
   ],
   "source": [
    "#一部部省略して入力が可能、これはバッチ次元（０）を省略している\n",
    "x = torch.ones(1)\n",
    "linear_model(x)"
   ]
  },
  {
   "cell_type": "code",
   "execution_count": 84,
   "id": "b8639aa8-b7c6-4a89-9d85-3ee089e88b2f",
   "metadata": {},
   "outputs": [
    {
     "data": {
      "text/plain": [
       "tensor([[-0.5680],\n",
       "        [-0.5680],\n",
       "        [-0.5680],\n",
       "        [-0.5680],\n",
       "        [-0.5680],\n",
       "        [-0.5680],\n",
       "        [-0.5680],\n",
       "        [-0.5680],\n",
       "        [-0.5680],\n",
       "        [-0.5680]], grad_fn=<AddmmBackward0>)"
      ]
     },
     "execution_count": 84,
     "metadata": {},
     "output_type": "execute_result"
    }
   ],
   "source": [
    "# nn.Moduleとそのサブクラスは複数の入出力を同時に扱える\n",
    "# 入力の０次元はバッチ数を想定\n",
    "# バッチ数：１０、特量量の数：１\n",
    "\n",
    "x = torch.ones(10, 1)\n",
    "linear_model(x)"
   ]
  },
  {
   "cell_type": "markdown",
   "id": "895bdb9b-c386-4f96-b8e4-204711aefe69",
   "metadata": {},
   "source": [
    "バッチの最適化\n",
    "\n",
    "バッチ処理をする理由はリソースの飽和を防ぐ、バッチ全体の統計情報使用しているモデルもありバッチサイズが大きくなると性能向上する"
   ]
  },
  {
   "cell_type": "code",
   "execution_count": 107,
   "id": "9c27fb2a-e30d-458c-98cd-82f5fe33d0b2",
   "metadata": {},
   "outputs": [],
   "source": [
    "t_c = [0.5,  14.0, 15.0, 28.0, 11.0,  8.0,  3.0, -4.0,  6.0, 13.0, 21.0]\n",
    "t_u = [35.7, 55.9, 58.2, 81.9, 56.3, 48.9, 33.9, 21.8, 48.4, 60.4, 68.4]\n",
    "t_c = torch.tensor(t_c).unsqueeze(1) # 余分な次元の追加\n",
    "t_u = torch.tensor(t_u).unsqueeze(1)"
   ]
  },
  {
   "cell_type": "code",
   "execution_count": 108,
   "id": "6f8f48af-7630-4d9e-80d6-f7d1f33bee74",
   "metadata": {},
   "outputs": [],
   "source": [
    "liner_model = nn.Linear(1, 1)\n",
    "#optimaizerの引数はパラメータとlr\n",
    "optimaizer = optim.SGD(\n",
    "    linear_model.parameters(),#linear_modelのパラメータを\n",
    "    lr = 1e-2)"
   ]
  },
  {
   "cell_type": "code",
   "execution_count": 109,
   "id": "1fa529b7-06f9-4f54-b4d4-70ab35a1b8ee",
   "metadata": {},
   "outputs": [
    {
     "data": {
      "text/plain": [
       "<generator object Module.parameters at 0x7f1b40de5f20>"
      ]
     },
     "execution_count": 109,
     "metadata": {},
     "output_type": "execute_result"
    }
   ],
   "source": [
    "linear_model.parameters()"
   ]
  },
  {
   "cell_type": "code",
   "execution_count": 110,
   "id": "a88c2ac2-a242-4833-b3b8-4caa06b80b8e",
   "metadata": {},
   "outputs": [
    {
     "data": {
      "text/plain": [
       "[Parameter containing:\n",
       " tensor([[5.1138]], requires_grad=True),\n",
       " Parameter containing:\n",
       " tensor([-16.2474], requires_grad=True)]"
      ]
     },
     "execution_count": 110,
     "metadata": {},
     "output_type": "execute_result"
    }
   ],
   "source": [
    "list(linear_model.parameters())"
   ]
  },
  {
   "cell_type": "code",
   "execution_count": 111,
   "id": "85d3805d-e873-407b-b098-9c6c1d3c680b",
   "metadata": {},
   "outputs": [],
   "source": [
    "#modelは引数にいれ使用\n",
    "#損失関数もできものを使用\n",
    "def training_loop(n_epochs, optimizer, model, loss_fn, t_u_train, t_u_val, t_c_train, t_c_val):\n",
    "    for epoch in range(1, n_epochs +1):\n",
    "        t_p_train = model(t_u_train)\n",
    "        loss_train = loss_fn(t_p_train, t_c_train)\n",
    "        \n",
    "        t_p_val = model(t_u_val)\n",
    "        loss_val = loss_fn(t_p_val, t_c_val)\n",
    "        \n",
    "        optimizer.zero_grad()\n",
    "        loss_train.backward() # <2>\n",
    "        optimizer.step()\n",
    "\n",
    "        if epoch == 1 or epoch % 1000 == 0:\n",
    "            print(f\"Epoch {epoch}, Training loss {loss_train.item():.4f},\"\n",
    "                  f\" Validation loss {loss_val.item():.4f}\")"
   ]
  },
  {
   "cell_type": "code",
   "execution_count": 112,
   "id": "cc313147-625f-4568-9980-bc3d60349302",
   "metadata": {},
   "outputs": [
    {
     "name": "stdout",
     "output_type": "stream",
     "text": [
      "Epoch 1, Training loss 76.2894, Validation loss 268.3383\n",
      "Epoch 1000, Training loss 5.6591, Validation loss 19.5508\n",
      "Epoch 2000, Training loss 3.5314, Validation loss 5.6341\n",
      "Epoch 3000, Training loss 3.0927, Validation loss 3.3478\n",
      "\n",
      "Parameter containing:\n",
      "tensor([[5.1324]], requires_grad=True)\n",
      "Parameter containing:\n",
      "tensor([-16.3475], requires_grad=True)\n"
     ]
    }
   ],
   "source": [
    "#損失関数はnn.MSELossで既存のものを使用\n",
    "#nn.はインスタンスを作成し関数として使用\n",
    "linear_model = nn.Linear(1, 1)\n",
    "optimizer = optim.SGD(linear_model.parameters(), lr=1e-2)\n",
    "\n",
    "training_loop(\n",
    "    n_epochs = 3000, \n",
    "    optimizer = optimizer,\n",
    "    model = linear_model,\n",
    "    loss_fn = nn.MSELoss(),\n",
    "    t_u_train = t_un_train,\n",
    "    t_u_val = t_un_val, \n",
    "    t_c_train = t_c_train,\n",
    "    t_c_val = t_c_val)\n",
    "\n",
    "print()\n",
    "print(linear_model.weight)\n",
    "print(linear_model.bias)"
   ]
  },
  {
   "cell_type": "markdown",
   "id": "14734d70-0555-492e-8eb5-7cfb5afaaf3e",
   "metadata": {},
   "source": [
    "## ニューラルネット構築"
   ]
  },
  {
   "cell_type": "code",
   "execution_count": 113,
   "id": "32cd9c4c-4f76-4aad-898e-c63776ba1691",
   "metadata": {},
   "outputs": [
    {
     "data": {
      "text/plain": [
       "Sequential(\n",
       "  (0): Linear(in_features=1, out_features=13, bias=True)\n",
       "  (1): Tanh()\n",
       "  (2): Linear(in_features=13, out_features=1, bias=True)\n",
       ")"
      ]
     },
     "execution_count": 113,
     "metadata": {},
     "output_type": "execute_result"
    }
   ],
   "source": [
    "#nnモジュールの連結にnn.sequentialを使用\n",
    "#13は適当入出力は合わせる\n",
    "\n",
    "seq_model = nn.Sequential(\n",
    "    nn.Linear(1, 13),\n",
    "    nn.Tanh(),\n",
    "    nn.Linear(13, 1))\n",
    "\n",
    "seq_model"
   ]
  },
  {
   "cell_type": "code",
   "execution_count": 114,
   "id": "1b5a7237-1182-47aa-a8b4-85a452ab9ea1",
   "metadata": {},
   "outputs": [
    {
     "data": {
      "text/plain": [
       "[torch.Size([13, 1]), torch.Size([13]), torch.Size([1, 13]), torch.Size([1])]"
      ]
     },
     "execution_count": 114,
     "metadata": {},
     "output_type": "execute_result"
    }
   ],
   "source": [
    "#parametersはoptimaizerが取得するパラメータ\n",
    "#bavkfowrdで計算されるもの\n",
    "[param.shape for param in seq_model.parameters()]"
   ]
  },
  {
   "cell_type": "code",
   "execution_count": 115,
   "id": "873c6ac0-ccab-4b00-bbf1-ba0140cfa080",
   "metadata": {},
   "outputs": [
    {
     "name": "stdout",
     "output_type": "stream",
     "text": [
      "0.weight torch.Size([13, 1])\n",
      "0.bias torch.Size([13])\n",
      "2.weight torch.Size([1, 13])\n",
      "2.bias torch.Size([1])\n"
     ]
    }
   ],
   "source": [
    "#パラメータに名前があり識別できる\n",
    "for name, param in seq_model.named_parameters():\n",
    "    print(name, param.shape)"
   ]
  },
  {
   "cell_type": "code",
   "execution_count": 116,
   "id": "cbe13b7a-bc89-4855-9d95-b330a9254149",
   "metadata": {},
   "outputs": [
    {
     "data": {
      "text/plain": [
       "Sequential(\n",
       "  (hidden_Linear): Linear(in_features=1, out_features=8, bias=True)\n",
       "  (hiddrn_activation): Tanh()\n",
       "  (output_Linear): Linear(in_features=8, out_features=1, bias=True)\n",
       ")"
      ]
     },
     "execution_count": 116,
     "metadata": {},
     "output_type": "execute_result"
    }
   ],
   "source": [
    "#自由に名前を付けることも可能\n",
    "from collections import OrderedDict\n",
    "\n",
    "seq_model = nn.Sequential(OrderedDict([(\"hidden_Linear\", nn.Linear(1, 8)),\n",
    "                                      (\"hiddrn_activation\", nn.Tanh()),\n",
    "                                      (\"output_Linear\", nn.Linear(8, 1))\n",
    "                                     ]))\n",
    "\n",
    "seq_model"
   ]
  },
  {
   "cell_type": "code",
   "execution_count": 117,
   "id": "f8141bfe-916f-4ee2-9ad6-3ea30a56d2f6",
   "metadata": {},
   "outputs": [
    {
     "data": {
      "text/plain": [
       "Linear(in_features=8, out_features=1, bias=True)"
      ]
     },
     "execution_count": 117,
     "metadata": {},
     "output_type": "execute_result"
    }
   ],
   "source": [
    "seq_model.output_Linear"
   ]
  },
  {
   "cell_type": "code",
   "execution_count": 118,
   "id": "853030e2-3188-46db-86f6-8ef118b98a18",
   "metadata": {},
   "outputs": [
    {
     "data": {
      "text/plain": [
       "Parameter containing:\n",
       "tensor([0.1516], requires_grad=True)"
      ]
     },
     "execution_count": 118,
     "metadata": {},
     "output_type": "execute_result"
    }
   ],
   "source": [
    "seq_model.output_Linear.bias"
   ]
  },
  {
   "cell_type": "code",
   "execution_count": 121,
   "id": "d1b2238a-994f-485f-a416-09322f28e66d",
   "metadata": {},
   "outputs": [
    {
     "name": "stdout",
     "output_type": "stream",
     "text": [
      "Epoch 1, Training loss 35.3453, Validation loss 242.9655\n",
      "Epoch 1000, Training loss 6.4881, Validation loss 60.8218\n",
      "Epoch 2000, Training loss 3.1714, Validation loss 25.5596\n",
      "Epoch 3000, Training loss 2.5908, Validation loss 16.9956\n",
      "Epoch 4000, Training loss 2.9586, Validation loss 15.3346\n",
      "Epoch 5000, Training loss 2.6761, Validation loss 13.4934\n"
     ]
    }
   ],
   "source": [
    "optimizer = optim.SGD(seq_model.parameters(), lr=1e-3)\n",
    "\n",
    "training_loop(n_epochs = 5000,\n",
    "              optimizer = optimizer,\n",
    "              model = seq_model,\n",
    "              loss_fn = nn.MSELoss(),\n",
    "              t_u_train = t_un_train,\n",
    "              t_u_val = t_un_val,\n",
    "              t_c_train = t_c_train,\n",
    "              t_c_val = t_c_val)"
   ]
  },
  {
   "cell_type": "code",
   "execution_count": 122,
   "id": "53a1a4a3-a2d3-4b5d-8c66-859a712cca17",
   "metadata": {},
   "outputs": [
    {
     "name": "stdout",
     "output_type": "stream",
     "text": [
      "output tensor([[23.8691],\n",
      "        [-1.5857]], grad_fn=<AddmmBackward0>)\n",
      "answer tensor([[28.],\n",
      "        [-4.]])\n",
      "hidden tensor([[-1.9789e+01],\n",
      "        [ 2.6903e-01],\n",
      "        [ 2.9143e-03],\n",
      "        [ 2.0708e-01],\n",
      "        [-1.5959e+01],\n",
      "        [-2.0320e-01],\n",
      "        [-1.8764e+01],\n",
      "        [-2.5711e+01]])\n"
     ]
    }
   ],
   "source": [
    "print(\"output\", seq_model(t_un_val))\n",
    "print(\"answer\", t_c_val)\n",
    "print(\"hidden\", seq_model.hidden_Linear.weight.grad)"
   ]
  },
  {
   "cell_type": "code",
   "execution_count": null,
   "id": "16bb9e6d-05ad-4b4b-ac1d-584ba5232a2b",
   "metadata": {},
   "outputs": [],
   "source": []
  },
  {
   "cell_type": "code",
   "execution_count": null,
   "id": "528a651f-41c9-4572-a47a-b03f24957956",
   "metadata": {},
   "outputs": [],
   "source": []
  },
  {
   "cell_type": "code",
   "execution_count": null,
   "id": "5dcc275e-305a-483d-92bd-0ddba830f456",
   "metadata": {},
   "outputs": [],
   "source": []
  },
  {
   "cell_type": "code",
   "execution_count": null,
   "id": "a2f340a7-5352-4f66-9d1b-a2ef6f22e9af",
   "metadata": {},
   "outputs": [],
   "source": []
  },
  {
   "cell_type": "code",
   "execution_count": null,
   "id": "6c7c5c50-31d3-4f51-91e1-5f20ee28851d",
   "metadata": {},
   "outputs": [],
   "source": []
  },
  {
   "cell_type": "code",
   "execution_count": null,
   "id": "eaa060a9-c3ff-4bbe-ab13-2de12657b2c3",
   "metadata": {},
   "outputs": [],
   "source": []
  },
  {
   "cell_type": "code",
   "execution_count": null,
   "id": "a32a1e22-a907-49d1-bd0d-6b333466d8ba",
   "metadata": {},
   "outputs": [],
   "source": []
  },
  {
   "cell_type": "code",
   "execution_count": null,
   "id": "1e948d8e-c001-4613-aa80-e0af617b0abf",
   "metadata": {},
   "outputs": [],
   "source": []
  },
  {
   "cell_type": "code",
   "execution_count": null,
   "id": "07315a5c-c4d9-460f-8ad1-8196f6371d8f",
   "metadata": {},
   "outputs": [],
   "source": []
  },
  {
   "cell_type": "code",
   "execution_count": null,
   "id": "77e65c0c-51f7-46a6-ab48-1058ad77f9d9",
   "metadata": {},
   "outputs": [],
   "source": []
  },
  {
   "cell_type": "code",
   "execution_count": null,
   "id": "dd48381d-0614-4625-8ccc-ee93421036bf",
   "metadata": {},
   "outputs": [],
   "source": []
  },
  {
   "cell_type": "code",
   "execution_count": null,
   "id": "11109617-3aad-4e72-be46-33d1a5a2ac42",
   "metadata": {},
   "outputs": [],
   "source": []
  },
  {
   "cell_type": "code",
   "execution_count": null,
   "id": "f49d9475-86ac-4ba9-b86f-61ad9a5331c3",
   "metadata": {},
   "outputs": [],
   "source": []
  },
  {
   "cell_type": "code",
   "execution_count": null,
   "id": "9a01e3c2-a9ac-43e4-8887-5a66b85ba905",
   "metadata": {},
   "outputs": [],
   "source": []
  },
  {
   "cell_type": "code",
   "execution_count": null,
   "id": "2217f6e4-0196-47ec-bb2b-7d94492fb383",
   "metadata": {},
   "outputs": [],
   "source": []
  },
  {
   "cell_type": "code",
   "execution_count": null,
   "id": "8611edad-7cb8-4919-8c91-c6174ae78692",
   "metadata": {},
   "outputs": [],
   "source": []
  }
 ],
 "metadata": {
  "kernelspec": {
   "display_name": "Python 3 (ipykernel)",
   "language": "python",
   "name": "python3"
  },
  "language_info": {
   "codemirror_mode": {
    "name": "ipython",
    "version": 3
   },
   "file_extension": ".py",
   "mimetype": "text/x-python",
   "name": "python",
   "nbconvert_exporter": "python",
   "pygments_lexer": "ipython3",
   "version": "3.9.10"
  }
 },
 "nbformat": 4,
 "nbformat_minor": 5
}
