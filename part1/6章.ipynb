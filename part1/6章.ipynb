{
 "cells": [
  {
   "cell_type": "markdown",
   "id": "2ca0cc48-4b5a-4a2a-a980-1fd3074c5cba",
   "metadata": {},
   "source": [
    "##　ニューラルネットワーク"
   ]
  },
  {
   "cell_type": "markdown",
   "id": "802debbc-ea3b-47a2-9ac3-c8fb54febbde",
   "metadata": {},
   "source": [
    "損失関数で求めた誤差を各パラメータに逆伝播して損失に対する勾配をもとめ、勾配に応じてパラメータを更新する"
   ]
  },
  {
   "cell_type": "markdown",
   "id": "adcf8303-d7aa-4ee8-b0f6-170604347520",
   "metadata": {},
   "source": [
    "線形関数（各パラメータを含む）に活性化関数（非線形関数）を適用することで、複雑な関数として動く\n",
    "o = tanh(wx + b)\n",
    "\n",
    "oとｘはスカラーでもベクトルでも\n",
    "ｗもスカラーでも行列でも\n",
    "ｂはスカラーかベクトル（入力と出力の次元は同じ）"
   ]
  },
  {
   "cell_type": "markdown",
   "id": "ea0ac6ce-ae4d-4b07-9690-a88cfc316b24",
   "metadata": {},
   "source": [
    "誤差関数の理解\n",
    "\n",
    "線形モデルでは誤差関数が凸型だが、ニューラルネットでは各パラメータに唯一の解が無く、凸上にならない"
   ]
  },
  {
   "cell_type": "markdown",
   "id": "799028ab-a0e4-47d6-98d7-8d00529d2c55",
   "metadata": {},
   "source": [
    "活性化関数の意味\n",
    "\n",
    "線形変換では10点々での評価でも11点を出すなど出力を特定の範囲に制限できない\n",
    "\n",
    "1/(1+e** -x)を計算するnn.Sigmoidやtanhなどを用いることで解決できる\n",
    "xが負の無限大に近づくと0または―1へ、正の無限大に近づくと１になる2"
   ]
  },
  {
   "cell_type": "markdown",
   "id": "e49081d5-09d7-4435-9713-606dab4b99a3",
   "metadata": {},
   "source": [
    "最適な活性化関数の選択\n",
    "\n",
    "活性化関数なしでは繰り返し使用しても同じ形式の関数が得られる（アフィン変換）拡大回転等のみ\n",
    "活性化関数は微分可能\n",
    "\n",
    "活性化関数は入力に対して感度の高い領域を保有し、入力値の重要な変化に応じ変化も大きくなる。訓練に必要な特徴\n",
    "また入力値の変化に出力が変化しないような飽和領域も保有している"
   ]
  },
  {
   "cell_type": "markdown",
   "id": "f01cf895-54e1-44db-8ac9-7ff1f3934b85",
   "metadata": {},
   "source": [
    "## nnモジュール"
   ]
  },
  {
   "cell_type": "code",
   "execution_count": 72,
   "id": "265e6cce-ea4a-47f9-9a89-f63cb42c087e",
   "metadata": {},
   "outputs": [
    {
     "data": {
      "text/plain": [
       "torch.Size([11, 1])"
      ]
     },
     "execution_count": 72,
     "metadata": {},
     "output_type": "execute_result"
    }
   ],
   "source": [
    "%matplotlib inline\n",
    "import numpy as np\n",
    "import torch\n",
    "import torch.optim as optim\n",
    "\n",
    "t_c = [0.5,  14.0, 15.0, 28.0, 11.0,  8.0,  3.0, -4.0,  6.0, 13.0, 21.0]\n",
    "t_u = [35.7, 55.9, 58.2, 81.9, 56.3, 48.9, 33.9, 21.8, 48.4, 60.4, 68.4]\n",
    "t_c = torch.tensor(t_c).unsqueeze(1) # <1>\n",
    "t_u = torch.tensor(t_u).unsqueeze(1) # <1>\n",
    "\n",
    "t_u.shape"
   ]
  },
  {
   "cell_type": "code",
   "execution_count": 73,
   "id": "afcefa5c-87d5-4646-adb3-dbbec8c87142",
   "metadata": {},
   "outputs": [
    {
     "data": {
      "text/plain": [
       "(tensor([ 9,  4,  2,  6,  5,  8,  0, 10,  1]), tensor([3, 7]))"
      ]
     },
     "execution_count": 73,
     "metadata": {},
     "output_type": "execute_result"
    }
   ],
   "source": [
    "n_samples = t_u.shape[0]\n",
    "n_val = int(0.2 * n_samples)\n",
    "\n",
    "shuffled_indices = torch.randperm(n_samples)\n",
    "\n",
    "train_indices = shuffled_indices[:-n_val]\n",
    "val_indices = shuffled_indices[-n_val:]\n",
    "\n",
    "train_indices, val_indices"
   ]
  },
  {
   "cell_type": "code",
   "execution_count": 74,
   "id": "1a0b89ce-389b-4b4e-8e16-3f0db6cd4a21",
   "metadata": {},
   "outputs": [],
   "source": [
    "t_u_train = t_u[train_indices]\n",
    "t_c_train = t_c[train_indices]\n",
    "\n",
    "t_u_val = t_u[val_indices]\n",
    "t_c_val = t_c[val_indices]\n",
    "\n",
    "t_un_train = 0.1 * t_u_train\n",
    "t_un_val = 0.1 * t_u_val"
   ]
  },
  {
   "cell_type": "code",
   "execution_count": 75,
   "id": "c7dfe005-5bf0-4b9a-8dc1-de4815d305bf",
   "metadata": {},
   "outputs": [
    {
     "data": {
      "text/plain": [
       "tensor([[8.0942],\n",
       "        [2.1333]], grad_fn=<AddmmBackward0>)"
      ]
     },
     "execution_count": 75,
     "metadata": {},
     "output_type": "execute_result"
    }
   ],
   "source": [
    "import torch.nn as nn\n",
    "linear_model = nn.Linear(1, 1)#コンストラクタに引数を与える\n",
    "linear_model(t_un_val)"
   ]
  },
  {
   "cell_type": "code",
   "execution_count": 76,
   "id": "95458a44-f331-4729-83e8-14d95c275157",
   "metadata": {},
   "outputs": [],
   "source": [
    "#インスタンスと引数を渡すと、同じ引数をもつfowardが実行される\n",
    "#下は同じだが、foward()は呼ばない\n",
    "\n",
    "#y = model(x)\n",
    "#y = model.foward(x)"
   ]
  },
  {
   "cell_type": "markdown",
   "id": "39db905f-fc84-4ebf-b89c-6a17e0d5fdda",
   "metadata": {},
   "source": [
    "nnで線形モデル作成（無駄だが）"
   ]
  },
  {
   "cell_type": "code",
   "execution_count": 77,
   "id": "b1188460-0536-4ffe-a8cb-9d62d8ac3cf0",
   "metadata": {},
   "outputs": [
    {
     "data": {
      "text/plain": [
       "tensor([[-3.9860],\n",
       "        [-1.5731]], grad_fn=<AddmmBackward0>)"
      ]
     },
     "execution_count": 77,
     "metadata": {},
     "output_type": "execute_result"
    }
   ],
   "source": [
    "import torch.nn as nn\n",
    "#Linearの引数は三つ（入力特徴量の次元、出力特徴量の次元、バイアルの有無（デフォルトはTrue））\n",
    "linear_model = nn.Linear(1, 1)\n",
    "linear_model(t_un_val)"
   ]
  },
  {
   "cell_type": "code",
   "execution_count": 78,
   "id": "0f9ca589-624f-44cb-90a5-44f05857018a",
   "metadata": {},
   "outputs": [
    {
     "data": {
      "text/plain": [
       "Parameter containing:\n",
       "tensor([[-0.4015]], requires_grad=True)"
      ]
     },
     "execution_count": 78,
     "metadata": {},
     "output_type": "execute_result"
    }
   ],
   "source": [
    "linear_model.weight"
   ]
  },
  {
   "cell_type": "code",
   "execution_count": 79,
   "id": "e97e64ba-8397-4c3c-a9f4-a7555951c3fd",
   "metadata": {},
   "outputs": [
    {
     "data": {
      "text/plain": [
       "Parameter containing:\n",
       "tensor([-0.6978], requires_grad=True)"
      ]
     },
     "execution_count": 79,
     "metadata": {},
     "output_type": "execute_result"
    }
   ],
   "source": [
    "linear_model.bias"
   ]
  },
  {
   "cell_type": "code",
   "execution_count": 80,
   "id": "c4a18688-aea6-4e1a-8379-17a705d674bb",
   "metadata": {},
   "outputs": [
    {
     "data": {
      "text/plain": [
       "tensor([-1.0993], grad_fn=<AddBackward0>)"
      ]
     },
     "execution_count": 80,
     "metadata": {},
     "output_type": "execute_result"
    }
   ],
   "source": [
    "#一部部省略して入力が可能、これはバッチ次元（０）を省略している\n",
    "x = torch.ones(1)\n",
    "linear_model(x)"
   ]
  },
  {
   "cell_type": "code",
   "execution_count": 81,
   "id": "b8639aa8-b7c6-4a89-9d85-3ee089e88b2f",
   "metadata": {},
   "outputs": [
    {
     "data": {
      "text/plain": [
       "tensor([[-1.0993],\n",
       "        [-1.0993],\n",
       "        [-1.0993],\n",
       "        [-1.0993],\n",
       "        [-1.0993],\n",
       "        [-1.0993],\n",
       "        [-1.0993],\n",
       "        [-1.0993],\n",
       "        [-1.0993],\n",
       "        [-1.0993]], grad_fn=<AddmmBackward0>)"
      ]
     },
     "execution_count": 81,
     "metadata": {},
     "output_type": "execute_result"
    }
   ],
   "source": [
    "# nn.Moduleとそのサブクラスは複数の入出力を同時に扱える\n",
    "# 入力の０次元はバッチ数を想定\n",
    "# バッチ数：１０、特量量の数：１\n",
    "\n",
    "x = torch.ones(10, 1)\n",
    "linear_model(x)"
   ]
  },
  {
   "cell_type": "markdown",
   "id": "895bdb9b-c386-4f96-b8e4-204711aefe69",
   "metadata": {},
   "source": [
    "バッチの最適化\n",
    "\n",
    "バッチ処理をする理由はリソースの飽和を防ぐ、バッチ全体の統計情報使用しているモデルもありバッチサイズが大きくなると性能向上する"
   ]
  },
  {
   "cell_type": "code",
   "execution_count": 82,
   "id": "9c27fb2a-e30d-458c-98cd-82f5fe33d0b2",
   "metadata": {},
   "outputs": [],
   "source": [
    "t_c = [0.5,  14.0, 15.0, 28.0, 11.0,  8.0,  3.0, -4.0,  6.0, 13.0, 21.0]\n",
    "t_u = [35.7, 55.9, 58.2, 81.9, 56.3, 48.9, 33.9, 21.8, 48.4, 60.4, 68.4]\n",
    "t_c = torch.tensor(t_c).unsqueeze(1) # 余分な次元の追加\n",
    "t_u = torch.tensor(t_u).unsqueeze(1)"
   ]
  },
  {
   "cell_type": "code",
   "execution_count": 83,
   "id": "6f8f48af-7630-4d9e-80d6-f7d1f33bee74",
   "metadata": {},
   "outputs": [],
   "source": [
    "liner_model = nn.Linear(1, 1)\n",
    "#optimaizerの引数はパラメータとlr\n",
    "optimaizer = optim.SGD(\n",
    "    linear_model.parameters(),#linear_modelのパラメータを\n",
    "    lr = 1e-2)"
   ]
  },
  {
   "cell_type": "code",
   "execution_count": 84,
   "id": "1fa529b7-06f9-4f54-b4d4-70ab35a1b8ee",
   "metadata": {},
   "outputs": [
    {
     "data": {
      "text/plain": [
       "<generator object Module.parameters at 0xffff4ee2fcf0>"
      ]
     },
     "execution_count": 84,
     "metadata": {},
     "output_type": "execute_result"
    }
   ],
   "source": [
    "linear_model.parameters()"
   ]
  },
  {
   "cell_type": "code",
   "execution_count": 85,
   "id": "a88c2ac2-a242-4833-b3b8-4caa06b80b8e",
   "metadata": {},
   "outputs": [
    {
     "data": {
      "text/plain": [
       "[Parameter containing:\n",
       " tensor([[-0.4015]], requires_grad=True),\n",
       " Parameter containing:\n",
       " tensor([-0.6978], requires_grad=True)]"
      ]
     },
     "execution_count": 85,
     "metadata": {},
     "output_type": "execute_result"
    }
   ],
   "source": [
    "list(linear_model.parameters())"
   ]
  },
  {
   "cell_type": "code",
   "execution_count": 86,
   "id": "85d3805d-e873-407b-b098-9c6c1d3c680b",
   "metadata": {},
   "outputs": [],
   "source": [
    "#modelは引数にいれ使用\n",
    "#損失関数もできものを使用\n",
    "def training_loop(n_epochs, optimizer, model, loss_fn, t_u_train, t_u_val, t_c_train, t_c_val):\n",
    "    for epoch in range(1, n_epochs +1):\n",
    "        t_p_train = model(t_u_train)\n",
    "        loss_train = loss_fn(t_p_train, t_c_train)\n",
    "        \n",
    "        t_p_val = model(t_u_val)\n",
    "        loss_val = loss_fn(t_p_val, t_c_val)\n",
    "        \n",
    "        optimizer.zero_grad()\n",
    "        loss_train.backward() # <2>\n",
    "        optimizer.step()\n",
    "\n",
    "        if epoch == 1 or epoch % 1000 == 0:\n",
    "            print(f\"Epoch {epoch}, Training loss {loss_train.item():.4f},\"\n",
    "                  f\" Validation loss {loss_val.item():.4f}\")"
   ]
  },
  {
   "cell_type": "code",
   "execution_count": 102,
   "id": "cc313147-625f-4568-9980-bc3d60349302",
   "metadata": {},
   "outputs": [
    {
     "name": "stdout",
     "output_type": "stream",
     "text": [
      "Epoch 1, Training loss 74.8838, Validation loss 280.6159\n",
      "Epoch 1000, Training loss 6.0577, Validation loss 22.2898\n",
      "Epoch 2000, Training loss 3.6136, Validation loss 6.1221\n",
      "Epoch 3000, Training loss 3.1096, Validation loss 3.4137\n",
      "\n",
      "Parameter containing:\n",
      "tensor([[5.1101]], requires_grad=True)\n",
      "Parameter containing:\n",
      "tensor([-16.2276], requires_grad=True)\n"
     ]
    }
   ],
   "source": [
    "#損失関数はnn.MSELossで既存のものを使用\n",
    "#nn.はインスタンスを作成し関数として使用\n",
    "linear_model = nn.Linear(1, 1)\n",
    "optimizer = optim.SGD(linear_model.parameters(), lr=1e-2)\n",
    "\n",
    "training_loop(\n",
    "    n_epochs = 3000, \n",
    "    optimizer = optimizer,\n",
    "    model = linear_model,\n",
    "    loss_fn = nn.MSELoss(),\n",
    "    t_u_train = t_un_train,\n",
    "    t_u_val = t_un_val, \n",
    "    t_c_train = t_c_train,\n",
    "    t_c_val = t_c_val)\n",
    "\n",
    "print()\n",
    "print(linear_model.weight)\n",
    "print(linear_model.bias)"
   ]
  },
  {
   "cell_type": "markdown",
   "id": "14734d70-0555-492e-8eb5-7cfb5afaaf3e",
   "metadata": {},
   "source": [
    "## ニューラルネット構築"
   ]
  },
  {
   "cell_type": "code",
   "execution_count": 103,
   "id": "32cd9c4c-4f76-4aad-898e-c63776ba1691",
   "metadata": {},
   "outputs": [
    {
     "data": {
      "text/plain": [
       "Sequential(\n",
       "  (0): Linear(in_features=1, out_features=13, bias=True)\n",
       "  (1): Tanh()\n",
       "  (2): Linear(in_features=13, out_features=1, bias=True)\n",
       ")"
      ]
     },
     "execution_count": 103,
     "metadata": {},
     "output_type": "execute_result"
    }
   ],
   "source": [
    "#nnモジュールの連結にnn.sequentialを使用\n",
    "#13は適当入出力は合わせる\n",
    "\n",
    "seq_model = nn.Sequential(\n",
    "    nn.Linear(1, 13),\n",
    "    nn.Tanh(),\n",
    "    nn.Linear(13, 1))\n",
    "\n",
    "seq_model"
   ]
  },
  {
   "cell_type": "code",
   "execution_count": 104,
   "id": "1b5a7237-1182-47aa-a8b4-85a452ab9ea1",
   "metadata": {},
   "outputs": [
    {
     "data": {
      "text/plain": [
       "[torch.Size([13, 1]), torch.Size([13]), torch.Size([1, 13]), torch.Size([1])]"
      ]
     },
     "execution_count": 104,
     "metadata": {},
     "output_type": "execute_result"
    }
   ],
   "source": [
    "#parametersはoptimaizerが取得するパラメータ\n",
    "#bavkfowrdで計算されるもの\n",
    "[param.shape for param in seq_model.parameters()]"
   ]
  },
  {
   "cell_type": "code",
   "execution_count": 105,
   "id": "873c6ac0-ccab-4b00-bbf1-ba0140cfa080",
   "metadata": {},
   "outputs": [
    {
     "name": "stdout",
     "output_type": "stream",
     "text": [
      "0.weight torch.Size([13, 1])\n",
      "0.bias torch.Size([13])\n",
      "2.weight torch.Size([1, 13])\n",
      "2.bias torch.Size([1])\n"
     ]
    }
   ],
   "source": [
    "#パラメータに名前があり識別できる\n",
    "for name, param in seq_model.named_parameters():\n",
    "    print(name, param.shape)"
   ]
  },
  {
   "cell_type": "code",
   "execution_count": 106,
   "id": "cbe13b7a-bc89-4855-9d95-b330a9254149",
   "metadata": {},
   "outputs": [
    {
     "data": {
      "text/plain": [
       "Sequential(\n",
       "  (hidden_Linear): Linear(in_features=1, out_features=8, bias=True)\n",
       "  (hiddrn_activation): Tanh()\n",
       "  (output_Linear): Linear(in_features=8, out_features=1, bias=True)\n",
       ")"
      ]
     },
     "execution_count": 106,
     "metadata": {},
     "output_type": "execute_result"
    }
   ],
   "source": [
    "#自由に名前を付けることも可能\n",
    "from collections import OrderedDict\n",
    "\n",
    "seq_model = nn.Sequential(OrderedDict([(\"hidden_Linear\", nn.Linear(1, 8)),\n",
    "                                      (\"hiddrn_activation\", nn.Tanh()),\n",
    "                                      (\"output_Linear\", nn.Linear(8, 1))\n",
    "                                     ]))\n",
    "\n",
    "seq_model"
   ]
  },
  {
   "cell_type": "code",
   "execution_count": 107,
   "id": "f8141bfe-916f-4ee2-9ad6-3ea30a56d2f6",
   "metadata": {},
   "outputs": [
    {
     "data": {
      "text/plain": [
       "Linear(in_features=8, out_features=1, bias=True)"
      ]
     },
     "execution_count": 107,
     "metadata": {},
     "output_type": "execute_result"
    }
   ],
   "source": [
    "seq_model.output_Linear"
   ]
  },
  {
   "cell_type": "code",
   "execution_count": 108,
   "id": "853030e2-3188-46db-86f6-8ef118b98a18",
   "metadata": {},
   "outputs": [
    {
     "data": {
      "text/plain": [
       "Parameter containing:\n",
       "tensor([-0.1714], requires_grad=True)"
      ]
     },
     "execution_count": 108,
     "metadata": {},
     "output_type": "execute_result"
    }
   ],
   "source": [
    "seq_model.output_Linear.bias"
   ]
  },
  {
   "cell_type": "code",
   "execution_count": 109,
   "id": "d1b2238a-994f-485f-a416-09322f28e66d",
   "metadata": {},
   "outputs": [
    {
     "name": "stdout",
     "output_type": "stream",
     "text": [
      "Epoch 1, Training loss 124.3864, Validation loss 382.2597\n",
      "Epoch 1000, Training loss 9.2026, Validation loss 88.1990\n",
      "Epoch 2000, Training loss 3.0155, Validation loss 33.7374\n",
      "Epoch 3000, Training loss 2.3888, Validation loss 21.5605\n",
      "Epoch 4000, Training loss 2.2283, Validation loss 16.9028\n",
      "Epoch 5000, Training loss 2.5466, Validation loss 14.3978\n"
     ]
    }
   ],
   "source": [
    "optimizer = optim.SGD(seq_model.parameters(), lr=1e-3)\n",
    "\n",
    "training_loop(n_epochs = 5000,\n",
    "              optimizer = optimizer,\n",
    "              model = seq_model,\n",
    "              loss_fn = nn.MSELoss(),\n",
    "              t_u_train = t_un_train,\n",
    "              t_u_val = t_un_val,\n",
    "              t_c_train = t_c_train,\n",
    "              t_c_val = t_c_val)"
   ]
  },
  {
   "cell_type": "code",
   "execution_count": 110,
   "id": "53a1a4a3-a2d3-4b5d-8c66-859a712cca17",
   "metadata": {},
   "outputs": [
    {
     "name": "stdout",
     "output_type": "stream",
     "text": [
      "output tensor([[23.0993],\n",
      "        [-1.2948]], grad_fn=<AddmmBackward0>)\n",
      "answer tensor([[28.],\n",
      "        [-4.]])\n",
      "hidden tensor([[-1.3996e+00],\n",
      "        [ 2.6127e+01],\n",
      "        [ 2.4681e+01],\n",
      "        [-9.1441e-01],\n",
      "        [-6.9089e+00],\n",
      "        [-4.7386e-03],\n",
      "        [-6.9277e+00],\n",
      "        [-2.4545e-02]])\n"
     ]
    }
   ],
   "source": [
    "print(\"output\", seq_model(t_un_val))\n",
    "print(\"answer\", t_c_val)\n",
    "print(\"hidden\", seq_model.hidden_Linear.weight.grad)"
   ]
  },
  {
   "cell_type": "code",
   "execution_count": 111,
   "id": "16bb9e6d-05ad-4b4b-ac1d-584ba5232a2b",
   "metadata": {},
   "outputs": [
    {
     "data": {
      "text/plain": [
       "[<matplotlib.lines.Line2D at 0xffff4ec5fdc0>]"
      ]
     },
     "execution_count": 111,
     "metadata": {},
     "output_type": "execute_result"
    },
    {
     "data": {
      "image/png": "[encoded data removed]",
      "text/plain": [
       "<Figure size 600x400 with 1 Axes>"
      ]
     },
     "metadata": {
      "needs_background": "light"
     },
     "output_type": "display_data"
    }
   ],
   "source": [
    "#線形モデルとの比較\n",
    "\n",
    "from matplotlib import pyplot as plt\n",
    "\n",
    "t_range = torch.arange(20., 90.).unsqueeze(1)\n",
    "fig = plt.figure(dpi=100)\n",
    "\n",
    "plt.plot(t_u.numpy(), t_c.numpy(), 'o')#教師データ\n",
    "plt.plot(t_range.numpy(), seq_model(0.1*t_range).detach().numpy(), 'c-')#入力は＊0.1倍してモデルを作っているから\n",
    "plt.plot(t_u.numpy(), seq_model(0.1*t_u).detach().numpy(), \"kx\")#予測値"
   ]
  },
  {
   "cell_type": "markdown",
   "id": "5a1244ad-94be-49be-867e-4052db696ece",
   "metadata": {},
   "source": [
    "## 演習問題\n",
    "\n",
    "モデルからより線形なモデルにしたい時"
   ]
  },
  {
   "cell_type": "markdown",
   "id": "0995cb78-8833-4900-bbae-cc0fda35d275",
   "metadata": {},
   "source": [
    "説明変数を増やす\n",
    "隠れ層の数を増やす"
   ]
  },
  {
   "cell_type": "code",
   "execution_count": 112,
   "id": "a2f340a7-5352-4f66-9d1b-a2ef6f22e9af",
   "metadata": {},
   "outputs": [
    {
     "data": {
      "text/plain": [
       "(Sequential(\n",
       "   (hidden_Linear): Linear(in_features=1, out_features=8, bias=True)\n",
       "   (hiddrn_activation): Tanh()\n",
       "   (output_Linear): Linear(in_features=8, out_features=1, bias=True)\n",
       " ),\n",
       " Sequential(\n",
       "   (hidden_linear): Linear(in_features=1, out_features=20, bias=True)\n",
       "   (hidden_activation): Tanh()\n",
       "   (output_linear): Linear(in_features=20, out_features=1, bias=True)\n",
       " ))"
      ]
     },
     "execution_count": 112,
     "metadata": {},
     "output_type": "execute_result"
    }
   ],
   "source": [
    "hidden_num = 20  # 8を20に\n",
    "\n",
    "seq_model2 = nn.Sequential(OrderedDict([\n",
    "    ('hidden_linear', nn.Linear(1, hidden_num)),\n",
    "    ('hidden_activation', nn.Tanh()),\n",
    "    ('output_linear', nn.Linear(hidden_num, 1))\n",
    "]))\n",
    "\n",
    "seq_model,seq_model2"
   ]
  },
  {
   "cell_type": "code",
   "execution_count": 113,
   "id": "a20a4b07-6e16-4824-a20a-3cfd9203e6ca",
   "metadata": {},
   "outputs": [
    {
     "name": "stdout",
     "output_type": "stream",
     "text": [
      "Epoch 1, Training loss 148.9567, Validation loss 412.1710\n",
      "Epoch 1000, Training loss 5.7512, Validation loss 45.0255\n",
      "Epoch 2000, Training loss 3.1225, Validation loss 15.0001\n",
      "Epoch 3000, Training loss 2.7345, Validation loss 8.4937\n",
      "Epoch 4000, Training loss 2.5178, Validation loss 5.4694\n",
      "Epoch 5000, Training loss 2.3745, Validation loss 3.8809\n"
     ]
    }
   ],
   "source": [
    "optimizer2 = optim.SGD(seq_model2.parameters(), lr=1e-3)\n",
    "\n",
    "training_loop(n_epochs = 5000,\n",
    "              optimizer = optimizer2,\n",
    "              model = seq_model2,\n",
    "              loss_fn = nn.MSELoss(),\n",
    "              t_u_train = t_un_train,\n",
    "              t_u_val = t_un_val,\n",
    "              t_c_train = t_c_train,\n",
    "              t_c_val = t_c_val)"
   ]
  },
  {
   "cell_type": "code",
   "execution_count": 114,
   "id": "f2e4b7ad-314e-4254-82cc-0a1030e82860",
   "metadata": {},
   "outputs": [
    {
     "name": "stdout",
     "output_type": "stream",
     "text": [
      "output tensor([[25.3469],\n",
      "        [-3.1511]], grad_fn=<AddmmBackward0>)\n",
      "answer tensor([[28.],\n",
      "        [-4.]])\n",
      "hidden torch.Size([20, 1])\n"
     ]
    }
   ],
   "source": [
    "print(\"output\", seq_model2(t_un_val))\n",
    "print(\"answer\", t_c_val)\n",
    "print(\"hidden\", seq_model2.hidden_linear.weight.grad.shape)"
   ]
  },
  {
   "cell_type": "code",
   "execution_count": 115,
   "id": "40c5f0b8-a18e-47b3-83ec-a416e0dc05a6",
   "metadata": {},
   "outputs": [
    {
     "data": {
      "text/plain": [
       "tensor([[-3.7195],\n",
       "        [-3.4039],\n",
       "        [-3.0878],\n",
       "        [-2.7702],\n",
       "        [-2.4505],\n",
       "        [-2.1279],\n",
       "        [-1.8018],\n",
       "        [-1.4715],\n",
       "        [-1.1363],\n",
       "        [-0.7955],\n",
       "        [-0.4486],\n",
       "        [-0.0948],\n",
       "        [ 0.2664],\n",
       "        [ 0.6357],\n",
       "        [ 1.0136],\n",
       "        [ 1.4009],\n",
       "        [ 1.7980],\n",
       "        [ 2.2055],\n",
       "        [ 2.6239],\n",
       "        [ 3.0538],\n",
       "        [ 3.4957],\n",
       "        [ 3.9498],\n",
       "        [ 4.4167],\n",
       "        [ 4.8965],\n",
       "        [ 5.3894],\n",
       "        [ 5.8956],\n",
       "        [ 6.4150],\n",
       "        [ 6.9475],\n",
       "        [ 7.4929],\n",
       "        [ 8.0508],\n",
       "        [ 8.6205],\n",
       "        [ 9.2015],\n",
       "        [ 9.7927],\n",
       "        [10.3933],\n",
       "        [11.0020],\n",
       "        [11.6175],\n",
       "        [12.2384],\n",
       "        [12.8629],\n",
       "        [13.4896],\n",
       "        [14.1165],\n",
       "        [14.7418],\n",
       "        [15.3638],\n",
       "        [15.9807],\n",
       "        [16.5906],\n",
       "        [17.1917],\n",
       "        [17.7826],\n",
       "        [18.3617],\n",
       "        [18.9275],\n",
       "        [19.4790],\n",
       "        [20.0150],\n",
       "        [20.5346],\n",
       "        [21.0371],\n",
       "        [21.5220],\n",
       "        [21.9888],\n",
       "        [22.4373],\n",
       "        [22.8674],\n",
       "        [23.2790],\n",
       "        [23.6725],\n",
       "        [24.0479],\n",
       "        [24.4056],\n",
       "        [24.7460],\n",
       "        [25.0696],\n",
       "        [25.3769],\n",
       "        [25.6684],\n",
       "        [25.9448],\n",
       "        [26.2065],\n",
       "        [26.4543],\n",
       "        [26.6887],\n",
       "        [26.9104],\n",
       "        [27.1199]], grad_fn=<AddmmBackward0>)"
      ]
     },
     "execution_count": 115,
     "metadata": {},
     "output_type": "execute_result"
    }
   ],
   "source": [
    "seq_model2 (0.1*t_range)"
   ]
  },
  {
   "cell_type": "code",
   "execution_count": 117,
   "id": "1e5be657-8d40-40aa-abed-323a9f78dd02",
   "metadata": {},
   "outputs": [
    {
     "data": {
      "text/plain": [
       "[<matplotlib.lines.Line2D at 0xffff4eb4d040>]"
      ]
     },
     "execution_count": 117,
     "metadata": {},
     "output_type": "execute_result"
    },
    {
     "data": {
      "image/png": "[encoded data removed]",
      "text/plain": [
       "<Figure size 600x400 with 1 Axes>"
      ]
     },
     "metadata": {
      "needs_background": "light"
     },
     "output_type": "display_data"
    }
   ],
   "source": [
    "# 元のモデルとの比較\n",
    "#　隠れそうを増やし線形にフィットした\n",
    "\n",
    "from matplotlib import pyplot as plt\n",
    "\n",
    "t_range = torch.arange(20., 90.).unsqueeze(1)\n",
    "fig = plt.figure(dpi=100)\n",
    "\n",
    "plt.plot(t_u.numpy(), t_c.numpy(), 'o')#教師データ\n",
    "plt.plot(t_range.numpy(), seq_model (0.1*t_range).detach().numpy(), 'c-')\n",
    "plt.plot(t_range.numpy(), seq_model2 (0.1*t_range).detach().numpy(), 'x')#入力は＊0.1倍してモデルを作っているから"
   ]
  },
  {
   "cell_type": "code",
   "execution_count": null,
   "id": "6c7c5c50-31d3-4f51-91e1-5f20ee28851d",
   "metadata": {},
   "outputs": [],
   "source": []
  },
  {
   "cell_type": "markdown",
   "id": "93d7011d-b314-451c-af46-74a246583ba4",
   "metadata": {},
   "source": [
    "ワインデータで検討"
   ]
  },
  {
   "cell_type": "code",
   "execution_count": 129,
   "id": "6651b768-5c14-4fee-a993-afa76ac828c3",
   "metadata": {
    "colab": {
     "base_uri": "https://localhost:8080/",
     "height": 201,
     "resources": {
      "http://localhost:8080/nbextensions/google.colab/files.js": {
       "data": "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",
       "headers": [
        [
         "content-type",
         "application/javascript"
        ]
       ],
       "ok": true,
       "status": 200,
       "status_text": ""
      }
     }
    },
    "id": "9Kmswsekk7-d",
    "outputId": "0fdbf171-8e90-41af-fb33-f1b2bee6d6e7"
   },
   "outputs": [
    {
     "data": {
      "text/plain": [
       "(array([[ 7.  ,  0.27,  0.36, ...,  0.45,  8.8 ,  6.  ],\n",
       "        [ 6.3 ,  0.3 ,  0.34, ...,  0.49,  9.5 ,  6.  ],\n",
       "        [ 8.1 ,  0.28,  0.4 , ...,  0.44, 10.1 ,  6.  ],\n",
       "        ...,\n",
       "        [ 6.5 ,  0.24,  0.19, ...,  0.46,  9.4 ,  6.  ],\n",
       "        [ 5.5 ,  0.29,  0.3 , ...,  0.38, 12.8 ,  7.  ],\n",
       "        [ 6.  ,  0.21,  0.38, ...,  0.32, 11.8 ,  6.  ]], dtype=float32),\n",
       " (4898, 12))"
      ]
     },
     "execution_count": 129,
     "metadata": {},
     "output_type": "execute_result"
    }
   ],
   "source": [
    "# データセットの読み込み\n",
    "import csv\n",
    "\n",
    "\n",
    "wine_path = \"../deep-learning-with-pytorch-ja-main/data/p1ch4/tabular-wine/winequality-white.csv\"\n",
    "#practice-for-pytorch/deep-learning-with-pytorch-ja-main/data\n",
    "wineq_numpy = np.loadtxt(wine_path, dtype=np.float32, delimiter=\";\",\n",
    "                         skiprows=1)\n",
    "wineq_numpy,wineq_numpy.shape"
   ]
  },
  {
   "cell_type": "code",
   "execution_count": 127,
   "id": "07315a5c-c4d9-460f-8ad1-8196f6371d8f",
   "metadata": {},
   "outputs": [],
   "source": [
    "wineq = torch.from_numpy(wineq_numpy)"
   ]
  },
  {
   "cell_type": "code",
   "execution_count": 133,
   "id": "77e65c0c-51f7-46a6-ab48-1058ad77f9d9",
   "metadata": {},
   "outputs": [
    {
     "data": {
      "text/plain": [
       "(torch.Size([4898, 11]), torch.Size([4898]))"
      ]
     },
     "execution_count": 133,
     "metadata": {},
     "output_type": "execute_result"
    }
   ],
   "source": [
    "data = wineq[:, :-1]\n",
    "target_data = wineq[:, -1]\n",
    "data.shape, target_data.shape"
   ]
  },
  {
   "cell_type": "code",
   "execution_count": 135,
   "id": "8611edad-7cb8-4919-8c91-c6174ae78692",
   "metadata": {},
   "outputs": [
    {
     "data": {
      "text/plain": [
       "(3919, 979)"
      ]
     },
     "execution_count": 135,
     "metadata": {},
     "output_type": "execute_result"
    }
   ],
   "source": [
    "n_samples=data.shape[0]\n",
    "n_val = int(0.2 * n_samples)\n",
    "shuffled_indices = torch.randperm(n_samples)\n",
    "\n",
    "train_indices = shuffled_indices[:-n_val]\n",
    "val_indices = shuffled_indices[-n_val:]\n",
    "\n",
    "len(train_indices), len(val_indices)\n"
   ]
  },
  {
   "cell_type": "code",
   "execution_count": 137,
   "id": "314d5147-ef74-4458-ae8b-5783a4743ffc",
   "metadata": {},
   "outputs": [
    {
     "data": {
      "text/plain": [
       "tensor([1871, 4038, 3781,  ..., 2450, 2009, 3486])"
      ]
     },
     "execution_count": 137,
     "metadata": {},
     "output_type": "execute_result"
    }
   ],
   "source": [
    "train_indices"
   ]
  },
  {
   "cell_type": "code",
   "execution_count": 143,
   "id": "20541788-badd-4492-9b9d-11282ac90e4c",
   "metadata": {},
   "outputs": [],
   "source": [
    "data_train = data[train_indices]\n",
    "target_train = target_data[train_indices].unsqueeze(1)"
   ]
  },
  {
   "cell_type": "code",
   "execution_count": 144,
   "id": "febc4feb-c871-4609-955e-955069aeb8df",
   "metadata": {},
   "outputs": [],
   "source": [
    "data_val = data[val_indices]\n",
    "target_val = target_data[val_indices].unsqueeze(1) "
   ]
  },
  {
   "cell_type": "code",
   "execution_count": 145,
   "id": "e00d61fc-0f64-4990-a422-7aa10efbd975",
   "metadata": {},
   "outputs": [
    {
     "data": {
      "text/plain": [
       "torch.Size([3919, 11])"
      ]
     },
     "execution_count": 145,
     "metadata": {},
     "output_type": "execute_result"
    }
   ],
   "source": [
    "data_train.shape"
   ]
  },
  {
   "cell_type": "code",
   "execution_count": 147,
   "id": "4b2061a1-e75e-42b4-8b9b-fecb119c2a9f",
   "metadata": {},
   "outputs": [
    {
     "data": {
      "text/plain": [
       "torch.Size([3919, 1])"
      ]
     },
     "execution_count": 147,
     "metadata": {},
     "output_type": "execute_result"
    }
   ],
   "source": [
    "target_train.shape"
   ]
  },
  {
   "cell_type": "code",
   "execution_count": 151,
   "id": "b8bed2c8-e0ed-4dc9-80ab-1c9de8c09e4f",
   "metadata": {},
   "outputs": [
    {
     "data": {
      "text/plain": [
       "Sequential(\n",
       "  (hidden): Linear(in_features=11, out_features=200, bias=True)\n",
       "  (activation): Tanh()\n",
       "  (output): Linear(in_features=200, out_features=1, bias=True)\n",
       ")"
      ]
     },
     "execution_count": 151,
     "metadata": {},
     "output_type": "execute_result"
    }
   ],
   "source": [
    "seq_model3 = nn.Sequential(OrderedDict([\n",
    "    (\"hidden\", nn.Linear(11, 200)),\n",
    "    (\"activation\", nn.Tanh()),\n",
    "    (\"output\", nn.Linear(200, 1))\n",
    "]))\n",
    "\n",
    "seq_model3"
   ]
  },
  {
   "cell_type": "code",
   "execution_count": 152,
   "id": "5d238a75-30dc-482b-9867-038e58ab56e4",
   "metadata": {},
   "outputs": [],
   "source": [
    "def training_loop(n_epochs, optimizer, model, loss_fn, t_u_train, t_u_val,\n",
    "                  t_c_train, t_c_val):\n",
    "  \n",
    "    for epoch in range(1, n_epochs + 1):\n",
    "        t_p_train = model(t_u_train) # <1>\n",
    "        loss_train = loss_fn(t_p_train, t_c_train)\n",
    "\n",
    "        t_p_val = model(t_u_val) # <1>\n",
    "        loss_val = loss_fn(t_p_val, t_c_val)\n",
    "        \n",
    "        optimizer.zero_grad()\n",
    "        loss_train.backward() # <2>\n",
    "        optimizer.step()\n",
    "\n",
    "        if epoch == 1 or epoch % 1000 == 0:\n",
    "            print(f\"Epoch {epoch}, Training loss {loss_train.item():.4f},\"\n",
    "                  f\" Validation loss {loss_val.item():.4f}\")\n",
    "            "
   ]
  },
  {
   "cell_type": "code",
   "execution_count": 155,
   "id": "63bfb53d-0893-42b0-bbaa-fdef3369f1ab",
   "metadata": {},
   "outputs": [
    {
     "name": "stdout",
     "output_type": "stream",
     "text": [
      "Epoch 1, Training loss 0.6107, Validation loss 0.6038\n",
      "Epoch 1000, Training loss 0.6072, Validation loss 0.6057\n",
      "Epoch 2000, Training loss 0.6045, Validation loss 0.6049\n",
      "Epoch 3000, Training loss 0.6022, Validation loss 0.6036\n",
      "Epoch 4000, Training loss 0.6001, Validation loss 0.6024\n",
      "Epoch 5000, Training loss 0.5975, Validation loss 0.5994\n"
     ]
    }
   ],
   "source": [
    "# 訓練の実施。\n",
    "optimizer3 = optim.SGD(seq_model3.parameters(), lr=1e-3) \n",
    "\n",
    "training_loop(\n",
    "    n_epochs = 5000, \n",
    "    optimizer = optimizer3,\n",
    "    model = seq_model3,\n",
    "    loss_fn = nn.MSELoss(),\n",
    "    t_u_train = data_train,\n",
    "    t_u_val = data_val, \n",
    "    t_c_train = target_train,\n",
    "    t_c_val = target_val)"
   ]
  },
  {
   "cell_type": "markdown",
   "id": "181dceb2-86f3-437d-bd77-8fa5a787dc0f",
   "metadata": {},
   "source": [
    "なぜ時間がかかる？\n",
    "特徴量が多いため時間がかかる"
   ]
  },
  {
   "cell_type": "code",
   "execution_count": 157,
   "id": "4b2cf330-df5b-44c6-b419-a37d1f0ebe34",
   "metadata": {},
   "outputs": [
    {
     "data": {
      "text/plain": [
       "array([168., 120., 113., ..., 157.,  98.,  98.], dtype=float32)"
      ]
     },
     "execution_count": 157,
     "metadata": {},
     "output_type": "execute_result"
    }
   ],
   "source": [
    "# プロット　total sulfur dioxideでプロットしてみる\n",
    "total_sulfur_data = data_train[:,6].numpy()\n",
    "total_sulfur_data "
   ]
  },
  {
   "cell_type": "code",
   "execution_count": null,
   "id": "d147a981-f9bd-4368-acdd-29e7ace40285",
   "metadata": {},
   "outputs": [],
   "source": []
  },
  {
   "cell_type": "code",
   "execution_count": 160,
   "id": "a9921bd8-e047-4e9b-a9cd-0c58c379da31",
   "metadata": {
    "colab": {
     "base_uri": "https://localhost:8080/",
     "height": 400
    },
    "id": "vy8595EkrqO7",
    "outputId": "020ef658-ca91-43b9-cc90-1a9edcd2916e"
   },
   "outputs": [
    {
     "data": {
      "text/plain": [
       "[<matplotlib.lines.Line2D at 0xffff4cd4ccd0>]"
      ]
     },
     "execution_count": 160,
     "metadata": {},
     "output_type": "execute_result"
    },
    {
     "data": {
      "image/png": "[encoded data removed]",
      "text/plain": [
       "<Figure size 600x400 with 1 Axes>"
      ]
     },
     "metadata": {
      "needs_background": "light"
     },
     "output_type": "display_data"
    }
   ],
   "source": [
    "# x軸のレンジ\n",
    "#t_range = torch.arange(total_sulfur_data.min(), total_sulfur_data.max(), step=50).unsqueeze(1)\n",
    "t_range = torch.arange(total_sulfur_data.min(), 250, step=50).unsqueeze(1)\n",
    "\n",
    "\n",
    "fig = plt.figure(dpi=100)\n",
    "plt.xlabel(\"total sulfur dioxide\")\n",
    "plt.ylabel(\"quality\")\n",
    "plt.plot(total_sulfur_data, target_train.numpy(), 'o')\n",
    "plt.plot(t_range.numpy(), seq_model3(data_train[:t_range.shape[0],:]).detach().numpy(), 'c-')\n",
    "plt.plot(t_range.numpy(), seq_model3(data_train[:t_range.shape[0],:]).detach().numpy(), 'kx')"
   ]
  },
  {
   "cell_type": "code",
   "execution_count": null,
   "id": "9734a2d3-138b-422d-aae5-7b92166f548c",
   "metadata": {},
   "outputs": [],
   "source": []
  }
 ],
 "metadata": {
  "kernelspec": {
   "display_name": "Python 3 (ipykernel)",
   "language": "python",
   "name": "python3"
  },
  "language_info": {
   "codemirror_mode": {
    "name": "ipython",
    "version": 3
   },
   "file_extension": ".py",
   "mimetype": "text/x-python",
   "name": "python",
   "nbconvert_exporter": "python",
   "pygments_lexer": "ipython3",
   "version": "3.9.13"
  }
 },
 "nbformat": 4,
 "nbformat_minor": 5
}
