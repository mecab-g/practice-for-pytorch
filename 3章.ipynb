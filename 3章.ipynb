{
 "cells": [
  {
   "cell_type": "code",
   "execution_count": 1,
   "id": "c1420e93-3716-4031-82d5-69800bb11722",
   "metadata": {},
   "outputs": [],
   "source": [
    "import torch\n",
    "from torch import hub\n"
   ]
  },
  {
   "cell_type": "code",
   "execution_count": 2,
   "id": "060089c3-93ba-4948-8cb1-a03db347882c",
   "metadata": {},
   "outputs": [],
   "source": [
    "import torchvision"
   ]
  },
  {
   "cell_type": "code",
   "execution_count": 3,
   "id": "7e2993ed-0171-4487-b8d7-b48c40bdc0d6",
   "metadata": {},
   "outputs": [],
   "source": [
    "img_t = torch.randn(3, 5, 5)\n",
    "weights = torch.tensor([0.2126, 0.7152, 0.0722])"
   ]
  },
  {
   "cell_type": "code",
   "execution_count": 4,
   "id": "e7afc2cc-3d61-47be-9268-f7a0afdd2094",
   "metadata": {},
   "outputs": [],
   "source": [
    "batch_t = torch.randn(2, 3, 5, 5)"
   ]
  },
  {
   "cell_type": "code",
   "execution_count": 5,
   "id": "fa1daf64-2226-4be5-ac13-7df730b69b8b",
   "metadata": {},
   "outputs": [
    {
     "data": {
      "text/plain": [
       "'\\nバッチ次元の有無により\\nRGBのチャネルは0か1のため\\n終わりから数えると-3にRGBがくる\\n'"
      ]
     },
     "execution_count": 5,
     "metadata": {},
     "output_type": "execute_result"
    }
   ],
   "source": [
    "\"\"\"\n",
    "バッチ次元の有無により\n",
    "RGBのチャネルは0か1のため\n",
    "終わりから数えると-3にRGBがくる\n",
    "\"\"\""
   ]
  },
  {
   "cell_type": "code",
   "execution_count": 6,
   "id": "a7cde060-66d5-4261-80ac-d4429e82a691",
   "metadata": {},
   "outputs": [
    {
     "data": {
      "text/plain": [
       "(torch.Size([5, 5]), torch.Size([2, 5, 5]))"
      ]
     },
     "execution_count": 6,
     "metadata": {},
     "output_type": "execute_result"
    }
   ],
   "source": [
    "img_gray_naive = img_t.mean(-3)\n",
    "batch_gray_naive = batch_t.mean(-3)\n",
    "\n",
    "img_gray_naive.shape, batch_gray_naive.shape"
   ]
  },
  {
   "cell_type": "code",
   "execution_count": 22,
   "id": "b3b285ed-df50-4c07-b7f2-d744639b2d37",
   "metadata": {},
   "outputs": [
    {
     "name": "stdout",
     "output_type": "stream",
     "text": [
      "torch.Size([3])\n",
      "torch.Size([3, 1, 1]) torch.Size([3, 5, 5]) torch.Size([3, 5, 5]) torch.Size([5, 5])\n",
      "torch.Size([3, 1, 1]) torch.Size([2, 3, 5, 5]) torch.Size([2, 3, 5, 5]) torch.Size([2, 5, 5])\n"
     ]
    }
   ],
   "source": [
    "#重みを1次元から3次元へ[3,1,1]\n",
    "unsqueezed_weights = weights.unsqueeze(-1).unsqueeze(-1)\n",
    "#broadcastingされてimgには「3、5、5」としてbacthには「2,3,5,5」となり次元が追加される\n",
    "img_weights = (img_t * unsqueezed_weights)\n",
    "batch_weights = (batch_t * unsqueezed_weights)\n",
    "\n",
    "img_gray_weighted = img_weights.sum(-3)\n",
    "batch_gray_weighted = batch_weights.sum(-3)\n",
    "print(weights.shape)\n",
    "print(unsqueezed_weights.shape, img_t.shape ,img_weights.shape, img_gray_weighted.shape) \n",
    "print(unsqueezed_weights.shape, batch_t.shape, batch_weights.shape, batch_gray_weighted.shape) "
   ]
  },
  {
   "cell_type": "code",
   "execution_count": 23,
   "id": "e14c51ad-4999-4cc7-a2cb-37d11a310450",
   "metadata": {},
   "outputs": [
    {
     "data": {
      "text/plain": [
       "(tensor([-0.3908,  0.9805,  0.3786, -0.5636, -1.2243]),\n",
       " tensor([-0.2795,  0.7012,  0.2708, -0.4031, -0.8756]),\n",
       " tensor([[0.7152]]))"
      ]
     },
     "execution_count": 23,
     "metadata": {},
     "output_type": "execute_result"
    }
   ],
   "source": [
    "img_t[1][1],img_weights[1][1],unsqueezed_weights[1]"
   ]
  },
  {
   "cell_type": "code",
   "execution_count": 30,
   "id": "358ba443-9d4b-4b7c-b540-5b6016eee220",
   "metadata": {},
   "outputs": [],
   "source": [
    "#数値型\n",
    "#必要に応じて低ビットを使う"
   ]
  },
  {
   "cell_type": "code",
   "execution_count": 38,
   "id": "ba127474-114c-4100-a75e-44db825c8d0c",
   "metadata": {},
   "outputs": [],
   "source": [
    "double_points = torch.ones(10, 2 ,dtype=torch.double)#64倍制度浮動小数点\n",
    "short_points = torch.tensor([[1,2], [3,4]], dtype=torch.short)#short=16符号付き整数\n",
    "bit_points = torch.zeros(3,3, dtype=torch.int)"
   ]
  },
  {
   "cell_type": "code",
   "execution_count": 39,
   "id": "3cbb6a33-06d8-4a8e-8942-ec8f076981b6",
   "metadata": {},
   "outputs": [
    {
     "data": {
      "text/plain": [
       "torch.float64"
      ]
     },
     "execution_count": 39,
     "metadata": {},
     "output_type": "execute_result"
    }
   ],
   "source": [
    "double_points.dtype"
   ]
  },
  {
   "cell_type": "code",
   "execution_count": 40,
   "id": "ca870664-e5c9-4362-a14a-837b592576e7",
   "metadata": {},
   "outputs": [
    {
     "data": {
      "text/plain": [
       "torch.int16"
      ]
     },
     "execution_count": 40,
     "metadata": {},
     "output_type": "execute_result"
    }
   ],
   "source": [
    "short_points.dtype"
   ]
  },
  {
   "cell_type": "code",
   "execution_count": 41,
   "id": "a3cc2213-3800-40cb-91ce-5106e4ed6514",
   "metadata": {},
   "outputs": [
    {
     "data": {
      "text/plain": [
       "torch.int32"
      ]
     },
     "execution_count": 41,
     "metadata": {},
     "output_type": "execute_result"
    }
   ],
   "source": [
    "bit_points.dtype"
   ]
  },
  {
   "cell_type": "code",
   "execution_count": 43,
   "id": "81437a18-f069-4a70-bfb4-ddaef05b7050",
   "metadata": {},
   "outputs": [
    {
     "data": {
      "text/plain": [
       "(torch.float32, torch.int16)"
      ]
     },
     "execution_count": 43,
     "metadata": {},
     "output_type": "execute_result"
    }
   ],
   "source": [
    "#キャスト機能も使える\n",
    "moto=torch.zeros(10, 2)\n",
    "henka=moto.short()\n",
    "moto.dtype, henka.dtype "
   ]
  },
  {
   "cell_type": "code",
   "execution_count": 47,
   "id": "40bb54c2-d0fd-45fb-a5b2-0d242d7bf408",
   "metadata": {},
   "outputs": [
    {
     "data": {
      "text/plain": [
       "torch.float64"
      ]
     },
     "execution_count": 47,
     "metadata": {},
     "output_type": "execute_result"
    }
   ],
   "source": [
    "#関数でもいける\n",
    "anather_use = henka.to(torch.double)\n",
    "anather_use.dtype"
   ]
  },
  {
   "cell_type": "code",
   "execution_count": null,
   "id": "8738ad81-5699-45cc-961e-3e47f281cee6",
   "metadata": {},
   "outputs": [],
   "source": []
  }
 ],
 "metadata": {
  "kernelspec": {
   "display_name": "Python 3 (ipykernel)",
   "language": "python",
   "name": "python3"
  },
  "language_info": {
   "codemirror_mode": {
    "name": "ipython",
    "version": 3
   },
   "file_extension": ".py",
   "mimetype": "text/x-python",
   "name": "python",
   "nbconvert_exporter": "python",
   "pygments_lexer": "ipython3",
   "version": "3.9.13"
  }
 },
 "nbformat": 4,
 "nbformat_minor": 5
}
