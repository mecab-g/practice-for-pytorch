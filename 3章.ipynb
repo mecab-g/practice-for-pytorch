{
 "cells": [
  {
   "cell_type": "code",
   "execution_count": 1,
   "id": "c1420e93-3716-4031-82d5-69800bb11722",
   "metadata": {},
   "outputs": [],
   "source": [
    "import torch\n",
    "from torch import hub\n"
   ]
  },
  {
   "cell_type": "code",
   "execution_count": 2,
   "id": "060089c3-93ba-4948-8cb1-a03db347882c",
   "metadata": {},
   "outputs": [],
   "source": [
    "import torchvision"
   ]
  },
  {
   "cell_type": "code",
   "execution_count": 3,
   "id": "7e2993ed-0171-4487-b8d7-b48c40bdc0d6",
   "metadata": {},
   "outputs": [],
   "source": [
    "img_t = torch.randn(3, 5, 5)\n",
    "weights = torch.tensor([0.2126, 0.7152, 0.0722])"
   ]
  },
  {
   "cell_type": "code",
   "execution_count": 4,
   "id": "e7afc2cc-3d61-47be-9268-f7a0afdd2094",
   "metadata": {},
   "outputs": [],
   "source": [
    "batch_t = torch.randn(2, 3, 5, 5)"
   ]
  },
  {
   "cell_type": "code",
   "execution_count": 5,
   "id": "fa1daf64-2226-4be5-ac13-7df730b69b8b",
   "metadata": {},
   "outputs": [
    {
     "data": {
      "text/plain": [
       "'\\nバッチ次元の有無により\\nRGBのチャネルは0か1のため\\n終わりから数えると-3にRGBがくる\\n'"
      ]
     },
     "execution_count": 5,
     "metadata": {},
     "output_type": "execute_result"
    }
   ],
   "source": [
    "\"\"\"\n",
    "バッチ次元の有無により\n",
    "RGBのチャネルは0か1のため\n",
    "終わりから数えると-3にRGBがくる\n",
    "\"\"\""
   ]
  },
  {
   "cell_type": "code",
   "execution_count": 6,
   "id": "a7cde060-66d5-4261-80ac-d4429e82a691",
   "metadata": {},
   "outputs": [
    {
     "data": {
      "text/plain": [
       "(torch.Size([5, 5]), torch.Size([2, 5, 5]))"
      ]
     },
     "execution_count": 6,
     "metadata": {},
     "output_type": "execute_result"
    }
   ],
   "source": [
    "img_gray_naive = img_t.mean(-3)\n",
    "batch_gray_naive = batch_t.mean(-3)\n",
    "\n",
    "img_gray_naive.shape, batch_gray_naive.shape"
   ]
  },
  {
   "cell_type": "code",
   "execution_count": 22,
   "id": "b3b285ed-df50-4c07-b7f2-d744639b2d37",
   "metadata": {},
   "outputs": [
    {
     "name": "stdout",
     "output_type": "stream",
     "text": [
      "torch.Size([3])\n",
      "torch.Size([3, 1, 1]) torch.Size([3, 5, 5]) torch.Size([3, 5, 5]) torch.Size([5, 5])\n",
      "torch.Size([3, 1, 1]) torch.Size([2, 3, 5, 5]) torch.Size([2, 3, 5, 5]) torch.Size([2, 5, 5])\n"
     ]
    }
   ],
   "source": [
    "#重みを1次元から3次元へ[3,1,1]\n",
    "unsqueezed_weights = weights.unsqueeze(-1).unsqueeze(-1)\n",
    "#broadcastingされてimgには「3、5、5」としてbacthには「2,3,5,5」となり次元が追加される\n",
    "img_weights = (img_t * unsqueezed_weights)\n",
    "batch_weights = (batch_t * unsqueezed_weights)\n",
    "\n",
    "img_gray_weighted = img_weights.sum(-3)\n",
    "batch_gray_weighted = batch_weights.sum(-3)\n",
    "print(weights.shape)\n",
    "print(unsqueezed_weights.shape, img_t.shape ,img_weights.shape, img_gray_weighted.shape) \n",
    "print(unsqueezed_weights.shape, batch_t.shape, batch_weights.shape, batch_gray_weighted.shape) "
   ]
  },
  {
   "cell_type": "code",
   "execution_count": 23,
   "id": "e14c51ad-4999-4cc7-a2cb-37d11a310450",
   "metadata": {},
   "outputs": [
    {
     "data": {
      "text/plain": [
       "(tensor([-0.3908,  0.9805,  0.3786, -0.5636, -1.2243]),\n",
       " tensor([-0.2795,  0.7012,  0.2708, -0.4031, -0.8756]),\n",
       " tensor([[0.7152]]))"
      ]
     },
     "execution_count": 23,
     "metadata": {},
     "output_type": "execute_result"
    }
   ],
   "source": [
    "img_t[1][1],img_weights[1][1],unsqueezed_weights[1]"
   ]
  },
  {
   "cell_type": "code",
   "execution_count": 30,
   "id": "358ba443-9d4b-4b7c-b540-5b6016eee220",
   "metadata": {},
   "outputs": [],
   "source": [
    "#数値型\n",
    "#必要に応じて低ビットを使う"
   ]
  },
  {
   "cell_type": "code",
   "execution_count": 38,
   "id": "ba127474-114c-4100-a75e-44db825c8d0c",
   "metadata": {},
   "outputs": [],
   "source": [
    "double_points = torch.ones(10, 2 ,dtype=torch.double)#64倍制度浮動小数点\n",
    "short_points = torch.tensor([[1,2], [3,4]], dtype=torch.short)#short=16符号付き整数\n",
    "bit_points = torch.zeros(3,3, dtype=torch.int)"
   ]
  },
  {
   "cell_type": "code",
   "execution_count": 39,
   "id": "3cbb6a33-06d8-4a8e-8942-ec8f076981b6",
   "metadata": {},
   "outputs": [
    {
     "data": {
      "text/plain": [
       "torch.float64"
      ]
     },
     "execution_count": 39,
     "metadata": {},
     "output_type": "execute_result"
    }
   ],
   "source": [
    "double_points.dtype"
   ]
  },
  {
   "cell_type": "code",
   "execution_count": 40,
   "id": "ca870664-e5c9-4362-a14a-837b592576e7",
   "metadata": {},
   "outputs": [
    {
     "data": {
      "text/plain": [
       "torch.int16"
      ]
     },
     "execution_count": 40,
     "metadata": {},
     "output_type": "execute_result"
    }
   ],
   "source": [
    "short_points.dtype"
   ]
  },
  {
   "cell_type": "code",
   "execution_count": 41,
   "id": "a3cc2213-3800-40cb-91ce-5106e4ed6514",
   "metadata": {},
   "outputs": [
    {
     "data": {
      "text/plain": [
       "torch.int32"
      ]
     },
     "execution_count": 41,
     "metadata": {},
     "output_type": "execute_result"
    }
   ],
   "source": [
    "bit_points.dtype"
   ]
  },
  {
   "cell_type": "code",
   "execution_count": 43,
   "id": "81437a18-f069-4a70-bfb4-ddaef05b7050",
   "metadata": {},
   "outputs": [
    {
     "data": {
      "text/plain": [
       "(torch.float32, torch.int16)"
      ]
     },
     "execution_count": 43,
     "metadata": {},
     "output_type": "execute_result"
    }
   ],
   "source": [
    "#キャスト機能も使える\n",
    "moto=torch.zeros(10, 2)\n",
    "henka=moto.short()\n",
    "moto.dtype, henka.dtype "
   ]
  },
  {
   "cell_type": "code",
   "execution_count": 47,
   "id": "40bb54c2-d0fd-45fb-a5b2-0d242d7bf408",
   "metadata": {},
   "outputs": [
    {
     "data": {
      "text/plain": [
       "torch.float64"
      ]
     },
     "execution_count": 47,
     "metadata": {},
     "output_type": "execute_result"
    }
   ],
   "source": [
    "#関数でもいける\n",
    "anather_use = henka.to(torch.double)\n",
    "anather_use.dtype"
   ]
  },
  {
   "cell_type": "code",
   "execution_count": 49,
   "id": "8738ad81-5699-45cc-961e-3e47f281cee6",
   "metadata": {},
   "outputs": [],
   "source": [
    "#テンソルの演算\n",
    "#テンソルの演算はほとんどtorchモジュールで可能\n",
    "#http://pytorch.org/docs\n",
    "\n"
   ]
  },
  {
   "cell_type": "code",
   "execution_count": 58,
   "id": "66d84097-bc11-4f90-bc08-c54faee1353c",
   "metadata": {},
   "outputs": [
    {
     "name": "stdout",
     "output_type": "stream",
     "text": [
      "torch.Size([3, 2]) torch.Size([2, 3])\n"
     ]
    }
   ],
   "source": [
    "a = torch.ones(3, 2)\n",
    "a_t = torch.transpose(a, 0, 1)\n",
    "#次元の交換\n",
    "print(a.shape, a_t.shape)"
   ]
  },
  {
   "cell_type": "code",
   "execution_count": 60,
   "id": "b215a652-3dde-45ea-b1ff-269dd48cef8c",
   "metadata": {},
   "outputs": [
    {
     "name": "stdout",
     "output_type": "stream",
     "text": [
      "torch.Size([2, 3])\n"
     ]
    }
   ],
   "source": [
    "a_t = a.transpose(0,1)\n",
    "print(a_t.shape)"
   ]
  },
  {
   "cell_type": "code",
   "execution_count": 61,
   "id": "4e999a6c-7727-42fd-94fa-6b509f5d94f4",
   "metadata": {},
   "outputs": [],
   "source": [
    "#テンソルとストレージの表示関係"
   ]
  },
  {
   "cell_type": "code",
   "execution_count": 84,
   "id": "9266c21f-4729-490a-bf5a-84b81e5e025a",
   "metadata": {},
   "outputs": [],
   "source": [
    "big_points=torch.zeros(6,4,2)\n",
    "points = torch.tensor([[4.0, 1.0], [5.0, 3.0], [2.0, 1.0]])\n",
    "second_points = points[1]"
   ]
  },
  {
   "cell_type": "code",
   "execution_count": 85,
   "id": "d3f5a2bc-0b30-4588-99bb-1b75b2a47a14",
   "metadata": {},
   "outputs": [
    {
     "data": {
      "text/plain": [
       "tensor([5., 3.])"
      ]
     },
     "execution_count": 85,
     "metadata": {},
     "output_type": "execute_result"
    }
   ],
   "source": [
    "second_points"
   ]
  },
  {
   "cell_type": "code",
   "execution_count": 86,
   "id": "d6b4d662-409f-42e6-ae57-b807651d7d5a",
   "metadata": {},
   "outputs": [
    {
     "name": "stdout",
     "output_type": "stream",
     "text": [
      "torch.Size([3, 2])\n",
      "torch.Size([2]) torch.Size([2])\n",
      "torch.Size([6, 4, 2])\n"
     ]
    }
   ],
   "source": [
    "print(points.size())\n",
    "print(second_points.size(), second_points.shape)\n",
    "print(big_points.shape)"
   ]
  },
  {
   "cell_type": "code",
   "execution_count": 107,
   "id": "905fd368-5a68-47c7-9b0c-9250526de33d",
   "metadata": {},
   "outputs": [
    {
     "name": "stdout",
     "output_type": "stream",
     "text": [
      "2 0\n",
      "0 10\n"
     ]
    }
   ],
   "source": [
    "#オフセット\n",
    "\n",
    "#横に並べて、最初の要素からいくつ目か\n",
    "#points[2]は二つの要素の点をスキップしないといけない\n",
    "#pointsはそれ自身しかない\n",
    "print(points[1].storage_offset(), points.storage_offset(),)\n",
    "print(big_points.storage_offset(), big_points[1,1,0].storage_offset())"
   ]
  },
  {
   "cell_type": "code",
   "execution_count": 108,
   "id": "87082df3-2e66-44e4-a215-ec710832a0ee",
   "metadata": {},
   "outputs": [
    {
     "data": {
      "text/plain": [
       "((2, 1), (1,))"
      ]
     },
     "execution_count": 108,
     "metadata": {},
     "output_type": "execute_result"
    }
   ],
   "source": [
    "#ストライド\n",
    "\n",
    "#各インデックスを増加した時スキップしないといけない要素数\n",
    "#各次元の要素数ー1\n",
    "points.stride(), second_points.stride(), "
   ]
  },
  {
   "cell_type": "code",
   "execution_count": 121,
   "id": "e4f5ef18-ed65-4900-877e-0770a6bfb8ac",
   "metadata": {},
   "outputs": [
    {
     "data": {
      "text/plain": [
       "tensor([5., 3.])"
      ]
     },
     "execution_count": 121,
     "metadata": {},
     "output_type": "execute_result"
    }
   ],
   "source": [
    "points = torch.tensor([[4.0, 1.0], [5.0, 3.0], [2.0, 1.0]])\n",
    "second_points = points[1]\n",
    "second_points"
   ]
  },
  {
   "cell_type": "code",
   "execution_count": 122,
   "id": "11b02846-3afa-42ea-8699-a8b4db5cb568",
   "metadata": {},
   "outputs": [],
   "source": [
    "second_points[1]=10.0"
   ]
  },
  {
   "cell_type": "code",
   "execution_count": 123,
   "id": "7dad3a9f-cc26-41bc-886d-cdf517e3978c",
   "metadata": {},
   "outputs": [
    {
     "data": {
      "text/plain": [
       "tensor([[ 4.,  1.],\n",
       "        [ 5., 10.],\n",
       "        [ 2.,  1.]])"
      ]
     },
     "execution_count": 123,
     "metadata": {},
     "output_type": "execute_result"
    }
   ],
   "source": [
    "points"
   ]
  },
  {
   "cell_type": "code",
   "execution_count": 124,
   "id": "139d5c36-d089-4718-8f13-014fbc5b3423",
   "metadata": {},
   "outputs": [
    {
     "data": {
      "text/plain": [
       "tensor([ 5., 10.])"
      ]
     },
     "execution_count": 124,
     "metadata": {},
     "output_type": "execute_result"
    }
   ],
   "source": [
    "#サブテンソルの変更は元のテンソルへも影響がある\n",
    "#影響を避けるにはclone()\n",
    "\n",
    "second_points = points[1].clone()\n",
    "second_points"
   ]
  },
  {
   "cell_type": "code",
   "execution_count": 125,
   "id": "b9a1f90f-2e05-4fe2-a130-de2ad794ab64",
   "metadata": {},
   "outputs": [
    {
     "data": {
      "text/plain": [
       "tensor([[ 4.,  1.],\n",
       "        [ 5., 10.],\n",
       "        [ 2.,  1.]])"
      ]
     },
     "execution_count": 125,
     "metadata": {},
     "output_type": "execute_result"
    }
   ],
   "source": [
    "second_points[1] =200\n",
    "points"
   ]
  },
  {
   "cell_type": "code",
   "execution_count": 127,
   "id": "8e375a6b-82e9-4306-9b15-ceb645ae7df6",
   "metadata": {},
   "outputs": [
    {
     "data": {
      "text/plain": [
       "(tensor([[ 4.,  1.],\n",
       "         [ 5., 10.],\n",
       "         [ 2.,  1.]]),\n",
       " tensor([[ 4.,  5.,  2.],\n",
       "         [ 1., 10.,  1.]]))"
      ]
     },
     "execution_count": 127,
     "metadata": {},
     "output_type": "execute_result"
    }
   ],
   "source": [
    "#天地\n",
    "points, points.t()"
   ]
  },
  {
   "cell_type": "code",
   "execution_count": 128,
   "id": "0e23ebd2-8d03-49d2-bcd9-574a4016e136",
   "metadata": {},
   "outputs": [
    {
     "name": "stdout",
     "output_type": "stream",
     "text": [
      "torch.Size([3, 4, 5]) torch.Size([5, 4, 3])\n"
     ]
    }
   ],
   "source": [
    "#高次元での天地は二次元を指定する\n",
    "\n",
    "some_t = torch.ones(3,4,5)\n",
    "transpose_some_t = some_t.transpose(0,2)\n",
    "print(some_t.shape, transpose_some_t.shape)"
   ]
  },
  {
   "cell_type": "code",
   "execution_count": 133,
   "id": "42b38f89-174b-4b21-8202-eb3fdc5409f8",
   "metadata": {},
   "outputs": [
    {
     "data": {
      "text/plain": [
       "(torch.Size([3, 2]), True)"
      ]
     },
     "execution_count": 133,
     "metadata": {},
     "output_type": "execute_result"
    }
   ],
   "source": [
    "#要素が連続しているか確認\n",
    "points.shape, points.is_contiguous()"
   ]
  },
  {
   "cell_type": "code",
   "execution_count": 137,
   "id": "d2624bf1-b1d0-4469-8ada-428b93969839",
   "metadata": {},
   "outputs": [
    {
     "data": {
      "text/plain": [
       "(torch.Size([2, 3]), False)"
      ]
     },
     "execution_count": 137,
     "metadata": {},
     "output_type": "execute_result"
    }
   ],
   "source": [
    "#天地した行列は連続していない\n",
    "points.t().shape, points.t().is_contiguous()"
   ]
  },
  {
   "cell_type": "code",
   "execution_count": 138,
   "id": "e342e890-7dac-4edd-bb8f-336631b567f8",
   "metadata": {},
   "outputs": [],
   "source": [
    "points_t = points.t()\n",
    "points_t_cont = points_t.contiguous()"
   ]
  },
  {
   "cell_type": "code",
   "execution_count": 139,
   "id": "be32221e-7a44-4e88-b6d2-42d979fd0768",
   "metadata": {},
   "outputs": [
    {
     "data": {
      "text/plain": [
       "True"
      ]
     },
     "execution_count": 139,
     "metadata": {},
     "output_type": "execute_result"
    }
   ],
   "source": [
    "#contiguous()で新しいテンソルが作られる\n",
    "points_t_cont.is_contiguous()"
   ]
  },
  {
   "cell_type": "code",
   "execution_count": null,
   "id": "5158ce22-f61f-4a15-8490-7b3d90d1071f",
   "metadata": {},
   "outputs": [],
   "source": [
    "#GPUへの転送\n"
   ]
  }
 ],
 "metadata": {
  "kernelspec": {
   "display_name": "Python 3 (ipykernel)",
   "language": "python",
   "name": "python3"
  },
  "language_info": {
   "codemirror_mode": {
    "name": "ipython",
    "version": 3
   },
   "file_extension": ".py",
   "mimetype": "text/x-python",
   "name": "python",
   "nbconvert_exporter": "python",
   "pygments_lexer": "ipython3",
   "version": "3.9.13"
  }
 },
 "nbformat": 4,
 "nbformat_minor": 5
}
