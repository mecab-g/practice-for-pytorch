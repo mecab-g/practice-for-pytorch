{
 "cells": [
  {
   "cell_type": "markdown",
   "id": "710f512a-2400-49fa-aef1-131ae011081e",
   "metadata": {},
   "source": [
    "## 訓練前の準備"
   ]
  },
  {
   "cell_type": "markdown",
   "id": "508ca656-fe11-4952-9b3d-caf8b6f3a350",
   "metadata": {},
   "source": [
    "モデルをインスタンス化し、モデルとオプティマイザを初期化します。\n",
    "\n",
    "次にDatasetとDataLoaderインスタンスの初期化をする。datasetで要素をランダムかし、Dataloaderでデータをアプリケーションへ供給する。\n"
   ]
  },
  {
   "cell_type": "code",
   "execution_count": null,
   "id": "176a8b56-480a-456b-bf4d-4ce4f1620f70",
   "metadata": {},
   "outputs": [],
   "source": [
    "class LunaDataset(Dataset):\n",
    "    def __init__(self,\n",
    "                 val_stride=0,\n",
    "                 isValSet_bool=None,\n",
    "                 series_uid=None,\n",
    "            ):\n",
    "        self.candidateInfo_list = copy.copy(getCandidateInfoList())\n",
    "\n",
    "        if series_uid:\n",
    "            self.candidateInfo_list = [\n",
    "                x for x in self.candidateInfo_list if x.series_uid == series_uid\n",
    "            ]\n",
    "\n",
    "        if isValSet_bool:\n",
    "            assert val_stride > 0, val_stride\n",
    "            self.candidateInfo_list = self.candidateInfo_list[::val_stride]\n",
    "            assert self.candidateInfo_list\n",
    "        elif val_stride > 0:\n",
    "            del self.candidateInfo_list[::val_stride]\n",
    "            assert self.candidateInfo_list\n",
    "        random.shuffle(self.candidateInfo_list)\n",
    "#\n",
    "#\n",
    "#Datasetではリストをランダム化している"
   ]
  },
  {
   "cell_type": "markdown",
   "id": "24c6950d-49b6-45fb-91d7-a389e11be275",
   "metadata": {},
   "source": [
    "アプリケーションでの初期化"
   ]
  },
  {
   "cell_type": "markdown",
   "id": "a2a77d3b-b8cd-4d9c-8319-fcfef275c52b",
   "metadata": {},
   "source": [
    "cudaが使用可能かでdeviceを、GPUが二つ以上（１以上）ならnn.DataParallel(model)として作業を分割できる。\n",
    "結果の集計、パラメータ更新の同期等をとってくれるため、特段意識する必要はない。\n",
    "\n",
    "modelのパラメータをGPUへ転送するときは必ずオプティマイザをインスタンス化する前にモデルをGPUへ転送する。そうしないとGPU内のコピーされたパラメータではなく、\n",
    "CPUのパラメータを最適化しようとする。"
   ]
  },
  {
   "cell_type": "code",
   "execution_count": null,
   "id": "f81221f7-e419-441f-9aa0-18195da5031a",
   "metadata": {},
   "outputs": [],
   "source": [
    "class LunaTrainingApp:\n",
    "    def __init__(self, sys_argv=None):\n",
    "        if sys_argv is None:\n",
    "            sys_argv = sys.argv[1:]\n",
    "\n",
    "        parser = argparse.ArgumentParser()\n",
    "        parser.add_argument('--num-workers',\n",
    "            help='Number of worker processes for background data loading',\n",
    "            default=8,\n",
    "            type=int,\n",
    "        )\n",
    "        \n",
    "        #\n",
    "        #\n",
    "        #\n",
    "        self.use_cuda = torch.cuda.is_available()\n",
    "        self.device = torch.device(\"cuda\" if self.use_cuda else \"cpu\")\n",
    "\n",
    "        self.model = self.initModel()\n",
    "        self.optimizer = self.initOptimizer()\n",
    "\n",
    "    def initModel(self):\n",
    "        model = LunaModel()\n",
    "        if self.use_cuda:\n",
    "            log.info(\"Using CUDA; {} devices.\".format(torch.cuda.device_count()))\n",
    "            if torch.cuda.device_count() > 1:\n",
    "                model = nn.DataParallel(model)\n",
    "            model = model.to(self.device)\n",
    "        return model\n",
    "\n",
    "    def initOptimizer(self):\n",
    "        return SGD(self.model.parameters(), lr=0.001, momentum=0.99)\n",
    "        return Adam(self.model.parameters())\n",
    "        \n",
    "        #\n",
    "        #\n",
    "        #"
   ]
  },
  {
   "cell_type": "markdown",
   "id": "768fd282-2c09-4810-9c12-9a0e211757c8",
   "metadata": {},
   "source": [
    "## オプティマイザ\n",
    "\n",
    "まずSGDから始めるのが妥当、学習率は0.001、モーメンタムは0.9が多くのプロジェクトでうまく機能することが知られている。\n",
    "試してみてうまくいかないときに学習率を0.01や0.0001を試してみるのも良い。\n",
    "\n",
    "ハイパーパラメータのチューニングはプロジェクトの多くの問題に対処した後で検討すればよい。"
   ]
  },
  {
   "cell_type": "markdown",
   "id": "2a4e1828-2bd1-4b79-9ca7-2a4026acde98",
   "metadata": {},
   "source": [
    "## データローダー\n",
    "\n",
    "バッチ化作業を行う。DatasetクラスにてCT画像からテンソルへ変換されているため、データを渡すだけで良い。"
   ]
  },
  {
   "cell_type": "markdown",
   "id": "11294d34-8a26-4044-ac16-b4bb19df0336",
   "metadata": {},
   "source": [
    "sys.argvは、Pythonスクリプトに渡された、コマンドライン引数のリストです。\n",
    "\n",
    "sys.argv[0]はスクリプトの名前です。\n",
    "sys.argv[1]はコマンドライン引数の一番目"
   ]
  },
  {
   "cell_type": "code",
   "execution_count": null,
   "id": "837a62a3-5213-4240-8c09-4a992bc0d32d",
   "metadata": {},
   "outputs": [],
   "source": [
    "class LunaTrainingApp:\n",
    "    def __init__(self, sys_argv=None):\n",
    "        if sys_argv is None:\n",
    "            sys_argv = sys.argv[1:]\n",
    "\n",
    "        parser.add_argument('--batch-size',\n",
    "            help='Batch size to use for training',\n",
    "            default=32,\n",
    "            type=int,\n",
    "                           )\n",
    "        #\n",
    "        #\n",
    "        #\n",
    "        \n",
    "        self.cli_args = parser.parse_args(sys_argv)\n",
    "        #\n",
    "        #\n",
    "        #"
   ]
  },
  {
   "cell_type": "code",
   "execution_count": null,
   "id": "c9197829-6d08-4779-a31c-b4077d6888d3",
   "metadata": {},
   "outputs": [],
   "source": [
    " def initTrainDl(self):\n",
    "        train_ds = LunaDataset(\n",
    "            val_stride=10,\n",
    "            isValSet_bool=False,\n",
    "        )\n",
    "\n",
    "        batch_size = self.cli_args.batch_size\n",
    "        if self.use_cuda:\n",
    "            batch_size *= torch.cuda.device_count()\n",
    "\n",
    "        train_dl = DataLoader(\n",
    "            train_ds,\n",
    "            batch_size=batch_size,\n",
    "            num_workers=self.cli_args.num_workers,\n",
    "            pin_memory=self.use_cuda,\n",
    "        )\n",
    "\n",
    "        return train_dl"
   ]
  },
  {
   "cell_type": "code",
   "execution_count": null,
   "id": "f4fbd94e-d065-408a-9904-62e7b75acbca",
   "metadata": {},
   "outputs": [],
   "source": [
    " def main(self):\n",
    "        log.info(\"Starting {}, {}\".format(type(self).__name__, self.cli_args))\n",
    "\n",
    "        train_dl = self.initTrainDl()\n",
    "        val_dl = self.initValDl()\n",
    "        \n",
    "        \n",
    "        #\n",
    "        #\n",
    "        #"
   ]
  },
  {
   "cell_type": "markdown",
   "id": "6bcdf1cf-a5e6-41ba-a8d7-5a7bf38bf985",
   "metadata": {},
   "source": [
    "## モデル構成"
   ]
  },
  {
   "cell_type": "markdown",
   "id": "1167716f-e387-4bde-9e6d-85ab4c47c131",
   "metadata": {},
   "source": [
    "畳み込みから全結合層へ入力うするブロックを作成して\n",
    "このブロックを重ねてディープネットワークとする。"
   ]
  },
  {
   "cell_type": "code",
   "execution_count": null,
   "id": "1cc2e530-70c7-4f5c-8f3e-98196106c6b3",
   "metadata": {},
   "outputs": [],
   "source": [
    "class LunaBlock(nn.Module):\n",
    "    def __init__(self, in_channels, conv_channels):\n",
    "        super().__init__()\n",
    "\n",
    "        self.conv1 = nn.Conv3d(\n",
    "            in_channels, conv_channels, kernel_size=3, padding=1, bias=True,\n",
    "        )\n",
    "        self.relu1 = nn.ReLU(inplace=True)\n",
    "        self.conv2 = nn.Conv3d(\n",
    "            conv_channels, conv_channels, kernel_size=3, padding=1, bias=True,\n",
    "        )\n",
    "        self.relu2 = nn.ReLU(inplace=True)\n",
    "\n",
    "        self.maxpool = nn.MaxPool3d(2, 2)\n",
    "\n",
    "    def forward(self, input_batch):\n",
    "        block_out = self.conv1(input_batch)\n",
    "        block_out = self.relu1(block_out)\n",
    "        block_out = self.conv2(block_out)\n",
    "        block_out = self.relu2(block_out)\n",
    "\n",
    "        return self.maxpool(block_out)\n"
   ]
  },
  {
   "cell_type": "markdown",
   "id": "103e62fb-0a73-49d1-a54e-6372621e24e6",
   "metadata": {},
   "source": [
    "## モデル全体\n",
    "\n",
    "ブロックを四回重ねて、全結合層へ\n",
    "\n",
    "出力はソフトマックスを通す前のロジットと確率の二種類である。\n",
    "\n",
    "訓練中に損失関数nn.crosentropyを用いる場合はロジットを使用。\n",
    "実際にサンプルをクラス分類するときは確率を用いる。"
   ]
  },
  {
   "cell_type": "code",
   "execution_count": null,
   "id": "67b6cafe-fda4-4ba9-a039-6aa07100652e",
   "metadata": {},
   "outputs": [],
   "source": [
    "class LunaModel(nn.Module):\n",
    "    def __init__(self, in_channels=1, conv_channels=8):\n",
    "        super().__init__()\n",
    "\n",
    "        self.tail_batchnorm = nn.BatchNorm3d(1)\n",
    "\n",
    "        self.block1 = LunaBlock(in_channels, conv_channels)\n",
    "        self.block2 = LunaBlock(conv_channels, conv_channels * 2)\n",
    "        self.block3 = LunaBlock(conv_channels * 2, conv_channels * 4)\n",
    "        self.block4 = LunaBlock(conv_channels * 4, conv_channels * 8)\n",
    "\n",
    "        self.head_linear = nn.Linear(1152, 2)\n",
    "        self.head_softmax = nn.Softmax(dim=1)\n",
    "\n",
    "        self._init_weights()\n",
    "\n",
    "\n",
    "    def forward(self, input_batch):\n",
    "        bn_output = self.tail_batchnorm(input_batch)\n",
    "\n",
    "        block_out = self.block1(bn_output)\n",
    "        block_out = self.block2(block_out)\n",
    "        block_out = self.block3(block_out)\n",
    "        block_out = self.block4(block_out)\n",
    "\n",
    "        conv_flat = block_out.view(\n",
    "            block_out.size(0),\n",
    "            -1,\n",
    "        )\n",
    "        linear_output = self.head_linear(conv_flat)\n",
    "\n",
    "        return linear_output, self.head_softmax(linear_output)\n"
   ]
  },
  {
   "cell_type": "markdown",
   "id": "66248a2a-4d05-4e14-b7fc-03fb0d86ef20",
   "metadata": {},
   "source": [
    "ネットワークの重みの初期化\n",
    "\n",
    "全ての重みが1より大きい又は全ての重みが1より小さいと出力の値がとても大きくなるか、0となる。\n",
    "このようにならないために層の出力は適切な範囲となるようにする。\n",
    "\n",
    "下の中身の理解は不要とのこと\n"
   ]
  },
  {
   "cell_type": "code",
   "execution_count": null,
   "id": "38b2d394-e78f-4d8e-9e98-fa047e664a60",
   "metadata": {},
   "outputs": [],
   "source": [
    "class LunaModel(nn.Module):\n",
    "    def __init__(self, in_channels=1, conv_channels=8):\n",
    "        super().__init__()\n",
    "    #\n",
    "    #\n",
    "    #\n",
    "\n",
    "    def _init_weights(self):\n",
    "        for m in self.modules():\n",
    "            if type(m) in {\n",
    "                nn.Linear,\n",
    "                nn.Conv3d,\n",
    "                nn.Conv2d,\n",
    "                nn.ConvTranspose2d,\n",
    "                nn.ConvTranspose3d,\n",
    "            }:\n",
    "                nn.init.kaiming_normal_(\n",
    "                    m.weight.data, a=0, mode='fan_out', nonlinearity='relu',\n",
    "                )\n",
    "                if m.bias is not None:\n",
    "                    fan_in, fan_out = \\\n",
    "                        nn.init._calculate_fan_in_and_fan_out(m.weight.data)\n",
    "                    bound = 1 / math.sqrt(fan_out)\n",
    "                    nn.init.normal_(m.bias, -bound, bound)"
   ]
  },
  {
   "cell_type": "markdown",
   "id": "a41fecf3-a984-4486-98af-c8f1e11bf6bc",
   "metadata": {},
   "source": [
    "## モデルの訓練と検証"
   ]
  },
  {
   "cell_type": "code",
   "execution_count": null,
   "id": "e7d5aabe-faba-44ad-ada8-61916b79dc3d",
   "metadata": {},
   "outputs": [],
   "source": [
    "class LunaTrainingApp:\n",
    "    def __init__(self, sys_argv=None):\n",
    "        if sys_argv is None:\n",
    "            sys_argv = sys.argv[1:]\n",
    "\n",
    "    #\n",
    "    #\n",
    "    #\n",
    "    def main(self):\n",
    "        log.info(\"Starting {}, {}\".format(type(self).__name__, self.cli_args))\n",
    "\n",
    "        train_dl = self.initTrainDl()\n",
    "        val_dl = self.initValDl()\n",
    "\n",
    "        for epoch_ndx in range(1, self.cli_args.epochs + 1):\n",
    "\n",
    "            log.info(\"Epoch {} of {}, {}/{} batches of size {}*{}\".format(\n",
    "                epoch_ndx,\n",
    "                self.cli_args.epochs,\n",
    "                len(train_dl),\n",
    "                len(val_dl),\n",
    "                self.cli_args.batch_size,\n",
    "                (torch.cuda.device_count() if self.use_cuda else 1),\n",
    "            ))\n",
    "\n",
    "            trnMetrics_t = self.doTraining(epoch_ndx, train_dl)\n",
    "            self.logMetrics(epoch_ndx, 'trn', trnMetrics_t)\n",
    "\n",
    "            valMetrics_t = self.doValidation(epoch_ndx, val_dl)\n",
    "            self.logMetrics(epoch_ndx, 'val', valMetrics_t)\n",
    "\n",
    "        if hasattr(self, 'trn_writer'):\n",
    "            self.trn_writer.close()\n",
    "            self.val_writer.close()\n",
    "\n",
    "\n",
    "    def doTraining(self, epoch_ndx, train_dl):\n",
    "        self.model.train()\n",
    "        #（METRICS_SIZE = 3） * データの総数のマトリクスを作成\n",
    "        trnMetrics_g = torch.zeros(\n",
    "            METRICS_SIZE,\n",
    "            len(train_dl.dataset),\n",
    "            device=self.device,\n",
    "        )\n",
    "\n",
    "        #終了時間をしるためのもの\n",
    "        batch_iter = enumerateWithEstimate(\n",
    "            train_dl,\n",
    "            \"E{} Training\".format(epoch_ndx),\n",
    "            start_ndx=train_dl.num_workers,\n",
    "        )\n",
    "        for batch_ndx, batch_tup in batch_iter:\n",
    "            self.optimizer.zero_grad()\n",
    "\n",
    "            loss_var = self.computeBatchLoss(\n",
    "                batch_ndx,\n",
    "                batch_tup,\n",
    "                train_dl.batch_size,\n",
    "                trnMetrics_g\n",
    "            )\n",
    "\n",
    "            #実際にモデルの重み更新\n",
    "            loss_var.backward()\n",
    "            self.optimizer.step()\n",
    "\n",
    "\n",
    "        self.totalTrainingSamples_count += len(train_dl.dataset)\n",
    "\n",
    "        return trnMetrics_g.to('cpu')\n",
    "\n"
   ]
  },
  {
   "cell_type": "markdown",
   "id": "d5aa27b4-125d-4dc5-82be-c0397b88a052",
   "metadata": {},
   "source": [
    "doTrainingのtrnMetrics_g に評価指標が保管される。"
   ]
  },
  {
   "cell_type": "markdown",
   "id": "53c1d5ec-2c78-4fb5-a1aa-9e4c835081e5",
   "metadata": {},
   "source": [
    "##　評価指標を詳細に保存する\n",
    "\n",
    "訓練ループでも検証ループでも同様に下記のloss関数を使う。\n",
    "\n",
    "テンソルをGPUへ\n",
    "モデルを通し損失を計算する\n",
    "\n",
    "そのlossの平均はバッチの損失であるが、間で処理を可能にしている。"
   ]
  },
  {
   "cell_type": "code",
   "execution_count": null,
   "id": "004a91ef-4f38-42a6-925d-5b9bb480679c",
   "metadata": {},
   "outputs": [],
   "source": [
    "def computeBatchLoss(self, batch_ndx, batch_tup, batch_size, metrics_g):\n",
    "        input_t, label_t, _series_list, _center_list = batch_tup\n",
    "\n",
    "        input_g = input_t.to(self.device, non_blocking=True)\n",
    "        label_g = label_t.to(self.device, non_blocking=True)\n",
    "\n",
    "        logits_g, probability_g = self.model(input_g)\n",
    "\n",
    "        loss_func = nn.CrossEntropyLoss(reduction='none')\n",
    "        loss_g = loss_func(\n",
    "            logits_g,\n",
    "            label_g[:,1],\n",
    "        )\n",
    "        start_ndx = batch_ndx * batch_size\n",
    "        end_ndx = start_ndx + label_t.size(0)\n",
    "\n",
    "        #1.答え\n",
    "        metrics_g[METRICS_LABEL_NDX, start_ndx:end_ndx] = \\\n",
    "            label_g[:,1].detach()\n",
    "        #2.正しいクラスの確率\n",
    "        metrics_g[METRICS_PRED_NDX, start_ndx:end_ndx] = \\\n",
    "            probability_g[:,1].detach()\n",
    "        #3.損失\n",
    "        metrics_g[METRICS_LOSS_NDX, start_ndx:end_ndx] = \\\n",
    "            loss_g.detach()\n",
    "\n",
    "        return loss_g.mean()\n"
   ]
  },
  {
   "cell_type": "markdown",
   "id": "37935760-7b9c-4f2d-b439-daa0a61786e2",
   "metadata": {},
   "source": [
    "metrics_gにはラベルと予測確率、LOSSが入る"
   ]
  },
  {
   "cell_type": "code",
   "execution_count": null,
   "id": "009971e1-befc-4e09-9c30-81f3d7193e18",
   "metadata": {},
   "outputs": [],
   "source": [
    "# Used for computeBatchLoss and logMetrics to index into metrics_t/metrics_a\n",
    "METRICS_LABEL_NDX=0\n",
    "METRICS_PRED_NDX=1\n",
    "METRICS_LOSS_NDX=2\n",
    "METRICS_SIZE = 3\n",
    "\n",
    "\n",
    "        start_ndx = batch_ndx * batch_size\n",
    "        end_ndx = start_ndx + label_t.size(0)\n",
    "\n",
    "        metrics_g[METRICS_LABEL_NDX, start_ndx:end_ndx] = \\\n",
    "            label_g[:,1].detach()\n",
    "        metrics_g[METRICS_PRED_NDX, start_ndx:end_ndx] = \\\n",
    "            probability_g[:,1].detach()\n",
    "        metrics_g[METRICS_LOSS_NDX, start_ndx:end_ndx] = \\\n",
    "            loss_g.detach()"
   ]
  },
  {
   "cell_type": "markdown",
   "id": "3618de78-e4de-45bf-bcb0-6b4524b91d41",
   "metadata": {},
   "source": [
    "## 検証ル―プ\n",
    "\n",
    "検証ではデータの読み込みのみで損失の計算はない。\n",
    "with torch no_grad()によって勾配の計算もない。"
   ]
  },
  {
   "cell_type": "code",
   "execution_count": null,
   "id": "77241ae8-6a81-4d0f-a385-03f28dce9464",
   "metadata": {},
   "outputs": [],
   "source": [
    " def main(self):\n",
    "        log.info(\"Starting {}, {}\".format(type(self).__name__, self.cli_args))\n",
    "\n",
    "        train_dl = self.initTrainDl()\n",
    "        val_dl = self.initValDl()\n",
    "\n",
    "        for epoch_ndx in range(1, self.cli_args.epochs + 1):\n",
    "            \n",
    "            #\n",
    "            #\n",
    "            #\n",
    "            valMetrics_t = self.doValidation(epoch_ndx, val_dl)\n",
    "            self.logMetrics(epoch_ndx, 'val', valMetrics_t)"
   ]
  },
  {
   "cell_type": "code",
   "execution_count": null,
   "id": "418df893-1c83-4663-9ca9-43c0c7a53da6",
   "metadata": {},
   "outputs": [],
   "source": [
    "正しい検証のためにパラメータの更新は必ず止める\n",
    "computeBatchLossの戻り値のLOSSも不要（記録のみ追加）、オプティマイザ―も使わない。"
   ]
  },
  {
   "cell_type": "code",
   "execution_count": null,
   "id": "8a63a716-c1ae-44f3-ace6-a1628448cc8c",
   "metadata": {},
   "outputs": [],
   "source": [
    "def doValidation(self, epoch_ndx, val_dl):\n",
    "        with torch.no_grad():\n",
    "            self.model.eval()\n",
    "            valMetrics_g = torch.zeros(\n",
    "                METRICS_SIZE,\n",
    "                len(val_dl.dataset),\n",
    "                device=self.device,\n",
    "            )\n",
    "\n",
    "            batch_iter = enumerateWithEstimate(\n",
    "                val_dl,\n",
    "                \"E{} Validation \".format(epoch_ndx),\n",
    "                start_ndx=val_dl.num_workers,\n",
    "            )\n",
    "            for batch_ndx, batch_tup in batch_iter:\n",
    "                self.computeBatchLoss(\n",
    "                    batch_ndx, batch_tup, val_dl.batch_size, valMetrics_g)\n",
    "\n",
    "        return valMetrics_g.to('cpu')"
   ]
  },
  {
   "cell_type": "markdown",
   "id": "31671a3e-4f48-4398-ae22-9f54a7a06bd0",
   "metadata": {},
   "source": [
    "## モデルの評価指標を出力\n",
    "\n",
    "各エポックごとに評価指標のログを出力する。\n",
    "\n",
    "訓練が想定通りに進んでいない（収束しない場合）に訓練を中止するためにも必要"
   ]
  },
  {
   "cell_type": "markdown",
   "id": "dd4750f9-ff0a-4095-8858-0299d2a5708b",
   "metadata": {},
   "source": [
    "trn_metricsとval_metricsには各エポックごとの結果が記録されている。\n",
    "この二つからクラスごとの正解率と損失を確認する。\n",
    "\n",
    "\n",
    "epoch_ndxは何エポックの時なのか、mode_strは訓練か検証か、metricsはtreかvakのmetricsを入れる。"
   ]
  },
  {
   "cell_type": "code",
   "execution_count": null,
   "id": "4cd861c9-e5a7-4380-8d5e-e5ea9fc9bd0f",
   "metadata": {},
   "outputs": [],
   "source": [
    "def logMetrics(\n",
    "            self,\n",
    "            epoch_ndx,\n",
    "            mode_str,\n",
    "            metrics_t,\n",
    "            classificationThreshold=0.5,\n",
    "    ):"
   ]
  },
  {
   "cell_type": "markdown",
   "id": "7a4b0c8d-3a25-4c9b-8534-b658dc918d41",
   "metadata": {},
   "source": [
    "metericsの結果をクラス（結節か非結節かのラベル）ごとに分けるため、マスクを作成する。"
   ]
  },
  {
   "cell_type": "code",
   "execution_count": 16,
   "id": "cf03c83f-f8a7-42a9-9fc4-5d9564dbb56f",
   "metadata": {},
   "outputs": [
    {
     "data": {
      "text/plain": [
       "tensor([[True, True]])"
      ]
     },
     "execution_count": 16,
     "metadata": {},
     "output_type": "execute_result"
    }
   ],
   "source": [
    "a=torch.ones([1,2], dtype=torch.bool)\n",
    "a"
   ]
  },
  {
   "cell_type": "code",
   "execution_count": 18,
   "id": "2699a5ea-90c8-4f9b-a262-23a1ef0aaf18",
   "metadata": {},
   "outputs": [
    {
     "data": {
      "text/plain": [
       "tensor([[False, False]])"
      ]
     },
     "execution_count": 18,
     "metadata": {},
     "output_type": "execute_result"
    }
   ],
   "source": [
    "b =~a\n",
    "b"
   ]
  },
  {
   "cell_type": "code",
   "execution_count": null,
   "id": "0c573960-58ab-4a53-92e2-a78d2bb52992",
   "metadata": {},
   "outputs": [],
   "source": [
    "def logMetrics(\n",
    "            self,\n",
    "            epoch_ndx,\n",
    "            mode_str,\n",
    "            metrics_t,\n",
    "            classificationThreshold=0.5,\n",
    "        #\n",
    "        #\n",
    "        #\n",
    "        negLabel_mask = metrics_t[METRICS_LABEL_NDX] <= classificationThreshold\n",
    "        negPred_mask = metrics_t[METRICS_PRED_NDX] <= classificationThreshold\n",
    "\n",
    "        posLabel_mask = ~negLabel_mask\n",
    "        posPred_mask = ~negPred_mask"
   ]
  },
  {
   "cell_type": "markdown",
   "id": "3998093e-45a6-4b9d-bfc4-ff34d9a83c05",
   "metadata": {},
   "source": [
    "Thresholdの0.5以下を非結節、0.5以上を結節と予測したとし、booleanのマスクをつくる\n",
    "\n",
    "[METRICS_LABEL_DX]はラベルなので0.0か1.0の集合である"
   ]
  },
  {
   "cell_type": "code",
   "execution_count": null,
   "id": "d0c4bc2b-623e-45da-83ce-7b166f70910c",
   "metadata": {},
   "outputs": [],
   "source": [
    "def logMetrics(\n",
    "            self,\n",
    "            epoch_ndx,\n",
    "            mode_str,\n",
    "            metrics_t,\n",
    "            classificationThreshold=0.5,        \n",
    "    　　#\n",
    "        #\n",
    "        #\n",
    "        neg_count = int(negLabel_mask.sum())\n",
    "        pos_count = int(posLabel_mask.sum())\n",
    "\n",
    "        neg_correct = int((negLabel_mask & negPred_mask).sum())\n",
    "        pos_correct = int((posLabel_mask & posPred_mask).sum())\n",
    "\n",
    "        metrics_dict = {}\n",
    "        metrics_dict['loss/all'] = \\\n",
    "            metrics_t[METRICS_LOSS_NDX].mean()\n",
    "        metrics_dict['loss/neg'] = \\\n",
    "            metrics_t[METRICS_LOSS_NDX, negLabel_mask].mean()\n",
    "        metrics_dict['loss/pos'] = \\\n",
    "            metrics_t[METRICS_LOSS_NDX, posLabel_mask].mean()\n",
    "\n",
    "        metrics_dict['correct/all'] = (pos_correct + neg_correct) \\\n",
    "            / np.float32(metrics_t.shape[1]) * 100\n",
    "        metrics_dict['correct/neg'] = neg_correct / np.float32(neg_count) * 100\n",
    "        metrics_dict['correct/pos'] = pos_correct / np.float32(pos_count) * 100"
   ]
  },
  {
   "cell_type": "markdown",
   "id": "8287a688-52c1-4dbc-a2a5-ab80b5d375e8",
   "metadata": {},
   "source": [
    "loss/all に　エポックごとの平均した損失\n",
    "\n",
    "negLabel_maskを使っているので\n",
    "\n",
    "loss/neg に　実際に結節でないいサンプルの損失\n",
    "\n",
    "loss/pos に　実際に結節であるサンプルの損失\n",
    "\n",
    "が格納される"
   ]
  },
  {
   "cell_type": "markdown",
   "id": "e04a7341-7326-4982-b8f9-d4a16f0f4c00",
   "metadata": {},
   "source": [
    "各correctにはラベルマスクも予測マスクも同じである数の合計があり、\n",
    "それぞれの正解率も辞書に格納される。（metrics_tはデータ総数）"
   ]
  },
  {
   "cell_type": "markdown",
   "id": "7ac83f27-87d6-4cae-ade9-0d7923fa4361",
   "metadata": {},
   "source": [
    "## log\n",
    "\n",
    "ライブラリ側（使われる側）では、\n",
    "\n",
    "先頭にlogger = logging.getLogger(__name__)を指定してモジュールごとにロガーを作成する\n",
    "ログを出力したい場所にlogger.debug(‘メッセージ’)のように書く\n",
    "\n",
    "\n",
    "ユーザ側（使う側）では、\n",
    "\n",
    "細かな出力方法はユーザー側で設定する"
   ]
  },
  {
   "cell_type": "code",
   "execution_count": 19,
   "id": "aa28ecae-80cf-4774-8dfb-6bd9a794945a",
   "metadata": {},
   "outputs": [],
   "source": [
    "#taining.pyの初め\n",
    "\n",
    "log = logging.getLogger(__name__)\n",
    "# log.setLevel(logging.WARN)\n",
    "log.setLevel(logging.INFO)\n",
    "log.setLevel(logging.DEBUG)"
   ]
  },
  {
   "cell_type": "markdown",
   "id": "17ec3467-01be-4b97-a3fd-51ae5fd4665e",
   "metadata": {},
   "source": [
    "レベルを指定して、それ以上のレベルのログのみ表示される。\n",
    "\n",
    "下は表示したい処理の時にlog.infoでinfoレベルのログを表示する。"
   ]
  },
  {
   "cell_type": "code",
   "execution_count": null,
   "id": "5e8efe51-94dc-4122-b43e-291e6f2a5690",
   "metadata": {},
   "outputs": [],
   "source": [
    "def logMetrics(\n",
    "            self,\n",
    "    #\n",
    "    #\n",
    "    #\n",
    "        log.info(\n",
    "            (\"E{} {:8} {loss/all:.4f} loss, \"\n",
    "                 + \"{correct/all:-5.1f}% correct, \"\n",
    "            ).format(\n",
    "                epoch_ndx,\n",
    "                mode_str,\n",
    "                **metrics_dict,\n",
    "            )\n",
    "        )\n",
    "        log.info(\n",
    "            (\"E{} {:8} {loss/neg:.4f} loss, \"\n",
    "                 + \"{correct/neg:-5.1f}% correct ({neg_correct:} of {neg_count:})\"\n",
    "            ).format(\n",
    "                epoch_ndx,\n",
    "                mode_str + '_neg',\n",
    "                neg_correct=neg_correct,\n",
    "                neg_count=neg_count,\n",
    "                **metrics_dict,\n",
    "            )\n",
    "        )\n",
    "        log.info(\n",
    "            (\"E{} {:8} {loss/pos:.4f} loss, \"\n",
    "                 + \"{correct/pos:-5.1f}% correct ({pos_correct:} of {pos_count:})\"\n",
    "            ).format(\n",
    "                epoch_ndx,\n",
    "                mode_str + '_pos',\n",
    "                pos_correct=pos_correct,\n",
    "                pos_count=pos_count,\n",
    "                **metrics_dict,\n",
    "            )\n",
    "        )"
   ]
  },
  {
   "cell_type": "markdown",
   "id": "775beeab-e55f-41ea-9aed-ca2e46a401d3",
   "metadata": {},
   "source": [
    "## 訓練の実施\n",
    "\n",
    "訓練中に研鑽リソースが想定通り使われているか確認したいとき（データの読み込みか計算のどっちがボトルネックになっているのか）\n",
    "\n",
    "training 16/7750, done のようなメッセージが表示されたら\n",
    "topコマンドとnvidia-smiコマンドを使用\n",
    "\n",
    "Pythonのワーカープロセスが80以上のCPUを使っていればキャッシュの必要があるかもしれない（こんかいは）\n",
    "nvidia_smiでGPU-Util が80以上なら効率よくGPUが使われている。"
   ]
  },
  {
   "cell_type": "markdown",
   "id": "0cd4767d-16ef-44ea-8c1c-d367e5af75eb",
   "metadata": {},
   "source": [
    "## 訓練データについて\n",
    "\n",
    "実際のデータよりも訓練や検証データが少ない場合は本当にデータが存在するのか確認した方が良い。\n",
    "\n",
    "ls -1 \"データフォルダのpath/*\"  \\  wc -l"
   ]
  },
  {
   "cell_type": "markdown",
   "id": "63dd15da-b13d-43f5-ad79-53f3b2be1063",
   "metadata": {},
   "source": [
    "## 正解率99.7%は正しいのか"
   ]
  },
  {
   "cell_type": "code",
   "execution_count": null,
   "id": "e5f7e721-9e41-4210-9e11-b28022aecf59",
   "metadata": {},
   "outputs": [],
   "source": []
  }
 ],
 "metadata": {
  "kernelspec": {
   "display_name": "Python 3 (ipykernel)",
   "language": "python",
   "name": "python3"
  },
  "language_info": {
   "codemirror_mode": {
    "name": "ipython",
    "version": 3
   },
   "file_extension": ".py",
   "mimetype": "text/x-python",
   "name": "python",
   "nbconvert_exporter": "python",
   "pygments_lexer": "ipython3",
   "version": "3.9.10"
  }
 },
 "nbformat": 4,
 "nbformat_minor": 5
}
