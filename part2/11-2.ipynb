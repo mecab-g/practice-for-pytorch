{
 "cells": [
  {
   "cell_type": "markdown",
   "id": "710f512a-2400-49fa-aef1-131ae011081e",
   "metadata": {},
   "source": [
    "## 訓練前の準備"
   ]
  },
  {
   "cell_type": "markdown",
   "id": "508ca656-fe11-4952-9b3d-caf8b6f3a350",
   "metadata": {},
   "source": [
    "モデルをインスタンス化し、モデルとオプティマイザを初期化します。\n",
    "\n",
    "次にDatasetとDataLoaderインスタンスの初期化をする。datasetで要素をランダムかし、Dataloaderでデータをアプリケーションへ供給する。\n"
   ]
  },
  {
   "cell_type": "raw",
   "id": "e33d630c-f80d-464d-b31b-9088abad78c6",
   "metadata": {},
   "source": [
    "class LunaDataset(Dataset):\n",
    "    def __init__(self,\n",
    "                 val_stride=0,\n",
    "                 isValSet_bool=None,\n",
    "                 series_uid=None,\n",
    "            ):\n",
    "        self.candidateInfo_list = copy.copy(getCandidateInfoList())\n",
    "\n",
    "        if series_uid:\n",
    "            self.candidateInfo_list = [\n",
    "                x for x in self.candidateInfo_list if x.series_uid == series_uid\n",
    "            ]\n",
    "\n",
    "        if isValSet_bool:\n",
    "            assert val_stride > 0, val_stride\n",
    "            self.candidateInfo_list = self.candidateInfo_list[::val_stride]\n",
    "            assert self.candidateInfo_list\n",
    "        elif val_stride > 0:\n",
    "            del self.candidateInfo_list[::val_stride]\n",
    "            assert self.candidateInfo_list\n",
    "        random.shuffle(self.candidateInfo_list)\n",
    "#\n",
    "#\n",
    "#Datasetではリストをランダム化している"
   ]
  },
  {
   "cell_type": "markdown",
   "id": "24c6950d-49b6-45fb-91d7-a389e11be275",
   "metadata": {},
   "source": [
    "アプリケーションでの初期化"
   ]
  },
  {
   "cell_type": "markdown",
   "id": "a2a77d3b-b8cd-4d9c-8319-fcfef275c52b",
   "metadata": {},
   "source": [
    "cudaが使用可能かでdeviceを、GPUが二つ以上（１以上）ならnn.DataParallel(model)として作業を分割できる。\n",
    "結果の集計、パラメータ更新の同期等をとってくれるため、特段意識する必要はない。\n",
    "\n",
    "modelのパラメータをGPUへ転送するときは必ずオプティマイザをインスタンス化する前にモデルをGPUへ転送する。そうしないとGPU内のコピーされたパラメータではなく、\n",
    "CPUのパラメータを最適化しようとする。"
   ]
  },
  {
   "cell_type": "raw",
   "id": "cab8ccdd-6297-42c0-8c4d-41ab607b04af",
   "metadata": {},
   "source": [
    "class LunaTrainingApp:\n",
    "    def __init__(self, sys_argv=None):\n",
    "        if sys_argv is None:\n",
    "            sys_argv = sys.argv[1:]\n",
    "\n",
    "        parser = argparse.ArgumentParser()\n",
    "        parser.add_argument('--num-workers',\n",
    "            help='Number of worker processes for background data loading',\n",
    "            default=8,\n",
    "            type=int,\n",
    "        )\n",
    "        \n",
    "        #\n",
    "        #\n",
    "        #\n",
    "        self.use_cuda = torch.cuda.is_available()\n",
    "        self.device = torch.device(\"cuda\" if self.use_cuda else \"cpu\")\n",
    "\n",
    "        self.model = self.initModel()\n",
    "        self.optimizer = self.initOptimizer()\n",
    "\n",
    "    def initModel(self):\n",
    "        model = LunaModel()\n",
    "        if self.use_cuda:\n",
    "            log.info(\"Using CUDA; {} devices.\".format(torch.cuda.device_count()))\n",
    "            if torch.cuda.device_count() > 1:\n",
    "                model = nn.DataParallel(model)\n",
    "            model = model.to(self.device)\n",
    "        return model\n",
    "\n",
    "    def initOptimizer(self):\n",
    "        return SGD(self.model.parameters(), lr=0.001, momentum=0.99)\n",
    "        return Adam(self.model.parameters())\n",
    "        \n",
    "        #\n",
    "        #\n",
    "        #"
   ]
  },
  {
   "cell_type": "markdown",
   "id": "768fd282-2c09-4810-9c12-9a0e211757c8",
   "metadata": {},
   "source": [
    "## オプティマイザ\n",
    "\n",
    "まずSGDから始めるのが妥当、学習率は0.001、モーメンタムは0.9が多くのプロジェクトでうまく機能することが知られている。\n",
    "試してみてうまくいかないときに学習率を0.01や0.0001を試してみるのも良い。\n",
    "\n",
    "ハイパーパラメータのチューニングはプロジェクトの多くの問題に対処した後で検討すればよい。"
   ]
  },
  {
   "cell_type": "markdown",
   "id": "2a4e1828-2bd1-4b79-9ca7-2a4026acde98",
   "metadata": {},
   "source": [
    "## データローダー\n",
    "\n",
    "バッチ化作業を行う。DatasetクラスにてCT画像からテンソルへ変換されているため、データを渡すだけで良い。"
   ]
  },
  {
   "cell_type": "raw",
   "id": "8ea69abc-cf4e-4f71-bb59-4d17ef8fd014",
   "metadata": {},
   "source": [
    "class LunaTrainingApp:\n",
    "    def __init__(self, sys_argv=None):\n",
    "        if sys_argv is None:\n",
    "            sys_argv = sys.argv[1:]\n",
    "\n",
    "        parser.add_argument('--batch-size',\n",
    "            help='Batch size to use for training',\n",
    "            default=32,\n",
    "            type=int,\n",
    "                           )\n",
    "        #\n",
    "        #\n",
    "        #\n",
    "        \n",
    "        self.cli_args = parser.parse_args(sys_argv)\n",
    "        #\n",
    "        #\n",
    "        #"
   ]
  },
  {
   "cell_type": "raw",
   "id": "ca4a4cd3-f811-40dd-9b45-cae565d5dcd8",
   "metadata": {},
   "source": [
    " def initTrainDl(self):\n",
    "        train_ds = LunaDataset(\n",
    "            val_stride=10,\n",
    "            isValSet_bool=False,\n",
    "        )\n",
    "\n",
    "        batch_size = self.cli_args.batch_size\n",
    "        if self.use_cuda:\n",
    "            batch_size *= torch.cuda.device_count()\n",
    "\n",
    "        train_dl = DataLoader(\n",
    "            train_ds,\n",
    "            batch_size=batch_size,\n",
    "            num_workers=self.cli_args.num_workers,\n",
    "            pin_memory=self.use_cuda,\n",
    "        )\n",
    "\n",
    "        return train_dl"
   ]
  },
  {
   "cell_type": "raw",
   "id": "a250db91-3585-4752-ae40-25c6dcd71cad",
   "metadata": {},
   "source": [
    " def main(self):\n",
    "        log.info(\"Starting {}, {}\".format(type(self).__name__, self.cli_args))\n",
    "\n",
    "        train_dl = self.initTrainDl()\n",
    "        val_dl = self.initValDl()\n",
    "        \n",
    "        \n",
    "        #\n",
    "        #\n",
    "        #"
   ]
  },
  {
   "cell_type": "code",
   "execution_count": null,
   "id": "7a96f659-911b-4f7c-a722-9aa5bd6bc067",
   "metadata": {},
   "outputs": [],
   "source": []
  }
 ],
 "metadata": {
  "kernelspec": {
   "display_name": "Python 3 (ipykernel)",
   "language": "python",
   "name": "python3"
  },
  "language_info": {
   "codemirror_mode": {
    "name": "ipython",
    "version": 3
   },
   "file_extension": ".py",
   "mimetype": "text/x-python",
   "name": "python",
   "nbconvert_exporter": "python",
   "pygments_lexer": "ipython3",
   "version": "3.9.10"
  }
 },
 "nbformat": 4,
 "nbformat_minor": 5
}
