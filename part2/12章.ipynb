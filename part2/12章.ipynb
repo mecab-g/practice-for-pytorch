{
 "cells": [
  {
   "cell_type": "markdown",
   "id": "fcbe14aa-00d5-4af5-aebb-843af934830a",
   "metadata": {},
   "source": [
    "## 評価指標とデータ拡張\n",
    "\n"
   ]
  },
  {
   "cell_type": "markdown",
   "id": "cf08a632-7ee1-441d-a689-b8b65a72ad5c",
   "metadata": {},
   "source": [
    "・再現率　感度　sensitivity\n",
    "\n",
    "真陽性　/ 真陽性＋偽陰性\n",
    "\n",
    "再現率の向上には偽陰性を減らす。偽陽性の増加は気にしない。"
   ]
  },
  {
   "cell_type": "markdown",
   "id": "7ea38605-f8e1-4cc3-8d31-cad010ffd32c",
   "metadata": {},
   "source": [
    "・適合率　precision\n",
    "\n",
    "真陽性　/ 真陽性＋偽陽性\n",
    "\n",
    "適合率の改善には偽陽性を減らす。"
   ]
  },
  {
   "cell_type": "markdown",
   "id": "d8a34404-40fb-414e-bead-70cbb706b1f8",
   "metadata": {},
   "source": [
    "適合率も再現性もモデルを評価する単一の評価指標には用いることができない。\n",
    "学習の途中で確認することは有用\n",
    "\n",
    "途中でどちらかの値が0に近づいているならモデルが機能していないことを意味する。"
   ]
  },
  {
   "cell_type": "code",
   "execution_count": null,
   "id": "6e818f53-870c-40ce-b96c-3e10e36dce8d",
   "metadata": {},
   "outputs": [],
   "source": [
    "def logMetrics(\n",
    "            self,\n",
    "            epoch_ndx,\n",
    "            mode_str,\n",
    "            metrics_t,\n",
    "            classificationThreshold=0.5,\n",
    "    ):\n",
    "        self.initTensorboardWriters()\n",
    "        log.info(\"E{} {}\".format(\n",
    "            epoch_ndx,\n",
    "            type(self).__name__,\n",
    "        ))\n",
    "\n",
    "        negLabel_mask = metrics_t[METRICS_LABEL_NDX] <= classificationThreshold\n",
    "        negPred_mask = metrics_t[METRICS_PRED_NDX] <= classificationThreshold\n",
    "\n",
    "        posLabel_mask = ~negLabel_mask\n",
    "        posPred_mask = ~negPred_mask\n",
    "\n",
    "        neg_count = int(negLabel_mask.sum())\n",
    "        pos_count = int(posLabel_mask.sum())\n",
    "        # 真陽性数\n",
    "        trueNeg_count = neg_correct = int((negLabel_mask & negPred_mask).sum())\n",
    "        # 真陰性数\n",
    "        truePos_count = pos_correct = int((posLabel_mask & posPred_mask).sum())\n",
    "        # 偽陽性\n",
    "        falsePos_count = neg_count - neg_correct\n",
    "        # 偽陰性\n",
    "        falseNeg_count = pos_count - pos_correct"
   ]
  },
  {
   "cell_type": "markdown",
   "id": "aa6deb35-6aa7-4ecf-a80e-83ad246a5550",
   "metadata": {},
   "source": [
    "真陽性数と真陰性数を使いpresisionとrecallを計算"
   ]
  },
  {
   "cell_type": "code",
   "execution_count": null,
   "id": "9a81f902-e02a-4edc-9e42-183d047a5888",
   "metadata": {},
   "outputs": [],
   "source": [
    "def logMetrics(\n",
    "            self,\n",
    "        #\n",
    "        #\n",
    "        #\n",
    "        precision = metrics_dict['pr/precision'] = \\\n",
    "            truePos_count / np.float32(truePos_count + falsePos_count)\n",
    "        recall    = metrics_dict['pr/recall'] = \\\n",
    "            truePos_count / np.float32(truePos_count + falseNeg_count)\n",
    "\n",
    "        metrics_dict['pr/f1_score'] = \\\n",
    "            2 * (precision * recall) / (precision + recall)"
   ]
  },
  {
   "cell_type": "markdown",
   "id": "52e7bed0-3517-4749-9ca6-35546fd2da37",
   "metadata": {},
   "source": [
    "## 最終的な評価指標：F1スコア"
   ]
  },
  {
   "cell_type": "markdown",
   "id": "f307395b-840d-4841-a8dd-be8a7ef045cf",
   "metadata": {},
   "source": [
    "F1スコアは0から1の値をとり、適合率と再現性を組み合わせた方法として採用される"
   ]
  },
  {
   "cell_type": "code",
   "execution_count": null,
   "id": "9dc53da1-773a-4450-8dbc-c7d94c349a67",
   "metadata": {},
   "outputs": [],
   "source": [
    "log.info(\n",
    "            (\"E{} {:8} {loss/all:.4f} loss, \"\n",
    "                 + \"{correct/all:-5.1f}% correct, \"\n",
    "                 + \"{pr/precision:.4f} precision, \"\n",
    "                 + \"{pr/recall:.4f} recall, \"\n",
    "                 + \"{pr/f1_score:.4f} f1 score\"\n",
    "            ).format(\n",
    "                epoch_ndx,\n",
    "                mode_str,\n",
    "                **metrics_dict,"
   ]
  },
  {
   "cell_type": "markdown",
   "id": "9095e3a9-6c3b-4279-a418-11946f1771e8",
   "metadata": {},
   "source": [
    "このまま計算したら計算した値のいくつかがnanとなってエラーとなった。\n",
    "\n",
    "一つの原因は陽性サンプルが一つも正しく分類できないことである。これは適合率と再現率が0であることを意味している。\n",
    "二つ目は検証において陽性として分類されたサンプルが無いのでtrueposとふfalseposのカウントが0となっている点である。"
   ]
  },
  {
   "cell_type": "markdown",
   "id": "b0c0de2e-c8d0-40e4-8032-a412219e88c2",
   "metadata": {},
   "source": [
    "訓練中はこのように陽性サンプルが少なくても訓練の前半ではパラメータがランダムなので、陽性と判断する場合はある。\n",
    "訓練後の検証では陽性と判断されなくなってしまいエラーとなった。"
   ]
  },
  {
   "cell_type": "markdown",
   "id": "5e4047e0-7256-49ea-a1d0-31835f4a33c9",
   "metadata": {},
   "source": [
    "##　理想的なデータセット"
   ]
  },
  {
   "cell_type": "markdown",
   "id": "c911b5fb-9f98-412a-8146-bec47079aee8",
   "metadata": {},
   "source": [
    "モデルを適切に訓練するためのはデータのバランスを取る必要があることが示された。\n",
    "\n",
    "今回はモデルは十分は分類能力があるが、データが偏っている。（400：1）\n",
    "最終的に目指したいのはこのような偏りがあるデータをモデルが適切に処理できるようにすることである。\n",
    "\n",
    "途方もないエポック数をかければ訓練できるかもしれない。現実的にはデータのバランスを取る。"
   ]
  },
  {
   "cell_type": "markdown",
   "id": "1dc81db0-1683-4866-9050-5c83608b6c8b",
   "metadata": {},
   "source": [
    "## 陽性サンプルが少ないと影響はかき消される。\n",
    "\n",
    "予測結果が正解ラベルに近いとネットワークの重みは大きく変化しない。一方予測結果と正解がかけ離れている場合は重みの値を大きう変化させる。そして陽性サンプルが訓練されるまでに多くのバッチを学習している場合はパラメータは陰性を予測する側に偏っている。\n"
   ]
  },
  {
   "cell_type": "markdown",
   "id": "ea23fa49-5064-40cf-9334-13eb9e886248",
   "metadata": {},
   "source": [
    "## 解決策1：サンプラの使用"
   ]
  },
  {
   "cell_type": "markdown",
   "id": "b678209a-81a8-47d3-808b-965655140747",
   "metadata": {},
   "source": [
    "Dataloaderのオプション引数のsamplerは特定のサンプルの抽出を制限したり、複数回抽出したりできる。\n",
    "しかしこれはDatasetのサブクラスにサンプルのインデックスを出力する関数が必要になる。"
   ]
  },
  {
   "cell_type": "markdown",
   "id": "1a584623-03e8-44c8-a930-69cd7255e908",
   "metadata": {},
   "source": [
    "## 解決策2：\n",
    "Datasetのサブクラス内でデータの再構成をする。陰性と陽性のサンプルのリストを作成し、交互にサンプルが取り出されるようにする。"
   ]
  },
  {
   "cell_type": "code",
   "execution_count": null,
   "id": "f9b98ff4-a13e-45f6-9e5d-915d3026b1e2",
   "metadata": {},
   "outputs": [],
   "source": [
    "class LunaDataset(Dataset):\n",
    "    def __init__(\n",
    "        self,\n",
    "        val_stride=0,\n",
    "        isValSet_bool=None,\n",
    "        series_uid=None,\n",
    "        sortby_str=\"random\",\n",
    "        ratio_int=0,\n",
    "        augmentation_dict=None,\n",
    "        candidateInfo_list=None,\n",
    "    ):\n",
    "        # ratio_intが0なら元のバランスのまま\n",
    "        self.ratio_int = ratio_int\n",
    "        #\n",
    "        #\n",
    "        # 結節と非結節のリスト作成\n",
    "        # candidateInfo_listには全ての結節の位置、boolearnの情報がある\n",
    "        self.negative_list = [nt for nt in self.candidateInfo_list if not nt.isNodule_bool]\n",
    "        self.pos_list = [nt for nt in self.candidateInfo_list if nt.isNodule_bool]\n",
    "        #\n",
    "        #\n",
    "        #　リストをシャッフル\n",
    "        def shuffleSamples(self):\n",
    "        if self.ratio_int:\n",
    "            random.shuffle(self.negative_list)\n",
    "            random.shuffle(self.pos_list)\n",
    "        #\n",
    "        #\n",
    "        #　\n",
    "        def __getitem__(self, ndx):\n",
    "        if self.ratio_int:\n",
    "            pos_ndx = ndx // (self.ratio_int + 1)\n",
    "\n",
    "            if ndx % (self.ratio_int + 1):\n",
    "                # 念のため非結節も\n",
    "                neg_ndx = ndx - 1 - pos_ndx\n",
    "                neg_ndx %= len(self.negative_list)\n",
    "                candidateInfo_tup = self.negative_list[neg_ndx]\n",
    "            else:\n",
    "                # 結節のデータは少ないため、ndxの数が大きくなった場合にオーバーフローしないようにしている\n",
    "                pos_ndx %= len(self.pos_list)\n",
    "                candidateInfo_tup = self.pos_list[pos_ndx]\n",
    "        else:\n",
    "            candidateInfo_tup = self.candidateInfo_list[ndx]\n",
    "\n",
    "        width_irc = (32, 48, 48)"
   ]
  },
  {
   "cell_type": "code",
   "execution_count": 28,
   "id": "46547237-0c0d-4044-a633-9329bf38219f",
   "metadata": {},
   "outputs": [
    {
     "data": {
      "text/plain": [
       "20"
      ]
     },
     "execution_count": 28,
     "metadata": {},
     "output_type": "execute_result"
    }
   ],
   "source": [
    "a = 5020\n",
    "a %= 100\n",
    "a"
   ]
  },
  {
   "cell_type": "code",
   "execution_count": 29,
   "id": "9b55b2af-445b-40c5-97e0-ecc9836a2693",
   "metadata": {},
   "outputs": [
    {
     "data": {
      "text/plain": [
       "21"
      ]
     },
     "execution_count": 29,
     "metadata": {},
     "output_type": "execute_result"
    }
   ],
   "source": [
    "b = 5021\n",
    "b %= 100\n",
    "b"
   ]
  },
  {
   "cell_type": "markdown",
   "id": "04be5c83-78a4-418f-ba0c-238ff392933c",
   "metadata": {},
   "source": [
    "ratio_intが2の場合は2：1で陰性：陽性として取り出す。\n",
    "10個取り出すndx=10なら、　pos_ndxは10//3=3\n",
    "\n",
    "サンプルのバランスを取ることで実際のデータ数の意味がない。またデータ数が多ければ同じ結節が選ばれる頻度も増えるため、\n",
    "__len__の数を決めてしまう。"
   ]
  },
  {
   "cell_type": "code",
   "execution_count": null,
   "id": "d8e61a0f-9f7a-4c19-bcc2-1c0d8adefbef",
   "metadata": {},
   "outputs": [],
   "source": [
    "def __len__(self):\n",
    "        if self.ratio_int:\n",
    "            return 200000\n",
    "        else:\n",
    "            return len(self.candidateInfo_list)"
   ]
  },
  {
   "cell_type": "markdown",
   "id": "fbb1f080-d7cc-4743-8695-8dd862572f84",
   "metadata": {},
   "source": [
    "appのコマンドライン引数にもこの調整の引数入力を追加。"
   ]
  },
  {
   "cell_type": "code",
   "execution_count": null,
   "id": "5bf15dd9-a262-45d0-9284-df0684671fb8",
   "metadata": {},
   "outputs": [],
   "source": [
    "class LunaTrainingApp:\n",
    "    def __init__(self, sys_argv=None):\n",
    "        if sys_argv is None:\n",
    "            sys_argv = sys.argv[1:]\n",
    "#\n",
    "#\n",
    "#\n",
    "        parser.add_argument('--balanced',\n",
    "            help=\"Balance the training data to half positive, half negative.\",\n",
    "            action='store_true',\n",
    "            default=False,"
   ]
  },
  {
   "cell_type": "markdown",
   "id": "4cc791c3-c096-4a0b-98fe-d6f4ba66bc66",
   "metadata": {},
   "source": [
    "訓練セットでは問題なく、検証では成績が低下傾向にあれば過学習を疑う。\n",
    "\n",
    "検証でも陽性的中率が70はあるので、ある程度の汎化性能はあると考える。"
   ]
  },
  {
   "cell_type": "markdown",
   "id": "a967625b-1943-4b08-9d30-e072c310cd59",
   "metadata": {},
   "source": [
    "## データオーギュメンテーション"
   ]
  }
 ],
 "metadata": {
  "kernelspec": {
   "display_name": "Python 3 (ipykernel)",
   "language": "python",
   "name": "python3"
  },
  "language_info": {
   "codemirror_mode": {
    "name": "ipython",
    "version": 3
   },
   "file_extension": ".py",
   "mimetype": "text/x-python",
   "name": "python",
   "nbconvert_exporter": "python",
   "pygments_lexer": "ipython3",
   "version": "3.9.13"
  }
 },
 "nbformat": 4,
 "nbformat_minor": 5
}
