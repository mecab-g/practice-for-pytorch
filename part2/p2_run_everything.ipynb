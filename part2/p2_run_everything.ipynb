{
 "cells": [
  {
   "cell_type": "code",
   "execution_count": 2,
   "metadata": {},
   "outputs": [
    {
     "name": "stdout",
     "output_type": "stream",
     "text": [
      "The history saving thread hit an unexpected error (OperationalError('database is locked')).History will not be written to the database.\n"
     ]
    }
   ],
   "source": [
    "import datetime\n",
    "\n",
    "from util.util import importstr\n",
    "from util.logconf import logging\n",
    "log = logging.getLogger('nb')"
   ]
  },
  {
   "cell_type": "code",
   "execution_count": 4,
   "metadata": {},
   "outputs": [],
   "source": [
    "def run(app, *argv):\n",
    "    argv = list(argv)\n",
    "    argv.insert(0, '--num-workers=4')  # <1>\n",
    "    log.info(\"Running: {}({!r}).main()\".format(app, argv))\n",
    "    \n",
    "    app_cls = importstr(*app.rsplit('.', 1))  # <2>\n",
    "    app_cls(argv).main()\n",
    "    \n",
    "    log.info(\"Finished: {}.{!r}).main()\".format(app, argv))"
   ]
  },
  {
   "cell_type": "code",
   "execution_count": 1,
   "metadata": {},
   "outputs": [],
   "source": [
    "import os\n",
    "import shutil\n",
    "\n",
    "# clean up any old data that might be around.\n",
    "# We don't call this by default because it's destructive, \n",
    "# and would waste a lot of time if it ran when nothing \n",
    "# on the application side had changed.\n",
    "def cleanCache():\n",
    "    shutil.rmtree('data-unversioned/cache')\n",
    "    os.mkdir('data-unversioned/cache')\n",
    "\n",
    "#cleanCache()"
   ]
  },
  {
   "cell_type": "code",
   "execution_count": 3,
   "metadata": {},
   "outputs": [],
   "source": [
    "training_epochs = 20\n",
    "experiment_epochs = 10\n",
    "final_epochs = 50\n",
    "\n",
    "training_epochs = 2\n",
    "experiment_epochs = 2\n",
    "final_epochs = 5\n",
    "seg_epochs = 10"
   ]
  },
  {
   "cell_type": "markdown",
   "metadata": {},
   "source": [
    "## Chapter 11"
   ]
  },
  {
   "cell_type": "code",
   "execution_count": null,
   "metadata": {},
   "outputs": [],
   "source": [
    "run('p2ch11.prepcache.LunaPrepCacheApp')"
   ]
  },
  {
   "cell_type": "code",
   "execution_count": null,
   "metadata": {},
   "outputs": [],
   "source": [
    "run('p2ch11.training.LunaTrainingApp', '--epochs=1')"
   ]
  },
  {
   "cell_type": "code",
   "execution_count": null,
   "metadata": {},
   "outputs": [],
   "source": [
    "run('p2ch11.training.LunaTrainingApp', f'--epochs={experiment_epochs}')"
   ]
  },
  {
   "cell_type": "markdown",
   "metadata": {},
   "source": [
    "## Chapter 12"
   ]
  },
  {
   "cell_type": "code",
   "execution_count": null,
   "metadata": {},
   "outputs": [],
   "source": [
    "run('p2ch12.prepcache.LunaPrepCacheApp')"
   ]
  },
  {
   "cell_type": "code",
   "execution_count": null,
   "metadata": {},
   "outputs": [],
   "source": [
    "run('p2ch12.training.LunaTrainingApp', '--epochs=1', 'unbalanced')"
   ]
  },
  {
   "cell_type": "code",
   "execution_count": null,
   "metadata": {},
   "outputs": [],
   "source": [
    "run('p2ch12.training.LunaTrainingApp', f'--epochs={training_epochs}', '--balanced', 'balanced')"
   ]
  },
  {
   "cell_type": "code",
   "execution_count": null,
   "metadata": {},
   "outputs": [],
   "source": [
    "run('p2ch12.training.LunaTrainingApp', f'--epochs={experiment_epochs}', '--balanced', '--augment-flip', 'flip')"
   ]
  },
  {
   "cell_type": "code",
   "execution_count": null,
   "metadata": {},
   "outputs": [],
   "source": [
    "run('p2ch12.training.LunaTrainingApp', f'--epochs={experiment_epochs}', '--balanced', '--augment-offset', 'offset')"
   ]
  },
  {
   "cell_type": "code",
   "execution_count": null,
   "metadata": {},
   "outputs": [],
   "source": [
    "run('p2ch12.training.LunaTrainingApp', f'--epochs={experiment_epochs}', '--balanced', '--augment-scale', 'scale')"
   ]
  },
  {
   "cell_type": "code",
   "execution_count": null,
   "metadata": {},
   "outputs": [],
   "source": [
    "run('p2ch12.training.LunaTrainingApp', f'--epochs={experiment_epochs}', '--balanced', '--augment-rotate', 'rotate')"
   ]
  },
  {
   "cell_type": "code",
   "execution_count": null,
   "metadata": {},
   "outputs": [],
   "source": [
    "run('p2ch12.training.LunaTrainingApp', f'--epochs={experiment_epochs}', '--balanced', '--augment-noise', 'noise')"
   ]
  },
  {
   "cell_type": "code",
   "execution_count": null,
   "metadata": {},
   "outputs": [],
   "source": [
    "run('p2ch12.training.LunaTrainingApp', f'--epochs={training_epochs}', '--balanced', '--augmented', 'fully-augmented')"
   ]
  },
  {
   "cell_type": "markdown",
   "metadata": {},
   "source": [
    "## Chapter 13"
   ]
  },
  {
   "cell_type": "code",
   "execution_count": 6,
   "metadata": {},
   "outputs": [
    {
     "name": "stderr",
     "output_type": "stream",
     "text": [
      "2021-05-11 09:40:10,799 INFO     pid:20849 nb:004:run Running: p2ch13.prepcache.LunaPrepCacheApp(['--num-workers=4']).main()\n",
      "2021-05-11 09:40:13,890 INFO     pid:20849 p2ch13.prepcache:048:main Starting LunaPrepCacheApp, Namespace(batch_size=1024, num_workers=4)\n",
      "2021-05-11 09:40:15,323 WARNING  pid:20849 util.util:221:enumerateWithEstimate Stuffing cache ----/56, starting\n",
      "2021-05-11 09:41:20,930 INFO     pid:20849 util.util:241:enumerateWithEstimate Stuffing cache    8/56, done at 2021-05-11 09:50:45, 0:10:24\n",
      "2021-05-11 09:41:57,082 INFO     pid:20849 util.util:241:enumerateWithEstimate Stuffing cache   16/56, done at 2021-05-11 09:46:45, 0:06:24\n",
      "2021-05-11 09:45:22,957 INFO     pid:20849 util.util:241:enumerateWithEstimate Stuffing cache   32/56, done at 2021-05-11 09:49:22, 0:09:01\n",
      "2021-05-11 09:49:18,539 WARNING  pid:20849 util.util:252:enumerateWithEstimate Stuffing cache ----/56, done at 2021-05-11 09:49:18\n",
      "2021-05-11 09:49:18,539 INFO     pid:20849 nb:009:run Finished: p2ch13.prepcache.LunaPrepCacheApp.['--num-workers=4']).main()\n"
     ]
    }
   ],
   "source": [
    "run('p2ch13.prepcache.LunaPrepCacheApp')"
   ]
  },
  {
   "cell_type": "code",
   "execution_count": 15,
   "metadata": {},
   "outputs": [
    {
     "name": "stderr",
     "output_type": "stream",
     "text": [
      "2021-05-11 10:20:30,657 INFO     pid:20849 nb:004:run Running: p2ch13.training.SegmentationTrainingApp(['--num-workers=4', '--epochs=5', '--augmented']).main()\n",
      "2021-05-11 10:20:31,884 INFO     pid:20849 p2ch13.training:148:initModel Using CUDA; 1 devices.\n",
      "2021-05-11 10:20:43,633 INFO     pid:20849 p2ch13.training:212:main Starting SegmentationTrainingApp, Namespace(augment_flip=False, augment_noise=False, augment_offset=False, augment_rotate=False, augment_scale=False, augmented=True, batch_size=16, comment='none', epochs=5, num_workers=4, tb_prefix='p2ch13')\n",
      "2021-05-11 10:20:46,416 INFO     pid:20849 p2ch13.dsets:311:__init__ <p2ch13.dsets.TrainingLuna2dSegmentationDataset object at 0x7f972a01bd90>: 80 training series, 890 slices, 101 nodules\n",
      "2021-05-11 10:20:46,429 INFO     pid:20849 p2ch13.dsets:311:__init__ <p2ch13.dsets.Luna2dSegmentationDataset object at 0x7f97397a8790>: 9 validation series, 81 slices, 11 nodules\n",
      "2021-05-11 10:20:46,430 INFO     pid:20849 p2ch13.training:226:main Epoch 1 of 5, 18750/6 batches of size 16*1\n",
      "2021-05-11 10:20:46,470 WARNING  pid:20849 util.util:221:enumerateWithEstimate E1 Training ----/18750, starting\n",
      "2021-05-11 10:20:47,630 INFO     pid:20849 util.util:241:enumerateWithEstimate E1 Training   32/18750, done at 2021-05-11 10:25:08, 0:04:21\n",
      "2021-05-11 10:20:50,012 INFO     pid:20849 util.util:241:enumerateWithEstimate E1 Training  256/18750, done at 2021-05-11 10:24:13, 0:03:26\n",
      "2021-05-11 10:21:09,187 INFO     pid:20849 util.util:241:enumerateWithEstimate E1 Training 2048/18750, done at 2021-05-11 10:24:08, 0:03:21\n",
      "2021-05-11 10:23:42,540 INFO     pid:20849 util.util:241:enumerateWithEstimate E1 Training 16384/18750, done at 2021-05-11 10:24:07, 0:03:20\n",
      "2021-05-11 10:24:07,845 WARNING  pid:20849 util.util:252:enumerateWithEstimate E1 Training ----/18750, done at 2021-05-11 10:24:07\n",
      "2021-05-11 10:24:07,848 INFO     pid:20849 p2ch13.training:400:logMetrics E1 SegmentationTrainingApp\n",
      "2021-05-11 10:24:07,856 INFO     pid:20849 p2ch13.training:435:logMetrics E1 trn      0.3582 loss, 0.3632 precision, 0.9452 recall, 0.5248 f1 score\n",
      "2021-05-11 10:24:07,857 INFO     pid:20849 p2ch13.training:443:logMetrics E1 trn_all  0.3582 loss,  94.5% tp,   5.5% fn,     165.7% fp\n",
      "2021-05-11 10:24:07,860 WARNING  pid:20849 util.util:221:enumerateWithEstimate E1 Validation  ----/6, starting\n",
      "2021-05-11 10:24:10,661 WARNING  pid:20849 util.util:252:enumerateWithEstimate E1 Validation  ----/6, done at 2021-05-11 10:24:10\n",
      "2021-05-11 10:24:10,765 INFO     pid:20849 p2ch13.training:400:logMetrics E1 SegmentationTrainingApp\n",
      "2021-05-11 10:24:10,766 INFO     pid:20849 p2ch13.training:435:logMetrics E1 val      0.9230 loss, 0.0262 precision, 0.5228 recall, 0.0500 f1 score\n",
      "2021-05-11 10:24:10,766 INFO     pid:20849 p2ch13.training:443:logMetrics E1 val_all  0.9230 loss,  52.3% tp,  47.7% fn,    1940.6% fp\n",
      "2021-05-11 10:24:10,825 INFO     pid:20849 p2ch13.training:516:saveModel Saved model params to data-unversioned/part2/models/p2ch13/seg_2021-05-11_10.20.30_none.300000.state\n",
      "2021-05-11 10:24:10,827 INFO     pid:20849 p2ch13.training:525:saveModel Saved model params to data-unversioned/part2/models/p2ch13/seg_2021-05-11_10.20.30_none.best.state\n",
      "2021-05-11 10:24:10,829 INFO     pid:20849 p2ch13.training:528:saveModel SHA1: a4c832fd957c3c1320e1e82aa050654e122e7ed2\n",
      "2021-05-11 10:24:38,342 INFO     pid:20849 p2ch13.training:226:main Epoch 2 of 5, 18750/6 batches of size 16*1\n",
      "2021-05-11 10:24:38,377 WARNING  pid:20849 util.util:221:enumerateWithEstimate E2 Training ----/18750, starting\n",
      "2021-05-11 10:24:38,938 INFO     pid:20849 util.util:241:enumerateWithEstimate E2 Training   32/18750, done at 2021-05-11 10:28:39, 0:04:00\n",
      "2021-05-11 10:24:41,344 INFO     pid:20849 util.util:241:enumerateWithEstimate E2 Training  256/18750, done at 2021-05-11 10:28:04, 0:03:25\n",
      "2021-05-11 10:25:00,536 INFO     pid:20849 util.util:241:enumerateWithEstimate E2 Training 2048/18750, done at 2021-05-11 10:27:59, 0:03:21\n",
      "2021-05-11 10:27:34,565 INFO     pid:20849 util.util:241:enumerateWithEstimate E2 Training 16384/18750, done at 2021-05-11 10:27:59, 0:03:21\n",
      "2021-05-11 10:28:00,078 WARNING  pid:20849 util.util:252:enumerateWithEstimate E2 Training ----/18750, done at 2021-05-11 10:28:00\n",
      "2021-05-11 10:28:00,081 INFO     pid:20849 p2ch13.training:400:logMetrics E2 SegmentationTrainingApp\n",
      "2021-05-11 10:28:00,084 INFO     pid:20849 p2ch13.training:435:logMetrics E2 trn      0.2076 loss, 0.6106 precision, 0.9540 recall, 0.7446 f1 score\n",
      "2021-05-11 10:28:00,084 INFO     pid:20849 p2ch13.training:443:logMetrics E2 trn_all  0.2076 loss,  95.4% tp,   4.6% fn,      60.8% fp\n",
      "2021-05-11 10:28:00,085 INFO     pid:20849 p2ch13.training:226:main Epoch 3 of 5, 18750/6 batches of size 16*1\n",
      "2021-05-11 10:28:00,120 WARNING  pid:20849 util.util:221:enumerateWithEstimate E3 Training ----/18750, starting\n",
      "2021-05-11 10:28:00,607 INFO     pid:20849 util.util:241:enumerateWithEstimate E3 Training   32/18750, done at 2021-05-11 10:31:25, 0:03:25\n",
      "2021-05-11 10:28:03,023 INFO     pid:20849 util.util:241:enumerateWithEstimate E3 Training  256/18750, done at 2021-05-11 10:31:22, 0:03:22\n",
      "2021-05-11 10:28:22,254 INFO     pid:20849 util.util:241:enumerateWithEstimate E3 Training 2048/18750, done at 2021-05-11 10:31:21, 0:03:21\n",
      "2021-05-11 10:30:56,497 INFO     pid:20849 util.util:241:enumerateWithEstimate E3 Training 16384/18750, done at 2021-05-11 10:31:21, 0:03:21\n",
      "2021-05-11 10:31:21,936 WARNING  pid:20849 util.util:252:enumerateWithEstimate E3 Training ----/18750, done at 2021-05-11 10:31:21\n",
      "2021-05-11 10:31:21,939 INFO     pid:20849 p2ch13.training:400:logMetrics E3 SegmentationTrainingApp\n",
      "2021-05-11 10:31:21,942 INFO     pid:20849 p2ch13.training:435:logMetrics E3 trn      0.1825 loss, 0.6600 precision, 0.9668 recall, 0.7845 f1 score\n",
      "2021-05-11 10:31:21,943 INFO     pid:20849 p2ch13.training:443:logMetrics E3 trn_all  0.1825 loss,  96.7% tp,   3.3% fn,      49.8% fp\n",
      "2021-05-11 10:31:21,944 INFO     pid:20849 p2ch13.training:226:main Epoch 4 of 5, 18750/6 batches of size 16*1\n",
      "2021-05-11 10:31:21,979 WARNING  pid:20849 util.util:221:enumerateWithEstimate E4 Training ----/18750, starting\n",
      "2021-05-11 10:31:22,461 INFO     pid:20849 util.util:241:enumerateWithEstimate E4 Training   32/18750, done at 2021-05-11 10:34:46, 0:03:24\n",
      "2021-05-11 10:31:24,861 INFO     pid:20849 util.util:241:enumerateWithEstimate E4 Training  256/18750, done at 2021-05-11 10:34:43, 0:03:21\n",
      "2021-05-11 10:31:44,046 INFO     pid:20849 util.util:241:enumerateWithEstimate E4 Training 2048/18750, done at 2021-05-11 10:34:42, 0:03:20\n",
      "2021-05-11 10:34:17,601 INFO     pid:20849 util.util:241:enumerateWithEstimate E4 Training 16384/18750, done at 2021-05-11 10:34:42, 0:03:20\n",
      "2021-05-11 10:34:42,954 WARNING  pid:20849 util.util:252:enumerateWithEstimate E4 Training ----/18750, done at 2021-05-11 10:34:42\n",
      "2021-05-11 10:34:42,958 INFO     pid:20849 p2ch13.training:400:logMetrics E4 SegmentationTrainingApp\n",
      "2021-05-11 10:34:42,960 INFO     pid:20849 p2ch13.training:435:logMetrics E4 trn      0.1673 loss, 0.6933 precision, 0.9707 recall, 0.8089 f1 score\n",
      "2021-05-11 10:34:42,961 INFO     pid:20849 p2ch13.training:443:logMetrics E4 trn_all  0.1673 loss,  97.1% tp,   2.9% fn,      42.9% fp\n",
      "2021-05-11 10:34:42,962 INFO     pid:20849 p2ch13.training:226:main Epoch 5 of 5, 18750/6 batches of size 16*1\n",
      "2021-05-11 10:34:42,996 WARNING  pid:20849 util.util:221:enumerateWithEstimate E5 Training ----/18750, starting\n",
      "2021-05-11 10:34:43,476 INFO     pid:20849 util.util:241:enumerateWithEstimate E5 Training   32/18750, done at 2021-05-11 10:38:06, 0:03:23\n",
      "2021-05-11 10:34:45,873 INFO     pid:20849 util.util:241:enumerateWithEstimate E5 Training  256/18750, done at 2021-05-11 10:38:04, 0:03:20\n",
      "2021-05-11 10:35:05,036 INFO     pid:20849 util.util:241:enumerateWithEstimate E5 Training 2048/18750, done at 2021-05-11 10:38:03, 0:03:20\n",
      "2021-05-11 10:37:38,400 INFO     pid:20849 util.util:241:enumerateWithEstimate E5 Training 16384/18750, done at 2021-05-11 10:38:03, 0:03:20\n",
      "2021-05-11 10:38:03,704 WARNING  pid:20849 util.util:252:enumerateWithEstimate E5 Training ----/18750, done at 2021-05-11 10:38:03\n",
      "2021-05-11 10:38:03,715 INFO     pid:20849 p2ch13.training:400:logMetrics E5 SegmentationTrainingApp\n",
      "2021-05-11 10:38:03,718 INFO     pid:20849 p2ch13.training:435:logMetrics E5 trn      0.1581 loss, 0.7080 precision, 0.9736 recall, 0.8199 f1 score\n",
      "2021-05-11 10:38:03,719 INFO     pid:20849 p2ch13.training:443:logMetrics E5 trn_all  0.1581 loss,  97.4% tp,   2.6% fn,      40.1% fp\n",
      "2021-05-11 10:38:03,720 WARNING  pid:20849 util.util:221:enumerateWithEstimate E5 Validation  ----/6, starting\n",
      "2021-05-11 10:38:06,082 WARNING  pid:20849 util.util:252:enumerateWithEstimate E5 Validation  ----/6, done at 2021-05-11 10:38:06\n",
      "2021-05-11 10:38:06,196 INFO     pid:20849 p2ch13.training:400:logMetrics E5 SegmentationTrainingApp\n",
      "2021-05-11 10:38:06,197 INFO     pid:20849 p2ch13.training:435:logMetrics E5 val      0.9520 loss, 0.0227 precision, 0.4962 recall, 0.0434 f1 score\n",
      "2021-05-11 10:38:06,197 INFO     pid:20849 p2ch13.training:443:logMetrics E5 val_all  0.9520 loss,  49.6% tp,  50.4% fn,    2138.2% fp\n",
      "2021-05-11 10:38:06,210 INFO     pid:20849 p2ch13.training:516:saveModel Saved model params to data-unversioned/part2/models/p2ch13/seg_2021-05-11_10.20.30_none.1500000.state\n",
      "2021-05-11 10:38:06,212 INFO     pid:20849 p2ch13.training:528:saveModel SHA1: badfcde55a7d26f7b141697421ec68d9d462d3f0\n",
      "2021-05-11 10:38:22,852 INFO     pid:20849 nb:009:run Finished: p2ch13.training.SegmentationTrainingApp.['--num-workers=4', '--epochs=5', '--augmented']).main()\n"
     ]
    }
   ],
   "source": [
    "run('p2ch13.training.SegmentationTrainingApp', f'--epochs={experiment_epochs}', '--augmented')"
   ]
  },
  {
   "cell_type": "markdown",
   "metadata": {},
   "source": [
    "## Chapter 14"
   ]
  },
  {
   "cell_type": "code",
   "execution_count": 5,
   "metadata": {},
   "outputs": [
    {
     "name": "stderr",
     "output_type": "stream",
     "text": [
      "2021-05-13 10:46:44,937 INFO     pid:10404 nb:004:run Running: p2ch14.prepcache.LunaPrepCacheApp(['--num-workers=4']).main()\n",
      "2021-05-13 10:46:47,021 INFO     pid:10404 p2ch14.prepcache:048:main Starting LunaPrepCacheApp, Namespace(batch_size=1024, num_workers=4)\n",
      "2021-05-13 10:46:48,480 INFO     pid:10404 p2ch14.dsets:320:__init__ <p2ch14.dsets.LunaDataset object at 0x7f3876f27ad0>: 56928 training samples, 56816 neg, 112 pos, unbalanced ratio\n",
      "2021-05-13 10:46:48,480 WARNING  pid:10404 util.util:221:enumerateWithEstimate Stuffing cache ----/56, starting\n",
      "2021-05-13 10:47:17,163 INFO     pid:10404 util.util:241:enumerateWithEstimate Stuffing cache    8/56, done at 2021-05-13 10:50:07, 0:03:07\n",
      "2021-05-13 10:48:57,812 INFO     pid:10404 util.util:241:enumerateWithEstimate Stuffing cache   16/56, done at 2021-05-13 10:54:53, 0:07:54\n",
      "2021-05-13 10:51:44,190 INFO     pid:10404 util.util:241:enumerateWithEstimate Stuffing cache   32/56, done at 2021-05-13 10:55:30, 0:08:31\n",
      "2021-05-13 10:56:56,516 WARNING  pid:10404 util.util:252:enumerateWithEstimate Stuffing cache ----/56, done at 2021-05-13 10:56:56\n",
      "2021-05-13 10:56:56,527 INFO     pid:10404 nb:009:run Finished: p2ch14.prepcache.LunaPrepCacheApp.['--num-workers=4']).main()\n"
     ]
    }
   ],
   "source": [
    "run('p2ch14.prepcache.LunaPrepCacheApp')"
   ]
  },
  {
   "cell_type": "code",
   "execution_count": null,
   "metadata": {
    "scrolled": true
   },
   "outputs": [],
   "source": [
    "run('p2ch14.training.ClassificationTrainingApp', f'--epochs=100', 'nodule-nonnodule')"
   ]
  },
  {
   "cell_type": "code",
   "execution_count": 1,
   "metadata": {
    "scrolled": false
   },
   "outputs": [
    {
     "ename": "NameError",
     "evalue": "name 'run' is not defined",
     "output_type": "error",
     "traceback": [
      "\u001b[0;31m---------------------------------------------------------------------------\u001b[0m",
      "\u001b[0;31mNameError\u001b[0m                                 Traceback (most recent call last)",
      "\u001b[0;32m<ipython-input-1-7158a43cbe54>\u001b[0m in \u001b[0;36m<module>\u001b[0;34m\u001b[0m\n\u001b[0;32m----> 1\u001b[0;31m run('p2ch14.training.ClassificationTrainingApp', f'--epochs=40', '--malignant', '--dataset=MalignantLunaDataset',\n\u001b[0m\u001b[1;32m      2\u001b[0m     \u001b[0;34m'--finetune='\u001b[0m\u001b[0;34m'data/part2/models/cls_2020-02-06_14.16.55_final-nodule-nonnodule.best.state'\u001b[0m\u001b[0;34m,\u001b[0m\u001b[0;34m\u001b[0m\u001b[0;34m\u001b[0m\u001b[0m\n\u001b[1;32m      3\u001b[0m     'finetune-head')\n",
      "\u001b[0;31mNameError\u001b[0m: name 'run' is not defined"
     ]
    }
   ],
   "source": [
    "# model名は適宜書き換えてください\n",
    "run('p2ch14.training.ClassificationTrainingApp', f'--epochs=40', '--malignant', '--dataset=MalignantLunaDataset',\n",
    "    '--finetune=''data/part2/models/cls_2020-02-06_14.16.55_final-nodule-nonnodule.best.state',\n",
    "    'finetune-head')\n"
   ]
  },
  {
   "cell_type": "code",
   "execution_count": null,
   "metadata": {
    "scrolled": false
   },
   "outputs": [],
   "source": [
    "# model名は適宜書き換えてください\n",
    "run('p2ch14.training.ClassificationTrainingApp', f'--epochs=40', '--malignant', '--dataset=MalignantLunaDataset',\n",
    "    '--finetune=''data/part2/models/cls_2020-02-06_14.16.55_final-nodule-nonnodule.best.state',\n",
    "    '--finetune-depth=2',\n",
    "    'finetune-depth2')\n"
   ]
  },
  {
   "cell_type": "code",
   "execution_count": null,
   "metadata": {},
   "outputs": [],
   "source": [
    "run('p2ch14.nodule_analysis.NoduleAnalysisApp', '--run-validation')"
   ]
  },
  {
   "cell_type": "code",
   "execution_count": null,
   "metadata": {},
   "outputs": [],
   "source": [
    "run('p2ch14.nodule_analysis.NoduleAnalysisApp', '--run-validation', '--malignancy-path')"
   ]
  },
  {
   "cell_type": "code",
   "execution_count": null,
   "metadata": {},
   "outputs": [],
   "source": []
  },
  {
   "cell_type": "code",
   "execution_count": null,
   "metadata": {},
   "outputs": [],
   "source": []
  }
 ],
 "metadata": {
  "kernelspec": {
   "display_name": "Python 3",
   "language": "python",
   "name": "python3"
  },
  "language_info": {
   "codemirror_mode": {
    "name": "ipython",
    "version": 3
   },
   "file_extension": ".py",
   "mimetype": "text/x-python",
   "name": "python",
   "nbconvert_exporter": "python",
   "pygments_lexer": "ipython3",
   "version": "3.7.9"
  }
 },
 "nbformat": 4,
 "nbformat_minor": 2
}
