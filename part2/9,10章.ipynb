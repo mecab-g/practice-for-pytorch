{
 "cells": [
  {
   "cell_type": "markdown",
   "id": "62f22022-1442-4e5a-b8e9-badeaa84c1b4",
   "metadata": {},
   "source": [
    "## 肺癌のセグメンテーションと良悪性の判別モデル"
   ]
  },
  {
   "cell_type": "markdown",
   "id": "6b3f9edf-ce45-426c-922f-e9a9317625f7",
   "metadata": {},
   "source": [
    "１．CTデータをpytorchで扱えるように\n",
    "\n",
    "２．肺の腫瘍のみをセグメンテーション（タスクの焦点を絞るために）\n",
    "\n",
    "３．関心ボクセルをグループ化して結節候補をまとめる\n",
    "\n",
    "４．結節候補をConvalutonで分類する\n",
    "\n",
    "５．結節ごとを患者ごとへの評価にする（今回は悪性度の最大値）"
   ]
  },
  {
   "cell_type": "markdown",
   "id": "f2a1f5c6-7ef7-4737-a85e-5cb6f32357d2",
   "metadata": {},
   "source": [
    "こぶの内悪性が結節\n",
    "annotationsは結節フラグの大きさ\n",
    "candidatesはすべてのこぶ情報"
   ]
  },
  {
   "cell_type": "markdown",
   "id": "0acaaecc-ac99-4288-9a64-9999bf402b88",
   "metadata": {},
   "source": [
    "## annotaitonとcandidateで位置の統合"
   ]
  },
  {
   "cell_type": "code",
   "execution_count": 2,
   "id": "011c55c9-a67e-450b-9fca-b3a984b3bd20",
   "metadata": {},
   "outputs": [],
   "source": [
    "from collections import namedtuple\n",
    "CandidateInfoTuple = namedtuple(\n",
    "    'CandidateInfoTuple',\n",
    "    'isNodule_bool, diameter_mm, series_uid, center_xyz',\n",
    ")"
   ]
  },
  {
   "cell_type": "code",
   "execution_count": 3,
   "id": "59908c4d-0475-4424-948b-f4fe618adc7f",
   "metadata": {},
   "outputs": [
    {
     "data": {
      "text/plain": [
       "__main__.CandidateInfoTuple"
      ]
     },
     "execution_count": 3,
     "metadata": {},
     "output_type": "execute_result"
    }
   ],
   "source": [
    "CandidateInfoTuple"
   ]
  },
  {
   "cell_type": "code",
   "execution_count": 73,
   "id": "e10592de-de4a-4af8-870b-83d99ed4ac1c",
   "metadata": {},
   "outputs": [],
   "source": [
    "#CTデータの内mhdファイルをリストにする\n",
    "#メモリに残す関数:lru_cache\n",
    "\n",
    "import functools\n",
    "import glob\n",
    "import os\n",
    "\n",
    "#mhd_list = glob.glob('data-unversioned/part2/luna/subset*/*.mhd')\n",
    "mhd_list = glob.glob('../deep-learning-with-pytorch-ja/data/part2/luna/subset*/*.mhd')\n",
    "\n",
    "presentOnDisk_set = {os.path.split(p)[-1][:-4] for p in mhd_list}"
   ]
  },
  {
   "cell_type": "code",
   "execution_count": 74,
   "id": "b07e9e3f-2189-4fa4-a802-09bf816842b1",
   "metadata": {},
   "outputs": [
    {
     "data": {
      "text/plain": [
       "{'1.3.6.1.4.1.14519.5.2.1.6279.6001.105756658031515062000744821260',\n",
       " '1.3.6.1.4.1.14519.5.2.1.6279.6001.108197895896446896160048741492',\n",
       " '1.3.6.1.4.1.14519.5.2.1.6279.6001.109002525524522225658609808059'}"
      ]
     },
     "execution_count": 74,
     "metadata": {},
     "output_type": "execute_result"
    }
   ],
   "source": [
    "presentOnDisk_set"
   ]
  },
  {
   "cell_type": "code",
   "execution_count": 47,
   "id": "442eae9d-e9f3-49d1-9d68-c9a555f7e556",
   "metadata": {},
   "outputs": [],
   "source": [
    "import csv\n",
    "\n",
    "\n",
    "diameter_dict = {}\n",
    "with open('../deep-learning-with-pytorch-ja/data/part2/luna/annotations.csv', \"r\") as f:\n",
    "        for row in list(csv.reader(f))[1:]:\n",
    "            series_uid = row[0]\n",
    "            annotationCenter_xyz = tuple([float(x) for x in row[1:4]])\n",
    "            annotationDiameter_mm = float(row[4])\n",
    "\n",
    "            diameter_dict.setdefault(series_uid, []).append(\n",
    "                (annotationCenter_xyz, annotationDiameter_mm)\n",
    "            )"
   ]
  },
  {
   "cell_type": "code",
   "execution_count": 16,
   "id": "c40338b0-cc1d-4807-844b-47887cb68779",
   "metadata": {},
   "outputs": [],
   "source": [
    "#diameter_dict\n",
    "\n",
    "#uid一つに複数のこぶがある場合もあり、こぶの中心座標と大きさがvalueに入る。"
   ]
  },
  {
   "cell_type": "code",
   "execution_count": 30,
   "id": "46cd7715-37f7-4177-9876-dfa4792316ca",
   "metadata": {},
   "outputs": [],
   "source": [
    "a=\"1.3.6.1.4.1.14519.5.2.1.6279.6001.100621383016233746780170740405\""
   ]
  },
  {
   "cell_type": "code",
   "execution_count": 38,
   "id": "cfefaa78-867b-4e15-bffe-e8f1a5046f76",
   "metadata": {},
   "outputs": [
    {
     "name": "stdout",
     "output_type": "stream",
     "text": [
      "[((-24.0138242, 192.1024053, -391.0812764), 8.143261683), ((2.441546798, 172.4648812, -405.4937318), 18.54514997), ((90.93171321, 149.0272657, -426.5447146), 18.20857028), ((89.54076865, 196.4051593, -515.0733216), 16.38127631)]\n",
      "[]\n",
      "None\n"
     ]
    }
   ],
   "source": [
    "#辞書のaの要素を返す。なければ台に引数を返す。デフォはNone\n",
    "b=diameter_dict.get(a,[])\n",
    "print(b)\n",
    "s=diameter_dict.get(\"lll\",[])\n",
    "print(s)\n",
    "f=diameter_dict.get(\"lll\")\n",
    "print(f)\n"
   ]
  },
  {
   "cell_type": "code",
   "execution_count": 64,
   "id": "6a3f8047-afeb-4421-8372-6535c1509ed8",
   "metadata": {},
   "outputs": [],
   "source": [
    "#sereis_uidでまわして、個々の結節の直径のデータごとに回して、ｘ、ｙ、ｚの各軸ごとにまわす\n",
    "\n",
    "candidateInfo_list = []\n",
    "with open('../deep-learning-with-pytorch-ja/data/part2/luna/candidates.csv', \"r\") as f:\n",
    "    for row in list(csv.reader(f))[1:]:\n",
    "        series_uid = row[0]\n",
    "#presentOnDisk_setはCTデータのuid\n",
    "#そこに無いのはスキップすることで直径０として使う\n",
    "        if series_uid not in presentOnDisk_set :\n",
    "            continue\n",
    "\n",
    "        isNodule_bool = bool(int(row[4]))\n",
    "        candidateCenter_xyz = tuple([float(x) for x in row[1:4]])\n",
    "\n",
    "        candidateDiameter_mm = 0.0\n",
    "        for annotation_tup in diameter_dict.get(series_uid, []):\n",
    "            annotationCenter_xyz, annotationDiameter_mm = annotation_tup\n",
    "            for i in range(3):\n",
    "                #距離（差）が大きいものは確認(直径/2/2との比較)\n",
    "                delta_mm = abs(candidateCenter_xyz[i] - annotationCenter_xyz[i])\n",
    "                if delta_mm > annotationDiameter_mm / 4:\n",
    "                    break\n",
    "            else:\n",
    "                # 差が小さいものは統一する\n",
    "                candidateDiameter_mm = annotationDiameter_mm\n",
    "                break\n",
    "\n",
    "        candidateInfo_list.append(CandidateInfoTuple(\n",
    "            isNodule_bool,\n",
    "            candidateDiameter_mm,\n",
    "            series_uid,\n",
    "            candidateCenter_xyz,\n",
    "        ))"
   ]
  },
  {
   "cell_type": "code",
   "execution_count": 65,
   "id": "e5e15d8d-0719-4263-83a8-166ddd698c91",
   "metadata": {},
   "outputs": [
    {
     "data": {
      "text/plain": [
       "[CandidateInfoTuple(isNodule_bool=False, diameter_mm=0.0, series_uid='1.3.6.1.4.1.14519.5.2.1.6279.6001.105756658031515062000744821260', center_xyz=(129.56815129, 45.3770967403, -277.835757804)),\n",
       " CandidateInfoTuple(isNodule_bool=False, diameter_mm=0.0, series_uid='1.3.6.1.4.1.14519.5.2.1.6279.6001.105756658031515062000744821260', center_xyz=(-97.26, 56.36, -201.93)),\n",
       " CandidateInfoTuple(isNodule_bool=False, diameter_mm=0.0, series_uid='1.3.6.1.4.1.14519.5.2.1.6279.6001.105756658031515062000744821260', center_xyz=(99.2304910833, -4.88216543725, -128.691304564)),\n",
       " CandidateInfoTuple(isNodule_bool=False, diameter_mm=0.0, series_uid='1.3.6.1.4.1.14519.5.2.1.6279.6001.105756658031515062000744821260', center_xyz=(-15.287525202, -59.1051002263, -251.303750179)),\n",
       " CandidateInfoTuple(isNodule_bool=False, diameter_mm=0.0, series_uid='1.3.6.1.4.1.14519.5.2.1.6279.6001.105756658031515062000744821260', center_xyz=(109.344666074, 1.89173714531, -237.284698998))]"
      ]
     },
     "execution_count": 65,
     "metadata": {},
     "output_type": "execute_result"
    }
   ],
   "source": [
    "candidateInfo_list[0:5]"
   ]
  },
  {
   "cell_type": "code",
   "execution_count": 66,
   "id": "aacf65ef-24c0-40ee-9a57-5255bd29abf0",
   "metadata": {},
   "outputs": [],
   "source": [
    "candidateInfo_list.sort(reverse=True)"
   ]
  },
  {
   "cell_type": "code",
   "execution_count": 69,
   "id": "6e1d198b-fce9-4284-bdb9-0d8e7a544f62",
   "metadata": {},
   "outputs": [
    {
     "data": {
      "text/plain": [
       "[CandidateInfoTuple(isNodule_bool=True, diameter_mm=6.440878725, series_uid='1.3.6.1.4.1.14519.5.2.1.6279.6001.108197895896446896160048741492', center_xyz=(-100.46, 68.01, -230.55)),\n",
       " CandidateInfoTuple(isNodule_bool=True, diameter_mm=0.0, series_uid='1.3.6.1.4.1.14519.5.2.1.6279.6001.109002525524522225658609808059', center_xyz=(44.25, 52.17, -110.25)),\n",
       " CandidateInfoTuple(isNodule_bool=True, diameter_mm=0.0, series_uid='1.3.6.1.4.1.14519.5.2.1.6279.6001.109002525524522225658609808059', center_xyz=(36.54, 78.1, -122.92)),\n",
       " CandidateInfoTuple(isNodule_bool=False, diameter_mm=0.0, series_uid='1.3.6.1.4.1.14519.5.2.1.6279.6001.109002525524522225658609808059', center_xyz=(49.0692129504, 23.0584814498, -98.6156878657))]"
      ]
     },
     "execution_count": 69,
     "metadata": {},
     "output_type": "execute_result"
    }
   ],
   "source": [
    "candidateInfo_list[1:5]"
   ]
  },
  {
   "cell_type": "markdown",
   "id": "513c973a-fe41-4547-bb6b-628d0280c8d7",
   "metadata": {},
   "source": [
    "## CTデータ取込み"
   ]
  },
  {
   "cell_type": "code",
   "execution_count": 71,
   "id": "0af75a87-4eaa-48ef-b26a-69fc93dc127a",
   "metadata": {
    "tags": []
   },
   "outputs": [],
   "source": [
    "import SimpleITK as sitk\n",
    "import numpy as np"
   ]
  },
  {
   "cell_type": "code",
   "execution_count": 1,
   "id": "2a7e83de-4721-4765-a615-afb3896e6426",
   "metadata": {},
   "outputs": [
    {
     "ename": "NameError",
     "evalue": "name 'glob' is not defined",
     "output_type": "error",
     "traceback": [
      "\u001b[0;31m---------------------------------------------------------------------------\u001b[0m",
      "\u001b[0;31mNameError\u001b[0m                                 Traceback (most recent call last)",
      "Input \u001b[0;32mIn [1]\u001b[0m, in \u001b[0;36m<cell line: 5>\u001b[0;34m()\u001b[0m\n\u001b[1;32m      1\u001b[0m \u001b[38;5;28;01mfrom\u001b[39;00m \u001b[38;5;21;01mutil\u001b[39;00m\u001b[38;5;21;01m.\u001b[39;00m\u001b[38;5;21;01mutil\u001b[39;00m \u001b[38;5;28;01mimport\u001b[39;00m XyzTuple, xyz2irc\n\u001b[1;32m      4\u001b[0m \u001b[38;5;66;03m#series_uidごとにパスをつくり\u001b[39;00m\n\u001b[0;32m----> 5\u001b[0m mhd_path \u001b[38;5;241m=\u001b[39m \u001b[43mglob\u001b[49m\u001b[38;5;241m.\u001b[39mglob(\n\u001b[1;32m      6\u001b[0m     \u001b[38;5;124m'\u001b[39m\u001b[38;5;124m../deep-learning-with-pytorch-ja/data/part2/luna/subset*/*.mhd\u001b[39m\u001b[38;5;124m'\u001b[39m\u001b[38;5;241m.\u001b[39mformat(series_uid))[\u001b[38;5;241m0\u001b[39m]\n\u001b[1;32m      7\u001b[0m \u001b[38;5;66;03m#CTを取り込む\u001b[39;00m\n\u001b[1;32m      8\u001b[0m ct_mhd \u001b[38;5;241m=\u001b[39m sitk\u001b[38;5;241m.\u001b[39mReadImage(mhd_path)\n",
      "\u001b[0;31mNameError\u001b[0m: name 'glob' is not defined"
     ]
    }
   ],
   "source": [
    "from util.util import XyzTuple, xyz2irc\n",
    "\n",
    "\n",
    "#series_uidごとにパスをつくり\n",
    "mhd_path = glob.glob(\n",
    "    '../deep-learning-with-pytorch-ja/data/part2/luna/subset*/*.mhd'.format(series_uid))[0]\n",
    "#CTを取り込む\n",
    "ct_mhd = sitk.ReadImage(mhd_path)\n",
    "ct_a = np.array(sitk.GetArrayFromImage(ct_mhd), dtype=np.float32)\n",
    "\n",
    "#CT値をこの範囲のみに絞るそれ以外は今回の予測には不要と判断\n",
    "#新たなデータが追加された時もこの処理をしたことを覚えておく必要がある。\n",
    "ct_a.clip(-1000, 1000, ct_a)\n",
    "\n",
    "#self.series_uid = series_uid\n",
    "#self.hu_a = ct_a"
   ]
  },
  {
   "cell_type": "markdown",
   "id": "cdffc47f-31c2-47fe-a071-c6eb3468352c",
   "metadata": {},
   "source": [
    "ディープラーニングは固定長であるため、入力も固定長でないといけない。"
   ]
  },
  {
   "cell_type": "markdown",
   "id": "b42e8a54-1ab2-4de1-8544-87c5f49ecc99",
   "metadata": {},
   "source": [
    "## 位置座標の修正\n",
    "\n",
    "データではmm,欲しいデータはボクセルの位置情報であるため、修正が必要"
   ]
  },
  {
   "cell_type": "markdown",
   "id": "74762089-2dec-443b-bdf5-f8823c3327c4",
   "metadata": {},
   "source": [
    "TrasformIndexToPhysicalPoint\n",
    "TranformPhysicalPointToIndex\n",
    "では画像データの読み込んで保持した後に変換する"
   ]
  },
  {
   "cell_type": "markdown",
   "id": "60151406-441e-430b-982b-58787e163882",
   "metadata": {},
   "source": [
    "保持しないで変換すすため自作している。IRCからXYZ\n",
    "\n",
    "1、XYZに合わせるために座標をIRCからCRIに反転する\n",
    "\n",
    "2、ボクセルサイズに合わせてインデックスをスケーリングする\n",
    "\n",
    "3、pythonの＠で行列の積を行う\n",
    "\n",
    "4、原点に対してオフセットを加える"
   ]
  },
  {
   "cell_type": "code",
   "execution_count": 12,
   "id": "6c37330d-80a9-4626-b296-2178becd8ba1",
   "metadata": {},
   "outputs": [
    {
     "data": {
      "text/plain": [
       "Fruit(apple=1, grape=2)"
      ]
     },
     "execution_count": 12,
     "metadata": {},
     "output_type": "execute_result"
    }
   ],
   "source": [
    "# collectionの確認\n",
    "\n",
    "from collections import namedtuple\n",
    "N=namedtuple('Fruit',['apple','grape'])\n",
    "N(*[1,2])  #　リストを展開"
   ]
  },
  {
   "cell_type": "code",
   "execution_count": 13,
   "id": "3d4d3440-b5db-45cd-9357-31eccd1cdff9",
   "metadata": {},
   "outputs": [
    {
     "data": {
      "text/plain": [
       "1"
      ]
     },
     "execution_count": 13,
     "metadata": {},
     "output_type": "execute_result"
    }
   ],
   "source": [
    "n=N(*[1,2])\n",
    "n.apple"
   ]
  },
  {
   "cell_type": "code",
   "execution_count": 58,
   "id": "595a8a56-d0be-4f96-a016-420756553884",
   "metadata": {},
   "outputs": [
    {
     "data": {
      "text/plain": [
       "array([[[1., 1., 1., 1.],\n",
       "        [1., 1., 1., 1.],\n",
       "        [1., 1., 1., 1.]],\n",
       "\n",
       "       [[2., 2., 2., 2.],\n",
       "        [2., 2., 2., 2.],\n",
       "        [2., 2., 2., 2.]],\n",
       "\n",
       "       [[0., 0., 0., 0.],\n",
       "        [0., 0., 0., 0.],\n",
       "        [0., 0., 0., 0.]]])"
      ]
     },
     "execution_count": 58,
     "metadata": {},
     "output_type": "execute_result"
    }
   ],
   "source": [
    "import numpy as np\n",
    "a=np.zeros([3,3,4])\n",
    "a[0:2]=1\n",
    "a[1]=2\n",
    "a"
   ]
  },
  {
   "cell_type": "code",
   "execution_count": 64,
   "id": "42a5085a-efe7-460f-a61c-614b91e140b3",
   "metadata": {},
   "outputs": [
    {
     "data": {
      "text/plain": [
       "array([[[0., 0., 0., 0.],\n",
       "        [0., 0., 0., 0.],\n",
       "        [0., 0., 0., 0.]],\n",
       "\n",
       "       [[2., 2., 2., 2.],\n",
       "        [2., 2., 2., 2.],\n",
       "        [2., 2., 2., 2.]],\n",
       "\n",
       "       [[1., 1., 1., 1.],\n",
       "        [1., 1., 1., 1.],\n",
       "        [1., 1., 1., 1.]]])"
      ]
     },
     "execution_count": 64,
     "metadata": {},
     "output_type": "execute_result"
    }
   ],
   "source": [
    "b=a[::-1]\n",
    "b"
   ]
  },
  {
   "cell_type": "code",
   "execution_count": 79,
   "id": "00ba7f7a-d4d1-43c1-9d04-628eda3dc5e2",
   "metadata": {},
   "outputs": [],
   "source": [
    "import collections\n",
    "IrcTuple = collections.namedtuple('IrcTuple', ['index', 'row', 'col'])\n",
    "XyzTuple = collections.namedtuple('XyzTuple', ['x', 'y', 'z'])"
   ]
  },
  {
   "cell_type": "code",
   "execution_count": 88,
   "id": "db3cff19-40b4-47c8-8a7c-e3d0f2adaf02",
   "metadata": {},
   "outputs": [
    {
     "name": "stdout",
     "output_type": "stream",
     "text": [
      "<class '__main__.XyzTuple'>\n"
     ]
    },
    {
     "data": {
      "text/plain": [
       "'x座標'"
      ]
     },
     "execution_count": 88,
     "metadata": {},
     "output_type": "execute_result"
    }
   ],
   "source": [
    "#XyzTupleに三つ入れたらそれぞれx、y、zでそれぞれの要素を取り出せる\n",
    "a=XyzTuple(*[\"x座標\",'y座標','z座標'])\n",
    "print(type(a))\n",
    "a.x"
   ]
  },
  {
   "cell_type": "code",
   "execution_count": 89,
   "id": "3f926c08-129a-4406-abd4-e323b35e87eb",
   "metadata": {},
   "outputs": [
    {
     "name": "stdout",
     "output_type": "stream",
     "text": [
      "0\n",
      "x座標\n",
      "1\n",
      "y座標\n",
      "2\n",
      "z座標\n"
     ]
    }
   ],
   "source": [
    "for d, f in enumerate(a):\n",
    "    print(d)\n",
    "    print(f)"
   ]
  },
  {
   "cell_type": "code",
   "execution_count": 76,
   "id": "5c174339-d05d-41b4-b916-fef74131afda",
   "metadata": {},
   "outputs": [
    {
     "ename": "NameError",
     "evalue": "name 'ct_mhd' is not defined",
     "output_type": "error",
     "traceback": [
      "\u001b[0;31m---------------------------------------------------------------------------\u001b[0m",
      "\u001b[0;31mNameError\u001b[0m                                 Traceback (most recent call last)",
      "Input \u001b[0;32mIn [76]\u001b[0m, in \u001b[0;36m<cell line: 2>\u001b[0;34m()\u001b[0m\n\u001b[1;32m      1\u001b[0m \u001b[38;5;66;03m#CTデータから位置情報を取り出す\u001b[39;00m\n\u001b[0;32m----> 2\u001b[0m rigin_xyz \u001b[38;5;241m=\u001b[39m XyzTuple(\u001b[38;5;241m*\u001b[39m\u001b[43mct_mhd\u001b[49m\u001b[38;5;241m.\u001b[39mGetOrigin())\n\u001b[1;32m      3\u001b[0m vxSize_xyz \u001b[38;5;241m=\u001b[39m XyzTuple(\u001b[38;5;241m*\u001b[39mct_mhd\u001b[38;5;241m.\u001b[39mGetSpacing())\n\u001b[1;32m      4\u001b[0m direction_a \u001b[38;5;241m=\u001b[39m np\u001b[38;5;241m.\u001b[39marray(ct_mhd\u001b[38;5;241m.\u001b[39mGetDirection())\u001b[38;5;241m.\u001b[39mreshape(\u001b[38;5;241m3\u001b[39m, \u001b[38;5;241m3\u001b[39m)\n",
      "\u001b[0;31mNameError\u001b[0m: name 'ct_mhd' is not defined"
     ]
    }
   ],
   "source": [
    "#CTデータから位置情報を取り出す\n",
    "origin_xyz = XyzTuple(*ct_mhd.GetOrigin())\n",
    "vxSize_xyz = XyzTuple(*ct_mhd.GetSpacing())\n",
    "direction_a = np.array(ct_mhd.GetDirection()).reshape(3, 3)\n",
    "\n",
    "\n",
    "#原点 = (-127、-96、-110)\n",
    "#ボクセルサイズ\n",
    "#方向 = 恒等行列\n",
    "\n"
   ]
  },
  {
   "cell_type": "code",
   "execution_count": null,
   "id": "38f6b88a-b729-4599-8b23-c1d3d0848bbf",
   "metadata": {},
   "outputs": [],
   "source": [
    "# 結節の中心のデータ（mm)、原点、ボクセルサイズ、方向が引数\n",
    "def xyz2irc(coord_xyz, origin_xyz, vxSize_xyz, direction_a):\n",
    "    origin_a = np.array(origin_xyz)\n",
    "    vxSize_a = np.array(vxSize_xyz)\n",
    "    coord_a = np.array(coord_xyz)\n",
    "    cri_a = ((coord_a - origin_a) @ np.linalg.inv(direction_a)) / vxSize_a\n",
    "    cri_a = np.round(cri_a)\n",
    "    return IrcTuple(int(cri_a[2]), int(cri_a[1]), int(cri_a[0]))\n",
    "\n",
    "#戻り値はircの結節範囲"
   ]
  },
  {
   "cell_type": "code",
   "execution_count": null,
   "id": "1b5bfa4a-5a0c-4a8f-8bb1-4c1c5a82da97",
   "metadata": {},
   "outputs": [],
   "source": [
    "#IRCの結節の範囲\n",
    "center_irc = xyz2irc(center_xyz,origin_xyz,vxSize_xyz,direction_a)"
   ]
  },
  {
   "cell_type": "code",
   "execution_count": 78,
   "id": "985cc6b8-9748-4510-8ccb-5dded5186e85",
   "metadata": {},
   "outputs": [],
   "source": [
    "#CTの画像から指定の範囲をリストで取り出す\n",
    "def getRawCandidate(self, center_xyz, width_irc):\n",
    "        center_irc = xyz2irc(\n",
    "            center_xyz,\n",
    "            self.origin_xyz,\n",
    "            self.vxSize_xyz,\n",
    "            self.direction_a,\n",
    "        )\n",
    "\n",
    "        slice_list = []\n",
    "        # 番号と座標が一軸ごとに取り出される\n",
    "        中心に幅/2 から　幅分各軸取り出され\n",
    "        for axis, center_val in enumerate(center_irc):\n",
    "            start_ndx = int(round(center_val - width_irc[axis]/2))\n",
    "            end_ndx = int(start_ndx + width_irc[axis])\n",
    "            slice_list.append(slice(start_ndx, end_ndx))\n",
    "            \n",
    "        # ctデータからその範囲を選択して出力\n",
    "\n",
    "        ct_chunk = ct_a[tuple(slice_list)]\n",
    "\n",
    "        return ct_chunk, center_irc"
   ]
  },
  {
   "cell_type": "markdown",
   "id": "6426a6b2-49f7-420f-861d-cbca183296f0",
   "metadata": {},
   "source": [
    "## pytorchへ変換"
   ]
  },
  {
   "cell_type": "markdown",
   "id": "778a997f-8dd9-4cd5-932c-b35928a8657c",
   "metadata": {},
   "source": [
    "データセットクラスを作成する\n",
    "\n",
    "標準化と画像のフラット化する"
   ]
  },
  {
   "cell_type": "code",
   "execution_count": null,
   "id": "c0318912-6c43-4235-b28b-d2c76c076695",
   "metadata": {},
   "outputs": [],
   "source": [
    "class Ct:\n",
    "    def __init__(self, series_uid):\n",
    "        mhd_path = glob.glob(\n",
    "            'data-unversioned/part2/luna/subset*/{}.mhd'.format(series_uid)\n",
    "        )[0]\n",
    "\n",
    "        ct_mhd = sitk.ReadImage(mhd_path)\n",
    "        ct_a = np.array(sitk.GetArrayFromImage(ct_mhd), dtype=np.float32)\n",
    "\n",
    "        # CTs are natively expressed in https://en.wikipedia.org/wiki/Hounsfield_scale\n",
    "        # HU are scaled oddly, with 0 g/cc (air, approximately) being -1000 and 1 g/cc (water) being 0.\n",
    "        # The lower bound gets rid of negative density stuff used to indicate out-of-FOV\n",
    "        # The upper bound nukes any weird hotspots and clamps bone down\n",
    "        ct_a.clip(-1000, 1000, ct_a)\n",
    "\n",
    "        self.series_uid = series_uid\n",
    "        self.hu_a = ct_a\n",
    "\n",
    "        self.origin_xyz = XyzTuple(*ct_mhd.GetOrigin())\n",
    "        self.vxSize_xyz = XyzTuple(*ct_mhd.GetSpacing())\n",
    "        self.direction_a = np.array(ct_mhd.GetDirection()).reshape(3, 3)\n",
    "\n",
    "    def getRawCandidate(self, center_xyz, width_irc):\n",
    "        center_irc = xyz2irc(\n",
    "            center_xyz,\n",
    "            self.origin_xyz,\n",
    "            self.vxSize_xyz,\n",
    "            self.direction_a,\n",
    "        )\n",
    "\n",
    "        slice_list = []\n",
    "        for axis, center_val in enumerate(center_irc):\n",
    "            start_ndx = int(round(center_val - width_irc[axis]/2))\n",
    "            end_ndx = int(start_ndx + width_irc[axis])\n",
    "\n",
    "            assert center_val >= 0 and center_val < self.hu_a.shape[axis], repr([self.series_uid, center_xyz, self.origin_xyz, self.vxSize_xyz, center_irc, axis])\n",
    "\n",
    "            if start_ndx < 0:\n",
    "                # log.warning(\"Crop outside of CT array: {} {}, center:{} shape:{} width:{}\".format(\n",
    "                #     self.series_uid, center_xyz, center_irc, self.hu_a.shape, width_irc))\n",
    "                start_ndx = 0\n",
    "                end_ndx = int(width_irc[axis])\n",
    "\n",
    "            if end_ndx > self.hu_a.shape[axis]:\n",
    "                # log.warning(\"Crop outside of CT array: {} {}, center:{} shape:{} width:{}\".format(\n",
    "                #     self.series_uid, center_xyz, center_irc, self.hu_a.shape, width_irc))\n",
    "                end_ndx = self.hu_a.shape[axis]\n",
    "                start_ndx = int(self.hu_a.shape[axis] - width_irc[axis])\n",
    "\n",
    "            slice_list.append(slice(start_ndx, end_ndx))\n",
    "\n",
    "        ct_chunk = self.hu_a[tuple(slice_list)]\n",
    "\n",
    "        return ct_chunk, center_irc\n"
   ]
  },
  {
   "cell_type": "code",
   "execution_count": null,
   "id": "cfc3bdff-6f2d-498d-bb9a-d449da58da0a",
   "metadata": {},
   "outputs": [],
   "source": [
    "def getCt(series_uid):\n",
    "    return Ct(series_uid)"
   ]
  },
  {
   "cell_type": "code",
   "execution_count": null,
   "id": "3562a6ec-3bf3-428b-9182-d3fa1cc7e262",
   "metadata": {},
   "outputs": [],
   "source": [
    "def getCtRawCandidate(series_uid, center_xyz, width_irc):\n",
    "    ct = getCt(series_uid)\n",
    "    ct_chunk, center_irc = ct.getRawCandidate(center_xyz, width_irc)\n",
    "    return ct_chunk, center_irc"
   ]
  },
  {
   "cell_type": "code",
   "execution_count": null,
   "id": "780e255c-4cf1-4bc2-bf56-cd21cf97d002",
   "metadata": {},
   "outputs": [],
   "source": [
    "candidateInfo_list[0:5]"
   ]
  },
  {
   "cell_type": "markdown",
   "id": "2a28ff04-59cb-4bb5-b6ea-097fcafa8a4c",
   "metadata": {},
   "source": [
    "データセット作成"
   ]
  },
  {
   "cell_type": "code",
   "execution_count": 94,
   "id": "f58ba5c3-60c4-4983-a4df-2a56b44770af",
   "metadata": {},
   "outputs": [],
   "source": [
    "from torch.utils.data import Dataset\n",
    "\n",
    "import torch\n",
    "import torch.nn as nn\n",
    "from torchvision import transforms\n",
    "\n",
    "\n",
    "class LunaDataset(Dataset):\n",
    "    def __init__(self):\n",
    "        self.candidateInfo_list = candidateInfo_list\n",
    "    \n",
    "    \n",
    "    \n",
    "    # ndx:整数を引数にとり(0からN-1),1、結節か否か、2、UID、3、結節の場所（I ,R,C)、4、サンプルテンソルの四つのタプルを返す\n",
    "    def __getitem__(self, ndx):\n",
    "        \n",
    "        \n",
    "        #注意：中身がない\n",
    "        \n",
    "        return (\n",
    "            candidate_t,\n",
    "            pos_t,\n",
    "            candidateInfo_tup.series_uid,\n",
    "            torch.tensor(center_irc),\n",
    "        )\n",
    "        "
   ]
  },
  {
   "cell_type": "code",
   "execution_count": null,
   "id": "70323bcb-4077-447d-9047-50bc530c45e5",
   "metadata": {},
   "outputs": [],
   "source": []
  }
 ],
 "metadata": {
  "kernelspec": {
   "display_name": "Python 3 (ipykernel)",
   "language": "python",
   "name": "python3"
  },
  "language_info": {
   "codemirror_mode": {
    "name": "ipython",
    "version": 3
   },
   "file_extension": ".py",
   "mimetype": "text/x-python",
   "name": "python",
   "nbconvert_exporter": "python",
   "pygments_lexer": "ipython3",
   "version": "3.9.13"
  }
 },
 "nbformat": 4,
 "nbformat_minor": 5
}
