{
 "cells": [
  {
   "cell_type": "markdown",
   "id": "62f22022-1442-4e5a-b8e9-badeaa84c1b4",
   "metadata": {},
   "source": [
    "## 肺癌のセグメンテーションと良悪性の判別モデル"
   ]
  },
  {
   "cell_type": "markdown",
   "id": "6b3f9edf-ce45-426c-922f-e9a9317625f7",
   "metadata": {},
   "source": [
    "１．CTデータをpytorchで扱えるように\n",
    "\n",
    "２．肺の腫瘍のみをセグメンテーション（タスクの焦点を絞るために）\n",
    "\n",
    "３．関心ボクセルをグループ化して結節候補をまとめる\n",
    "\n",
    "４．結節候補をConvalutonで分類する\n",
    "\n",
    "５．結節ごとを患者ごとへの評価にする（今回は悪性度の最大値）"
   ]
  },
  {
   "cell_type": "markdown",
   "id": "f2a1f5c6-7ef7-4737-a85e-5cb6f32357d2",
   "metadata": {},
   "source": [
    "こぶの内悪性が結節\n",
    "annotationsは結節フラグの大きさ\n",
    "candidatesはすべてのこぶ情報"
   ]
  },
  {
   "cell_type": "markdown",
   "id": "0acaaecc-ac99-4288-9a64-9999bf402b88",
   "metadata": {},
   "source": [
    "## annotaitonとcandidateで位置の統合"
   ]
  },
  {
   "cell_type": "code",
   "execution_count": 2,
   "id": "011c55c9-a67e-450b-9fca-b3a984b3bd20",
   "metadata": {},
   "outputs": [],
   "source": [
    "from collections import namedtuple\n",
    "CandidateInfoTuple = namedtuple(\n",
    "    'CandidateInfoTuple',\n",
    "    'isNodule_bool, diameter_mm, series_uid, center_xyz',\n",
    ")"
   ]
  },
  {
   "cell_type": "code",
   "execution_count": 3,
   "id": "59908c4d-0475-4424-948b-f4fe618adc7f",
   "metadata": {},
   "outputs": [
    {
     "data": {
      "text/plain": [
       "__main__.CandidateInfoTuple"
      ]
     },
     "execution_count": 3,
     "metadata": {},
     "output_type": "execute_result"
    }
   ],
   "source": [
    "CandidateInfoTuple"
   ]
  },
  {
   "cell_type": "code",
   "execution_count": 73,
   "id": "e10592de-de4a-4af8-870b-83d99ed4ac1c",
   "metadata": {},
   "outputs": [],
   "source": [
    "#CTデータの内mhdファイルをリストにする\n",
    "#メモリに残す関数:lru_cache\n",
    "\n",
    "import functools\n",
    "import glob\n",
    "import os\n",
    "\n",
    "#mhd_list = glob.glob('data-unversioned/part2/luna/subset*/*.mhd')\n",
    "mhd_list = glob.glob('../deep-learning-with-pytorch-ja/data/part2/luna/subset*/*.mhd')\n",
    "\n",
    "presentOnDisk_set = {os.path.split(p)[-1][:-4] for p in mhd_list}"
   ]
  },
  {
   "cell_type": "code",
   "execution_count": 74,
   "id": "b07e9e3f-2189-4fa4-a802-09bf816842b1",
   "metadata": {},
   "outputs": [
    {
     "data": {
      "text/plain": [
       "{'1.3.6.1.4.1.14519.5.2.1.6279.6001.105756658031515062000744821260',\n",
       " '1.3.6.1.4.1.14519.5.2.1.6279.6001.108197895896446896160048741492',\n",
       " '1.3.6.1.4.1.14519.5.2.1.6279.6001.109002525524522225658609808059'}"
      ]
     },
     "execution_count": 74,
     "metadata": {},
     "output_type": "execute_result"
    }
   ],
   "source": [
    "presentOnDisk_set"
   ]
  },
  {
   "cell_type": "code",
   "execution_count": 47,
   "id": "442eae9d-e9f3-49d1-9d68-c9a555f7e556",
   "metadata": {},
   "outputs": [],
   "source": [
    "import csv\n",
    "\n",
    "\n",
    "diameter_dict = {}\n",
    "with open('../deep-learning-with-pytorch-ja/data/part2/luna/annotations.csv', \"r\") as f:\n",
    "        for row in list(csv.reader(f))[1:]:\n",
    "            series_uid = row[0]\n",
    "            annotationCenter_xyz = tuple([float(x) for x in row[1:4]])\n",
    "            annotationDiameter_mm = float(row[4])\n",
    "\n",
    "            diameter_dict.setdefault(series_uid, []).append(\n",
    "                (annotationCenter_xyz, annotationDiameter_mm)\n",
    "            )"
   ]
  },
  {
   "cell_type": "code",
   "execution_count": 16,
   "id": "c40338b0-cc1d-4807-844b-47887cb68779",
   "metadata": {},
   "outputs": [],
   "source": [
    "#diameter_dict\n",
    "\n",
    "#uid一つに複数のこぶがある場合もあり、こぶの中心座標と大きさがvalueに入る。"
   ]
  },
  {
   "cell_type": "code",
   "execution_count": 30,
   "id": "46cd7715-37f7-4177-9876-dfa4792316ca",
   "metadata": {},
   "outputs": [],
   "source": [
    "a=\"1.3.6.1.4.1.14519.5.2.1.6279.6001.100621383016233746780170740405\""
   ]
  },
  {
   "cell_type": "code",
   "execution_count": 38,
   "id": "cfefaa78-867b-4e15-bffe-e8f1a5046f76",
   "metadata": {},
   "outputs": [
    {
     "name": "stdout",
     "output_type": "stream",
     "text": [
      "[((-24.0138242, 192.1024053, -391.0812764), 8.143261683), ((2.441546798, 172.4648812, -405.4937318), 18.54514997), ((90.93171321, 149.0272657, -426.5447146), 18.20857028), ((89.54076865, 196.4051593, -515.0733216), 16.38127631)]\n",
      "[]\n",
      "None\n"
     ]
    }
   ],
   "source": [
    "#辞書のaの要素を返す。なければ台に引数を返す。デフォはNone\n",
    "b=diameter_dict.get(a,[])\n",
    "print(b)\n",
    "s=diameter_dict.get(\"lll\",[])\n",
    "print(s)\n",
    "f=diameter_dict.get(\"lll\")\n",
    "print(f)\n"
   ]
  },
  {
   "cell_type": "code",
   "execution_count": 64,
   "id": "6a3f8047-afeb-4421-8372-6535c1509ed8",
   "metadata": {},
   "outputs": [],
   "source": [
    "#sereis_uidでまわして、個々の結節の直径のデータごとに回して、ｘ、ｙ、ｚの各軸ごとにまわす\n",
    "\n",
    "candidateInfo_list = []\n",
    "with open('../deep-learning-with-pytorch-ja/data/part2/luna/candidates.csv', \"r\") as f:\n",
    "    for row in list(csv.reader(f))[1:]:\n",
    "        series_uid = row[0]\n",
    "#presentOnDisk_setはCTデータのuid\n",
    "#そこに無いのはスキップすることで直径０として使う\n",
    "        if series_uid not in presentOnDisk_set :\n",
    "            continue\n",
    "\n",
    "        isNodule_bool = bool(int(row[4]))\n",
    "        candidateCenter_xyz = tuple([float(x) for x in row[1:4]])\n",
    "\n",
    "        candidateDiameter_mm = 0.0\n",
    "        for annotation_tup in diameter_dict.get(series_uid, []):\n",
    "            annotationCenter_xyz, annotationDiameter_mm = annotation_tup\n",
    "            for i in range(3):\n",
    "                #距離（差）が大きいものは確認(直径/2/2との比較)\n",
    "                delta_mm = abs(candidateCenter_xyz[i] - annotationCenter_xyz[i])\n",
    "                if delta_mm > annotationDiameter_mm / 4:\n",
    "                    break\n",
    "            else:\n",
    "                # 差が小さいものは統一する\n",
    "                candidateDiameter_mm = annotationDiameter_mm\n",
    "                break\n",
    "\n",
    "        candidateInfo_list.append(CandidateInfoTuple(\n",
    "            isNodule_bool,\n",
    "            candidateDiameter_mm,\n",
    "            series_uid,\n",
    "            candidateCenter_xyz,\n",
    "        ))"
   ]
  },
  {
   "cell_type": "code",
   "execution_count": 65,
   "id": "e5e15d8d-0719-4263-83a8-166ddd698c91",
   "metadata": {},
   "outputs": [
    {
     "data": {
      "text/plain": [
       "[CandidateInfoTuple(isNodule_bool=False, diameter_mm=0.0, series_uid='1.3.6.1.4.1.14519.5.2.1.6279.6001.105756658031515062000744821260', center_xyz=(129.56815129, 45.3770967403, -277.835757804)),\n",
       " CandidateInfoTuple(isNodule_bool=False, diameter_mm=0.0, series_uid='1.3.6.1.4.1.14519.5.2.1.6279.6001.105756658031515062000744821260', center_xyz=(-97.26, 56.36, -201.93)),\n",
       " CandidateInfoTuple(isNodule_bool=False, diameter_mm=0.0, series_uid='1.3.6.1.4.1.14519.5.2.1.6279.6001.105756658031515062000744821260', center_xyz=(99.2304910833, -4.88216543725, -128.691304564)),\n",
       " CandidateInfoTuple(isNodule_bool=False, diameter_mm=0.0, series_uid='1.3.6.1.4.1.14519.5.2.1.6279.6001.105756658031515062000744821260', center_xyz=(-15.287525202, -59.1051002263, -251.303750179)),\n",
       " CandidateInfoTuple(isNodule_bool=False, diameter_mm=0.0, series_uid='1.3.6.1.4.1.14519.5.2.1.6279.6001.105756658031515062000744821260', center_xyz=(109.344666074, 1.89173714531, -237.284698998))]"
      ]
     },
     "execution_count": 65,
     "metadata": {},
     "output_type": "execute_result"
    }
   ],
   "source": [
    "candidateInfo_list[0:5]"
   ]
  },
  {
   "cell_type": "code",
   "execution_count": 66,
   "id": "aacf65ef-24c0-40ee-9a57-5255bd29abf0",
   "metadata": {},
   "outputs": [],
   "source": [
    "candidateInfo_list.sort(reverse=True)"
   ]
  },
  {
   "cell_type": "code",
   "execution_count": 69,
   "id": "6e1d198b-fce9-4284-bdb9-0d8e7a544f62",
   "metadata": {},
   "outputs": [
    {
     "data": {
      "text/plain": [
       "[CandidateInfoTuple(isNodule_bool=True, diameter_mm=6.440878725, series_uid='1.3.6.1.4.1.14519.5.2.1.6279.6001.108197895896446896160048741492', center_xyz=(-100.46, 68.01, -230.55)),\n",
       " CandidateInfoTuple(isNodule_bool=True, diameter_mm=0.0, series_uid='1.3.6.1.4.1.14519.5.2.1.6279.6001.109002525524522225658609808059', center_xyz=(44.25, 52.17, -110.25)),\n",
       " CandidateInfoTuple(isNodule_bool=True, diameter_mm=0.0, series_uid='1.3.6.1.4.1.14519.5.2.1.6279.6001.109002525524522225658609808059', center_xyz=(36.54, 78.1, -122.92)),\n",
       " CandidateInfoTuple(isNodule_bool=False, diameter_mm=0.0, series_uid='1.3.6.1.4.1.14519.5.2.1.6279.6001.109002525524522225658609808059', center_xyz=(49.0692129504, 23.0584814498, -98.6156878657))]"
      ]
     },
     "execution_count": 69,
     "metadata": {},
     "output_type": "execute_result"
    }
   ],
   "source": [
    "candidateInfo_list[1:5]"
   ]
  },
  {
   "cell_type": "markdown",
   "id": "513c973a-fe41-4547-bb6b-628d0280c8d7",
   "metadata": {},
   "source": [
    "## CTデータ取込み"
   ]
  },
  {
   "cell_type": "code",
   "execution_count": 71,
   "id": "0af75a87-4eaa-48ef-b26a-69fc93dc127a",
   "metadata": {
    "tags": []
   },
   "outputs": [],
   "source": [
    "import SimpleITK as sitk\n",
    "import numpy as np"
   ]
  },
  {
   "cell_type": "code",
   "execution_count": 86,
   "id": "2a7e83de-4721-4765-a615-afb3896e6426",
   "metadata": {},
   "outputs": [],
   "source": [
    "from util.util import XyzTuple, xyz2irc\n",
    "\n",
    "\n",
    "#series_uidごとにパスをつくり\n",
    "mhd_path = glob.glob(\n",
    "    '../deep-learning-with-pytorch-ja/data/part2/luna/subset*/*.mhd'.format(series_uid))[0]\n",
    "#CTを取り込む\n",
    "ct_mhd = sitk.ReadImage(mhd_path)\n",
    "ct_a = np.array(sitk.GetArrayFromImage(ct_mhd), dtype=np.float32)\n",
    "\n",
    "ct_a.clip(-1000, 1000, ct_a)\n",
    "\n",
    "series_uid = series_uid\n",
    "hu_a = ct_a\n",
    "\n",
    "origin_xyz = XyzTuple(*ct_mhd.GetOrigin())\n",
    "vxSize_xyz = XyzTuple(*ct_mhd.GetSpacing())\n",
    "direction_a = np.array(ct_mhd.GetDirection()).reshape(3, 3)\n",
    "a"
   ]
  }
 ],
 "metadata": {
  "kernelspec": {
   "display_name": "Python 3 (ipykernel)",
   "language": "python",
   "name": "python3"
  },
  "language_info": {
   "codemirror_mode": {
    "name": "ipython",
    "version": 3
   },
   "file_extension": ".py",
   "mimetype": "text/x-python",
   "name": "python",
   "nbconvert_exporter": "python",
   "pygments_lexer": "ipython3",
   "version": "3.9.10"
  }
 },
 "nbformat": 4,
 "nbformat_minor": 5
}
