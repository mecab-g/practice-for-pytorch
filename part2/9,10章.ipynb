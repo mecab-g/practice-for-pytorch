{
 "cells": [
  {
   "cell_type": "markdown",
   "id": "62f22022-1442-4e5a-b8e9-badeaa84c1b4",
   "metadata": {},
   "source": [
    "## 肺癌のセグメンテーションと良悪性の判別モデル"
   ]
  },
  {
   "cell_type": "markdown",
   "id": "6b3f9edf-ce45-426c-922f-e9a9317625f7",
   "metadata": {},
   "source": [
    "１．CTデータをpytorchで扱えるように\n",
    "\n",
    "２．肺の腫瘍のみをセグメンテーション（タスクの焦点を絞るために）\n",
    "\n",
    "３．関心ボクセルをグループ化して結節候補をまとめる\n",
    "\n",
    "４．結節候補をConvalutonで分類する\n",
    "\n",
    "５．結節ごとを患者ごとへの評価にする（今回は悪性度の最大値）"
   ]
  },
  {
   "cell_type": "markdown",
   "id": "f2a1f5c6-7ef7-4737-a85e-5cb6f32357d2",
   "metadata": {},
   "source": [
    "こぶの内悪性が結節\n",
    "annotationsは結節フラグの大きさ\n",
    "candidatesはすべてのこぶ情報"
   ]
  },
  {
   "cell_type": "code",
   "execution_count": 2,
   "id": "011c55c9-a67e-450b-9fca-b3a984b3bd20",
   "metadata": {},
   "outputs": [],
   "source": [
    "from collections import namedtuple\n",
    "CandidateInfoTuple = namedtuple(\n",
    "    'CandidateInfoTuple',\n",
    "    'isNodule_bool, diameter_mm, series_uid, center_xyz',\n",
    ")"
   ]
  },
  {
   "cell_type": "code",
   "execution_count": 3,
   "id": "59908c4d-0475-4424-948b-f4fe618adc7f",
   "metadata": {},
   "outputs": [
    {
     "data": {
      "text/plain": [
       "__main__.CandidateInfoTuple"
      ]
     },
     "execution_count": 3,
     "metadata": {},
     "output_type": "execute_result"
    }
   ],
   "source": [
    "CandidateInfoTuple"
   ]
  },
  {
   "cell_type": "code",
   "execution_count": 5,
   "id": "e10592de-de4a-4af8-870b-83d99ed4ac1c",
   "metadata": {},
   "outputs": [],
   "source": [
    "#CTデータの内mhdファイルをリストにする\n",
    "import functools\n",
    "\n",
    "@functools.lru_cache(1)\n",
    "def getCandidateInfoList(requireOnDisk_bool=True):\n",
    "    mhd_list = glob.glob('data-unversioned/part2/luna/subset*/*.mhd')\n",
    "    presentOnDisk_set = {os.path.split(p)[-1][:-4] for p in mhd_list}"
   ]
  },
  {
   "cell_type": "code",
   "execution_count": 15,
   "id": "442eae9d-e9f3-49d1-9d68-c9a555f7e556",
   "metadata": {},
   "outputs": [],
   "source": [
    "import csv\n",
    "\n",
    "\n",
    "diameter_dict = {}\n",
    "with open('annotations.csv', \"r\") as f:\n",
    "        for row in list(csv.reader(f))[1:]:\n",
    "            series_uid = row[0]\n",
    "            annotationCenter_xyz = tuple([float(x) for x in row[1:4]])\n",
    "            annotationDiameter_mm = float(row[4])\n",
    "\n",
    "            diameter_dict.setdefault(series_uid, []).append(\n",
    "                (annotationCenter_xyz, annotationDiameter_mm)\n",
    "            )"
   ]
  },
  {
   "cell_type": "code",
   "execution_count": 16,
   "id": "c40338b0-cc1d-4807-844b-47887cb68779",
   "metadata": {},
   "outputs": [],
   "source": [
    "#diameter_dict\n",
    "\n",
    "#uid一つに複数のこぶがある場合もあり、こぶの中心座標と大きさがvalueに入る。"
   ]
  },
  {
   "cell_type": "code",
   "execution_count": 30,
   "id": "46cd7715-37f7-4177-9876-dfa4792316ca",
   "metadata": {},
   "outputs": [],
   "source": [
    "a=\"1.3.6.1.4.1.14519.5.2.1.6279.6001.100621383016233746780170740405\""
   ]
  },
  {
   "cell_type": "code",
   "execution_count": 38,
   "id": "cfefaa78-867b-4e15-bffe-e8f1a5046f76",
   "metadata": {},
   "outputs": [
    {
     "name": "stdout",
     "output_type": "stream",
     "text": [
      "[((-24.0138242, 192.1024053, -391.0812764), 8.143261683), ((2.441546798, 172.4648812, -405.4937318), 18.54514997), ((90.93171321, 149.0272657, -426.5447146), 18.20857028), ((89.54076865, 196.4051593, -515.0733216), 16.38127631)]\n",
      "[]\n",
      "None\n"
     ]
    }
   ],
   "source": [
    "#辞書のaの要素を返す。なければ台に引数を返す。デフォはNone\n",
    "b=diameter_dict.get(a,[])\n",
    "print(b)\n",
    "s=diameter_dict.get(\"lll\",[])\n",
    "print(s)\n",
    "f=diameter_dict.get(\"lll\")\n",
    "print(f)\n"
   ]
  },
  {
   "cell_type": "code",
   "execution_count": 20,
   "id": "6a3f8047-afeb-4421-8372-6535c1509ed8",
   "metadata": {},
   "outputs": [
    {
     "ename": "NameError",
     "evalue": "name 'presentOnDisk_set' is not defined",
     "output_type": "error",
     "traceback": [
      "\u001b[0;31m---------------------------------------------------------------------------\u001b[0m",
      "\u001b[0;31mNameError\u001b[0m                                 Traceback (most recent call last)",
      "Input \u001b[0;32mIn [20]\u001b[0m, in \u001b[0;36m<module>\u001b[0;34m\u001b[0m\n\u001b[1;32m      4\u001b[0m             series_uid \u001b[38;5;241m=\u001b[39m row[\u001b[38;5;241m0\u001b[39m]\n\u001b[1;32m      5\u001b[0m \u001b[38;5;66;03m#presentOnDisk_setはCTデータのuid\u001b[39;00m\n\u001b[1;32m      6\u001b[0m \u001b[38;5;66;03m#そこに無いのはスキップでcontinue\u001b[39;00m\n\u001b[0;32m----> 7\u001b[0m             \u001b[38;5;28;01mif\u001b[39;00m series_uid \u001b[38;5;129;01mnot\u001b[39;00m \u001b[38;5;129;01min\u001b[39;00m \u001b[43mpresentOnDisk_set\u001b[49m \u001b[38;5;129;01mand\u001b[39;00m requireOnDisk_bool:\n\u001b[1;32m      8\u001b[0m                 \u001b[38;5;28;01mcontinue\u001b[39;00m\n\u001b[1;32m     10\u001b[0m             isNodule_bool \u001b[38;5;241m=\u001b[39m \u001b[38;5;28mbool\u001b[39m(\u001b[38;5;28mint\u001b[39m(row[\u001b[38;5;241m4\u001b[39m]))\n",
      "\u001b[0;31mNameError\u001b[0m: name 'presentOnDisk_set' is not defined"
     ]
    }
   ],
   "source": [
    "candidateInfo_list = []\n",
    "with open('candidates.csv', \"r\") as f:\n",
    "        for row in list(csv.reader(f))[1:]:\n",
    "            series_uid = row[0]\n",
    "#presentOnDisk_setはCTデータのuid\n",
    "#そこに無いのはスキップでcontinue\n",
    "            if series_uid not in presentOnDisk_set and requireOnDisk_bool:\n",
    "                continue\n",
    "\n",
    "            isNodule_bool = bool(int(row[4]))\n",
    "            candidateCenter_xyz = tuple([float(x) for x in row[1:4]])\n",
    "\n",
    "            candidateDiameter_mm = 0.0\n",
    "            for annotation_tup in diameter_dict.get(series_uid, []):\n",
    "                annotationCenter_xyz, annotationDiameter_mm = annotation_tup\n",
    "                for i in range(3):\n",
    "                    delta_mm = abs(candidateCenter_xyz[i] - annotationCenter_xyz[i])\n",
    "                    if delta_mm > annotationDiameter_mm / 4:\n",
    "                        break\n",
    "                else:\n",
    "                    candidateDiameter_mm = annotationDiameter_mm\n",
    "                    break\n",
    "\n",
    "            candidateInfo_list.append(CandidateInfoTuple(\n",
    "                isNodule_bool,\n",
    "                candidateDiameter_mm,\n",
    "                series_uid,\n",
    "                candidateCenter_xyz,\n",
    "            ))"
   ]
  },
  {
   "cell_type": "code",
   "execution_count": null,
   "id": "aacf65ef-24c0-40ee-9a57-5255bd29abf0",
   "metadata": {},
   "outputs": [],
   "source": []
  }
 ],
 "metadata": {
  "kernelspec": {
   "display_name": "Python 3 (ipykernel)",
   "language": "python",
   "name": "python3"
  },
  "language_info": {
   "codemirror_mode": {
    "name": "ipython",
    "version": 3
   },
   "file_extension": ".py",
   "mimetype": "text/x-python",
   "name": "python",
   "nbconvert_exporter": "python",
   "pygments_lexer": "ipython3",
   "version": "3.9.10"
  }
 },
 "nbformat": 4,
 "nbformat_minor": 5
}
